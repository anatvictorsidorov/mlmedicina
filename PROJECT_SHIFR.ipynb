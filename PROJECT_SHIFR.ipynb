{
 "cells": [
  {
   "cell_type": "markdown",
   "metadata": {
    "toc": true
   },
   "source": [
    "<h1>Содержание<span class=\"tocSkip\"></span></h1>\n",
    "<div class=\"toc\"><ul class=\"toc-item\"><li><span><a href=\"#Загрузка-данных\" data-toc-modified-id=\"Загрузка-данных-1\"><span class=\"toc-item-num\">1&nbsp;&nbsp;</span>Загрузка данных</a></span></li><li><span><a href=\"#Умножение-матриц\" data-toc-modified-id=\"Умножение-матриц-2\"><span class=\"toc-item-num\">2&nbsp;&nbsp;</span>Умножение матриц</a></span></li><li><span><a href=\"#Алгоритм-преобразования\" data-toc-modified-id=\"Алгоритм-преобразования-3\"><span class=\"toc-item-num\">3&nbsp;&nbsp;</span>Алгоритм преобразования</a></span></li><li><span><a href=\"#Проверка-алгоритма\" data-toc-modified-id=\"Проверка-алгоритма-4\"><span class=\"toc-item-num\">4&nbsp;&nbsp;</span>Проверка алгоритма</a></span></li><li><span><a href=\"#Чек-лист-проверки\" data-toc-modified-id=\"Чек-лист-проверки-5\"><span class=\"toc-item-num\">5&nbsp;&nbsp;</span>Чек-лист проверки</a></span></li></ul></div>"
   ]
  },
  {
   "cell_type": "markdown",
   "metadata": {},
   "source": [
    "# Защита персональных данных клиентов"
   ]
  },
  {
   "cell_type": "markdown",
   "metadata": {},
   "source": [
    "Вам нужно защитить данные клиентов страховой компании «Хоть потоп». Разработайте такой метод преобразования данных, чтобы по ним было сложно восстановить персональную информацию. Обоснуйте корректность его работы.\n",
    "\n",
    "Нужно защитить данные, чтобы при преобразовании качество моделей машинного обучения не ухудшилось. Подбирать наилучшую модель не требуется."
   ]
  },
  {
   "cell_type": "markdown",
   "metadata": {},
   "source": [
    "\n",
    "Инструкция по выполнению проекта\n",
    "Загрузите и изучите данные.\n",
    "Ответьте на вопрос и обоснуйте решение.\n",
    "Признаки умножают на обратимую матрицу. Изменится ли качество линейной регрессии? (Её можно обучить заново.)\n",
    "a. Изменится. Приведите примеры матриц.\n",
    "b. Не изменится. Укажите, как связаны параметры линейной регрессии в исходной задаче и в преобразованной.\n",
    "Предложите алгоритм преобразования данных для решения задачи. Обоснуйте, почему качество линейной регрессии не поменяется.\n",
    "Запрограммируйте этот алгоритм, применив матричные операции. Проверьте, что качество линейной регрессии из sklearn не отличается до и после преобразования. Примените метрику R2.\n",
    "Описание данных\n",
    "Набор данных находится в файле /datasets/insurance.csv. Скачать датасет.\n",
    "Признаки: пол, возраст и зарплата застрахованного, количество членов его семьи.\n",
    "Целевой признак: количество страховых выплат клиенту за последние 5 лет."
   ]
  },
  {
   "cell_type": "markdown",
   "metadata": {},
   "source": [
    "## Загрузка данных"
   ]
  },
  {
   "cell_type": "code",
   "execution_count": 14,
   "metadata": {},
   "outputs": [],
   "source": [
    "from __future__ import division, print_function\n",
    "# отключим всякие предупреждения Anaconda\n",
    "import warnings\n",
    "warnings.filterwarnings('ignore')\n",
    "import pandas as pd\n",
    "import numpy as np\n",
    "from sklearn.linear_model import LinearRegression \n",
    "from sklearn.model_selection import cross_val_score\n",
    "from sklearn.metrics import r2_score\n"
   ]
  },
  {
   "cell_type": "code",
   "execution_count": 15,
   "metadata": {},
   "outputs": [],
   "source": [
    "try:\n",
    "    data = pd.read_csv('/datasets/insurance.csv')\n",
    "    \n",
    "    \n",
    "except:\n",
    "    data = pd.read_csv('C:/Users/анатолий/Documents/datasets/insurance.csv')\n",
    "    "
   ]
  },
  {
   "cell_type": "code",
   "execution_count": 16,
   "metadata": {},
   "outputs": [
    {
     "data": {
      "text/html": [
       "<div>\n",
       "<style scoped>\n",
       "    .dataframe tbody tr th:only-of-type {\n",
       "        vertical-align: middle;\n",
       "    }\n",
       "\n",
       "    .dataframe tbody tr th {\n",
       "        vertical-align: top;\n",
       "    }\n",
       "\n",
       "    .dataframe thead th {\n",
       "        text-align: right;\n",
       "    }\n",
       "</style>\n",
       "<table border=\"1\" class=\"dataframe\">\n",
       "  <thead>\n",
       "    <tr style=\"text-align: right;\">\n",
       "      <th></th>\n",
       "      <th>пол</th>\n",
       "      <th>возраст</th>\n",
       "      <th>зарплата</th>\n",
       "      <th>члены семьи</th>\n",
       "      <th>страховые выплаты</th>\n",
       "    </tr>\n",
       "  </thead>\n",
       "  <tbody>\n",
       "    <tr>\n",
       "      <th>0</th>\n",
       "      <td>1</td>\n",
       "      <td>41</td>\n",
       "      <td>49600</td>\n",
       "      <td>1</td>\n",
       "      <td>0</td>\n",
       "    </tr>\n",
       "    <tr>\n",
       "      <th>1</th>\n",
       "      <td>0</td>\n",
       "      <td>46</td>\n",
       "      <td>38000</td>\n",
       "      <td>1</td>\n",
       "      <td>1</td>\n",
       "    </tr>\n",
       "    <tr>\n",
       "      <th>2</th>\n",
       "      <td>0</td>\n",
       "      <td>29</td>\n",
       "      <td>21000</td>\n",
       "      <td>0</td>\n",
       "      <td>0</td>\n",
       "    </tr>\n",
       "    <tr>\n",
       "      <th>3</th>\n",
       "      <td>0</td>\n",
       "      <td>21</td>\n",
       "      <td>41700</td>\n",
       "      <td>2</td>\n",
       "      <td>0</td>\n",
       "    </tr>\n",
       "    <tr>\n",
       "      <th>4</th>\n",
       "      <td>1</td>\n",
       "      <td>28</td>\n",
       "      <td>26100</td>\n",
       "      <td>0</td>\n",
       "      <td>0</td>\n",
       "    </tr>\n",
       "    <tr>\n",
       "      <th>5</th>\n",
       "      <td>1</td>\n",
       "      <td>43</td>\n",
       "      <td>41000</td>\n",
       "      <td>2</td>\n",
       "      <td>1</td>\n",
       "    </tr>\n",
       "    <tr>\n",
       "      <th>6</th>\n",
       "      <td>1</td>\n",
       "      <td>39</td>\n",
       "      <td>39700</td>\n",
       "      <td>2</td>\n",
       "      <td>0</td>\n",
       "    </tr>\n",
       "    <tr>\n",
       "      <th>7</th>\n",
       "      <td>1</td>\n",
       "      <td>25</td>\n",
       "      <td>38600</td>\n",
       "      <td>4</td>\n",
       "      <td>0</td>\n",
       "    </tr>\n",
       "    <tr>\n",
       "      <th>8</th>\n",
       "      <td>1</td>\n",
       "      <td>36</td>\n",
       "      <td>49700</td>\n",
       "      <td>1</td>\n",
       "      <td>0</td>\n",
       "    </tr>\n",
       "    <tr>\n",
       "      <th>9</th>\n",
       "      <td>1</td>\n",
       "      <td>32</td>\n",
       "      <td>51700</td>\n",
       "      <td>1</td>\n",
       "      <td>0</td>\n",
       "    </tr>\n",
       "    <tr>\n",
       "      <th>10</th>\n",
       "      <td>1</td>\n",
       "      <td>25</td>\n",
       "      <td>36600</td>\n",
       "      <td>1</td>\n",
       "      <td>0</td>\n",
       "    </tr>\n",
       "    <tr>\n",
       "      <th>11</th>\n",
       "      <td>1</td>\n",
       "      <td>38</td>\n",
       "      <td>29300</td>\n",
       "      <td>0</td>\n",
       "      <td>0</td>\n",
       "    </tr>\n",
       "    <tr>\n",
       "      <th>12</th>\n",
       "      <td>0</td>\n",
       "      <td>23</td>\n",
       "      <td>39500</td>\n",
       "      <td>3</td>\n",
       "      <td>0</td>\n",
       "    </tr>\n",
       "    <tr>\n",
       "      <th>13</th>\n",
       "      <td>0</td>\n",
       "      <td>21</td>\n",
       "      <td>55000</td>\n",
       "      <td>0</td>\n",
       "      <td>0</td>\n",
       "    </tr>\n",
       "    <tr>\n",
       "      <th>14</th>\n",
       "      <td>0</td>\n",
       "      <td>40</td>\n",
       "      <td>43700</td>\n",
       "      <td>1</td>\n",
       "      <td>0</td>\n",
       "    </tr>\n",
       "  </tbody>\n",
       "</table>\n",
       "</div>"
      ],
      "text/plain": [
       "    пол  возраст  зарплата  члены семьи  страховые выплаты\n",
       "0     1       41     49600            1                  0\n",
       "1     0       46     38000            1                  1\n",
       "2     0       29     21000            0                  0\n",
       "3     0       21     41700            2                  0\n",
       "4     1       28     26100            0                  0\n",
       "5     1       43     41000            2                  1\n",
       "6     1       39     39700            2                  0\n",
       "7     1       25     38600            4                  0\n",
       "8     1       36     49700            1                  0\n",
       "9     1       32     51700            1                  0\n",
       "10    1       25     36600            1                  0\n",
       "11    1       38     29300            0                  0\n",
       "12    0       23     39500            3                  0\n",
       "13    0       21     55000            0                  0\n",
       "14    0       40     43700            1                  0"
      ]
     },
     "metadata": {},
     "output_type": "display_data"
    },
    {
     "name": "stdout",
     "output_type": "stream",
     "text": [
      "<class 'pandas.core.frame.DataFrame'>\n",
      "RangeIndex: 5000 entries, 0 to 4999\n",
      "Data columns (total 5 columns):\n",
      " #   Column             Non-Null Count  Dtype\n",
      "---  ------             --------------  -----\n",
      " 0   пол                5000 non-null   int64\n",
      " 1   возраст            5000 non-null   int64\n",
      " 2   зарплата           5000 non-null   int64\n",
      " 3   члены семьи        5000 non-null   int64\n",
      " 4   страховые выплаты  5000 non-null   int64\n",
      "dtypes: int64(5)\n",
      "memory usage: 195.4 KB\n"
     ]
    }
   ],
   "source": [
    "data=data.rename(columns=str.lower)\n",
    "data[['возраст','зарплата']] = data[['возраст','зарплата']].astype('int64')\n",
    "display(data.head(15))\n",
    "data.info()"
   ]
  },
  {
   "cell_type": "code",
   "execution_count": 17,
   "metadata": {},
   "outputs": [
    {
     "data": {
      "text/plain": [
       "153"
      ]
     },
     "execution_count": 17,
     "metadata": {},
     "output_type": "execute_result"
    }
   ],
   "source": [
    "data.duplicated().sum() "
   ]
  },
  {
   "cell_type": "code",
   "execution_count": 18,
   "metadata": {},
   "outputs": [
    {
     "data": {
      "text/plain": [
       "0"
      ]
     },
     "execution_count": 18,
     "metadata": {},
     "output_type": "execute_result"
    }
   ],
   "source": [
    "data.drop_duplicates(inplace=True)\n",
    "data.duplicated().sum()"
   ]
  },
  {
   "cell_type": "code",
   "execution_count": 19,
   "metadata": {},
   "outputs": [
    {
     "data": {
      "text/plain": [
       "(4847, 4)"
      ]
     },
     "execution_count": 19,
     "metadata": {},
     "output_type": "execute_result"
    }
   ],
   "source": [
    "features = data.drop('страховые выплаты',axis=1)\n",
    "features.shape"
   ]
  },
  {
   "cell_type": "code",
   "execution_count": 20,
   "metadata": {},
   "outputs": [
    {
     "data": {
      "text/plain": [
       "(4847,)"
      ]
     },
     "execution_count": 20,
     "metadata": {},
     "output_type": "execute_result"
    }
   ],
   "source": [
    "target = data['страховые выплаты']\n",
    "target.shape"
   ]
  },
  {
   "cell_type": "code",
   "execution_count": 21,
   "metadata": {},
   "outputs": [
    {
     "data": {
      "text/plain": [
       "(4847, 4)"
      ]
     },
     "execution_count": 21,
     "metadata": {},
     "output_type": "execute_result"
    }
   ],
   "source": [
    "X = features.values\n",
    "X.shape"
   ]
  },
  {
   "cell_type": "code",
   "execution_count": 22,
   "metadata": {
    "scrolled": true
   },
   "outputs": [
    {
     "data": {
      "text/plain": [
       "(4847,)"
      ]
     },
     "execution_count": 22,
     "metadata": {},
     "output_type": "execute_result"
    }
   ],
   "source": [
    "y = target.values\n",
    "y.shape"
   ]
  },
  {
   "cell_type": "markdown",
   "metadata": {},
   "source": [
    "Данные готовы к анализу,размерности идентичны,дубликаты удалены."
   ]
  },
  {
   "cell_type": "markdown",
   "metadata": {},
   "source": [
    "## Умножение матриц"
   ]
  },
  {
   "cell_type": "markdown",
   "metadata": {},
   "source": [
    "В этом задании вы можете записывать формулы в *Jupyter Notebook.*\n",
    "\n",
    "Чтобы записать формулу внутри текста, окружите её символами доллара \\\\$; если снаружи —  двойными символами \\\\$\\\\$. Эти формулы записываются на языке вёрстки *LaTeX.* \n",
    "\n",
    "Для примера мы записали формулы линейной регрессии. Можете их скопировать и отредактировать, чтобы решить задачу.\n",
    "\n",
    "Работать в *LaTeX* необязательно."
   ]
  },
  {
   "cell_type": "markdown",
   "metadata": {},
   "source": [
    "Обозначения:\n",
    "\n",
    "- $X$ — матрица признаков (нулевой столбец состоит из единиц)\n",
    "\n",
    "- $y$ — вектор целевого признака\n",
    "\n",
    "- $P$ — матрица, на которую умножаются признаки\n",
    "\n",
    "- $w$ — вектор весов линейной регрессии (нулевой элемент равен сдвигу)"
   ]
  },
  {
   "cell_type": "markdown",
   "metadata": {},
   "source": [
    "Предсказания:\n",
    "\n",
    "$$\n",
    "a = Xw\n",
    "$$\n",
    "\n",
    "Задача обучения:\n",
    "\n",
    "$$\n",
    "w = \\arg\\min_w MSE(Xw, y)\n",
    "$$\n",
    "\n",
    "Формула обучения:\n",
    "\n",
    "$$\n",
    "w = (X^T X)^{-1} X^T y\n",
    "$$\n",
    "\n",
    "Итак \n",
    "докажем,что предсказание на исходных признаках $a=Xw$ равно предсказанию на преобразованных признаках $a_1=X_1w_1$,где $X_1=XP$ ($P$ - матрица шифрования).\n",
    "\n",
    "Формула обучения для новой матрицы\n",
    "\n",
    " $w_1 = ((X_1)^T X_1)^{-1}(X_1)^T y= ((XP)^T XP)^{-1}(XP)^T y = (P^T X^T XP)^{-1} P^T X^T y$ получена после преобразований с учетом свойств транспонированных и единичных матриц,указанных ниже в проекте.\n",
    "\n",
    "Тогда предсказание на преобразованных признаках равно\n",
    "\n",
    " $a_1=XP(P^T X^T XP)^{-1} P^T X^T y$\n",
    "       \n",
    "Вспомним шестое свойство линейного пространства A(BX)=(AB)X получим следующее выражение:\n",
    "\n",
    "   $a_1=XPP^{-1}(P^TX^TX)^{-1}P^TX^Ty$ и в этом выражении видим единичные матрицы\n",
    "   \n",
    "   $PP^{-1}$ и $(P^T)^{-1}P^T$\n",
    "   \n",
    "Таким образом получим в итоге\n",
    "\n",
    "   $a_1=X(X^TX)^{-1}X^Ty=Xw$ _  ч.т.д.\n",
    "\n"
   ]
  },
  {
   "cell_type": "markdown",
   "metadata": {},
   "source": [
    "Несколько определений и правил действий с матрицами\n",
    "\n",
    "1. Умножить матрицу А справа на матрицу В можно только тогда когда число столбцов матрицы А совпадает с числом строк матрицы В\n",
    "2. Единичная матрица Е это та у которой по главной диагонали стоят единицы,она квадратная порядка n и ее свойства:\n",
    "   ЕА = А для любой матрицы А с n-количеством строк\n",
    "   АЕ = А для любой матрицы А с n-количеством столбцов.\n",
    "3. Транспонированной матрицей А^Т к матрице А является та,у которой каждый столбец это строка матрицы А и ее свойства:\n",
    "    (А^T)^T = A\n",
    "    (A+-B)^T = A^T +- B^T\n",
    "    (AB)^T = B^T A^T     \n",
    "4. Определитель матрицы det A (для n=2) есть разность произведений элементов матрицы  a(1,1)*a(2,2)-a(2,1)*a(1,2) и у него много разных свойств (они для нашей задачи не очень важны)\n",
    "5. Обратной матрицей к квадратной матрице А является такая,что \n",
    "    A^-1 A = AA^-1 = E \n",
    "6. Линейное(векторное) пространство это любое множество на котором выполняются операции умножения на действительное число и сложения,удовлетворяющие свойствам ассоциативности,коммутативности,существованию нулевого и противоположного вектора и двум свойствам дистрибутивности.\n",
    "7. Базис - любая максимально линейно независимая система векторов (возможность представления векторов и в другом базисном пространстве используя координаты векторов).\n",
    "8. Собственные значения оператора - числа на главной диагонали матрицы перехода с одного базиса в другой.\n",
    "9. Евклидово пространство - все операции как и в линейном пространстве плюс еще скалярное произведение векторов,что позволяет использовать длины векторов и углы между векторами.\n",
    "\n"
   ]
  },
  {
   "cell_type": "markdown",
   "metadata": {},
   "source": [
    "## Алгоритм преобразования"
   ]
  },
  {
   "cell_type": "markdown",
   "metadata": {},
   "source": [
    "**Алгоритм**\n",
    "\n",
    "Алгоритм преобразования таков - умножим матрицу обучающих признаков на случайную обратимую матрицу P размером 4х4. Создадим модель линейной регрессии и обучим ее до преобразования и посчитаем метрику R2. После умножения исходных признаков на невырожденную матрицу соответствующего размера и вновь посчитаем метрику R2. Метрики R2  должны быть равными."
   ]
  },
  {
   "cell_type": "markdown",
   "metadata": {},
   "source": [
    "**Обоснование**\n",
    "\n",
    "Все операции с матрицами в sklearn производятся в евклидовом пространсте - можем вектора умножать на число,суммировать,перемножать скалярно(получая в итоге этого вектор),и все то что написано выше в свойствах линейного пространства.Поэтому умножая матрицу на другую, но невырожденную матрицу нужной размерности мы в итоге получим те же вектора-признаки,что и в исходной матрице,но с другими значениями можно сказать модулей.\n",
    "Т.е. эти вектора будут по сути коллениарными между собой(до преобразования и после него) что и позволяет использовать такой подход для решения задачи проекта."
   ]
  },
  {
   "cell_type": "markdown",
   "metadata": {},
   "source": [
    "## Проверка алгоритма"
   ]
  },
  {
   "cell_type": "code",
   "execution_count": 23,
   "metadata": {},
   "outputs": [
    {
     "name": "stdout",
     "output_type": "stream",
     "text": [
      "Значение R2 на основном массиве : 0.42779\n"
     ]
    }
   ],
   "source": [
    "model =  LinearRegression()\n",
    "model.fit(features,target)\n",
    "R2 = cross_val_score(model,features,target,scoring='r2',cv=5)\n",
    "print('Значение R2 на основном массиве :', R2.mean().round(5))"
   ]
  },
  {
   "cell_type": "markdown",
   "metadata": {},
   "source": [
    "Создадим матрицу нормально распределенных случайных значений размером 4х4 "
   ]
  },
  {
   "cell_type": "code",
   "execution_count": 24,
   "metadata": {},
   "outputs": [
    {
     "data": {
      "text/plain": [
       "array([[ 0.24114045,  1.00916635,  0.74863872, -1.40689867],\n",
       "       [-0.98863669, -1.07482417, -0.04220679,  1.0697192 ],\n",
       "       [-1.71079343,  0.25073536, -0.2309044 ,  0.17776637],\n",
       "       [-0.44904379,  2.57122624,  0.42722354,  0.56309566]])"
      ]
     },
     "execution_count": 24,
     "metadata": {},
     "output_type": "execute_result"
    }
   ],
   "source": [
    "det = 0 \n",
    "while det == 0:\n",
    "    P = np.random.normal(size=(4, 4))\n",
    "    det = np.linalg.det(P)\n",
    "P"
   ]
  },
  {
   "cell_type": "markdown",
   "metadata": {},
   "source": [
    "Проверим что получилось"
   ]
  },
  {
   "cell_type": "code",
   "execution_count": 25,
   "metadata": {
    "scrolled": true
   },
   "outputs": [
    {
     "name": "stdout",
     "output_type": "stream",
     "text": [
      "[[-84896.09636869  12395.98658715 -11453.41275894   8860.22653377]\n",
      " [-65056.07685004   9481.07309365  -8775.88141437   6804.89216039]\n",
      " [-35955.33259265   5234.27271391  -4850.21635579   3764.11558344]\n",
      " ...\n",
      " [-58016.5682577    8483.57476161  -7827.64878227   6048.80044832]\n",
      " [-55965.80131277   8184.12307072  -7549.47205595   5836.7764422 ]\n",
      " [-69486.10317945  10153.34103786  -9374.7244883    7246.42287276]]\n"
     ]
    },
    {
     "data": {
      "text/plain": [
       "(4847, 4)"
      ]
     },
     "execution_count": 25,
     "metadata": {},
     "output_type": "execute_result"
    }
   ],
   "source": [
    "a=X@P\n",
    "print(a)\n",
    "a.shape"
   ]
  },
  {
   "cell_type": "markdown",
   "metadata": {},
   "source": [
    "Получилось хорошо - матрица необходимой размерности \n",
    "Вычислим метрику уже для этой зашифрованной матрицы"
   ]
  },
  {
   "cell_type": "code",
   "execution_count": 26,
   "metadata": {
    "scrolled": true
   },
   "outputs": [
    {
     "name": "stdout",
     "output_type": "stream",
     "text": [
      "Значение R2 на зашифрованном массиве : 0.42779\n"
     ]
    }
   ],
   "source": [
    "model_cript1 =  LinearRegression()\n",
    "model_cript1.fit(a,y)\n",
    "R2 = cross_val_score(model_cript1,a,y,scoring='r2',cv=5)\n",
    "print('Значение R2 на зашифрованном массиве :', R2.mean().round(5))"
   ]
  },
  {
   "cell_type": "markdown",
   "metadata": {},
   "source": [
    "Значения метрик R2 до и после шифрования равны - ч.т.д."
   ]
  }
 ],
 "metadata": {
  "ExecuteTimeLog": [
   {
    "duration": 1327,
    "start_time": "2022-06-13T15:41:04.434Z"
   },
   {
    "duration": 118,
    "start_time": "2022-06-13T15:41:27.639Z"
   },
   {
    "duration": 21,
    "start_time": "2022-06-13T15:41:51.193Z"
   },
   {
    "duration": 7,
    "start_time": "2022-06-13T16:11:13.119Z"
   },
   {
    "duration": 4,
    "start_time": "2022-06-13T16:12:32.502Z"
   },
   {
    "duration": 96,
    "start_time": "2022-06-13T16:14:58.074Z"
   },
   {
    "duration": 12,
    "start_time": "2022-06-13T16:15:29.502Z"
   },
   {
    "duration": 6,
    "start_time": "2022-06-13T16:16:51.867Z"
   },
   {
    "duration": 28,
    "start_time": "2022-06-13T16:16:57.976Z"
   },
   {
    "duration": 29,
    "start_time": "2022-06-13T16:17:13.816Z"
   },
   {
    "duration": 31,
    "start_time": "2022-06-13T16:17:38.414Z"
   },
   {
    "duration": 4,
    "start_time": "2022-06-13T16:19:00.843Z"
   },
   {
    "duration": 3,
    "start_time": "2022-06-13T16:19:35.978Z"
   },
   {
    "duration": 10,
    "start_time": "2022-06-13T16:19:57.442Z"
   },
   {
    "duration": 11,
    "start_time": "2022-06-13T16:20:20.475Z"
   },
   {
    "duration": 4,
    "start_time": "2022-06-13T16:20:36.690Z"
   },
   {
    "duration": 4,
    "start_time": "2022-06-13T16:21:29.091Z"
   },
   {
    "duration": 4,
    "start_time": "2022-06-13T16:40:04.717Z"
   },
   {
    "duration": 6,
    "start_time": "2022-06-13T16:48:52.749Z"
   },
   {
    "duration": 9,
    "start_time": "2022-06-13T16:49:22.202Z"
   },
   {
    "duration": 6,
    "start_time": "2022-06-13T16:49:39.948Z"
   },
   {
    "duration": 10,
    "start_time": "2022-06-13T16:50:33.892Z"
   },
   {
    "duration": 32,
    "start_time": "2022-06-13T16:57:33.605Z"
   },
   {
    "duration": 14,
    "start_time": "2022-06-13T17:05:45.045Z"
   },
   {
    "duration": 16,
    "start_time": "2022-06-13T17:06:23.250Z"
   },
   {
    "duration": 13,
    "start_time": "2022-06-13T17:30:48.548Z"
   },
   {
    "duration": 4,
    "start_time": "2022-06-13T17:31:56.916Z"
   },
   {
    "duration": 5,
    "start_time": "2022-06-13T19:02:52.181Z"
   },
   {
    "duration": 61,
    "start_time": "2022-06-13T19:05:01.077Z"
   },
   {
    "duration": 6,
    "start_time": "2022-06-13T19:05:20.272Z"
   },
   {
    "duration": 5,
    "start_time": "2022-06-13T19:31:53.447Z"
   },
   {
    "duration": 16,
    "start_time": "2022-06-13T19:32:27.221Z"
   },
   {
    "duration": 15,
    "start_time": "2022-06-13T19:32:47.821Z"
   },
   {
    "duration": 6,
    "start_time": "2022-06-13T19:33:21.510Z"
   },
   {
    "duration": 9,
    "start_time": "2022-06-13T19:33:38.042Z"
   },
   {
    "duration": 25,
    "start_time": "2022-06-13T19:33:48.816Z"
   },
   {
    "duration": 6,
    "start_time": "2022-06-13T19:34:09.798Z"
   },
   {
    "duration": 4,
    "start_time": "2022-06-13T19:34:28.060Z"
   },
   {
    "duration": 761,
    "start_time": "2022-06-13T19:35:24.895Z"
   },
   {
    "duration": 5,
    "start_time": "2022-06-13T19:35:37.057Z"
   },
   {
    "duration": 5,
    "start_time": "2022-06-13T19:37:32.352Z"
   },
   {
    "duration": 1519,
    "start_time": "2022-06-14T07:02:39.143Z"
   },
   {
    "duration": 72,
    "start_time": "2022-06-14T07:02:43.846Z"
   },
   {
    "duration": 23,
    "start_time": "2022-06-14T07:02:48.659Z"
   },
   {
    "duration": 8,
    "start_time": "2022-06-14T07:02:53.615Z"
   },
   {
    "duration": 8,
    "start_time": "2022-06-14T07:02:56.459Z"
   },
   {
    "duration": 5,
    "start_time": "2022-06-14T07:03:00.638Z"
   },
   {
    "duration": 5,
    "start_time": "2022-06-14T07:03:04.415Z"
   },
   {
    "duration": 34,
    "start_time": "2022-06-14T07:03:08.045Z"
   },
   {
    "duration": 4,
    "start_time": "2022-06-14T07:03:11.800Z"
   },
   {
    "duration": 4,
    "start_time": "2022-06-14T07:03:15.895Z"
   },
   {
    "duration": 20,
    "start_time": "2022-06-14T07:03:20.689Z"
   },
   {
    "duration": 6,
    "start_time": "2022-06-14T07:03:33.165Z"
   },
   {
    "duration": 4,
    "start_time": "2022-06-14T07:03:42.357Z"
   },
   {
    "duration": 15,
    "start_time": "2022-06-14T07:04:40.144Z"
   },
   {
    "duration": 4,
    "start_time": "2022-06-14T07:04:51.046Z"
   },
   {
    "duration": 15,
    "start_time": "2022-06-14T07:04:55.670Z"
   },
   {
    "duration": 8,
    "start_time": "2022-06-14T07:05:02.866Z"
   },
   {
    "duration": 4,
    "start_time": "2022-06-14T07:05:06.072Z"
   },
   {
    "duration": 19,
    "start_time": "2022-06-14T07:05:10.001Z"
   },
   {
    "duration": 54,
    "start_time": "2022-06-14T14:35:17.191Z"
   },
   {
    "duration": 7,
    "start_time": "2022-06-14T14:35:24.642Z"
   },
   {
    "duration": 1650,
    "start_time": "2022-06-14T14:35:43.983Z"
   },
   {
    "duration": 125,
    "start_time": "2022-06-14T14:35:48.627Z"
   },
   {
    "duration": 27,
    "start_time": "2022-06-14T14:35:51.535Z"
   },
   {
    "duration": 7,
    "start_time": "2022-06-14T14:36:02.714Z"
   },
   {
    "duration": 9,
    "start_time": "2022-06-14T14:36:06.403Z"
   },
   {
    "duration": 5,
    "start_time": "2022-06-14T14:36:16.389Z"
   },
   {
    "duration": 3,
    "start_time": "2022-06-14T14:36:26.533Z"
   },
   {
    "duration": 36,
    "start_time": "2022-06-14T14:36:32.532Z"
   },
   {
    "duration": 4,
    "start_time": "2022-06-14T14:36:37.006Z"
   },
   {
    "duration": 5,
    "start_time": "2022-06-14T14:36:40.290Z"
   },
   {
    "duration": 22,
    "start_time": "2022-06-14T14:36:43.158Z"
   },
   {
    "duration": 6,
    "start_time": "2022-06-14T14:36:50.912Z"
   },
   {
    "duration": 5,
    "start_time": "2022-06-14T14:37:14.781Z"
   },
   {
    "duration": 22,
    "start_time": "2022-06-14T14:37:18.813Z"
   },
   {
    "duration": 31,
    "start_time": "2022-06-14T14:43:38.033Z"
   },
   {
    "duration": 40,
    "start_time": "2022-06-14T14:43:51.882Z"
   },
   {
    "duration": 9,
    "start_time": "2022-06-14T14:47:46.807Z"
   },
   {
    "duration": 16,
    "start_time": "2022-06-14T14:50:19.589Z"
   },
   {
    "duration": 36,
    "start_time": "2022-06-14T14:53:56.297Z"
   },
   {
    "duration": 6,
    "start_time": "2022-06-14T14:54:00.155Z"
   },
   {
    "duration": 6,
    "start_time": "2022-06-14T14:54:08.898Z"
   },
   {
    "duration": 15,
    "start_time": "2022-06-14T14:54:26.739Z"
   },
   {
    "duration": 7,
    "start_time": "2022-06-14T15:14:21.461Z"
   },
   {
    "duration": 26,
    "start_time": "2022-06-14T15:14:25.219Z"
   },
   {
    "duration": 20,
    "start_time": "2022-06-14T15:14:30.178Z"
   },
   {
    "duration": 6,
    "start_time": "2022-06-14T15:14:35.056Z"
   },
   {
    "duration": 8,
    "start_time": "2022-06-14T15:14:38.662Z"
   },
   {
    "duration": 5,
    "start_time": "2022-06-14T15:14:43.234Z"
   },
   {
    "duration": 5,
    "start_time": "2022-06-14T15:14:47.861Z"
   },
   {
    "duration": 4,
    "start_time": "2022-06-14T15:14:50.839Z"
   },
   {
    "duration": 4,
    "start_time": "2022-06-14T15:14:53.940Z"
   },
   {
    "duration": 30,
    "start_time": "2022-06-14T15:15:22.420Z"
   },
   {
    "duration": 5,
    "start_time": "2022-06-14T15:15:27.378Z"
   },
   {
    "duration": 7,
    "start_time": "2022-06-14T15:15:31.253Z"
   },
   {
    "duration": 17,
    "start_time": "2022-06-14T15:15:37.542Z"
   },
   {
    "duration": 1498,
    "start_time": "2022-06-14T15:58:46.178Z"
   },
   {
    "duration": 29,
    "start_time": "2022-06-14T15:58:47.678Z"
   },
   {
    "duration": 24,
    "start_time": "2022-06-14T15:58:47.709Z"
   },
   {
    "duration": 6,
    "start_time": "2022-06-14T15:58:47.735Z"
   },
   {
    "duration": 9,
    "start_time": "2022-06-14T15:58:47.742Z"
   },
   {
    "duration": 10,
    "start_time": "2022-06-14T15:58:47.753Z"
   },
   {
    "duration": 12,
    "start_time": "2022-06-14T15:58:47.765Z"
   },
   {
    "duration": 11,
    "start_time": "2022-06-14T15:58:47.779Z"
   },
   {
    "duration": 6,
    "start_time": "2022-06-14T15:58:47.792Z"
   },
   {
    "duration": 51,
    "start_time": "2022-06-14T15:58:47.801Z"
   },
   {
    "duration": 6,
    "start_time": "2022-06-14T15:58:47.854Z"
   },
   {
    "duration": 10,
    "start_time": "2022-06-14T15:58:47.862Z"
   },
   {
    "duration": 19,
    "start_time": "2022-06-14T15:58:47.874Z"
   },
   {
    "duration": 1082,
    "start_time": "2022-06-14T19:41:22.490Z"
   },
   {
    "duration": 90,
    "start_time": "2022-06-14T19:41:26.510Z"
   },
   {
    "duration": 29,
    "start_time": "2022-06-14T19:41:30.253Z"
   },
   {
    "duration": 6,
    "start_time": "2022-06-14T19:41:35.812Z"
   },
   {
    "duration": 12,
    "start_time": "2022-06-14T19:41:38.786Z"
   },
   {
    "duration": 5,
    "start_time": "2022-06-14T19:41:42.368Z"
   },
   {
    "duration": 4,
    "start_time": "2022-06-14T19:41:45.082Z"
   },
   {
    "duration": 4,
    "start_time": "2022-06-14T19:41:48.008Z"
   },
   {
    "duration": 3,
    "start_time": "2022-06-14T19:41:50.342Z"
   },
   {
    "duration": 100,
    "start_time": "2022-06-14T19:45:46.109Z"
   },
   {
    "duration": 3,
    "start_time": "2022-06-14T19:45:57.546Z"
   },
   {
    "duration": 30,
    "start_time": "2022-06-14T19:46:00.458Z"
   },
   {
    "duration": 23,
    "start_time": "2022-06-14T19:46:03.131Z"
   },
   {
    "duration": 5,
    "start_time": "2022-06-14T19:46:07.204Z"
   },
   {
    "duration": 9,
    "start_time": "2022-06-14T19:46:10.034Z"
   },
   {
    "duration": 6,
    "start_time": "2022-06-14T19:46:13.946Z"
   },
   {
    "duration": 4,
    "start_time": "2022-06-14T19:46:17.542Z"
   },
   {
    "duration": 3,
    "start_time": "2022-06-14T19:46:20.991Z"
   },
   {
    "duration": 4,
    "start_time": "2022-06-14T19:46:24.111Z"
   },
   {
    "duration": 44,
    "start_time": "2022-06-14T19:46:33.949Z"
   },
   {
    "duration": 30,
    "start_time": "2022-06-14T19:46:41.329Z"
   },
   {
    "duration": 6,
    "start_time": "2022-06-14T19:46:45.545Z"
   },
   {
    "duration": 6,
    "start_time": "2022-06-14T19:46:49.543Z"
   },
   {
    "duration": 20,
    "start_time": "2022-06-14T19:46:53.920Z"
   },
   {
    "duration": 860,
    "start_time": "2022-06-14T20:29:37.765Z"
   },
   {
    "duration": 32,
    "start_time": "2022-06-14T20:29:38.627Z"
   },
   {
    "duration": 31,
    "start_time": "2022-06-14T20:29:38.661Z"
   },
   {
    "duration": 5,
    "start_time": "2022-06-14T20:29:38.694Z"
   },
   {
    "duration": 8,
    "start_time": "2022-06-14T20:29:38.701Z"
   },
   {
    "duration": 4,
    "start_time": "2022-06-14T20:29:38.710Z"
   },
   {
    "duration": 10,
    "start_time": "2022-06-14T20:29:38.716Z"
   },
   {
    "duration": 4,
    "start_time": "2022-06-14T20:29:38.727Z"
   },
   {
    "duration": 8,
    "start_time": "2022-06-14T20:29:38.733Z"
   },
   {
    "duration": 27,
    "start_time": "2022-06-14T20:29:39.106Z"
   },
   {
    "duration": 4,
    "start_time": "2022-06-14T20:29:39.135Z"
   },
   {
    "duration": 7,
    "start_time": "2022-06-14T20:29:39.140Z"
   },
   {
    "duration": 12,
    "start_time": "2022-06-14T20:29:39.148Z"
   },
   {
    "duration": 1335,
    "start_time": "2022-06-15T07:45:46.802Z"
   },
   {
    "duration": 99,
    "start_time": "2022-06-15T07:45:54.224Z"
   },
   {
    "duration": 31,
    "start_time": "2022-06-15T07:45:57.675Z"
   },
   {
    "duration": 69,
    "start_time": "2022-06-15T07:46:10.925Z"
   },
   {
    "duration": 10,
    "start_time": "2022-06-15T07:46:16.069Z"
   },
   {
    "duration": 9,
    "start_time": "2022-06-15T07:46:18.581Z"
   },
   {
    "duration": 21,
    "start_time": "2022-06-15T07:46:23.100Z"
   },
   {
    "duration": 11,
    "start_time": "2022-06-15T07:46:26.277Z"
   },
   {
    "duration": 5,
    "start_time": "2022-06-15T07:46:29.371Z"
   },
   {
    "duration": 13,
    "start_time": "2022-06-15T07:46:32.744Z"
   },
   {
    "duration": 1062,
    "start_time": "2022-06-15T08:05:06.300Z"
   },
   {
    "duration": 30,
    "start_time": "2022-06-15T08:05:07.364Z"
   },
   {
    "duration": 24,
    "start_time": "2022-06-15T08:05:07.396Z"
   },
   {
    "duration": 8,
    "start_time": "2022-06-15T08:05:07.422Z"
   },
   {
    "duration": 22,
    "start_time": "2022-06-15T08:05:07.431Z"
   },
   {
    "duration": 22,
    "start_time": "2022-06-15T08:05:07.455Z"
   },
   {
    "duration": 42,
    "start_time": "2022-06-15T08:05:07.479Z"
   },
   {
    "duration": 27,
    "start_time": "2022-06-15T08:05:07.523Z"
   },
   {
    "duration": 10,
    "start_time": "2022-06-15T08:05:07.552Z"
   },
   {
    "duration": 71,
    "start_time": "2022-06-15T08:05:07.564Z"
   },
   {
    "duration": 16,
    "start_time": "2022-06-15T08:05:07.636Z"
   },
   {
    "duration": 8,
    "start_time": "2022-06-15T08:05:07.653Z"
   },
   {
    "duration": 42,
    "start_time": "2022-06-15T08:05:07.663Z"
   },
   {
    "duration": 1133,
    "start_time": "2022-06-15T08:11:31.298Z"
   },
   {
    "duration": 30,
    "start_time": "2022-06-15T08:11:32.433Z"
   },
   {
    "duration": 28,
    "start_time": "2022-06-15T08:11:32.465Z"
   },
   {
    "duration": 7,
    "start_time": "2022-06-15T08:11:32.495Z"
   },
   {
    "duration": 13,
    "start_time": "2022-06-15T08:11:32.503Z"
   },
   {
    "duration": 8,
    "start_time": "2022-06-15T08:11:32.518Z"
   },
   {
    "duration": 7,
    "start_time": "2022-06-15T08:11:32.527Z"
   },
   {
    "duration": 10,
    "start_time": "2022-06-15T08:11:32.536Z"
   },
   {
    "duration": 13,
    "start_time": "2022-06-15T08:11:32.547Z"
   },
   {
    "duration": 52,
    "start_time": "2022-06-15T08:11:32.563Z"
   },
   {
    "duration": 5,
    "start_time": "2022-06-15T08:11:32.617Z"
   },
   {
    "duration": 10,
    "start_time": "2022-06-15T08:11:32.624Z"
   },
   {
    "duration": 17,
    "start_time": "2022-06-15T08:11:32.636Z"
   },
   {
    "duration": 1111,
    "start_time": "2022-06-15T09:04:28.997Z"
   },
   {
    "duration": 32,
    "start_time": "2022-06-15T09:04:30.110Z"
   },
   {
    "duration": 36,
    "start_time": "2022-06-15T09:04:30.144Z"
   },
   {
    "duration": 7,
    "start_time": "2022-06-15T09:04:30.182Z"
   },
   {
    "duration": 14,
    "start_time": "2022-06-15T09:04:30.191Z"
   },
   {
    "duration": 21,
    "start_time": "2022-06-15T09:04:30.206Z"
   },
   {
    "duration": 15,
    "start_time": "2022-06-15T09:04:30.229Z"
   },
   {
    "duration": 18,
    "start_time": "2022-06-15T09:04:30.245Z"
   },
   {
    "duration": 39,
    "start_time": "2022-06-15T09:04:30.265Z"
   },
   {
    "duration": 51,
    "start_time": "2022-06-15T09:04:30.307Z"
   },
   {
    "duration": 6,
    "start_time": "2022-06-15T09:04:30.359Z"
   },
   {
    "duration": 22,
    "start_time": "2022-06-15T09:04:30.367Z"
   },
   {
    "duration": 29,
    "start_time": "2022-06-15T09:04:30.391Z"
   },
   {
    "duration": 1095,
    "start_time": "2022-06-15T09:09:17.908Z"
   },
   {
    "duration": 31,
    "start_time": "2022-06-15T09:09:19.005Z"
   },
   {
    "duration": 26,
    "start_time": "2022-06-15T09:09:19.038Z"
   },
   {
    "duration": 6,
    "start_time": "2022-06-15T09:09:19.066Z"
   },
   {
    "duration": 13,
    "start_time": "2022-06-15T09:09:19.074Z"
   },
   {
    "duration": 5,
    "start_time": "2022-06-15T09:09:19.089Z"
   },
   {
    "duration": 9,
    "start_time": "2022-06-15T09:09:19.096Z"
   },
   {
    "duration": 6,
    "start_time": "2022-06-15T09:09:19.127Z"
   },
   {
    "duration": 14,
    "start_time": "2022-06-15T09:09:19.134Z"
   },
   {
    "duration": 45,
    "start_time": "2022-06-15T09:09:19.151Z"
   },
   {
    "duration": 6,
    "start_time": "2022-06-15T09:09:19.198Z"
   },
   {
    "duration": 21,
    "start_time": "2022-06-15T09:09:19.206Z"
   },
   {
    "duration": 33,
    "start_time": "2022-06-15T09:09:19.229Z"
   },
   {
    "duration": 1059,
    "start_time": "2022-06-15T09:10:24.956Z"
   },
   {
    "duration": 33,
    "start_time": "2022-06-15T09:10:26.017Z"
   },
   {
    "duration": 24,
    "start_time": "2022-06-15T09:10:26.052Z"
   },
   {
    "duration": 6,
    "start_time": "2022-06-15T09:10:26.078Z"
   },
   {
    "duration": 10,
    "start_time": "2022-06-15T09:10:26.085Z"
   },
   {
    "duration": 6,
    "start_time": "2022-06-15T09:10:26.096Z"
   },
   {
    "duration": 6,
    "start_time": "2022-06-15T09:10:26.104Z"
   },
   {
    "duration": 16,
    "start_time": "2022-06-15T09:10:26.111Z"
   },
   {
    "duration": 4,
    "start_time": "2022-06-15T09:10:26.129Z"
   },
   {
    "duration": 48,
    "start_time": "2022-06-15T09:10:26.136Z"
   },
   {
    "duration": 7,
    "start_time": "2022-06-15T09:10:26.186Z"
   },
   {
    "duration": 9,
    "start_time": "2022-06-15T09:10:26.195Z"
   },
   {
    "duration": 39,
    "start_time": "2022-06-15T09:10:26.207Z"
   },
   {
    "duration": 1145,
    "start_time": "2022-06-15T09:13:21.042Z"
   },
   {
    "duration": 32,
    "start_time": "2022-06-15T09:13:22.189Z"
   },
   {
    "duration": 38,
    "start_time": "2022-06-15T09:13:22.223Z"
   },
   {
    "duration": 19,
    "start_time": "2022-06-15T09:13:22.263Z"
   },
   {
    "duration": 27,
    "start_time": "2022-06-15T09:13:22.285Z"
   },
   {
    "duration": 47,
    "start_time": "2022-06-15T09:13:22.314Z"
   },
   {
    "duration": 41,
    "start_time": "2022-06-15T09:13:22.363Z"
   },
   {
    "duration": 34,
    "start_time": "2022-06-15T09:13:22.407Z"
   },
   {
    "duration": 46,
    "start_time": "2022-06-15T09:13:22.443Z"
   },
   {
    "duration": 60,
    "start_time": "2022-06-15T09:13:22.491Z"
   },
   {
    "duration": 27,
    "start_time": "2022-06-15T09:13:22.553Z"
   },
   {
    "duration": 15,
    "start_time": "2022-06-15T09:13:22.582Z"
   },
   {
    "duration": 43,
    "start_time": "2022-06-15T09:13:22.599Z"
   },
   {
    "duration": 4,
    "start_time": "2022-06-15T09:23:43.398Z"
   },
   {
    "duration": 30,
    "start_time": "2022-06-15T09:23:49.892Z"
   },
   {
    "duration": 27,
    "start_time": "2022-06-15T09:23:52.656Z"
   },
   {
    "duration": 8,
    "start_time": "2022-06-15T09:23:56.681Z"
   },
   {
    "duration": 10,
    "start_time": "2022-06-15T09:23:59.662Z"
   },
   {
    "duration": 6,
    "start_time": "2022-06-15T09:24:03.153Z"
   },
   {
    "duration": 5,
    "start_time": "2022-06-15T09:24:06.679Z"
   },
   {
    "duration": 10,
    "start_time": "2022-06-15T09:24:10.922Z"
   },
   {
    "duration": 4,
    "start_time": "2022-06-15T09:24:13.698Z"
   },
   {
    "duration": 33,
    "start_time": "2022-06-15T09:26:04.067Z"
   },
   {
    "duration": 6,
    "start_time": "2022-06-15T09:26:08.494Z"
   },
   {
    "duration": 7,
    "start_time": "2022-06-15T09:26:14.458Z"
   },
   {
    "duration": 27,
    "start_time": "2022-06-15T09:26:18.221Z"
   }
  ],
  "kernelspec": {
   "display_name": "Python 3",
   "language": "python",
   "name": "python3"
  },
  "language_info": {
   "codemirror_mode": {
    "name": "ipython",
    "version": 3
   },
   "file_extension": ".py",
   "mimetype": "text/x-python",
   "name": "python",
   "nbconvert_exporter": "python",
   "pygments_lexer": "ipython3",
   "version": "3.8.8"
  },
  "toc": {
   "base_numbering": 1,
   "nav_menu": {},
   "number_sections": true,
   "sideBar": true,
   "skip_h1_title": true,
   "title_cell": "Содержание",
   "title_sidebar": "Contents",
   "toc_cell": true,
   "toc_position": {
    "height": "calc(100% - 180px)",
    "left": "10px",
    "top": "150px",
    "width": "184.188px"
   },
   "toc_section_display": true,
   "toc_window_display": true
  }
 },
 "nbformat": 4,
 "nbformat_minor": 2
}
