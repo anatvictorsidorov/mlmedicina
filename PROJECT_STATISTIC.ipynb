{
 "cells": [
  {
   "cell_type": "markdown",
   "metadata": {},
   "source": [
    "# Определение перспективного тарифа для телеком-компании"
   ]
  },
  {
   "cell_type": "markdown",
   "metadata": {},
   "source": [
    "Целью исследования в проекте является определение коммерчески перспективного тарифа. Исходными данными являются данные о 500 абонентах и совершённых ими звонках, отправленных сообщениях, трафике."
   ]
  },
  {
   "cell_type": "markdown",
   "metadata": {},
   "source": [
    "Описание данных\n",
    "Таблица users (информация о пользователях):\n",
    "user_id — уникальный идентификатор пользователя\n",
    "first_name — имя пользователя\n",
    "last_name — фамилия пользователя\n",
    "age — возраст пользователя (годы)\n",
    "reg_date — дата подключения тарифа (день, месяц, год)\n",
    "churn_date — дата прекращения пользования тарифом (если значение пропущено, то тариф ещё действовал на момент выгрузки данных)\n",
    "city — город проживания пользователя\n",
    "tariff — название тарифного плана\n",
    "Таблица calls (информация о звонках):\n",
    "id — уникальный номер звонка\n",
    "call_date — дата звонка\n",
    "duration — длительность звонка в минутах\n",
    "user_id — идентификатор пользователя, сделавшего звонок\n",
    "Таблица messages (информация о сообщениях):\n",
    "id — уникальный номер сообщения\n",
    "message_date — дата сообщения\n",
    "user_id — идентификатор пользователя, отправившего сообщение\n",
    "Таблица internet (информация об интернет-сессиях):\n",
    "id — уникальный номер сессии\n",
    "mb_used — объём потраченного за сессию интернет-трафика (в мегабайтах)\n",
    "session_date — дата интернет-сессии\n",
    "user_id — идентификатор пользователя\n",
    "Таблица tariffs (информация о тарифах):\n",
    "tariff_name — название тарифа\n",
    "rub_monthly_fee — ежемесячная абонентская плата в рублях\n",
    "minutes_included — количество минут разговора в месяц, включённых в абонентскую плату\n",
    "messages_included — количество сообщений в месяц, включённых в абонентскую плату\n",
    "mb_per_month_included — объём интернет-трафика, включённого в абонентскую плату (в мегабайтах)\n",
    "rub_per_minute — стоимость минуты разговора сверх тарифного пакета (например, если в тарифе 100 минут разговора в месяц, то со 101 минуты будет взиматься плата)\n",
    "rub_per_message — стоимость отправки сообщения сверх тарифного пакета\n",
    "rub_per_gb — стоимость дополнительного гигабайта интернет-трафика сверх тарифного пакета (1 гигабайт = 1024 мегабайта)"
   ]
  },
  {
   "cell_type": "markdown",
   "metadata": {},
   "source": [
    "                     Содержание\n",
    "1.  Загрузка библиотек и файлов.\n",
    "2.  Исследование данных на аномалии,пропуски,дубликаты.\n",
    "3.  Предварительная обработка данных.\n",
    "4.  Слияние таблиц.\n",
    "5.  Расчет выручки для двух тарифов.\n",
    "6.  Расчет средней выручки,дисперсии и стандартного отклонения по тарифу ULTRA.\n",
    "7.  Расчет средней выручки,дисперсии и стандартного отклонения по тарифу SMART.\n",
    "8.  Распределение количества звонков по абонентам и тарифам.  \n",
    "9.  Распределение среднего количества звонков по месяцам и по тарифам.\n",
    "9.1   Расчет среднемесячных значений продолжительности звонка,сообщений и трафика\n",
    "10. Таблицы статистики для средних значений длительности звонков,количества сообщений и трафика.\n",
    "10.1  Визуализация статистики для средних значений длительности звонков,количества сообщений и трафика\n",
    "11. Гистограммы длительности звонков,количества сообщений и трафика.\n",
    "12. Гистограммы выручки для двух тарифов.\n",
    "13. Гистограммы и рассчет средней выручки для Москвы и других городов.\n",
    "14. Гипотезы.\n",
    "14.1 Гипотеза о средней выручке пользователей тарифов ULTRA и SMART.\n",
    "14.2.Гипотеза о средней выручке пользователей в Москве и других городах.\n",
    "15.Общий вывод проекта."
   ]
  },
  {
   "cell_type": "markdown",
   "metadata": {},
   "source": [
    "1.  Загрузка библиотек и файлов."
   ]
  },
  {
   "cell_type": "code",
   "execution_count": 1,
   "metadata": {},
   "outputs": [],
   "source": [
    "import pandas as pd\n",
    "import numpy as np\n",
    "import matplotlib.pyplot as plt\n",
    "import seaborn as sns\n",
    "%matplotlib inline\n",
    "from scipy import stats as st\n",
    "from math import factorial\n",
    "\n",
    "import math"
   ]
  },
  {
   "cell_type": "code",
   "execution_count": 2,
   "metadata": {},
   "outputs": [],
   "source": [
    "calls=pd.read_csv('C:/Users/анатолий/Documents/datasets/calls.csv')#            данные о звонках\n",
    "internet=pd.read_csv('C:/Users/анатолий/Documents/datasets/internet.csv')#      данные интернет трафика\n",
    "messages=pd.read_csv('C:/Users/анатолий/Documents/datasets/messages.csv')#      данные о сообщениях\n",
    "tariffs=pd.read_csv('C:/Users/анатолий/Documents/datasets/tariffs.csv')#        данные о тарифах\n",
    "users=pd.read_csv('C:/Users/анатолий/Documents/datasets/users.csv')#            данные об абонентах"
   ]
  },
  {
   "cell_type": "markdown",
   "metadata": {},
   "source": [
    " 2.  Исследование данных на аномалии,пропуски,дубликаты.                    "
   ]
  },
  {
   "cell_type": "code",
   "execution_count": 3,
   "metadata": {},
   "outputs": [
    {
     "name": "stdout",
     "output_type": "stream",
     "text": [
      "<class 'pandas.core.frame.DataFrame'>\n",
      "RangeIndex: 202607 entries, 0 to 202606\n",
      "Data columns (total 4 columns):\n",
      " #   Column     Non-Null Count   Dtype  \n",
      "---  ------     --------------   -----  \n",
      " 0   id         202607 non-null  object \n",
      " 1   call_date  202607 non-null  object \n",
      " 2   duration   202607 non-null  float64\n",
      " 3   user_id    202607 non-null  int64  \n",
      "dtypes: float64(1), int64(1), object(2)\n",
      "memory usage: 6.2+ MB\n"
     ]
    },
    {
     "data": {
      "text/plain": [
       "id           0\n",
       "call_date    0\n",
       "duration     0\n",
       "user_id      0\n",
       "dtype: int64"
      ]
     },
     "execution_count": 3,
     "metadata": {},
     "output_type": "execute_result"
    }
   ],
   "source": [
    "calls.info()\n",
    "calls.isna().sum() # здесь все правильно"
   ]
  },
  {
   "cell_type": "code",
   "execution_count": 4,
   "metadata": {},
   "outputs": [
    {
     "name": "stdout",
     "output_type": "stream",
     "text": [
      "<class 'pandas.core.frame.DataFrame'>\n",
      "RangeIndex: 149396 entries, 0 to 149395\n",
      "Data columns (total 5 columns):\n",
      " #   Column        Non-Null Count   Dtype  \n",
      "---  ------        --------------   -----  \n",
      " 0   Unnamed: 0    149396 non-null  int64  \n",
      " 1   id            149396 non-null  object \n",
      " 2   mb_used       149396 non-null  float64\n",
      " 3   session_date  149396 non-null  object \n",
      " 4   user_id       149396 non-null  int64  \n",
      "dtypes: float64(1), int64(2), object(2)\n",
      "memory usage: 5.7+ MB\n"
     ]
    },
    {
     "data": {
      "text/plain": [
       "Unnamed: 0      0\n",
       "id              0\n",
       "mb_used         0\n",
       "session_date    0\n",
       "user_id         0\n",
       "dtype: int64"
      ]
     },
     "execution_count": 4,
     "metadata": {},
     "output_type": "execute_result"
    }
   ],
   "source": [
    "internet.info()\n",
    "internet.isna().sum()"
   ]
  },
  {
   "cell_type": "code",
   "execution_count": 5,
   "metadata": {},
   "outputs": [
    {
     "name": "stdout",
     "output_type": "stream",
     "text": [
      "<class 'pandas.core.frame.DataFrame'>\n",
      "RangeIndex: 123036 entries, 0 to 123035\n",
      "Data columns (total 3 columns):\n",
      " #   Column        Non-Null Count   Dtype \n",
      "---  ------        --------------   ----- \n",
      " 0   id            123036 non-null  object\n",
      " 1   message_date  123036 non-null  object\n",
      " 2   user_id       123036 non-null  int64 \n",
      "dtypes: int64(1), object(2)\n",
      "memory usage: 2.8+ MB\n"
     ]
    },
    {
     "data": {
      "text/plain": [
       "id              0\n",
       "message_date    0\n",
       "user_id         0\n",
       "dtype: int64"
      ]
     },
     "execution_count": 5,
     "metadata": {},
     "output_type": "execute_result"
    }
   ],
   "source": [
    "messages.info()\n",
    "messages.isna().sum()"
   ]
  },
  {
   "cell_type": "code",
   "execution_count": 6,
   "metadata": {},
   "outputs": [
    {
     "name": "stdout",
     "output_type": "stream",
     "text": [
      "<class 'pandas.core.frame.DataFrame'>\n",
      "RangeIndex: 2 entries, 0 to 1\n",
      "Data columns (total 8 columns):\n",
      " #   Column                 Non-Null Count  Dtype \n",
      "---  ------                 --------------  ----- \n",
      " 0   messages_included      2 non-null      int64 \n",
      " 1   mb_per_month_included  2 non-null      int64 \n",
      " 2   minutes_included       2 non-null      int64 \n",
      " 3   rub_monthly_fee        2 non-null      int64 \n",
      " 4   rub_per_gb             2 non-null      int64 \n",
      " 5   rub_per_message        2 non-null      int64 \n",
      " 6   rub_per_minute         2 non-null      int64 \n",
      " 7   tariff_name            2 non-null      object\n",
      "dtypes: int64(7), object(1)\n",
      "memory usage: 256.0+ bytes\n"
     ]
    }
   ],
   "source": [
    "tariffs.info()\n"
   ]
  },
  {
   "cell_type": "code",
   "execution_count": 7,
   "metadata": {},
   "outputs": [
    {
     "name": "stdout",
     "output_type": "stream",
     "text": [
      "<class 'pandas.core.frame.DataFrame'>\n",
      "RangeIndex: 500 entries, 0 to 499\n",
      "Data columns (total 8 columns):\n",
      " #   Column      Non-Null Count  Dtype \n",
      "---  ------      --------------  ----- \n",
      " 0   user_id     500 non-null    int64 \n",
      " 1   age         500 non-null    int64 \n",
      " 2   churn_date  38 non-null     object\n",
      " 3   city        500 non-null    object\n",
      " 4   first_name  500 non-null    object\n",
      " 5   last_name   500 non-null    object\n",
      " 6   reg_date    500 non-null    object\n",
      " 7   tariff      500 non-null    object\n",
      "dtypes: int64(2), object(6)\n",
      "memory usage: 31.4+ KB\n"
     ]
    },
    {
     "data": {
      "text/plain": [
       "0"
      ]
     },
     "execution_count": 7,
     "metadata": {},
     "output_type": "execute_result"
    }
   ],
   "source": [
    "users.info()\n",
    "users.isna().sum()\n",
    "users.duplicated().sum()"
   ]
  },
  {
   "cell_type": "markdown",
   "metadata": {},
   "source": [
    "После проведения анализа обнаружили,что в датасетах проблемных данных не выявлено."
   ]
  },
  {
   "cell_type": "markdown",
   "metadata": {},
   "source": [
    " 3.  Предварительная обработка данных"
   ]
  },
  {
   "cell_type": "code",
   "execution_count": 8,
   "metadata": {},
   "outputs": [],
   "source": [
    "# приведение  к формату времени и выделение месяца\n",
    "users['churn_date']=pd.to_datetime(users['churn_date'],format='%Y-%m-%d')\n",
    "users['reg_date']=pd.to_datetime(users['reg_date'],format='%Y-%m-%d')\n",
    "users['reg_date_month']=pd.DatetimeIndex(users['reg_date']).month.astype('int')"
   ]
  },
  {
   "cell_type": "code",
   "execution_count": 9,
   "metadata": {},
   "outputs": [
    {
     "data": {
      "text/html": [
       "<div>\n",
       "<style scoped>\n",
       "    .dataframe tbody tr th:only-of-type {\n",
       "        vertical-align: middle;\n",
       "    }\n",
       "\n",
       "    .dataframe tbody tr th {\n",
       "        vertical-align: top;\n",
       "    }\n",
       "\n",
       "    .dataframe thead th {\n",
       "        text-align: right;\n",
       "    }\n",
       "</style>\n",
       "<table border=\"1\" class=\"dataframe\">\n",
       "  <thead>\n",
       "    <tr style=\"text-align: right;\">\n",
       "      <th></th>\n",
       "      <th>user_id</th>\n",
       "      <th>age</th>\n",
       "      <th>churn_date</th>\n",
       "      <th>city</th>\n",
       "      <th>first_name</th>\n",
       "      <th>last_name</th>\n",
       "      <th>reg_date</th>\n",
       "      <th>tariff</th>\n",
       "      <th>reg_date_month</th>\n",
       "    </tr>\n",
       "  </thead>\n",
       "  <tbody>\n",
       "    <tr>\n",
       "      <th>0</th>\n",
       "      <td>1000</td>\n",
       "      <td>52</td>\n",
       "      <td>NaT</td>\n",
       "      <td>Краснодар</td>\n",
       "      <td>Рафаил</td>\n",
       "      <td>Верещагин</td>\n",
       "      <td>2018-05-25</td>\n",
       "      <td>ultra</td>\n",
       "      <td>5</td>\n",
       "    </tr>\n",
       "    <tr>\n",
       "      <th>1</th>\n",
       "      <td>1001</td>\n",
       "      <td>41</td>\n",
       "      <td>NaT</td>\n",
       "      <td>Москва</td>\n",
       "      <td>Иван</td>\n",
       "      <td>Ежов</td>\n",
       "      <td>2018-11-01</td>\n",
       "      <td>smart</td>\n",
       "      <td>11</td>\n",
       "    </tr>\n",
       "    <tr>\n",
       "      <th>2</th>\n",
       "      <td>1002</td>\n",
       "      <td>59</td>\n",
       "      <td>NaT</td>\n",
       "      <td>Стерлитамак</td>\n",
       "      <td>Евгений</td>\n",
       "      <td>Абрамович</td>\n",
       "      <td>2018-06-17</td>\n",
       "      <td>smart</td>\n",
       "      <td>6</td>\n",
       "    </tr>\n",
       "    <tr>\n",
       "      <th>3</th>\n",
       "      <td>1003</td>\n",
       "      <td>23</td>\n",
       "      <td>NaT</td>\n",
       "      <td>Москва</td>\n",
       "      <td>Белла</td>\n",
       "      <td>Белякова</td>\n",
       "      <td>2018-08-17</td>\n",
       "      <td>ultra</td>\n",
       "      <td>8</td>\n",
       "    </tr>\n",
       "    <tr>\n",
       "      <th>4</th>\n",
       "      <td>1004</td>\n",
       "      <td>68</td>\n",
       "      <td>NaT</td>\n",
       "      <td>Новокузнецк</td>\n",
       "      <td>Татьяна</td>\n",
       "      <td>Авдеенко</td>\n",
       "      <td>2018-05-14</td>\n",
       "      <td>ultra</td>\n",
       "      <td>5</td>\n",
       "    </tr>\n",
       "  </tbody>\n",
       "</table>\n",
       "</div>"
      ],
      "text/plain": [
       "   user_id  age churn_date         city first_name  last_name   reg_date  \\\n",
       "0     1000   52        NaT    Краснодар     Рафаил  Верещагин 2018-05-25   \n",
       "1     1001   41        NaT       Москва       Иван       Ежов 2018-11-01   \n",
       "2     1002   59        NaT  Стерлитамак    Евгений  Абрамович 2018-06-17   \n",
       "3     1003   23        NaT       Москва      Белла   Белякова 2018-08-17   \n",
       "4     1004   68        NaT  Новокузнецк    Татьяна   Авдеенко 2018-05-14   \n",
       "\n",
       "  tariff  reg_date_month  \n",
       "0  ultra               5  \n",
       "1  smart              11  \n",
       "2  smart               6  \n",
       "3  ultra               8  \n",
       "4  ultra               5  "
      ]
     },
     "metadata": {},
     "output_type": "display_data"
    }
   ],
   "source": [
    "display(users.head())"
   ]
  },
  {
   "cell_type": "markdown",
   "metadata": {},
   "source": [
    "В таблице с пользователями привели к формату времени необходимые колонки и создали дополнительные колонки времени по месяцам."
   ]
  },
  {
   "cell_type": "code",
   "execution_count": 10,
   "metadata": {},
   "outputs": [],
   "source": [
    "internet['session_date']=pd.to_datetime(internet['session_date'],format='%Y-%m-%d')\n",
    "internet['session_date_month']=pd.DatetimeIndex(internet['session_date']).month\n",
    "internet.rename(columns={'id':'traffic'},inplace=True) #  здесь переименовали столбец "
   ]
  },
  {
   "cell_type": "code",
   "execution_count": 11,
   "metadata": {},
   "outputs": [
    {
     "name": "stdout",
     "output_type": "stream",
     "text": [
      "способ 1: 6.0\n",
      "способ 2: 5.0\n"
     ]
    }
   ],
   "source": [
    "#способ 1: сначала приведём МБ к ГБ и округлим, а потом сложим все ГБ за месяц\n",
    "print('способ 1:', np.ceil(2500/1024)+np.ceil(2500/1024))\n",
    "#способ 2 (из примечания): сложим все мегабайты за месяц, приведем сумму к ГБ и затем округлим\n",
    "print('способ 2:', np.ceil((2500+2500)/1024))"
   ]
  },
  {
   "cell_type": "code",
   "execution_count": 12,
   "metadata": {},
   "outputs": [
    {
     "data": {
      "text/html": [
       "<div>\n",
       "<style scoped>\n",
       "    .dataframe tbody tr th:only-of-type {\n",
       "        vertical-align: middle;\n",
       "    }\n",
       "\n",
       "    .dataframe tbody tr th {\n",
       "        vertical-align: top;\n",
       "    }\n",
       "\n",
       "    .dataframe thead th {\n",
       "        text-align: right;\n",
       "    }\n",
       "</style>\n",
       "<table border=\"1\" class=\"dataframe\">\n",
       "  <thead>\n",
       "    <tr style=\"text-align: right;\">\n",
       "      <th></th>\n",
       "      <th>Unnamed: 0</th>\n",
       "      <th>traffic</th>\n",
       "      <th>mb_used</th>\n",
       "      <th>session_date</th>\n",
       "      <th>user_id</th>\n",
       "      <th>session_date_month</th>\n",
       "    </tr>\n",
       "  </thead>\n",
       "  <tbody>\n",
       "    <tr>\n",
       "      <th>0</th>\n",
       "      <td>0</td>\n",
       "      <td>1000_0</td>\n",
       "      <td>112.95</td>\n",
       "      <td>2018-11-25</td>\n",
       "      <td>1000</td>\n",
       "      <td>11</td>\n",
       "    </tr>\n",
       "    <tr>\n",
       "      <th>1</th>\n",
       "      <td>1</td>\n",
       "      <td>1000_1</td>\n",
       "      <td>1052.81</td>\n",
       "      <td>2018-09-07</td>\n",
       "      <td>1000</td>\n",
       "      <td>9</td>\n",
       "    </tr>\n",
       "    <tr>\n",
       "      <th>2</th>\n",
       "      <td>2</td>\n",
       "      <td>1000_2</td>\n",
       "      <td>1197.26</td>\n",
       "      <td>2018-06-25</td>\n",
       "      <td>1000</td>\n",
       "      <td>6</td>\n",
       "    </tr>\n",
       "    <tr>\n",
       "      <th>3</th>\n",
       "      <td>3</td>\n",
       "      <td>1000_3</td>\n",
       "      <td>550.27</td>\n",
       "      <td>2018-08-22</td>\n",
       "      <td>1000</td>\n",
       "      <td>8</td>\n",
       "    </tr>\n",
       "    <tr>\n",
       "      <th>4</th>\n",
       "      <td>4</td>\n",
       "      <td>1000_4</td>\n",
       "      <td>302.56</td>\n",
       "      <td>2018-09-24</td>\n",
       "      <td>1000</td>\n",
       "      <td>9</td>\n",
       "    </tr>\n",
       "  </tbody>\n",
       "</table>\n",
       "</div>"
      ],
      "text/plain": [
       "   Unnamed: 0 traffic  mb_used session_date  user_id  session_date_month\n",
       "0           0  1000_0   112.95   2018-11-25     1000                  11\n",
       "1           1  1000_1  1052.81   2018-09-07     1000                   9\n",
       "2           2  1000_2  1197.26   2018-06-25     1000                   6\n",
       "3           3  1000_3   550.27   2018-08-22     1000                   8\n",
       "4           4  1000_4   302.56   2018-09-24     1000                   9"
      ]
     },
     "metadata": {},
     "output_type": "display_data"
    }
   ],
   "source": [
    "display(internet.head())"
   ]
  },
  {
   "cell_type": "code",
   "execution_count": 13,
   "metadata": {},
   "outputs": [],
   "source": [
    "calls['call_date']=pd.to_datetime(calls['call_date'],format='%Y-%m-%d')\n",
    "calls['call_date_month']=pd.DatetimeIndex(calls['call_date']).month\n",
    "calls['duration']=(calls['duration']).apply(np.ceil).astype('int')#  округляем время разговора\n",
    "calls.rename(columns={'id':'calls'},inplace=True)#  здесь переименовали столбец\n"
   ]
  },
  {
   "cell_type": "code",
   "execution_count": 14,
   "metadata": {},
   "outputs": [
    {
     "data": {
      "text/html": [
       "<div>\n",
       "<style scoped>\n",
       "    .dataframe tbody tr th:only-of-type {\n",
       "        vertical-align: middle;\n",
       "    }\n",
       "\n",
       "    .dataframe tbody tr th {\n",
       "        vertical-align: top;\n",
       "    }\n",
       "\n",
       "    .dataframe thead th {\n",
       "        text-align: right;\n",
       "    }\n",
       "</style>\n",
       "<table border=\"1\" class=\"dataframe\">\n",
       "  <thead>\n",
       "    <tr style=\"text-align: right;\">\n",
       "      <th></th>\n",
       "      <th>calls</th>\n",
       "      <th>call_date</th>\n",
       "      <th>duration</th>\n",
       "      <th>user_id</th>\n",
       "      <th>call_date_month</th>\n",
       "    </tr>\n",
       "  </thead>\n",
       "  <tbody>\n",
       "    <tr>\n",
       "      <th>0</th>\n",
       "      <td>1000_0</td>\n",
       "      <td>2018-07-25</td>\n",
       "      <td>0</td>\n",
       "      <td>1000</td>\n",
       "      <td>7</td>\n",
       "    </tr>\n",
       "    <tr>\n",
       "      <th>1</th>\n",
       "      <td>1000_1</td>\n",
       "      <td>2018-08-17</td>\n",
       "      <td>0</td>\n",
       "      <td>1000</td>\n",
       "      <td>8</td>\n",
       "    </tr>\n",
       "    <tr>\n",
       "      <th>2</th>\n",
       "      <td>1000_2</td>\n",
       "      <td>2018-06-11</td>\n",
       "      <td>3</td>\n",
       "      <td>1000</td>\n",
       "      <td>6</td>\n",
       "    </tr>\n",
       "    <tr>\n",
       "      <th>3</th>\n",
       "      <td>1000_3</td>\n",
       "      <td>2018-09-21</td>\n",
       "      <td>14</td>\n",
       "      <td>1000</td>\n",
       "      <td>9</td>\n",
       "    </tr>\n",
       "    <tr>\n",
       "      <th>4</th>\n",
       "      <td>1000_4</td>\n",
       "      <td>2018-12-15</td>\n",
       "      <td>6</td>\n",
       "      <td>1000</td>\n",
       "      <td>12</td>\n",
       "    </tr>\n",
       "  </tbody>\n",
       "</table>\n",
       "</div>"
      ],
      "text/plain": [
       "    calls  call_date  duration  user_id  call_date_month\n",
       "0  1000_0 2018-07-25         0     1000                7\n",
       "1  1000_1 2018-08-17         0     1000                8\n",
       "2  1000_2 2018-06-11         3     1000                6\n",
       "3  1000_3 2018-09-21        14     1000                9\n",
       "4  1000_4 2018-12-15         6     1000               12"
      ]
     },
     "metadata": {},
     "output_type": "display_data"
    },
    {
     "data": {
      "text/plain": [
       "(202607, 5)"
      ]
     },
     "execution_count": 14,
     "metadata": {},
     "output_type": "execute_result"
    }
   ],
   "source": [
    "display(calls.head())\n",
    "calls.shape"
   ]
  },
  {
   "cell_type": "markdown",
   "metadata": {},
   "source": [
    "В таблице с информацией о звонках сделали колонку по месяцам и округлили время разговора до полных минут в большую сторону."
   ]
  },
  {
   "cell_type": "code",
   "execution_count": 15,
   "metadata": {},
   "outputs": [],
   "source": [
    "messages['message_date']=pd.to_datetime(messages['message_date'],format='%Y-%m-%d')\n",
    "messages['message_date_month']=pd.DatetimeIndex(messages['message_date']).month\n",
    "messages.rename(columns={'id':'messages'},inplace=True)"
   ]
  },
  {
   "cell_type": "code",
   "execution_count": 16,
   "metadata": {},
   "outputs": [
    {
     "data": {
      "text/html": [
       "<div>\n",
       "<style scoped>\n",
       "    .dataframe tbody tr th:only-of-type {\n",
       "        vertical-align: middle;\n",
       "    }\n",
       "\n",
       "    .dataframe tbody tr th {\n",
       "        vertical-align: top;\n",
       "    }\n",
       "\n",
       "    .dataframe thead th {\n",
       "        text-align: right;\n",
       "    }\n",
       "</style>\n",
       "<table border=\"1\" class=\"dataframe\">\n",
       "  <thead>\n",
       "    <tr style=\"text-align: right;\">\n",
       "      <th></th>\n",
       "      <th>messages</th>\n",
       "      <th>message_date</th>\n",
       "      <th>user_id</th>\n",
       "      <th>message_date_month</th>\n",
       "    </tr>\n",
       "  </thead>\n",
       "  <tbody>\n",
       "    <tr>\n",
       "      <th>0</th>\n",
       "      <td>1000_0</td>\n",
       "      <td>2018-06-27</td>\n",
       "      <td>1000</td>\n",
       "      <td>6</td>\n",
       "    </tr>\n",
       "    <tr>\n",
       "      <th>1</th>\n",
       "      <td>1000_1</td>\n",
       "      <td>2018-10-08</td>\n",
       "      <td>1000</td>\n",
       "      <td>10</td>\n",
       "    </tr>\n",
       "    <tr>\n",
       "      <th>2</th>\n",
       "      <td>1000_2</td>\n",
       "      <td>2018-08-04</td>\n",
       "      <td>1000</td>\n",
       "      <td>8</td>\n",
       "    </tr>\n",
       "    <tr>\n",
       "      <th>3</th>\n",
       "      <td>1000_3</td>\n",
       "      <td>2018-06-16</td>\n",
       "      <td>1000</td>\n",
       "      <td>6</td>\n",
       "    </tr>\n",
       "    <tr>\n",
       "      <th>4</th>\n",
       "      <td>1000_4</td>\n",
       "      <td>2018-12-05</td>\n",
       "      <td>1000</td>\n",
       "      <td>12</td>\n",
       "    </tr>\n",
       "    <tr>\n",
       "      <th>...</th>\n",
       "      <td>...</td>\n",
       "      <td>...</td>\n",
       "      <td>...</td>\n",
       "      <td>...</td>\n",
       "    </tr>\n",
       "    <tr>\n",
       "      <th>123031</th>\n",
       "      <td>1499_179</td>\n",
       "      <td>2018-12-12</td>\n",
       "      <td>1499</td>\n",
       "      <td>12</td>\n",
       "    </tr>\n",
       "    <tr>\n",
       "      <th>123032</th>\n",
       "      <td>1499_180</td>\n",
       "      <td>2018-09-28</td>\n",
       "      <td>1499</td>\n",
       "      <td>9</td>\n",
       "    </tr>\n",
       "    <tr>\n",
       "      <th>123033</th>\n",
       "      <td>1499_181</td>\n",
       "      <td>2018-09-27</td>\n",
       "      <td>1499</td>\n",
       "      <td>9</td>\n",
       "    </tr>\n",
       "    <tr>\n",
       "      <th>123034</th>\n",
       "      <td>1499_182</td>\n",
       "      <td>2018-11-15</td>\n",
       "      <td>1499</td>\n",
       "      <td>11</td>\n",
       "    </tr>\n",
       "    <tr>\n",
       "      <th>123035</th>\n",
       "      <td>1499_183</td>\n",
       "      <td>2018-11-16</td>\n",
       "      <td>1499</td>\n",
       "      <td>11</td>\n",
       "    </tr>\n",
       "  </tbody>\n",
       "</table>\n",
       "<p>123036 rows × 4 columns</p>\n",
       "</div>"
      ],
      "text/plain": [
       "        messages message_date  user_id  message_date_month\n",
       "0         1000_0   2018-06-27     1000                   6\n",
       "1         1000_1   2018-10-08     1000                  10\n",
       "2         1000_2   2018-08-04     1000                   8\n",
       "3         1000_3   2018-06-16     1000                   6\n",
       "4         1000_4   2018-12-05     1000                  12\n",
       "...          ...          ...      ...                 ...\n",
       "123031  1499_179   2018-12-12     1499                  12\n",
       "123032  1499_180   2018-09-28     1499                   9\n",
       "123033  1499_181   2018-09-27     1499                   9\n",
       "123034  1499_182   2018-11-15     1499                  11\n",
       "123035  1499_183   2018-11-16     1499                  11\n",
       "\n",
       "[123036 rows x 4 columns]"
      ]
     },
     "metadata": {},
     "output_type": "display_data"
    }
   ],
   "source": [
    "display(messages)\n"
   ]
  },
  {
   "cell_type": "code",
   "execution_count": 17,
   "metadata": {},
   "outputs": [
    {
     "data": {
      "text/html": [
       "<div>\n",
       "<style scoped>\n",
       "    .dataframe tbody tr th:only-of-type {\n",
       "        vertical-align: middle;\n",
       "    }\n",
       "\n",
       "    .dataframe tbody tr th {\n",
       "        vertical-align: top;\n",
       "    }\n",
       "\n",
       "    .dataframe thead th {\n",
       "        text-align: right;\n",
       "    }\n",
       "</style>\n",
       "<table border=\"1\" class=\"dataframe\">\n",
       "  <thead>\n",
       "    <tr style=\"text-align: right;\">\n",
       "      <th></th>\n",
       "      <th>messages_included</th>\n",
       "      <th>mb_per_month_included</th>\n",
       "      <th>minutes_included</th>\n",
       "      <th>rub_monthly_fee</th>\n",
       "      <th>rub_per_gb</th>\n",
       "      <th>rub_per_message</th>\n",
       "      <th>rub_per_minute</th>\n",
       "      <th>tariff_name</th>\n",
       "    </tr>\n",
       "  </thead>\n",
       "  <tbody>\n",
       "    <tr>\n",
       "      <th>0</th>\n",
       "      <td>50</td>\n",
       "      <td>15360</td>\n",
       "      <td>500</td>\n",
       "      <td>550</td>\n",
       "      <td>200</td>\n",
       "      <td>3</td>\n",
       "      <td>3</td>\n",
       "      <td>smart</td>\n",
       "    </tr>\n",
       "    <tr>\n",
       "      <th>1</th>\n",
       "      <td>1000</td>\n",
       "      <td>30720</td>\n",
       "      <td>3000</td>\n",
       "      <td>1950</td>\n",
       "      <td>150</td>\n",
       "      <td>1</td>\n",
       "      <td>1</td>\n",
       "      <td>ultra</td>\n",
       "    </tr>\n",
       "  </tbody>\n",
       "</table>\n",
       "</div>"
      ],
      "text/plain": [
       "   messages_included  mb_per_month_included  minutes_included  \\\n",
       "0                 50                  15360               500   \n",
       "1               1000                  30720              3000   \n",
       "\n",
       "   rub_monthly_fee  rub_per_gb  rub_per_message  rub_per_minute tariff_name  \n",
       "0              550         200                3               3       smart  \n",
       "1             1950         150                1               1       ultra  "
      ]
     },
     "metadata": {},
     "output_type": "display_data"
    }
   ],
   "source": [
    "display(tariffs.head())"
   ]
  },
  {
   "cell_type": "markdown",
   "metadata": {},
   "source": [
    "  4.  Слияние таблиц."
   ]
  },
  {
   "cell_type": "code",
   "execution_count": 18,
   "metadata": {},
   "outputs": [
    {
     "data": {
      "text/html": [
       "<div>\n",
       "<style scoped>\n",
       "    .dataframe tbody tr th:only-of-type {\n",
       "        vertical-align: middle;\n",
       "    }\n",
       "\n",
       "    .dataframe tbody tr th {\n",
       "        vertical-align: top;\n",
       "    }\n",
       "\n",
       "    .dataframe thead th {\n",
       "        text-align: right;\n",
       "    }\n",
       "</style>\n",
       "<table border=\"1\" class=\"dataframe\">\n",
       "  <thead>\n",
       "    <tr style=\"text-align: right;\">\n",
       "      <th></th>\n",
       "      <th></th>\n",
       "      <th>calls</th>\n",
       "    </tr>\n",
       "    <tr>\n",
       "      <th>user_id</th>\n",
       "      <th>month</th>\n",
       "      <th></th>\n",
       "    </tr>\n",
       "  </thead>\n",
       "  <tbody>\n",
       "    <tr>\n",
       "      <th rowspan=\"5\" valign=\"top\">1000</th>\n",
       "      <th>5.0</th>\n",
       "      <td>22.0</td>\n",
       "    </tr>\n",
       "    <tr>\n",
       "      <th>6.0</th>\n",
       "      <td>43.0</td>\n",
       "    </tr>\n",
       "    <tr>\n",
       "      <th>7.0</th>\n",
       "      <td>47.0</td>\n",
       "    </tr>\n",
       "    <tr>\n",
       "      <th>8.0</th>\n",
       "      <td>52.0</td>\n",
       "    </tr>\n",
       "    <tr>\n",
       "      <th>9.0</th>\n",
       "      <td>58.0</td>\n",
       "    </tr>\n",
       "    <tr>\n",
       "      <th>...</th>\n",
       "      <th>...</th>\n",
       "      <td>...</td>\n",
       "    </tr>\n",
       "    <tr>\n",
       "      <th>1498</th>\n",
       "      <th>10.0</th>\n",
       "      <td>41.0</td>\n",
       "    </tr>\n",
       "    <tr>\n",
       "      <th rowspan=\"4\" valign=\"top\">1499</th>\n",
       "      <th>9.0</th>\n",
       "      <td>9.0</td>\n",
       "    </tr>\n",
       "    <tr>\n",
       "      <th>10.0</th>\n",
       "      <td>68.0</td>\n",
       "    </tr>\n",
       "    <tr>\n",
       "      <th>11.0</th>\n",
       "      <td>74.0</td>\n",
       "    </tr>\n",
       "    <tr>\n",
       "      <th>12.0</th>\n",
       "      <td>69.0</td>\n",
       "    </tr>\n",
       "  </tbody>\n",
       "</table>\n",
       "<p>3174 rows × 1 columns</p>\n",
       "</div>"
      ],
      "text/plain": [
       "               calls\n",
       "user_id month       \n",
       "1000    5.0     22.0\n",
       "        6.0     43.0\n",
       "        7.0     47.0\n",
       "        8.0     52.0\n",
       "        9.0     58.0\n",
       "...              ...\n",
       "1498    10.0    41.0\n",
       "1499    9.0      9.0\n",
       "        10.0    68.0\n",
       "        11.0    74.0\n",
       "        12.0    69.0\n",
       "\n",
       "[3174 rows x 1 columns]"
      ]
     },
     "metadata": {},
     "output_type": "display_data"
    }
   ],
   "source": [
    "# количество звонков абонента по месяцам\n",
    "data_id = pd.merge(users,calls,how='outer',on='user_id').pivot_table(index='user_id',values=['calls'],\\\n",
    "                                        columns=['call_date_month'],aggfunc='count')\n",
    "data_id = pd.DataFrame(data_id.stack())# вытягиваем в линейку и уходят NaN\n",
    "data_id.index.names = ('user_id','month')#замена названий столбцов\n",
    "display(data_id)"
   ]
  },
  {
   "cell_type": "code",
   "execution_count": 19,
   "metadata": {},
   "outputs": [
    {
     "data": {
      "text/html": [
       "<div>\n",
       "<style scoped>\n",
       "    .dataframe tbody tr th:only-of-type {\n",
       "        vertical-align: middle;\n",
       "    }\n",
       "\n",
       "    .dataframe tbody tr th {\n",
       "        vertical-align: top;\n",
       "    }\n",
       "\n",
       "    .dataframe thead th {\n",
       "        text-align: right;\n",
       "    }\n",
       "</style>\n",
       "<table border=\"1\" class=\"dataframe\">\n",
       "  <thead>\n",
       "    <tr style=\"text-align: right;\">\n",
       "      <th></th>\n",
       "      <th></th>\n",
       "      <th>duration</th>\n",
       "    </tr>\n",
       "    <tr>\n",
       "      <th>user_id</th>\n",
       "      <th>month</th>\n",
       "      <th></th>\n",
       "    </tr>\n",
       "  </thead>\n",
       "  <tbody>\n",
       "    <tr>\n",
       "      <th rowspan=\"5\" valign=\"top\">1000</th>\n",
       "      <th>5.0</th>\n",
       "      <td>159.0</td>\n",
       "    </tr>\n",
       "    <tr>\n",
       "      <th>6.0</th>\n",
       "      <td>172.0</td>\n",
       "    </tr>\n",
       "    <tr>\n",
       "      <th>7.0</th>\n",
       "      <td>340.0</td>\n",
       "    </tr>\n",
       "    <tr>\n",
       "      <th>8.0</th>\n",
       "      <td>408.0</td>\n",
       "    </tr>\n",
       "    <tr>\n",
       "      <th>9.0</th>\n",
       "      <td>466.0</td>\n",
       "    </tr>\n",
       "    <tr>\n",
       "      <th>...</th>\n",
       "      <th>...</th>\n",
       "      <td>...</td>\n",
       "    </tr>\n",
       "    <tr>\n",
       "      <th>1498</th>\n",
       "      <th>10.0</th>\n",
       "      <td>247.0</td>\n",
       "    </tr>\n",
       "    <tr>\n",
       "      <th rowspan=\"4\" valign=\"top\">1499</th>\n",
       "      <th>9.0</th>\n",
       "      <td>70.0</td>\n",
       "    </tr>\n",
       "    <tr>\n",
       "      <th>10.0</th>\n",
       "      <td>449.0</td>\n",
       "    </tr>\n",
       "    <tr>\n",
       "      <th>11.0</th>\n",
       "      <td>612.0</td>\n",
       "    </tr>\n",
       "    <tr>\n",
       "      <th>12.0</th>\n",
       "      <td>492.0</td>\n",
       "    </tr>\n",
       "  </tbody>\n",
       "</table>\n",
       "<p>3174 rows × 1 columns</p>\n",
       "</div>"
      ],
      "text/plain": [
       "               duration\n",
       "user_id month          \n",
       "1000    5.0       159.0\n",
       "        6.0       172.0\n",
       "        7.0       340.0\n",
       "        8.0       408.0\n",
       "        9.0       466.0\n",
       "...                 ...\n",
       "1498    10.0      247.0\n",
       "1499    9.0        70.0\n",
       "        10.0      449.0\n",
       "        11.0      612.0\n",
       "        12.0      492.0\n",
       "\n",
       "[3174 rows x 1 columns]"
      ]
     },
     "metadata": {},
     "output_type": "display_data"
    }
   ],
   "source": [
    "#количество минут разговора по месяцам\n",
    "data_calls=pd.merge(users,calls,how='outer',on='user_id').pivot_table(index='user_id',values=['duration'],\\\n",
    "                                        columns='call_date_month',aggfunc='sum')\n",
    "\n",
    "data_calls = pd.DataFrame(data_calls.stack())# вытягиваем в линейку и уходят NaN\n",
    "data_calls.index.names = ('user_id','month')\n",
    "display(data_calls)"
   ]
  },
  {
   "cell_type": "code",
   "execution_count": 20,
   "metadata": {},
   "outputs": [
    {
     "data": {
      "text/html": [
       "<div>\n",
       "<style scoped>\n",
       "    .dataframe tbody tr th:only-of-type {\n",
       "        vertical-align: middle;\n",
       "    }\n",
       "\n",
       "    .dataframe tbody tr th {\n",
       "        vertical-align: top;\n",
       "    }\n",
       "\n",
       "    .dataframe thead th {\n",
       "        text-align: right;\n",
       "    }\n",
       "</style>\n",
       "<table border=\"1\" class=\"dataframe\">\n",
       "  <thead>\n",
       "    <tr style=\"text-align: right;\">\n",
       "      <th></th>\n",
       "      <th></th>\n",
       "      <th>messages</th>\n",
       "    </tr>\n",
       "    <tr>\n",
       "      <th>user_id</th>\n",
       "      <th>month</th>\n",
       "      <th></th>\n",
       "    </tr>\n",
       "  </thead>\n",
       "  <tbody>\n",
       "    <tr>\n",
       "      <th rowspan=\"5\" valign=\"top\">1000</th>\n",
       "      <th>5.0</th>\n",
       "      <td>22.0</td>\n",
       "    </tr>\n",
       "    <tr>\n",
       "      <th>6.0</th>\n",
       "      <td>60.0</td>\n",
       "    </tr>\n",
       "    <tr>\n",
       "      <th>7.0</th>\n",
       "      <td>75.0</td>\n",
       "    </tr>\n",
       "    <tr>\n",
       "      <th>8.0</th>\n",
       "      <td>81.0</td>\n",
       "    </tr>\n",
       "    <tr>\n",
       "      <th>9.0</th>\n",
       "      <td>57.0</td>\n",
       "    </tr>\n",
       "    <tr>\n",
       "      <th>...</th>\n",
       "      <th>...</th>\n",
       "      <td>...</td>\n",
       "    </tr>\n",
       "    <tr>\n",
       "      <th>1498</th>\n",
       "      <th>10.0</th>\n",
       "      <td>42.0</td>\n",
       "    </tr>\n",
       "    <tr>\n",
       "      <th rowspan=\"4\" valign=\"top\">1499</th>\n",
       "      <th>9.0</th>\n",
       "      <td>11.0</td>\n",
       "    </tr>\n",
       "    <tr>\n",
       "      <th>10.0</th>\n",
       "      <td>48.0</td>\n",
       "    </tr>\n",
       "    <tr>\n",
       "      <th>11.0</th>\n",
       "      <td>59.0</td>\n",
       "    </tr>\n",
       "    <tr>\n",
       "      <th>12.0</th>\n",
       "      <td>66.0</td>\n",
       "    </tr>\n",
       "  </tbody>\n",
       "</table>\n",
       "<p>2717 rows × 1 columns</p>\n",
       "</div>"
      ],
      "text/plain": [
       "               messages\n",
       "user_id month          \n",
       "1000    5.0        22.0\n",
       "        6.0        60.0\n",
       "        7.0        75.0\n",
       "        8.0        81.0\n",
       "        9.0        57.0\n",
       "...                 ...\n",
       "1498    10.0       42.0\n",
       "1499    9.0        11.0\n",
       "        10.0       48.0\n",
       "        11.0       59.0\n",
       "        12.0       66.0\n",
       "\n",
       "[2717 rows x 1 columns]"
      ]
     },
     "metadata": {},
     "output_type": "display_data"
    }
   ],
   "source": [
    "#количество отправленных сообщение по месяцам\n",
    "data_messages=pd.merge(users,messages,how='outer',on='user_id').pivot_table(index='user_id',values=['messages'],\\\n",
    "                                        columns='message_date_month',aggfunc='count')\n",
    "data_messages = pd.DataFrame(data_messages.stack())# вытягиваем в линейку и уходят NaN\n",
    "data_messages.index.names = ('user_id','month')#замена названий столбцов\n",
    "display(data_messages)"
   ]
  },
  {
   "cell_type": "code",
   "execution_count": 21,
   "metadata": {},
   "outputs": [
    {
     "data": {
      "text/html": [
       "<div>\n",
       "<style scoped>\n",
       "    .dataframe tbody tr th:only-of-type {\n",
       "        vertical-align: middle;\n",
       "    }\n",
       "\n",
       "    .dataframe tbody tr th {\n",
       "        vertical-align: top;\n",
       "    }\n",
       "\n",
       "    .dataframe thead th {\n",
       "        text-align: right;\n",
       "    }\n",
       "</style>\n",
       "<table border=\"1\" class=\"dataframe\">\n",
       "  <thead>\n",
       "    <tr style=\"text-align: right;\">\n",
       "      <th></th>\n",
       "      <th></th>\n",
       "      <th>mb_used</th>\n",
       "    </tr>\n",
       "    <tr>\n",
       "      <th>user_id</th>\n",
       "      <th>month</th>\n",
       "      <th></th>\n",
       "    </tr>\n",
       "  </thead>\n",
       "  <tbody>\n",
       "    <tr>\n",
       "      <th rowspan=\"5\" valign=\"top\">1000</th>\n",
       "      <th>5.0</th>\n",
       "      <td>3</td>\n",
       "    </tr>\n",
       "    <tr>\n",
       "      <th>6.0</th>\n",
       "      <td>23</td>\n",
       "    </tr>\n",
       "    <tr>\n",
       "      <th>7.0</th>\n",
       "      <td>14</td>\n",
       "    </tr>\n",
       "    <tr>\n",
       "      <th>8.0</th>\n",
       "      <td>14</td>\n",
       "    </tr>\n",
       "    <tr>\n",
       "      <th>9.0</th>\n",
       "      <td>15</td>\n",
       "    </tr>\n",
       "    <tr>\n",
       "      <th>...</th>\n",
       "      <th>...</th>\n",
       "      <td>...</td>\n",
       "    </tr>\n",
       "    <tr>\n",
       "      <th>1498</th>\n",
       "      <th>10.0</th>\n",
       "      <td>21</td>\n",
       "    </tr>\n",
       "    <tr>\n",
       "      <th rowspan=\"4\" valign=\"top\">1499</th>\n",
       "      <th>9.0</th>\n",
       "      <td>2</td>\n",
       "    </tr>\n",
       "    <tr>\n",
       "      <th>10.0</th>\n",
       "      <td>18</td>\n",
       "    </tr>\n",
       "    <tr>\n",
       "      <th>11.0</th>\n",
       "      <td>18</td>\n",
       "    </tr>\n",
       "    <tr>\n",
       "      <th>12.0</th>\n",
       "      <td>13</td>\n",
       "    </tr>\n",
       "  </tbody>\n",
       "</table>\n",
       "<p>3203 rows × 1 columns</p>\n",
       "</div>"
      ],
      "text/plain": [
       "               mb_used\n",
       "user_id month         \n",
       "1000    5.0          3\n",
       "        6.0         23\n",
       "        7.0         14\n",
       "        8.0         14\n",
       "        9.0         15\n",
       "...                ...\n",
       "1498    10.0        21\n",
       "1499    9.0          2\n",
       "        10.0        18\n",
       "        11.0        18\n",
       "        12.0        13\n",
       "\n",
       "[3203 rows x 1 columns]"
      ]
     },
     "metadata": {},
     "output_type": "display_data"
    }
   ],
   "source": [
    "#объем израсходованного трафика по месяцам с округлением до Гб.\n",
    "data_internet=pd.merge(users,internet,how='outer',on='user_id').pivot_table(index='user_id',values=['mb_used'],\\\n",
    "                                        columns='session_date_month',aggfunc='sum')\n",
    "\n",
    "data_internet = pd.DataFrame(data_internet.stack())# вытягиваем в линейку и уходят NaN\n",
    "data_internet.index.names = ('user_id', 'month')\n",
    "data_internet['mb_used']=(data_internet['mb_used']/1024).apply(np.ceil).astype('int')# округляем трафик суммарно по месяцам\n",
    "display(data_internet)"
   ]
  },
  {
   "cell_type": "code",
   "execution_count": 22,
   "metadata": {},
   "outputs": [
    {
     "data": {
      "text/html": [
       "<div>\n",
       "<style scoped>\n",
       "    .dataframe tbody tr th:only-of-type {\n",
       "        vertical-align: middle;\n",
       "    }\n",
       "\n",
       "    .dataframe tbody tr th {\n",
       "        vertical-align: top;\n",
       "    }\n",
       "\n",
       "    .dataframe thead th {\n",
       "        text-align: right;\n",
       "    }\n",
       "</style>\n",
       "<table border=\"1\" class=\"dataframe\">\n",
       "  <thead>\n",
       "    <tr style=\"text-align: right;\">\n",
       "      <th></th>\n",
       "      <th>user_id</th>\n",
       "      <th>month</th>\n",
       "      <th>duration</th>\n",
       "      <th>calls</th>\n",
       "      <th>mb_used</th>\n",
       "      <th>messages</th>\n",
       "      <th>city</th>\n",
       "      <th>tariff</th>\n",
       "      <th>messages_included</th>\n",
       "      <th>mb_per_month_included</th>\n",
       "      <th>minutes_included</th>\n",
       "      <th>rub_monthly_fee</th>\n",
       "      <th>rub_per_gb</th>\n",
       "      <th>rub_per_message</th>\n",
       "      <th>rub_per_minute</th>\n",
       "    </tr>\n",
       "  </thead>\n",
       "  <tbody>\n",
       "    <tr>\n",
       "      <th>0</th>\n",
       "      <td>1000</td>\n",
       "      <td>5.0</td>\n",
       "      <td>159.0</td>\n",
       "      <td>22.0</td>\n",
       "      <td>3.0</td>\n",
       "      <td>22.0</td>\n",
       "      <td>Краснодар</td>\n",
       "      <td>ultra</td>\n",
       "      <td>1000</td>\n",
       "      <td>30720</td>\n",
       "      <td>3000</td>\n",
       "      <td>1950</td>\n",
       "      <td>150</td>\n",
       "      <td>1</td>\n",
       "      <td>1</td>\n",
       "    </tr>\n",
       "    <tr>\n",
       "      <th>1</th>\n",
       "      <td>1000</td>\n",
       "      <td>6.0</td>\n",
       "      <td>172.0</td>\n",
       "      <td>43.0</td>\n",
       "      <td>23.0</td>\n",
       "      <td>60.0</td>\n",
       "      <td>Краснодар</td>\n",
       "      <td>ultra</td>\n",
       "      <td>1000</td>\n",
       "      <td>30720</td>\n",
       "      <td>3000</td>\n",
       "      <td>1950</td>\n",
       "      <td>150</td>\n",
       "      <td>1</td>\n",
       "      <td>1</td>\n",
       "    </tr>\n",
       "    <tr>\n",
       "      <th>2</th>\n",
       "      <td>1000</td>\n",
       "      <td>7.0</td>\n",
       "      <td>340.0</td>\n",
       "      <td>47.0</td>\n",
       "      <td>14.0</td>\n",
       "      <td>75.0</td>\n",
       "      <td>Краснодар</td>\n",
       "      <td>ultra</td>\n",
       "      <td>1000</td>\n",
       "      <td>30720</td>\n",
       "      <td>3000</td>\n",
       "      <td>1950</td>\n",
       "      <td>150</td>\n",
       "      <td>1</td>\n",
       "      <td>1</td>\n",
       "    </tr>\n",
       "    <tr>\n",
       "      <th>3</th>\n",
       "      <td>1000</td>\n",
       "      <td>8.0</td>\n",
       "      <td>408.0</td>\n",
       "      <td>52.0</td>\n",
       "      <td>14.0</td>\n",
       "      <td>81.0</td>\n",
       "      <td>Краснодар</td>\n",
       "      <td>ultra</td>\n",
       "      <td>1000</td>\n",
       "      <td>30720</td>\n",
       "      <td>3000</td>\n",
       "      <td>1950</td>\n",
       "      <td>150</td>\n",
       "      <td>1</td>\n",
       "      <td>1</td>\n",
       "    </tr>\n",
       "    <tr>\n",
       "      <th>4</th>\n",
       "      <td>1000</td>\n",
       "      <td>9.0</td>\n",
       "      <td>466.0</td>\n",
       "      <td>58.0</td>\n",
       "      <td>15.0</td>\n",
       "      <td>57.0</td>\n",
       "      <td>Краснодар</td>\n",
       "      <td>ultra</td>\n",
       "      <td>1000</td>\n",
       "      <td>30720</td>\n",
       "      <td>3000</td>\n",
       "      <td>1950</td>\n",
       "      <td>150</td>\n",
       "      <td>1</td>\n",
       "      <td>1</td>\n",
       "    </tr>\n",
       "    <tr>\n",
       "      <th>5</th>\n",
       "      <td>1000</td>\n",
       "      <td>10.0</td>\n",
       "      <td>350.0</td>\n",
       "      <td>57.0</td>\n",
       "      <td>15.0</td>\n",
       "      <td>73.0</td>\n",
       "      <td>Краснодар</td>\n",
       "      <td>ultra</td>\n",
       "      <td>1000</td>\n",
       "      <td>30720</td>\n",
       "      <td>3000</td>\n",
       "      <td>1950</td>\n",
       "      <td>150</td>\n",
       "      <td>1</td>\n",
       "      <td>1</td>\n",
       "    </tr>\n",
       "    <tr>\n",
       "      <th>6</th>\n",
       "      <td>1000</td>\n",
       "      <td>11.0</td>\n",
       "      <td>338.0</td>\n",
       "      <td>43.0</td>\n",
       "      <td>15.0</td>\n",
       "      <td>58.0</td>\n",
       "      <td>Краснодар</td>\n",
       "      <td>ultra</td>\n",
       "      <td>1000</td>\n",
       "      <td>30720</td>\n",
       "      <td>3000</td>\n",
       "      <td>1950</td>\n",
       "      <td>150</td>\n",
       "      <td>1</td>\n",
       "      <td>1</td>\n",
       "    </tr>\n",
       "    <tr>\n",
       "      <th>7</th>\n",
       "      <td>1000</td>\n",
       "      <td>12.0</td>\n",
       "      <td>333.0</td>\n",
       "      <td>46.0</td>\n",
       "      <td>10.0</td>\n",
       "      <td>70.0</td>\n",
       "      <td>Краснодар</td>\n",
       "      <td>ultra</td>\n",
       "      <td>1000</td>\n",
       "      <td>30720</td>\n",
       "      <td>3000</td>\n",
       "      <td>1950</td>\n",
       "      <td>150</td>\n",
       "      <td>1</td>\n",
       "      <td>1</td>\n",
       "    </tr>\n",
       "    <tr>\n",
       "      <th>8</th>\n",
       "      <td>1001</td>\n",
       "      <td>11.0</td>\n",
       "      <td>430.0</td>\n",
       "      <td>59.0</td>\n",
       "      <td>18.0</td>\n",
       "      <td>0.0</td>\n",
       "      <td>Москва</td>\n",
       "      <td>smart</td>\n",
       "      <td>50</td>\n",
       "      <td>15360</td>\n",
       "      <td>500</td>\n",
       "      <td>550</td>\n",
       "      <td>200</td>\n",
       "      <td>3</td>\n",
       "      <td>3</td>\n",
       "    </tr>\n",
       "  </tbody>\n",
       "</table>\n",
       "</div>"
      ],
      "text/plain": [
       "   user_id  month  duration  calls  mb_used  messages       city tariff  \\\n",
       "0     1000    5.0     159.0   22.0      3.0      22.0  Краснодар  ultra   \n",
       "1     1000    6.0     172.0   43.0     23.0      60.0  Краснодар  ultra   \n",
       "2     1000    7.0     340.0   47.0     14.0      75.0  Краснодар  ultra   \n",
       "3     1000    8.0     408.0   52.0     14.0      81.0  Краснодар  ultra   \n",
       "4     1000    9.0     466.0   58.0     15.0      57.0  Краснодар  ultra   \n",
       "5     1000   10.0     350.0   57.0     15.0      73.0  Краснодар  ultra   \n",
       "6     1000   11.0     338.0   43.0     15.0      58.0  Краснодар  ultra   \n",
       "7     1000   12.0     333.0   46.0     10.0      70.0  Краснодар  ultra   \n",
       "8     1001   11.0     430.0   59.0     18.0       0.0     Москва  smart   \n",
       "\n",
       "   messages_included  mb_per_month_included  minutes_included  \\\n",
       "0               1000                  30720              3000   \n",
       "1               1000                  30720              3000   \n",
       "2               1000                  30720              3000   \n",
       "3               1000                  30720              3000   \n",
       "4               1000                  30720              3000   \n",
       "5               1000                  30720              3000   \n",
       "6               1000                  30720              3000   \n",
       "7               1000                  30720              3000   \n",
       "8                 50                  15360               500   \n",
       "\n",
       "   rub_monthly_fee  rub_per_gb  rub_per_message  rub_per_minute  \n",
       "0             1950         150                1               1  \n",
       "1             1950         150                1               1  \n",
       "2             1950         150                1               1  \n",
       "3             1950         150                1               1  \n",
       "4             1950         150                1               1  \n",
       "5             1950         150                1               1  \n",
       "6             1950         150                1               1  \n",
       "7             1950         150                1               1  \n",
       "8              550         200                3               3  "
      ]
     },
     "metadata": {},
     "output_type": "display_data"
    },
    {
     "name": "stdout",
     "output_type": "stream",
     "text": [
      "<class 'pandas.core.frame.DataFrame'>\n",
      "Int64Index: 3216 entries, 0 to 3215\n",
      "Data columns (total 15 columns):\n",
      " #   Column                 Non-Null Count  Dtype  \n",
      "---  ------                 --------------  -----  \n",
      " 0   user_id                3216 non-null   int64  \n",
      " 1   month                  3216 non-null   float64\n",
      " 2   duration               3216 non-null   float64\n",
      " 3   calls                  3216 non-null   float64\n",
      " 4   mb_used                3216 non-null   float64\n",
      " 5   messages               3216 non-null   float64\n",
      " 6   city                   3216 non-null   object \n",
      " 7   tariff                 3216 non-null   object \n",
      " 8   messages_included      3216 non-null   int64  \n",
      " 9   mb_per_month_included  3216 non-null   int64  \n",
      " 10  minutes_included       3216 non-null   int64  \n",
      " 11  rub_monthly_fee        3216 non-null   int64  \n",
      " 12  rub_per_gb             3216 non-null   int64  \n",
      " 13  rub_per_message        3216 non-null   int64  \n",
      " 14  rub_per_minute         3216 non-null   int64  \n",
      "dtypes: float64(5), int64(8), object(2)\n",
      "memory usage: 402.0+ KB\n"
     ]
    }
   ],
   "source": [
    "# собираем данные в одну таблицу\n",
    "data_monthly=data_calls.merge(data_id,how='outer',on=['user_id','month'])\n",
    "data_monthly=data_monthly.merge(data_internet,how='outer',on=['user_id','month'])\n",
    "data_monthly=data_monthly.merge(data_messages,how='outer',on=['user_id','month'])\n",
    "tariffs=tariffs.rename(columns={'tariff_name':'tariff'})# переименовали столбец для объединения\n",
    "\n",
    "#собираем таблицу и убираем мультииндексы\n",
    "data_monthly = data_monthly.reset_index().merge(users.loc[:, ['user_id', 'city', 'tariff']],\\\n",
    "                                                                        on='user_id', how='outer').fillna(0)\n",
    "data_monthly=data_monthly.merge(tariffs,on='tariff',how='left')# присоединили таблицу тарифов\n",
    "\n",
    "display(data_monthly.head(9))\n",
    "data_monthly.info()\n"
   ]
  },
  {
   "cell_type": "markdown",
   "metadata": {},
   "source": [
    "    5.  Расчет выручки для двух тарифов."
   ]
  },
  {
   "cell_type": "code",
   "execution_count": 23,
   "metadata": {},
   "outputs": [
    {
     "data": {
      "text/html": [
       "<div>\n",
       "<style scoped>\n",
       "    .dataframe tbody tr th:only-of-type {\n",
       "        vertical-align: middle;\n",
       "    }\n",
       "\n",
       "    .dataframe tbody tr th {\n",
       "        vertical-align: top;\n",
       "    }\n",
       "\n",
       "    .dataframe thead th {\n",
       "        text-align: right;\n",
       "    }\n",
       "</style>\n",
       "<table border=\"1\" class=\"dataframe\">\n",
       "  <thead>\n",
       "    <tr style=\"text-align: right;\">\n",
       "      <th></th>\n",
       "      <th>user_id</th>\n",
       "      <th>month</th>\n",
       "      <th>duration</th>\n",
       "      <th>calls</th>\n",
       "      <th>mb_used</th>\n",
       "      <th>messages</th>\n",
       "      <th>city</th>\n",
       "      <th>tariff</th>\n",
       "      <th>messages_included</th>\n",
       "      <th>mb_per_month_included</th>\n",
       "      <th>minutes_included</th>\n",
       "      <th>rub_monthly_fee</th>\n",
       "      <th>rub_per_gb</th>\n",
       "      <th>rub_per_message</th>\n",
       "      <th>rub_per_minute</th>\n",
       "      <th>over_duration</th>\n",
       "      <th>over_messages</th>\n",
       "      <th>over_traffic</th>\n",
       "    </tr>\n",
       "  </thead>\n",
       "  <tbody>\n",
       "    <tr>\n",
       "      <th>0</th>\n",
       "      <td>1000</td>\n",
       "      <td>5.0</td>\n",
       "      <td>159.0</td>\n",
       "      <td>22.0</td>\n",
       "      <td>3.0</td>\n",
       "      <td>22.0</td>\n",
       "      <td>Краснодар</td>\n",
       "      <td>ultra</td>\n",
       "      <td>1000</td>\n",
       "      <td>30720</td>\n",
       "      <td>3000</td>\n",
       "      <td>1950</td>\n",
       "      <td>150</td>\n",
       "      <td>1</td>\n",
       "      <td>1</td>\n",
       "      <td>0.0</td>\n",
       "      <td>0.0</td>\n",
       "      <td>0</td>\n",
       "    </tr>\n",
       "    <tr>\n",
       "      <th>1</th>\n",
       "      <td>1000</td>\n",
       "      <td>6.0</td>\n",
       "      <td>172.0</td>\n",
       "      <td>43.0</td>\n",
       "      <td>23.0</td>\n",
       "      <td>60.0</td>\n",
       "      <td>Краснодар</td>\n",
       "      <td>ultra</td>\n",
       "      <td>1000</td>\n",
       "      <td>30720</td>\n",
       "      <td>3000</td>\n",
       "      <td>1950</td>\n",
       "      <td>150</td>\n",
       "      <td>1</td>\n",
       "      <td>1</td>\n",
       "      <td>0.0</td>\n",
       "      <td>0.0</td>\n",
       "      <td>0</td>\n",
       "    </tr>\n",
       "    <tr>\n",
       "      <th>2</th>\n",
       "      <td>1000</td>\n",
       "      <td>7.0</td>\n",
       "      <td>340.0</td>\n",
       "      <td>47.0</td>\n",
       "      <td>14.0</td>\n",
       "      <td>75.0</td>\n",
       "      <td>Краснодар</td>\n",
       "      <td>ultra</td>\n",
       "      <td>1000</td>\n",
       "      <td>30720</td>\n",
       "      <td>3000</td>\n",
       "      <td>1950</td>\n",
       "      <td>150</td>\n",
       "      <td>1</td>\n",
       "      <td>1</td>\n",
       "      <td>0.0</td>\n",
       "      <td>0.0</td>\n",
       "      <td>0</td>\n",
       "    </tr>\n",
       "    <tr>\n",
       "      <th>3</th>\n",
       "      <td>1000</td>\n",
       "      <td>8.0</td>\n",
       "      <td>408.0</td>\n",
       "      <td>52.0</td>\n",
       "      <td>14.0</td>\n",
       "      <td>81.0</td>\n",
       "      <td>Краснодар</td>\n",
       "      <td>ultra</td>\n",
       "      <td>1000</td>\n",
       "      <td>30720</td>\n",
       "      <td>3000</td>\n",
       "      <td>1950</td>\n",
       "      <td>150</td>\n",
       "      <td>1</td>\n",
       "      <td>1</td>\n",
       "      <td>0.0</td>\n",
       "      <td>0.0</td>\n",
       "      <td>0</td>\n",
       "    </tr>\n",
       "    <tr>\n",
       "      <th>4</th>\n",
       "      <td>1000</td>\n",
       "      <td>9.0</td>\n",
       "      <td>466.0</td>\n",
       "      <td>58.0</td>\n",
       "      <td>15.0</td>\n",
       "      <td>57.0</td>\n",
       "      <td>Краснодар</td>\n",
       "      <td>ultra</td>\n",
       "      <td>1000</td>\n",
       "      <td>30720</td>\n",
       "      <td>3000</td>\n",
       "      <td>1950</td>\n",
       "      <td>150</td>\n",
       "      <td>1</td>\n",
       "      <td>1</td>\n",
       "      <td>0.0</td>\n",
       "      <td>0.0</td>\n",
       "      <td>0</td>\n",
       "    </tr>\n",
       "    <tr>\n",
       "      <th>5</th>\n",
       "      <td>1000</td>\n",
       "      <td>10.0</td>\n",
       "      <td>350.0</td>\n",
       "      <td>57.0</td>\n",
       "      <td>15.0</td>\n",
       "      <td>73.0</td>\n",
       "      <td>Краснодар</td>\n",
       "      <td>ultra</td>\n",
       "      <td>1000</td>\n",
       "      <td>30720</td>\n",
       "      <td>3000</td>\n",
       "      <td>1950</td>\n",
       "      <td>150</td>\n",
       "      <td>1</td>\n",
       "      <td>1</td>\n",
       "      <td>0.0</td>\n",
       "      <td>0.0</td>\n",
       "      <td>0</td>\n",
       "    </tr>\n",
       "    <tr>\n",
       "      <th>6</th>\n",
       "      <td>1000</td>\n",
       "      <td>11.0</td>\n",
       "      <td>338.0</td>\n",
       "      <td>43.0</td>\n",
       "      <td>15.0</td>\n",
       "      <td>58.0</td>\n",
       "      <td>Краснодар</td>\n",
       "      <td>ultra</td>\n",
       "      <td>1000</td>\n",
       "      <td>30720</td>\n",
       "      <td>3000</td>\n",
       "      <td>1950</td>\n",
       "      <td>150</td>\n",
       "      <td>1</td>\n",
       "      <td>1</td>\n",
       "      <td>0.0</td>\n",
       "      <td>0.0</td>\n",
       "      <td>0</td>\n",
       "    </tr>\n",
       "    <tr>\n",
       "      <th>7</th>\n",
       "      <td>1000</td>\n",
       "      <td>12.0</td>\n",
       "      <td>333.0</td>\n",
       "      <td>46.0</td>\n",
       "      <td>10.0</td>\n",
       "      <td>70.0</td>\n",
       "      <td>Краснодар</td>\n",
       "      <td>ultra</td>\n",
       "      <td>1000</td>\n",
       "      <td>30720</td>\n",
       "      <td>3000</td>\n",
       "      <td>1950</td>\n",
       "      <td>150</td>\n",
       "      <td>1</td>\n",
       "      <td>1</td>\n",
       "      <td>0.0</td>\n",
       "      <td>0.0</td>\n",
       "      <td>0</td>\n",
       "    </tr>\n",
       "    <tr>\n",
       "      <th>8</th>\n",
       "      <td>1001</td>\n",
       "      <td>11.0</td>\n",
       "      <td>430.0</td>\n",
       "      <td>59.0</td>\n",
       "      <td>18.0</td>\n",
       "      <td>0.0</td>\n",
       "      <td>Москва</td>\n",
       "      <td>smart</td>\n",
       "      <td>50</td>\n",
       "      <td>15360</td>\n",
       "      <td>500</td>\n",
       "      <td>550</td>\n",
       "      <td>200</td>\n",
       "      <td>3</td>\n",
       "      <td>3</td>\n",
       "      <td>0.0</td>\n",
       "      <td>0.0</td>\n",
       "      <td>3</td>\n",
       "    </tr>\n",
       "  </tbody>\n",
       "</table>\n",
       "</div>"
      ],
      "text/plain": [
       "   user_id  month  duration  calls  mb_used  messages       city tariff  \\\n",
       "0     1000    5.0     159.0   22.0      3.0      22.0  Краснодар  ultra   \n",
       "1     1000    6.0     172.0   43.0     23.0      60.0  Краснодар  ultra   \n",
       "2     1000    7.0     340.0   47.0     14.0      75.0  Краснодар  ultra   \n",
       "3     1000    8.0     408.0   52.0     14.0      81.0  Краснодар  ultra   \n",
       "4     1000    9.0     466.0   58.0     15.0      57.0  Краснодар  ultra   \n",
       "5     1000   10.0     350.0   57.0     15.0      73.0  Краснодар  ultra   \n",
       "6     1000   11.0     338.0   43.0     15.0      58.0  Краснодар  ultra   \n",
       "7     1000   12.0     333.0   46.0     10.0      70.0  Краснодар  ultra   \n",
       "8     1001   11.0     430.0   59.0     18.0       0.0     Москва  smart   \n",
       "\n",
       "   messages_included  mb_per_month_included  minutes_included  \\\n",
       "0               1000                  30720              3000   \n",
       "1               1000                  30720              3000   \n",
       "2               1000                  30720              3000   \n",
       "3               1000                  30720              3000   \n",
       "4               1000                  30720              3000   \n",
       "5               1000                  30720              3000   \n",
       "6               1000                  30720              3000   \n",
       "7               1000                  30720              3000   \n",
       "8                 50                  15360               500   \n",
       "\n",
       "   rub_monthly_fee  rub_per_gb  rub_per_message  rub_per_minute  \\\n",
       "0             1950         150                1               1   \n",
       "1             1950         150                1               1   \n",
       "2             1950         150                1               1   \n",
       "3             1950         150                1               1   \n",
       "4             1950         150                1               1   \n",
       "5             1950         150                1               1   \n",
       "6             1950         150                1               1   \n",
       "7             1950         150                1               1   \n",
       "8              550         200                3               3   \n",
       "\n",
       "   over_duration  over_messages  over_traffic  \n",
       "0            0.0            0.0             0  \n",
       "1            0.0            0.0             0  \n",
       "2            0.0            0.0             0  \n",
       "3            0.0            0.0             0  \n",
       "4            0.0            0.0             0  \n",
       "5            0.0            0.0             0  \n",
       "6            0.0            0.0             0  \n",
       "7            0.0            0.0             0  \n",
       "8            0.0            0.0             3  "
      ]
     },
     "execution_count": 23,
     "metadata": {},
     "output_type": "execute_result"
    }
   ],
   "source": [
    "# расчет перерасхода по пакетам услуг для 2х тарифов\n",
    "\n",
    "data_monthly['over_duration'] = (data_monthly['duration'] - data_monthly['minutes_included']).clip(lower=0)\n",
    "data_monthly['over_messages'] = (data_monthly['messages'] - data_monthly['messages_included']).clip(lower=0)\n",
    "data_monthly['over_traffic'] = (data_monthly['mb_used'] - data_monthly['mb_per_month_included']/ 1024).clip(lower=0).\\\n",
    "                                                                               astype('int')\n",
    "data_monthly.head(9)"
   ]
  },
  {
   "cell_type": "code",
   "execution_count": 24,
   "metadata": {},
   "outputs": [
    {
     "data": {
      "text/html": [
       "<div>\n",
       "<style scoped>\n",
       "    .dataframe tbody tr th:only-of-type {\n",
       "        vertical-align: middle;\n",
       "    }\n",
       "\n",
       "    .dataframe tbody tr th {\n",
       "        vertical-align: top;\n",
       "    }\n",
       "\n",
       "    .dataframe thead th {\n",
       "        text-align: right;\n",
       "    }\n",
       "</style>\n",
       "<table border=\"1\" class=\"dataframe\">\n",
       "  <thead>\n",
       "    <tr style=\"text-align: right;\">\n",
       "      <th></th>\n",
       "      <th>user_id</th>\n",
       "      <th>month</th>\n",
       "      <th>duration</th>\n",
       "      <th>calls</th>\n",
       "      <th>mb_used</th>\n",
       "      <th>messages</th>\n",
       "      <th>city</th>\n",
       "      <th>tariff</th>\n",
       "      <th>messages_included</th>\n",
       "      <th>mb_per_month_included</th>\n",
       "      <th>...</th>\n",
       "      <th>rub_per_message</th>\n",
       "      <th>rub_per_minute</th>\n",
       "      <th>over_duration</th>\n",
       "      <th>over_messages</th>\n",
       "      <th>over_traffic</th>\n",
       "      <th>over_duration_pay</th>\n",
       "      <th>over_messages_pay</th>\n",
       "      <th>over_traffic_pay</th>\n",
       "      <th>total_add_pay</th>\n",
       "      <th>total_pay</th>\n",
       "    </tr>\n",
       "  </thead>\n",
       "  <tbody>\n",
       "    <tr>\n",
       "      <th>0</th>\n",
       "      <td>1000</td>\n",
       "      <td>5.0</td>\n",
       "      <td>159.0</td>\n",
       "      <td>22.0</td>\n",
       "      <td>3.0</td>\n",
       "      <td>22.0</td>\n",
       "      <td>Краснодар</td>\n",
       "      <td>ultra</td>\n",
       "      <td>1000</td>\n",
       "      <td>30720</td>\n",
       "      <td>...</td>\n",
       "      <td>1</td>\n",
       "      <td>1</td>\n",
       "      <td>0.0</td>\n",
       "      <td>0.0</td>\n",
       "      <td>0</td>\n",
       "      <td>0.0</td>\n",
       "      <td>0.0</td>\n",
       "      <td>0</td>\n",
       "      <td>0.0</td>\n",
       "      <td>1950.0</td>\n",
       "    </tr>\n",
       "    <tr>\n",
       "      <th>1</th>\n",
       "      <td>1000</td>\n",
       "      <td>6.0</td>\n",
       "      <td>172.0</td>\n",
       "      <td>43.0</td>\n",
       "      <td>23.0</td>\n",
       "      <td>60.0</td>\n",
       "      <td>Краснодар</td>\n",
       "      <td>ultra</td>\n",
       "      <td>1000</td>\n",
       "      <td>30720</td>\n",
       "      <td>...</td>\n",
       "      <td>1</td>\n",
       "      <td>1</td>\n",
       "      <td>0.0</td>\n",
       "      <td>0.0</td>\n",
       "      <td>0</td>\n",
       "      <td>0.0</td>\n",
       "      <td>0.0</td>\n",
       "      <td>0</td>\n",
       "      <td>0.0</td>\n",
       "      <td>1950.0</td>\n",
       "    </tr>\n",
       "    <tr>\n",
       "      <th>2</th>\n",
       "      <td>1000</td>\n",
       "      <td>7.0</td>\n",
       "      <td>340.0</td>\n",
       "      <td>47.0</td>\n",
       "      <td>14.0</td>\n",
       "      <td>75.0</td>\n",
       "      <td>Краснодар</td>\n",
       "      <td>ultra</td>\n",
       "      <td>1000</td>\n",
       "      <td>30720</td>\n",
       "      <td>...</td>\n",
       "      <td>1</td>\n",
       "      <td>1</td>\n",
       "      <td>0.0</td>\n",
       "      <td>0.0</td>\n",
       "      <td>0</td>\n",
       "      <td>0.0</td>\n",
       "      <td>0.0</td>\n",
       "      <td>0</td>\n",
       "      <td>0.0</td>\n",
       "      <td>1950.0</td>\n",
       "    </tr>\n",
       "    <tr>\n",
       "      <th>3</th>\n",
       "      <td>1000</td>\n",
       "      <td>8.0</td>\n",
       "      <td>408.0</td>\n",
       "      <td>52.0</td>\n",
       "      <td>14.0</td>\n",
       "      <td>81.0</td>\n",
       "      <td>Краснодар</td>\n",
       "      <td>ultra</td>\n",
       "      <td>1000</td>\n",
       "      <td>30720</td>\n",
       "      <td>...</td>\n",
       "      <td>1</td>\n",
       "      <td>1</td>\n",
       "      <td>0.0</td>\n",
       "      <td>0.0</td>\n",
       "      <td>0</td>\n",
       "      <td>0.0</td>\n",
       "      <td>0.0</td>\n",
       "      <td>0</td>\n",
       "      <td>0.0</td>\n",
       "      <td>1950.0</td>\n",
       "    </tr>\n",
       "    <tr>\n",
       "      <th>4</th>\n",
       "      <td>1000</td>\n",
       "      <td>9.0</td>\n",
       "      <td>466.0</td>\n",
       "      <td>58.0</td>\n",
       "      <td>15.0</td>\n",
       "      <td>57.0</td>\n",
       "      <td>Краснодар</td>\n",
       "      <td>ultra</td>\n",
       "      <td>1000</td>\n",
       "      <td>30720</td>\n",
       "      <td>...</td>\n",
       "      <td>1</td>\n",
       "      <td>1</td>\n",
       "      <td>0.0</td>\n",
       "      <td>0.0</td>\n",
       "      <td>0</td>\n",
       "      <td>0.0</td>\n",
       "      <td>0.0</td>\n",
       "      <td>0</td>\n",
       "      <td>0.0</td>\n",
       "      <td>1950.0</td>\n",
       "    </tr>\n",
       "    <tr>\n",
       "      <th>5</th>\n",
       "      <td>1000</td>\n",
       "      <td>10.0</td>\n",
       "      <td>350.0</td>\n",
       "      <td>57.0</td>\n",
       "      <td>15.0</td>\n",
       "      <td>73.0</td>\n",
       "      <td>Краснодар</td>\n",
       "      <td>ultra</td>\n",
       "      <td>1000</td>\n",
       "      <td>30720</td>\n",
       "      <td>...</td>\n",
       "      <td>1</td>\n",
       "      <td>1</td>\n",
       "      <td>0.0</td>\n",
       "      <td>0.0</td>\n",
       "      <td>0</td>\n",
       "      <td>0.0</td>\n",
       "      <td>0.0</td>\n",
       "      <td>0</td>\n",
       "      <td>0.0</td>\n",
       "      <td>1950.0</td>\n",
       "    </tr>\n",
       "    <tr>\n",
       "      <th>6</th>\n",
       "      <td>1000</td>\n",
       "      <td>11.0</td>\n",
       "      <td>338.0</td>\n",
       "      <td>43.0</td>\n",
       "      <td>15.0</td>\n",
       "      <td>58.0</td>\n",
       "      <td>Краснодар</td>\n",
       "      <td>ultra</td>\n",
       "      <td>1000</td>\n",
       "      <td>30720</td>\n",
       "      <td>...</td>\n",
       "      <td>1</td>\n",
       "      <td>1</td>\n",
       "      <td>0.0</td>\n",
       "      <td>0.0</td>\n",
       "      <td>0</td>\n",
       "      <td>0.0</td>\n",
       "      <td>0.0</td>\n",
       "      <td>0</td>\n",
       "      <td>0.0</td>\n",
       "      <td>1950.0</td>\n",
       "    </tr>\n",
       "    <tr>\n",
       "      <th>7</th>\n",
       "      <td>1000</td>\n",
       "      <td>12.0</td>\n",
       "      <td>333.0</td>\n",
       "      <td>46.0</td>\n",
       "      <td>10.0</td>\n",
       "      <td>70.0</td>\n",
       "      <td>Краснодар</td>\n",
       "      <td>ultra</td>\n",
       "      <td>1000</td>\n",
       "      <td>30720</td>\n",
       "      <td>...</td>\n",
       "      <td>1</td>\n",
       "      <td>1</td>\n",
       "      <td>0.0</td>\n",
       "      <td>0.0</td>\n",
       "      <td>0</td>\n",
       "      <td>0.0</td>\n",
       "      <td>0.0</td>\n",
       "      <td>0</td>\n",
       "      <td>0.0</td>\n",
       "      <td>1950.0</td>\n",
       "    </tr>\n",
       "    <tr>\n",
       "      <th>8</th>\n",
       "      <td>1001</td>\n",
       "      <td>11.0</td>\n",
       "      <td>430.0</td>\n",
       "      <td>59.0</td>\n",
       "      <td>18.0</td>\n",
       "      <td>0.0</td>\n",
       "      <td>Москва</td>\n",
       "      <td>smart</td>\n",
       "      <td>50</td>\n",
       "      <td>15360</td>\n",
       "      <td>...</td>\n",
       "      <td>3</td>\n",
       "      <td>3</td>\n",
       "      <td>0.0</td>\n",
       "      <td>0.0</td>\n",
       "      <td>3</td>\n",
       "      <td>0.0</td>\n",
       "      <td>0.0</td>\n",
       "      <td>600</td>\n",
       "      <td>600.0</td>\n",
       "      <td>1150.0</td>\n",
       "    </tr>\n",
       "    <tr>\n",
       "      <th>9</th>\n",
       "      <td>1001</td>\n",
       "      <td>12.0</td>\n",
       "      <td>414.0</td>\n",
       "      <td>63.0</td>\n",
       "      <td>14.0</td>\n",
       "      <td>0.0</td>\n",
       "      <td>Москва</td>\n",
       "      <td>smart</td>\n",
       "      <td>50</td>\n",
       "      <td>15360</td>\n",
       "      <td>...</td>\n",
       "      <td>3</td>\n",
       "      <td>3</td>\n",
       "      <td>0.0</td>\n",
       "      <td>0.0</td>\n",
       "      <td>0</td>\n",
       "      <td>0.0</td>\n",
       "      <td>0.0</td>\n",
       "      <td>0</td>\n",
       "      <td>0.0</td>\n",
       "      <td>550.0</td>\n",
       "    </tr>\n",
       "    <tr>\n",
       "      <th>10</th>\n",
       "      <td>1002</td>\n",
       "      <td>6.0</td>\n",
       "      <td>117.0</td>\n",
       "      <td>15.0</td>\n",
       "      <td>11.0</td>\n",
       "      <td>4.0</td>\n",
       "      <td>Стерлитамак</td>\n",
       "      <td>smart</td>\n",
       "      <td>50</td>\n",
       "      <td>15360</td>\n",
       "      <td>...</td>\n",
       "      <td>3</td>\n",
       "      <td>3</td>\n",
       "      <td>0.0</td>\n",
       "      <td>0.0</td>\n",
       "      <td>0</td>\n",
       "      <td>0.0</td>\n",
       "      <td>0.0</td>\n",
       "      <td>0</td>\n",
       "      <td>0.0</td>\n",
       "      <td>550.0</td>\n",
       "    </tr>\n",
       "    <tr>\n",
       "      <th>11</th>\n",
       "      <td>1002</td>\n",
       "      <td>7.0</td>\n",
       "      <td>214.0</td>\n",
       "      <td>26.0</td>\n",
       "      <td>18.0</td>\n",
       "      <td>11.0</td>\n",
       "      <td>Стерлитамак</td>\n",
       "      <td>smart</td>\n",
       "      <td>50</td>\n",
       "      <td>15360</td>\n",
       "      <td>...</td>\n",
       "      <td>3</td>\n",
       "      <td>3</td>\n",
       "      <td>0.0</td>\n",
       "      <td>0.0</td>\n",
       "      <td>3</td>\n",
       "      <td>0.0</td>\n",
       "      <td>0.0</td>\n",
       "      <td>600</td>\n",
       "      <td>600.0</td>\n",
       "      <td>1150.0</td>\n",
       "    </tr>\n",
       "    <tr>\n",
       "      <th>12</th>\n",
       "      <td>1002</td>\n",
       "      <td>8.0</td>\n",
       "      <td>289.0</td>\n",
       "      <td>42.0</td>\n",
       "      <td>20.0</td>\n",
       "      <td>13.0</td>\n",
       "      <td>Стерлитамак</td>\n",
       "      <td>smart</td>\n",
       "      <td>50</td>\n",
       "      <td>15360</td>\n",
       "      <td>...</td>\n",
       "      <td>3</td>\n",
       "      <td>3</td>\n",
       "      <td>0.0</td>\n",
       "      <td>0.0</td>\n",
       "      <td>5</td>\n",
       "      <td>0.0</td>\n",
       "      <td>0.0</td>\n",
       "      <td>1000</td>\n",
       "      <td>1000.0</td>\n",
       "      <td>1550.0</td>\n",
       "    </tr>\n",
       "    <tr>\n",
       "      <th>13</th>\n",
       "      <td>1002</td>\n",
       "      <td>9.0</td>\n",
       "      <td>206.0</td>\n",
       "      <td>36.0</td>\n",
       "      <td>17.0</td>\n",
       "      <td>4.0</td>\n",
       "      <td>Стерлитамак</td>\n",
       "      <td>smart</td>\n",
       "      <td>50</td>\n",
       "      <td>15360</td>\n",
       "      <td>...</td>\n",
       "      <td>3</td>\n",
       "      <td>3</td>\n",
       "      <td>0.0</td>\n",
       "      <td>0.0</td>\n",
       "      <td>2</td>\n",
       "      <td>0.0</td>\n",
       "      <td>0.0</td>\n",
       "      <td>400</td>\n",
       "      <td>400.0</td>\n",
       "      <td>950.0</td>\n",
       "    </tr>\n",
       "    <tr>\n",
       "      <th>14</th>\n",
       "      <td>1002</td>\n",
       "      <td>10.0</td>\n",
       "      <td>212.0</td>\n",
       "      <td>33.0</td>\n",
       "      <td>14.0</td>\n",
       "      <td>10.0</td>\n",
       "      <td>Стерлитамак</td>\n",
       "      <td>smart</td>\n",
       "      <td>50</td>\n",
       "      <td>15360</td>\n",
       "      <td>...</td>\n",
       "      <td>3</td>\n",
       "      <td>3</td>\n",
       "      <td>0.0</td>\n",
       "      <td>0.0</td>\n",
       "      <td>0</td>\n",
       "      <td>0.0</td>\n",
       "      <td>0.0</td>\n",
       "      <td>0</td>\n",
       "      <td>0.0</td>\n",
       "      <td>550.0</td>\n",
       "    </tr>\n",
       "  </tbody>\n",
       "</table>\n",
       "<p>15 rows × 23 columns</p>\n",
       "</div>"
      ],
      "text/plain": [
       "    user_id  month  duration  calls  mb_used  messages         city tariff  \\\n",
       "0      1000    5.0     159.0   22.0      3.0      22.0    Краснодар  ultra   \n",
       "1      1000    6.0     172.0   43.0     23.0      60.0    Краснодар  ultra   \n",
       "2      1000    7.0     340.0   47.0     14.0      75.0    Краснодар  ultra   \n",
       "3      1000    8.0     408.0   52.0     14.0      81.0    Краснодар  ultra   \n",
       "4      1000    9.0     466.0   58.0     15.0      57.0    Краснодар  ultra   \n",
       "5      1000   10.0     350.0   57.0     15.0      73.0    Краснодар  ultra   \n",
       "6      1000   11.0     338.0   43.0     15.0      58.0    Краснодар  ultra   \n",
       "7      1000   12.0     333.0   46.0     10.0      70.0    Краснодар  ultra   \n",
       "8      1001   11.0     430.0   59.0     18.0       0.0       Москва  smart   \n",
       "9      1001   12.0     414.0   63.0     14.0       0.0       Москва  smart   \n",
       "10     1002    6.0     117.0   15.0     11.0       4.0  Стерлитамак  smart   \n",
       "11     1002    7.0     214.0   26.0     18.0      11.0  Стерлитамак  smart   \n",
       "12     1002    8.0     289.0   42.0     20.0      13.0  Стерлитамак  smart   \n",
       "13     1002    9.0     206.0   36.0     17.0       4.0  Стерлитамак  smart   \n",
       "14     1002   10.0     212.0   33.0     14.0      10.0  Стерлитамак  smart   \n",
       "\n",
       "    messages_included  mb_per_month_included  ...  rub_per_message  \\\n",
       "0                1000                  30720  ...                1   \n",
       "1                1000                  30720  ...                1   \n",
       "2                1000                  30720  ...                1   \n",
       "3                1000                  30720  ...                1   \n",
       "4                1000                  30720  ...                1   \n",
       "5                1000                  30720  ...                1   \n",
       "6                1000                  30720  ...                1   \n",
       "7                1000                  30720  ...                1   \n",
       "8                  50                  15360  ...                3   \n",
       "9                  50                  15360  ...                3   \n",
       "10                 50                  15360  ...                3   \n",
       "11                 50                  15360  ...                3   \n",
       "12                 50                  15360  ...                3   \n",
       "13                 50                  15360  ...                3   \n",
       "14                 50                  15360  ...                3   \n",
       "\n",
       "    rub_per_minute  over_duration  over_messages  over_traffic  \\\n",
       "0                1            0.0            0.0             0   \n",
       "1                1            0.0            0.0             0   \n",
       "2                1            0.0            0.0             0   \n",
       "3                1            0.0            0.0             0   \n",
       "4                1            0.0            0.0             0   \n",
       "5                1            0.0            0.0             0   \n",
       "6                1            0.0            0.0             0   \n",
       "7                1            0.0            0.0             0   \n",
       "8                3            0.0            0.0             3   \n",
       "9                3            0.0            0.0             0   \n",
       "10               3            0.0            0.0             0   \n",
       "11               3            0.0            0.0             3   \n",
       "12               3            0.0            0.0             5   \n",
       "13               3            0.0            0.0             2   \n",
       "14               3            0.0            0.0             0   \n",
       "\n",
       "    over_duration_pay  over_messages_pay  over_traffic_pay  total_add_pay  \\\n",
       "0                 0.0                0.0                 0            0.0   \n",
       "1                 0.0                0.0                 0            0.0   \n",
       "2                 0.0                0.0                 0            0.0   \n",
       "3                 0.0                0.0                 0            0.0   \n",
       "4                 0.0                0.0                 0            0.0   \n",
       "5                 0.0                0.0                 0            0.0   \n",
       "6                 0.0                0.0                 0            0.0   \n",
       "7                 0.0                0.0                 0            0.0   \n",
       "8                 0.0                0.0               600          600.0   \n",
       "9                 0.0                0.0                 0            0.0   \n",
       "10                0.0                0.0                 0            0.0   \n",
       "11                0.0                0.0               600          600.0   \n",
       "12                0.0                0.0              1000         1000.0   \n",
       "13                0.0                0.0               400          400.0   \n",
       "14                0.0                0.0                 0            0.0   \n",
       "\n",
       "    total_pay  \n",
       "0      1950.0  \n",
       "1      1950.0  \n",
       "2      1950.0  \n",
       "3      1950.0  \n",
       "4      1950.0  \n",
       "5      1950.0  \n",
       "6      1950.0  \n",
       "7      1950.0  \n",
       "8      1150.0  \n",
       "9       550.0  \n",
       "10      550.0  \n",
       "11     1150.0  \n",
       "12     1550.0  \n",
       "13      950.0  \n",
       "14      550.0  \n",
       "\n",
       "[15 rows x 23 columns]"
      ]
     },
     "metadata": {},
     "output_type": "display_data"
    },
    {
     "name": "stdout",
     "output_type": "stream",
     "text": [
      "<class 'pandas.core.frame.DataFrame'>\n",
      "Int64Index: 3216 entries, 0 to 3215\n",
      "Data columns (total 23 columns):\n",
      " #   Column                 Non-Null Count  Dtype  \n",
      "---  ------                 --------------  -----  \n",
      " 0   user_id                3216 non-null   int64  \n",
      " 1   month                  3216 non-null   float64\n",
      " 2   duration               3216 non-null   float64\n",
      " 3   calls                  3216 non-null   float64\n",
      " 4   mb_used                3216 non-null   float64\n",
      " 5   messages               3216 non-null   float64\n",
      " 6   city                   3216 non-null   object \n",
      " 7   tariff                 3216 non-null   object \n",
      " 8   messages_included      3216 non-null   int64  \n",
      " 9   mb_per_month_included  3216 non-null   int64  \n",
      " 10  minutes_included       3216 non-null   int64  \n",
      " 11  rub_monthly_fee        3216 non-null   int64  \n",
      " 12  rub_per_gb             3216 non-null   int64  \n",
      " 13  rub_per_message        3216 non-null   int64  \n",
      " 14  rub_per_minute         3216 non-null   int64  \n",
      " 15  over_duration          3216 non-null   float64\n",
      " 16  over_messages          3216 non-null   float64\n",
      " 17  over_traffic           3216 non-null   int32  \n",
      " 18  over_duration_pay      3216 non-null   float64\n",
      " 19  over_messages_pay      3216 non-null   float64\n",
      " 20  over_traffic_pay       3216 non-null   int32  \n",
      " 21  total_add_pay          3216 non-null   float64\n",
      " 22  total_pay              3216 non-null   float64\n",
      "dtypes: float64(11), int32(2), int64(8), object(2)\n",
      "memory usage: 577.9+ KB\n"
     ]
    }
   ],
   "source": [
    "# считаем доплаты за перерасход предоставленных  в тариф услуг\n",
    "data_monthly['over_duration_pay'] = data_monthly['over_duration'] * data_monthly['rub_per_minute'].astype('int')\n",
    "data_monthly['over_messages_pay'] = data_monthly['over_messages'] * data_monthly['rub_per_message'].astype('int')\n",
    "data_monthly['over_traffic_pay'] = data_monthly['over_traffic'] * data_monthly['rub_per_gb'].astype('int')\n",
    "data_monthly['total_add_pay'] = data_monthly['over_duration_pay'] + data_monthly['over_messages_pay']\\\n",
    "+ data_monthly['over_traffic_pay']\n",
    "data_monthly['total_pay'] = data_monthly['total_add_pay'] + data_monthly['rub_monthly_fee']\n",
    "display(data_monthly.head(15))\n",
    "data_monthly.info()"
   ]
  },
  {
   "cell_type": "markdown",
   "metadata": {},
   "source": [
    "6. Расчет средней выручки,дисперсии и стандартного отклонения по тарифу ULTRA."
   ]
  },
  {
   "cell_type": "code",
   "execution_count": 25,
   "metadata": {},
   "outputs": [
    {
     "name": "stdout",
     "output_type": "stream",
     "text": [
      "СУММА ВЫРУЧКИ ДЛЯ ТАРИФА ULTRA ,руб.: 2041050.0\n",
      "Среднее значение выручки для тарифа ULTRA: 2070.03,\n",
      " дисперсия: 141244.32\n",
      " стандартное отклонение: 375.82\n",
      "\n"
     ]
    }
   ],
   "source": [
    "print('СУММА ВЫРУЧКИ ДЛЯ ТАРИФА ULTRA ,руб.:',data_monthly[data_monthly['tariff'] == 'ultra']['total_pay'].sum())\n",
    "print('Среднее значение выручки для тарифа ULTRA: {:.2f},\\n'.format(\n",
    "    data_monthly[data_monthly['tariff'] == 'ultra']['total_pay'].mean()\n",
    "),'дисперсия: {:.2f}\\n'.format(\n",
    "    np.var(data_monthly[data_monthly['tariff'] == 'ultra']['total_pay'])\n",
    "),'стандартное отклонение: {:.2f}\\n'.format(\n",
    "    np.std(data_monthly[data_monthly['tariff'] == 'ultra']['total_pay'])))"
   ]
  },
  {
   "cell_type": "markdown",
   "metadata": {},
   "source": [
    "7. Расчет средней выручки,дисперсии и стандартного отклонения по тарифу SMART."
   ]
  },
  {
   "cell_type": "code",
   "execution_count": 26,
   "metadata": {},
   "outputs": [
    {
     "name": "stdout",
     "output_type": "stream",
     "text": [
      "СУММА ВЫРУЧКИ ДЛЯ ТАРИФА SMART ,руб.: 2875901.0\n",
      "Среднее значение выручки для тарифа SMART: 1289.64,\n",
      " дисперсия: 669430.44\n",
      " стандартное отклонение: 818.19\n",
      "\n"
     ]
    }
   ],
   "source": [
    "print('СУММА ВЫРУЧКИ ДЛЯ ТАРИФА SMART ,руб.:',data_monthly[data_monthly['tariff'] == 'smart']['total_pay'].sum())\n",
    "print('Среднее значение выручки для тарифа SMART: {:.2f},\\n'.format(\n",
    "    data_monthly[data_monthly['tariff'] == 'smart']['total_pay'].mean()\n",
    "),'дисперсия: {:.2f}\\n'.format(\n",
    "    np.var(data_monthly[data_monthly['tariff'] == 'smart']['total_pay'])\n",
    "),'стандартное отклонение: {:.2f}\\n'.format(\n",
    "    np.std(data_monthly[data_monthly['tariff'] == 'smart']['total_pay'])))"
   ]
  },
  {
   "cell_type": "markdown",
   "metadata": {},
   "source": [
    "Из полученных результатов видим,что средняя выручка на одного абонента для тарифа Ультра больше средней выручки\n",
    "для тарифа Смарт."
   ]
  },
  {
   "cell_type": "markdown",
   "metadata": {},
   "source": [
    "8. Распределение количества звонков по абонентам и тарифам."
   ]
  },
  {
   "cell_type": "code",
   "execution_count": 27,
   "metadata": {},
   "outputs": [
    {
     "data": {
      "text/plain": [
       "<AxesSubplot:title={'center':'СРЕДНЕЕ КОЛИЧЕСТВО ЗВОНКОВ ТАРИФА SMART'}, xlabel='user_id'>"
      ]
     },
     "execution_count": 27,
     "metadata": {},
     "output_type": "execute_result"
    },
    {
     "data": {
      "image/png": "[encoded data removed]",
      "text/plain": [
       "<Figure size 648x216 with 1 Axes>"
      ]
     },
     "metadata": {
      "needs_background": "light"
     },
     "output_type": "display_data"
    },
    {
     "data": {
      "image/png": "[encoded data removed]",
      "text/plain": [
       "<Figure size 648x216 with 1 Axes>"
      ]
     },
     "metadata": {
      "needs_background": "light"
     },
     "output_type": "display_data"
    }
   ],
   "source": [
    "# распределение количества звонков по абонентам и тарифам\n",
    "data_monthly[data_monthly['tariff'] == 'ultra'].pivot_table(index='user_id',values='calls',aggfunc='mean').\\\n",
    "       plot(y='calls',color='red',figsize=(9,3),title='СРЕДНЕЕ КОЛИЧЕСТВО ЗВОНКОВ ТАРИФА ULTRA',grid=True)\n",
    "data_monthly[data_monthly['tariff'] == 'smart'].pivot_table(index='user_id',values='calls',aggfunc='mean').\\\n",
    "         plot(y='calls',color='green',figsize=(9,3),title='СРЕДНЕЕ КОЛИЧЕСТВО ЗВОНКОВ ТАРИФА SMART',grid=True)"
   ]
  },
  {
   "cell_type": "markdown",
   "metadata": {},
   "source": [
    "Видим что разброс в значениях среднего количества звонков больше для тарифа Ультра,но там и количество включенных минут больше."
   ]
  },
  {
   "cell_type": "markdown",
   "metadata": {},
   "source": [
    "9. Распределение среднего количества звонков по месяцам и по тарифам."
   ]
  },
  {
   "cell_type": "code",
   "execution_count": 28,
   "metadata": {},
   "outputs": [
    {
     "data": {
      "text/plain": [
       "Text(0.5, 1.0, 'СРЕДНЕЕ КОЛИЧЕСТВО ЗВОНКОВ ПО МЕСЯЦАМ ТАРИФА SMART')"
      ]
     },
     "execution_count": 28,
     "metadata": {},
     "output_type": "execute_result"
    },
    {
     "data": {
      "image/png": "[encoded data removed]",
      "text/plain": [
       "<Figure size 1080x216 with 2 Axes>"
      ]
     },
     "metadata": {
      "needs_background": "light"
     },
     "output_type": "display_data"
    }
   ],
   "source": [
    "#  Распределение среднего количества звонков по месяцам и по тарифам\n",
    "fig,(ax1,ax2)=plt.subplots(1,2,figsize=(15,3))\n",
    "data_monthly[data_monthly['tariff'] == 'ultra'].pivot_table(index='month',values='calls',aggfunc='mean').plot(y='calls',\\\n",
    "                                    grid=True,kind='bar',color='r',ax=ax1,subplots=True)\n",
    "ax1.set_title('СРЕДНЕЕ КОЛИЧЕСТВО ЗВОНКОВ ПО МЕСЯЦАМ ТАРИФА ULTRA')                         \n",
    "data_monthly[data_monthly['tariff'] == 'smart'].pivot_table(index='month',values='calls',aggfunc='mean').plot(y='calls',\\\n",
    "                                 grid=True,kind='bar',color='g',ax=ax2,subplots=True)\n",
    "ax2.set_title('СРЕДНЕЕ КОЛИЧЕСТВО ЗВОНКОВ ПО МЕСЯЦАМ ТАРИФА SMART')                                "
   ]
  },
  {
   "cell_type": "markdown",
   "metadata": {},
   "source": [
    "Здесь видим рост количества звонков с приближением Нового Года по двум тарифам."
   ]
  },
  {
   "cell_type": "markdown",
   "metadata": {},
   "source": [
    "9.1. Расчет среднемесячных значений продолжительности звонка,сообщений и трафика"
   ]
  },
  {
   "cell_type": "code",
   "execution_count": 29,
   "metadata": {},
   "outputs": [
    {
     "data": {
      "text/plain": [
       "'Таблица среднемесячных значений продолжительности звонка,сообщений и трафика для тарифа ULTRA'"
      ]
     },
     "metadata": {},
     "output_type": "display_data"
    },
    {
     "data": {
      "text/html": [
       "<div>\n",
       "<style scoped>\n",
       "    .dataframe tbody tr th:only-of-type {\n",
       "        vertical-align: middle;\n",
       "    }\n",
       "\n",
       "    .dataframe tbody tr th {\n",
       "        vertical-align: top;\n",
       "    }\n",
       "\n",
       "    .dataframe thead th {\n",
       "        text-align: right;\n",
       "    }\n",
       "</style>\n",
       "<table border=\"1\" class=\"dataframe\">\n",
       "  <thead>\n",
       "    <tr style=\"text-align: right;\">\n",
       "      <th>month</th>\n",
       "      <th>0.0</th>\n",
       "      <th>1.0</th>\n",
       "      <th>2.0</th>\n",
       "      <th>3.0</th>\n",
       "      <th>4.0</th>\n",
       "      <th>5.0</th>\n",
       "      <th>6.0</th>\n",
       "      <th>7.0</th>\n",
       "      <th>8.0</th>\n",
       "      <th>9.0</th>\n",
       "      <th>10.0</th>\n",
       "      <th>11.0</th>\n",
       "      <th>12.0</th>\n",
       "    </tr>\n",
       "  </thead>\n",
       "  <tbody>\n",
       "    <tr>\n",
       "      <th>duration</th>\n",
       "      <td>0.0</td>\n",
       "      <td>428.111111</td>\n",
       "      <td>297.125000</td>\n",
       "      <td>489.648649</td>\n",
       "      <td>458.018182</td>\n",
       "      <td>510.328358</td>\n",
       "      <td>479.702381</td>\n",
       "      <td>545.791209</td>\n",
       "      <td>510.775701</td>\n",
       "      <td>539.443478</td>\n",
       "      <td>558.081301</td>\n",
       "      <td>541.380597</td>\n",
       "      <td>592.805755</td>\n",
       "    </tr>\n",
       "    <tr>\n",
       "      <th>mb_used</th>\n",
       "      <td>0.0</td>\n",
       "      <td>13.222222</td>\n",
       "      <td>12.000000</td>\n",
       "      <td>17.648649</td>\n",
       "      <td>16.963636</td>\n",
       "      <td>19.373134</td>\n",
       "      <td>18.940476</td>\n",
       "      <td>20.505495</td>\n",
       "      <td>19.598131</td>\n",
       "      <td>19.243478</td>\n",
       "      <td>20.065041</td>\n",
       "      <td>19.805970</td>\n",
       "      <td>21.741007</td>\n",
       "    </tr>\n",
       "    <tr>\n",
       "      <th>messages</th>\n",
       "      <td>0.0</td>\n",
       "      <td>33.777778</td>\n",
       "      <td>21.958333</td>\n",
       "      <td>32.297297</td>\n",
       "      <td>31.563636</td>\n",
       "      <td>37.850746</td>\n",
       "      <td>41.726190</td>\n",
       "      <td>49.846154</td>\n",
       "      <td>48.439252</td>\n",
       "      <td>52.286957</td>\n",
       "      <td>58.430894</td>\n",
       "      <td>55.791045</td>\n",
       "      <td>60.611511</td>\n",
       "    </tr>\n",
       "  </tbody>\n",
       "</table>\n",
       "</div>"
      ],
      "text/plain": [
       "month     0.0         1.0         2.0         3.0         4.0         5.0   \\\n",
       "duration   0.0  428.111111  297.125000  489.648649  458.018182  510.328358   \n",
       "mb_used    0.0   13.222222   12.000000   17.648649   16.963636   19.373134   \n",
       "messages   0.0   33.777778   21.958333   32.297297   31.563636   37.850746   \n",
       "\n",
       "month           6.0         7.0         8.0         9.0         10.0  \\\n",
       "duration  479.702381  545.791209  510.775701  539.443478  558.081301   \n",
       "mb_used    18.940476   20.505495   19.598131   19.243478   20.065041   \n",
       "messages   41.726190   49.846154   48.439252   52.286957   58.430894   \n",
       "\n",
       "month           11.0        12.0  \n",
       "duration  541.380597  592.805755  \n",
       "mb_used    19.805970   21.741007  \n",
       "messages   55.791045   60.611511  "
      ]
     },
     "metadata": {},
     "output_type": "display_data"
    },
    {
     "data": {
      "text/html": [
       "<div>\n",
       "<style scoped>\n",
       "    .dataframe tbody tr th:only-of-type {\n",
       "        vertical-align: middle;\n",
       "    }\n",
       "\n",
       "    .dataframe tbody tr th {\n",
       "        vertical-align: top;\n",
       "    }\n",
       "\n",
       "    .dataframe thead th {\n",
       "        text-align: right;\n",
       "    }\n",
       "</style>\n",
       "<table border=\"1\" class=\"dataframe\">\n",
       "  <thead>\n",
       "    <tr style=\"text-align: right;\">\n",
       "      <th></th>\n",
       "      <th>count</th>\n",
       "      <th>mean</th>\n",
       "      <th>std</th>\n",
       "      <th>min</th>\n",
       "      <th>25%</th>\n",
       "      <th>50%</th>\n",
       "      <th>75%</th>\n",
       "      <th>max</th>\n",
       "    </tr>\n",
       "  </thead>\n",
       "  <tbody>\n",
       "    <tr>\n",
       "      <th>duration</th>\n",
       "      <td>13.0</td>\n",
       "      <td>457.785517</td>\n",
       "      <td>156.262385</td>\n",
       "      <td>0.0</td>\n",
       "      <td>458.018182</td>\n",
       "      <td>510.328358</td>\n",
       "      <td>541.380597</td>\n",
       "      <td>592.805755</td>\n",
       "    </tr>\n",
       "    <tr>\n",
       "      <th>mb_used</th>\n",
       "      <td>13.0</td>\n",
       "      <td>16.854403</td>\n",
       "      <td>5.785271</td>\n",
       "      <td>0.0</td>\n",
       "      <td>16.963636</td>\n",
       "      <td>19.243478</td>\n",
       "      <td>19.805970</td>\n",
       "      <td>21.741007</td>\n",
       "    </tr>\n",
       "    <tr>\n",
       "      <th>messages</th>\n",
       "      <td>13.0</td>\n",
       "      <td>40.352292</td>\n",
       "      <td>16.915805</td>\n",
       "      <td>0.0</td>\n",
       "      <td>32.297297</td>\n",
       "      <td>41.726190</td>\n",
       "      <td>52.286957</td>\n",
       "      <td>60.611511</td>\n",
       "    </tr>\n",
       "  </tbody>\n",
       "</table>\n",
       "</div>"
      ],
      "text/plain": [
       "          count        mean         std  min         25%         50%  \\\n",
       "duration   13.0  457.785517  156.262385  0.0  458.018182  510.328358   \n",
       "mb_used    13.0   16.854403    5.785271  0.0   16.963636   19.243478   \n",
       "messages   13.0   40.352292   16.915805  0.0   32.297297   41.726190   \n",
       "\n",
       "                 75%         max  \n",
       "duration  541.380597  592.805755  \n",
       "mb_used    19.805970   21.741007  \n",
       "messages   52.286957   60.611511  "
      ]
     },
     "metadata": {},
     "output_type": "display_data"
    },
    {
     "data": {
      "text/plain": [
       "'Таблица среднемесячных значений продолжительности звонка,сообщений и трафика для тарифа SMART'"
      ]
     },
     "metadata": {},
     "output_type": "display_data"
    },
    {
     "data": {
      "text/html": [
       "<div>\n",
       "<style scoped>\n",
       "    .dataframe tbody tr th:only-of-type {\n",
       "        vertical-align: middle;\n",
       "    }\n",
       "\n",
       "    .dataframe tbody tr th {\n",
       "        vertical-align: top;\n",
       "    }\n",
       "\n",
       "    .dataframe thead th {\n",
       "        text-align: right;\n",
       "    }\n",
       "</style>\n",
       "<table border=\"1\" class=\"dataframe\">\n",
       "  <thead>\n",
       "    <tr style=\"text-align: right;\">\n",
       "      <th>month</th>\n",
       "      <th>0.0</th>\n",
       "      <th>1.0</th>\n",
       "      <th>2.0</th>\n",
       "      <th>3.0</th>\n",
       "      <th>4.0</th>\n",
       "      <th>5.0</th>\n",
       "      <th>6.0</th>\n",
       "      <th>7.0</th>\n",
       "      <th>8.0</th>\n",
       "      <th>9.0</th>\n",
       "      <th>10.0</th>\n",
       "      <th>11.0</th>\n",
       "      <th>12.0</th>\n",
       "    </tr>\n",
       "  </thead>\n",
       "  <tbody>\n",
       "    <tr>\n",
       "      <th>duration</th>\n",
       "      <td>0.0</td>\n",
       "      <td>203.852941</td>\n",
       "      <td>298.689655</td>\n",
       "      <td>390.051948</td>\n",
       "      <td>367.133929</td>\n",
       "      <td>387.361702</td>\n",
       "      <td>395.640244</td>\n",
       "      <td>408.353234</td>\n",
       "      <td>421.468085</td>\n",
       "      <td>428.611538</td>\n",
       "      <td>426.136054</td>\n",
       "      <td>435.265823</td>\n",
       "      <td>478.560831</td>\n",
       "    </tr>\n",
       "    <tr>\n",
       "      <th>mb_used</th>\n",
       "      <td>0.0</td>\n",
       "      <td>8.735294</td>\n",
       "      <td>11.844828</td>\n",
       "      <td>15.233766</td>\n",
       "      <td>13.625000</td>\n",
       "      <td>15.907801</td>\n",
       "      <td>15.951220</td>\n",
       "      <td>15.875622</td>\n",
       "      <td>16.736170</td>\n",
       "      <td>16.392308</td>\n",
       "      <td>16.880952</td>\n",
       "      <td>17.000000</td>\n",
       "      <td>18.201780</td>\n",
       "    </tr>\n",
       "    <tr>\n",
       "      <th>messages</th>\n",
       "      <td>0.0</td>\n",
       "      <td>18.235294</td>\n",
       "      <td>24.086207</td>\n",
       "      <td>31.857143</td>\n",
       "      <td>30.741071</td>\n",
       "      <td>33.773050</td>\n",
       "      <td>33.402439</td>\n",
       "      <td>33.751244</td>\n",
       "      <td>33.638298</td>\n",
       "      <td>33.638462</td>\n",
       "      <td>33.765306</td>\n",
       "      <td>34.075949</td>\n",
       "      <td>35.994065</td>\n",
       "    </tr>\n",
       "  </tbody>\n",
       "</table>\n",
       "</div>"
      ],
      "text/plain": [
       "month     0.0         1.0         2.0         3.0         4.0         5.0   \\\n",
       "duration   0.0  203.852941  298.689655  390.051948  367.133929  387.361702   \n",
       "mb_used    0.0    8.735294   11.844828   15.233766   13.625000   15.907801   \n",
       "messages   0.0   18.235294   24.086207   31.857143   30.741071   33.773050   \n",
       "\n",
       "month           6.0         7.0         8.0         9.0         10.0  \\\n",
       "duration  395.640244  408.353234  421.468085  428.611538  426.136054   \n",
       "mb_used    15.951220   15.875622   16.736170   16.392308   16.880952   \n",
       "messages   33.402439   33.751244   33.638298   33.638462   33.765306   \n",
       "\n",
       "month           11.0        12.0  \n",
       "duration  435.265823  478.560831  \n",
       "mb_used    17.000000   18.201780  \n",
       "messages   34.075949   35.994065  "
      ]
     },
     "metadata": {},
     "output_type": "display_data"
    },
    {
     "data": {
      "text/html": [
       "<div>\n",
       "<style scoped>\n",
       "    .dataframe tbody tr th:only-of-type {\n",
       "        vertical-align: middle;\n",
       "    }\n",
       "\n",
       "    .dataframe tbody tr th {\n",
       "        vertical-align: top;\n",
       "    }\n",
       "\n",
       "    .dataframe thead th {\n",
       "        text-align: right;\n",
       "    }\n",
       "</style>\n",
       "<table border=\"1\" class=\"dataframe\">\n",
       "  <thead>\n",
       "    <tr style=\"text-align: right;\">\n",
       "      <th></th>\n",
       "      <th>count</th>\n",
       "      <th>mean</th>\n",
       "      <th>std</th>\n",
       "      <th>min</th>\n",
       "      <th>25%</th>\n",
       "      <th>50%</th>\n",
       "      <th>75%</th>\n",
       "      <th>max</th>\n",
       "    </tr>\n",
       "  </thead>\n",
       "  <tbody>\n",
       "    <tr>\n",
       "      <th>duration</th>\n",
       "      <td>13.0</td>\n",
       "      <td>357.009691</td>\n",
       "      <td>127.644368</td>\n",
       "      <td>0.0</td>\n",
       "      <td>367.133929</td>\n",
       "      <td>395.640244</td>\n",
       "      <td>426.136054</td>\n",
       "      <td>478.560831</td>\n",
       "    </tr>\n",
       "    <tr>\n",
       "      <th>mb_used</th>\n",
       "      <td>13.0</td>\n",
       "      <td>14.029595</td>\n",
       "      <td>4.908690</td>\n",
       "      <td>0.0</td>\n",
       "      <td>13.625000</td>\n",
       "      <td>15.907801</td>\n",
       "      <td>16.736170</td>\n",
       "      <td>18.201780</td>\n",
       "    </tr>\n",
       "    <tr>\n",
       "      <th>messages</th>\n",
       "      <td>13.0</td>\n",
       "      <td>28.996810</td>\n",
       "      <td>9.989061</td>\n",
       "      <td>0.0</td>\n",
       "      <td>30.741071</td>\n",
       "      <td>33.638298</td>\n",
       "      <td>33.765306</td>\n",
       "      <td>35.994065</td>\n",
       "    </tr>\n",
       "  </tbody>\n",
       "</table>\n",
       "</div>"
      ],
      "text/plain": [
       "          count        mean         std  min         25%         50%  \\\n",
       "duration   13.0  357.009691  127.644368  0.0  367.133929  395.640244   \n",
       "mb_used    13.0   14.029595    4.908690  0.0   13.625000   15.907801   \n",
       "messages   13.0   28.996810    9.989061  0.0   30.741071   33.638298   \n",
       "\n",
       "                 75%         max  \n",
       "duration  426.136054  478.560831  \n",
       "mb_used    16.736170   18.201780  \n",
       "messages   33.765306   35.994065  "
      ]
     },
     "execution_count": 29,
     "metadata": {},
     "output_type": "execute_result"
    }
   ],
   "source": [
    "display('Таблица среднемесячных значений продолжительности звонка,сообщений и трафика для тарифа ULTRA',\\\n",
    "     data_monthly[data_monthly['tariff'] == 'ultra'].pivot_table(index='month',values=['duration','messages','mb_used'],\\\n",
    "                    aggfunc={'duration':'mean','messages':'mean','mb_used':'mean'}).T)\n",
    "display(data_monthly[data_monthly['tariff'] == 'ultra'].pivot_table(index='month',values=['duration','messages','mb_used'],\\\n",
    "                    aggfunc={'duration':'mean','messages':'mean','mb_used':'mean'}).describe().T)\n",
    "display('Таблица среднемесячных значений продолжительности звонка,сообщений и трафика для тарифа SMART',\\\n",
    "     data_monthly[data_monthly['tariff'] == 'smart'].pivot_table(index='month',values=['duration','messages','mb_used'],\\\n",
    "                    aggfunc={'duration':'mean','messages':'mean','mb_used':'mean'}).T)\n",
    "data_monthly[data_monthly['tariff'] == 'smart'].pivot_table(index='month',values=['duration','messages','mb_used'],\\\n",
    "                    aggfunc={'duration':'mean','messages':'mean','mb_used':'mean'}).describe().T"
   ]
  },
  {
   "cell_type": "markdown",
   "metadata": {},
   "source": [
    "Анализируя представленные в таблицах результаты видим,что для тарифа ULTRA максимальные значения длительности разговоров,их средние значения, а также  для количества сообщений и интернет-трафика больше, чем для тарифа SMART.Это не удивительно,ведь\n",
    "в тарифе ULTRA гораздо большие включенные услуги.\n",
    "Для наглядного анализа ниже сделали визуализацию значений в таблицах."
   ]
  },
  {
   "cell_type": "markdown",
   "metadata": {},
   "source": [
    "10.1 Визуализация статистики для средних значений длительности звонков,количества сообщений и трафика."
   ]
  },
  {
   "cell_type": "code",
   "execution_count": 38,
   "metadata": {},
   "outputs": [
    {
     "data": {
      "text/plain": [
       "<AxesSubplot:title={'center':'СРЕДНИЙ РАЗМЕР ТРАФИКА В МЕСЯЦ ДЛЯ ДВУХ ТАРИФОВ'}, xlabel='month'>"
      ]
     },
     "execution_count": 38,
     "metadata": {},
     "output_type": "execute_result"
    },
    {
     "data": {
      "image/png": "[encoded data removed]",
      "text/plain": [
       "<Figure size 504x216 with 1 Axes>"
      ]
     },
     "metadata": {
      "needs_background": "light"
     },
     "output_type": "display_data"
    },
    {
     "data": {
      "image/png": "[encoded data removed]",
      "text/plain": [
       "<Figure size 504x216 with 1 Axes>"
      ]
     },
     "metadata": {
      "needs_background": "light"
     },
     "output_type": "display_data"
    },
    {
     "data": {
      "image/png": "[encoded data removed]",
      "text/plain": [
       "<Figure size 504x216 with 1 Axes>"
      ]
     },
     "metadata": {
      "needs_background": "light"
     },
     "output_type": "display_data"
    }
   ],
   "source": [
    "data_monthly.pivot_table(index='month',values='duration',columns='tariff',\\\n",
    "                    aggfunc='mean').plot(grid=True,figsize=(7,3),\\\n",
    "                title='СРЕДНЯЯ ДЛИТЕЛЬНОСТЬ ЗВОНКОВ В МЕСЯЦ ДЛЯ ДВУХ ТАРИФОВ')\n",
    "\n",
    "data_monthly.pivot_table(index='month',values='messages',columns='tariff',\\\n",
    "                    aggfunc='mean').plot(grid=True,figsize=(7,3),\\\n",
    "                    title='СРЕДНЕЕ ЧИСЛО СООБЩЕНИЙ В МЕСЯЦ ДЛЯ ДВУХ ТАРИФОВ')\n",
    "\n",
    "data_monthly.pivot_table(index='month',values='mb_used',columns='tariff',\\\n",
    "                    aggfunc='mean').plot(grid=True,figsize=(7,3),\\\n",
    "                     title='СРЕДНИЙ РАЗМЕР ТРАФИКА В МЕСЯЦ ДЛЯ ДВУХ ТАРИФОВ')\n"
   ]
  },
  {
   "cell_type": "markdown",
   "metadata": {},
   "source": [
    "В подтверждение выше рассмотренному анализу статистических результатов на графиках для двух тарифов видим визуальные \n",
    "различия в значениях среднего времени разговора,количестве сообщений и трафика."
   ]
  },
  {
   "cell_type": "markdown",
   "metadata": {},
   "source": [
    "11. Гистограммы длительности звонков,количества сообщений и трафика."
   ]
  },
  {
   "cell_type": "code",
   "execution_count": 31,
   "metadata": {},
   "outputs": [
    {
     "data": {
      "text/plain": [
       "Text(0.5, 1.0, 'ГИСТОГРАММА  ДЛИТЕЛЬНОСТИ ЗВОНКОВ SMART')"
      ]
     },
     "execution_count": 31,
     "metadata": {},
     "output_type": "execute_result"
    },
    {
     "data": {
      "image/png": "[encoded data removed]",
      "text/plain": [
       "<Figure size 936x360 with 2 Axes>"
      ]
     },
     "metadata": {
      "needs_background": "light"
     },
     "output_type": "display_data"
    }
   ],
   "source": [
    "#гистограмма  длительности звонков.\n",
    "fig,(ax1,ax2)=plt.subplots(1,2,figsize=(13,5))\n",
    "\n",
    "data_monthly[data_monthly['tariff'] == 'ultra']['duration'].plot(y='duration',kind='hist',bins=75,\\\n",
    "                        color='r',grid=True,subplots=True,ax=ax1)\n",
    "ax1.set_title('ГИСТОГРАММА ДЛИТЕЛЬНОСТИ ЗВОНКОВ ULTRA')\n",
    "\n",
    "data_monthly[data_monthly['tariff'] == 'smart']['duration'].plot(y='duration',kind='hist',bins=75,\\\n",
    "                    color='green',grid=True,subplots=True,ax=ax2)\n",
    "ax2.set_title('ГИСТОГРАММА  ДЛИТЕЛЬНОСТИ ЗВОНКОВ SMART')\n"
   ]
  },
  {
   "cell_type": "markdown",
   "metadata": {},
   "source": [
    "Абоненты тарифа ULTRA говорят особо не сдерживая себя(достаточно широкая гистограмма).\n",
    "Ну а абоненты SMART стараются уместится в лимит по длительности - видим что максимум разговоров в районе 500 минут"
   ]
  },
  {
   "cell_type": "code",
   "execution_count": 32,
   "metadata": {},
   "outputs": [
    {
     "data": {
      "text/plain": [
       "Text(0.5, 1.0, 'ГИСТОГРАММА КОЛИЧЕСТВА СООБЩЕНИЙ SMART')"
      ]
     },
     "execution_count": 32,
     "metadata": {},
     "output_type": "execute_result"
    },
    {
     "data": {
      "image/png": "[encoded data removed]",
      "text/plain": [
       "<Figure size 936x360 with 2 Axes>"
      ]
     },
     "metadata": {
      "needs_background": "light"
     },
     "output_type": "display_data"
    }
   ],
   "source": [
    "#гистограмма распределения  количества сообщений\n",
    "fig,(ax1,ax2)=plt.subplots(1,2,figsize=(13,5))\n",
    "data_monthly[data_monthly['tariff'] == 'ultra']['messages'].plot(y='messages',kind='hist',bins=35,\\\n",
    "                            color='red',grid=True,subplots=True,ax=ax1)\n",
    "ax1.set_title('ГИСТОГРАММА  КОЛИЧЕСТВА СООБЩЕНИЙ ULTRA')\n",
    "data_monthly[data_monthly['tariff'] == 'smart']['messages'].plot(y='messages',kind='hist',bins=35,\\\n",
    "                            color='green',grid=True,subplots=True,ax=ax2)\n",
    "ax2.set_title('ГИСТОГРАММА КОЛИЧЕСТВА СООБЩЕНИЙ SMART')\n"
   ]
  },
  {
   "cell_type": "markdown",
   "metadata": {},
   "source": [
    "Здесь абоненты SMART сберегая минуты активно смс отправляют, ну а ULTRA их поменьше-ведь можно спокойно и поговорить при таком\n",
    "лимите то."
   ]
  },
  {
   "cell_type": "code",
   "execution_count": 33,
   "metadata": {},
   "outputs": [
    {
     "data": {
      "text/plain": [
       "Text(0.5, 1.0, 'ГИСТОГРАММА  ОБЪЕМА ТРАФИКА SMART')"
      ]
     },
     "execution_count": 33,
     "metadata": {},
     "output_type": "execute_result"
    },
    {
     "data": {
      "image/png": "[encoded data removed]",
      "text/plain": [
       "<Figure size 936x360 with 2 Axes>"
      ]
     },
     "metadata": {
      "needs_background": "light"
     },
     "output_type": "display_data"
    }
   ],
   "source": [
    "#гистограмма распределения среднего объема трафика\n",
    "fig,(ax1,ax2)=plt.subplots(1,2,figsize=(13,5))\n",
    "data_monthly[data_monthly['tariff'] == 'ultra']['mb_used'].plot(y='mb_used',kind='hist',bins=35,\\\n",
    "                    color='red',grid=True,subplots=True,ax=ax1)\n",
    "ax1.set_title('ГИСТОГРАММА  ОБЪЕМА ТРАФИКА ULTRA')\n",
    "data_monthly[data_monthly['tariff'] == 'smart']['mb_used'].plot(y='mb_used',kind='hist',bins=35,\\\n",
    "                    color='green',grid=True,subplots=True,ax=ax2)\n",
    "ax2.set_title('ГИСТОГРАММА  ОБЪЕМА ТРАФИКА SMART')"
   ]
  },
  {
   "cell_type": "markdown",
   "metadata": {},
   "source": [
    "Абоненты SMART определяюще сконцентрированы в районе 15 Гб ведь иначе придется доплачивать за излишки.\n",
    "Абоненты ULTRA в среднем не особо выходят за лимит в 30 ГБ в своём большинстве и находятся в районе 20 Гб."
   ]
  },
  {
   "cell_type": "markdown",
   "metadata": {},
   "source": [
    "12. Гистограммы выручки для двух тарифов."
   ]
  },
  {
   "cell_type": "code",
   "execution_count": 34,
   "metadata": {},
   "outputs": [
    {
     "data": {
      "text/plain": [
       "Text(0.5, 1.0, 'ГИСТОГРАММА ВЫРУЧКИ ДЛЯ ТАРИФА SMART')"
      ]
     },
     "execution_count": 34,
     "metadata": {},
     "output_type": "execute_result"
    },
    {
     "data": {
      "image/png": "[encoded data removed]",
      "text/plain": [
       "<Figure size 936x360 with 2 Axes>"
      ]
     },
     "metadata": {
      "needs_background": "light"
     },
     "output_type": "display_data"
    }
   ],
   "source": [
    "fig,(ax1,ax2)=plt.subplots(1,2,figsize=(13,5))\n",
    "data_monthly[data_monthly['tariff'] == 'ultra']['total_pay'].plot(y='total_pay',kind='hist',bins=35,\\\n",
    "                        color='red',grid=True,subplots=True,ax=ax1)\n",
    "ax1.set_title('ГИСТОГРАММА ВЫРУЧКИ ДЛЯ ТАРИФА ULTRA')\n",
    "data_monthly[data_monthly['tariff'] == 'smart']['total_pay'].plot(y='total_pay',kind='hist',bins=35,\\\n",
    "                    color='green',grid=True,subplots=True,ax=ax2)\n",
    "ax2.set_title('ГИСТОГРАММА ВЫРУЧКИ ДЛЯ ТАРИФА SMART')\n",
    "\n"
   ]
  },
  {
   "cell_type": "markdown",
   "metadata": {},
   "source": [
    "Наконец то видим для тарифов пики с абанентской платой в 1950 рублей и 550 рублей - понятно что ее платят все что и видно\n",
    "на представленных гистограммах.Для ULTRA она доминирует, а вот абонентам SMART приходится доплачивать за перерасход(есть\n",
    "уширение вправо)."
   ]
  },
  {
   "cell_type": "markdown",
   "metadata": {},
   "source": [
    "  13. Гистограммы и рассчет средней выручки для Москвы и других городов."
   ]
  },
  {
   "cell_type": "code",
   "execution_count": 35,
   "metadata": {},
   "outputs": [
    {
     "name": "stdout",
     "output_type": "stream",
     "text": [
      "Средняя выручка для Москвы: 1546.71\n",
      " дисперсия:564710.71\n",
      " стандартное отклонение:751.47\n",
      "\n",
      "Средняя выручка для других городов: 1524.73\n",
      " дисперсия:653818.49\n",
      " стандартное отклонение:808.59\n",
      "\n"
     ]
    },
    {
     "data": {
      "image/png": "[encoded data removed]",
      "text/plain": [
       "<Figure size 936x360 with 2 Axes>"
      ]
     },
     "metadata": {
      "needs_background": "light"
     },
     "output_type": "display_data"
    }
   ],
   "source": [
    "#гистограммы и рассчет выручки для Москвы\n",
    "fig,(ax1,ax2)=plt.subplots(1,2,figsize=(13,5))\n",
    "data_monthly[data_monthly['city'] == 'Москва']['total_pay'].\\\n",
    "             plot(y='total_pay',kind='hist',bins=35,\\\n",
    "                    color='red',grid=True,subplots=True,ax=ax1)\n",
    "ax1.set_title('ГИСТОГРАММА ВЫРУЧКИ ДЛЯ МОСКВЫ')\n",
    "\n",
    "#гистограммы и рассчет  выручки для других городов\n",
    "data_monthly[data_monthly['city'] != 'Москва']['total_pay'].\\\n",
    "             plot(y='sum_rub_ultra',kind='hist',bins=35,\\\n",
    "                    color='g',grid=True,subplots=True,ax=ax2)\n",
    "ax2.set_title('ГИСТОГРАММА ВЫРУЧКИ ДЛЯ ДРУГИХ ГОРОДОВ')\n",
    "\n",
    "# расчет статистики выручки по Москве\n",
    "print('Средняя выручка для Москвы: {:.2f}\\n'.format(\n",
    "    data_monthly[data_monthly['city'] == 'Москва']['total_pay'].mean()\n",
    "),'дисперсия:{:.2f}\\n'.format(\n",
    "    np.var(data_monthly[data_monthly['city'] == 'Москва']['total_pay'])\n",
    "),'стандартное отклонение:{:.2f}\\n'.format(\n",
    "    np.std(data_monthly[data_monthly['city'] == 'Москва']['total_pay'])))\n",
    "\n",
    "# расчет статистики выручки для других городов\n",
    "print('Средняя выручка для других городов: {:.2f}\\n'.format(\n",
    "    data_monthly[data_monthly['city'] != 'Москва']['total_pay'].mean()\n",
    "),'дисперсия:{:.2f}\\n'.format(\n",
    "    np.var(data_monthly[data_monthly['city'] != 'Москва']['total_pay'])\n",
    "),'стандартное отклонение:{:.2f}\\n'.format(\n",
    "    np.std(data_monthly[data_monthly['city'] != 'Москва']['total_pay'])))\n"
   ]
  },
  {
   "cell_type": "markdown",
   "metadata": {},
   "source": [
    "Видим практически равенство средних значений выручки для Москвы и других городов(поговорить любят многие) и два характерных пика в выручке для каждого тарифа соответствующих абонентским платам. "
   ]
  },
  {
   "cell_type": "markdown",
   "metadata": {},
   "source": [
    "   14. Гипотезы.  "
   ]
  },
  {
   "cell_type": "markdown",
   "metadata": {},
   "source": [
    "14.1.Гипотеза о средней выручке пользователей тарифов ULTRA и SMART.\n",
    "Сформулируем нулевую гипотезу: средняя выручка пользователей тарифов Smart и Ultra одинакова. Альтернативная гипотеза: средняя выручка пользователей тарифов Smart и Ultra отличается."
   ]
  },
  {
   "cell_type": "code",
   "execution_count": 40,
   "metadata": {},
   "outputs": [
    {
     "name": "stdout",
     "output_type": "stream",
     "text": [
      "p-value гипотезы 1: 1.927011394420941e-250 \n",
      " критическое значение:  0.05\n",
      "Отвергаем нулевую гипотезу\n"
     ]
    }
   ],
   "source": [
    "hypot_1 = st.ttest_ind(data_monthly[data_monthly['tariff'] == 'ultra']['total_pay'],\n",
    "             data_monthly[data_monthly['tariff'] == 'smart']['total_pay'],\n",
    "            equal_var=False)\n",
    "alpha=0.05\n",
    "print('p-value гипотезы 1:', hypot_1.pvalue, '\\n критическое значение: ', alpha)\n",
    "if hypot_1.pvalue < alpha:\n",
    "    print(\"Отвергаем нулевую гипотезу\")\n",
    "else:\n",
    "    print(\"Не получилось отвергнуть нулевую гипотезу\") "
   ]
  },
  {
   "cell_type": "markdown",
   "metadata": {},
   "source": [
    "Как и наблюдалось в статистических расчетах видим,что и гипотеза о равенстве тарифов не является верной.\n",
    "Таким образом средние выручки пользователей разных тарифов статистически значимо отличаются"
   ]
  },
  {
   "cell_type": "markdown",
   "metadata": {},
   "source": [
    "14.2.Гипотеза о средней выручке пользователей в Москве и других городах.\n",
    "Сформулируем нулевую гипотезу: средняя выручка пользователей из Москвы и других регионов одинаковая.\n",
    "Альтернативная гипотеза: средняя выручка пользователей из Москвы и других регионов  отличается."
   ]
  },
  {
   "cell_type": "markdown",
   "metadata": {},
   "source": [
    "КОММЕНТАРИЙ СТУДЕНТА: просто хотел поэкспериментировать"
   ]
  },
  {
   "cell_type": "code",
   "execution_count": 39,
   "metadata": {},
   "outputs": [
    {
     "name": "stdout",
     "output_type": "stream",
     "text": [
      "p-value гипотезы 2:  0.5216952110000279 ,\n",
      " критическое значение:  0.05\n",
      "Не получилось отвергнуть нулевую гипотезу\n"
     ]
    }
   ],
   "source": [
    "hypot_2 = st.ttest_ind(data_monthly[data_monthly['city'] != 'Москва']['total_pay'],\n",
    "             data_monthly[data_monthly['city'] == 'Москва']['total_pay'],\n",
    "            equal_var=False)\n",
    "alpha=0.05\n",
    "print('p-value гипотезы 2: ', hypot_2.pvalue, ',\\n критическое значение: ', alpha)\n",
    "if hypot_2.pvalue < alpha:\n",
    "    print(\"Отвергаем нулевую гипотезу\")\n",
    "else:\n",
    "    print(\"Не получилось отвергнуть нулевую гипотезу\")"
   ]
  },
  {
   "cell_type": "markdown",
   "metadata": {},
   "source": [
    "Принимаем нулевую гипотезу о равенстве средней выручки для Москвы и других городов,т.е.\n",
    "средняя выручка абонентов из Москвы и других городов статистически значимо не отличаеся."
   ]
  },
  {
   "cell_type": "markdown",
   "metadata": {},
   "source": [
    "15.  Общий вывод проекта.\n",
    "\n",
    "Проведен анализ финансовых показателей для двух тарифов по двум выборкам.В выборке тарифа ULTRA 149 абонентов,в выборке\n",
    "SMART 351 абонентов.Для \"чистоты \" эксперимента хотелось бы иметь выборки с близкими количествами абонентов-но что есть то и анализируем.\n",
    "Длительность разговоров и количество сообщений в тарифе ULTRA больше на 21-25%,чем в тарифе SMART,тогда как интернет трафик\n",
    "меньше на 8,3%.\n",
    "Пользователи тарифа ULTRA в среднем потребляют больше  услуг, чем пользователи тарифа SMART,но не израсходывают свои лимиты по звонкам и сообщениям.Пользователи тарифа SMART часто превышают пакетные лимиты.\n",
    "Абоненты пакета ULTRA, обеспечивают большую среднюю выручку, за счёт существенно большей стоимостью тарифа. Различие между средней выручкой пользователей различных тарифов статистически значимо.\n",
    "Средняя продолжительность звонка у абонентов разных тарифов статистически значимо не отличается.\n",
    "Абоненты Москвы по своей средней выручке статистически значимо не отличаются от абонентов других городов.\n",
    "Исходя из проведённых анализов можно сделать вывод, что с коммерческой точки зрения более перспективным является тариф ULTRA, поскольку он обеспечивает более высокую среднюю выручку.\n"
   ]
  }
 ],
 "metadata": {
  "ExecuteTimeLog": [
   {
    "duration": 71,
    "start_time": "2022-03-22T13:20:21.911Z"
   },
   {
    "duration": 1934,
    "start_time": "2022-03-22T13:20:33.823Z"
   },
   {
    "duration": 6,
    "start_time": "2022-03-22T13:20:48.758Z"
   },
   {
    "duration": 516,
    "start_time": "2022-03-22T13:20:56.434Z"
   },
   {
    "duration": 6,
    "start_time": "2022-03-22T13:27:09.675Z"
   },
   {
    "duration": 523,
    "start_time": "2022-03-22T13:27:15.193Z"
   },
   {
    "duration": 11,
    "start_time": "2022-03-22T13:27:26.023Z"
   },
   {
    "duration": 22,
    "start_time": "2022-03-22T13:27:29.839Z"
   },
   {
    "duration": 68,
    "start_time": "2022-03-22T13:27:35.673Z"
   },
   {
    "duration": 13,
    "start_time": "2022-03-22T13:27:39.678Z"
   },
   {
    "duration": 78,
    "start_time": "2022-03-22T13:27:44.127Z"
   },
   {
    "duration": 15,
    "start_time": "2022-03-22T13:27:48.032Z"
   },
   {
    "duration": 50,
    "start_time": "2022-03-22T13:27:53.672Z"
   },
   {
    "duration": 19,
    "start_time": "2022-03-22T13:27:57.519Z"
   },
   {
    "duration": 12,
    "start_time": "2022-03-22T13:28:02.314Z"
   },
   {
    "duration": 405,
    "start_time": "2022-03-22T13:28:08.880Z"
   },
   {
    "duration": 354,
    "start_time": "2022-03-22T13:53:12.772Z"
   },
   {
    "duration": 144,
    "start_time": "2022-03-22T13:53:59.343Z"
   },
   {
    "duration": 356,
    "start_time": "2022-03-22T13:54:10.662Z"
   },
   {
    "duration": 368,
    "start_time": "2022-03-22T13:55:17.851Z"
   },
   {
    "duration": 362,
    "start_time": "2022-03-22T13:56:39.753Z"
   },
   {
    "duration": 481,
    "start_time": "2022-03-22T14:17:57.015Z"
   },
   {
    "duration": 353,
    "start_time": "2022-03-22T14:20:30.796Z"
   },
   {
    "duration": 368,
    "start_time": "2022-03-22T14:20:44.179Z"
   },
   {
    "duration": 596,
    "start_time": "2022-03-22T14:21:12.695Z"
   },
   {
    "duration": 461,
    "start_time": "2022-03-22T14:21:54.809Z"
   },
   {
    "duration": 571,
    "start_time": "2022-03-22T14:22:19.690Z"
   },
   {
    "duration": 451,
    "start_time": "2022-03-22T14:26:55.598Z"
   },
   {
    "duration": 473,
    "start_time": "2022-03-22T14:27:32.531Z"
   },
   {
    "duration": 459,
    "start_time": "2022-03-22T14:27:57.801Z"
   },
   {
    "duration": 461,
    "start_time": "2022-03-22T14:28:26.080Z"
   },
   {
    "duration": 523,
    "start_time": "2022-03-22T14:43:38.844Z"
   },
   {
    "duration": 487,
    "start_time": "2022-03-22T14:44:19.748Z"
   },
   {
    "duration": 379,
    "start_time": "2022-03-22T14:47:40.729Z"
   },
   {
    "duration": 485,
    "start_time": "2022-03-22T14:47:49.979Z"
   },
   {
    "duration": 590,
    "start_time": "2022-03-22T14:48:28.104Z"
   },
   {
    "duration": 594,
    "start_time": "2022-03-22T15:04:10.095Z"
   },
   {
    "duration": 366,
    "start_time": "2022-03-22T15:04:46.702Z"
   },
   {
    "duration": 116,
    "start_time": "2022-03-22T15:21:15.056Z"
   },
   {
    "duration": 456,
    "start_time": "2022-03-22T15:22:25.310Z"
   },
   {
    "duration": 451,
    "start_time": "2022-03-22T15:24:28.356Z"
   },
   {
    "duration": 522,
    "start_time": "2022-03-22T15:25:02.765Z"
   },
   {
    "duration": 459,
    "start_time": "2022-03-22T15:25:49.391Z"
   },
   {
    "duration": 364,
    "start_time": "2022-03-22T15:28:29.532Z"
   },
   {
    "duration": 531,
    "start_time": "2022-03-22T15:56:03.340Z"
   },
   {
    "duration": 467,
    "start_time": "2022-03-22T15:57:17.520Z"
   },
   {
    "duration": 399,
    "start_time": "2022-03-22T16:01:59.942Z"
   },
   {
    "duration": 31,
    "start_time": "2022-03-22T16:12:17.934Z"
   },
   {
    "duration": 35,
    "start_time": "2022-03-22T16:12:38.804Z"
   },
   {
    "duration": 30,
    "start_time": "2022-03-22T16:12:42.814Z"
   },
   {
    "duration": 39,
    "start_time": "2022-03-22T16:13:29.007Z"
   },
   {
    "duration": 36,
    "start_time": "2022-03-22T16:13:32.244Z"
   },
   {
    "duration": 38,
    "start_time": "2022-03-22T16:14:06.525Z"
   },
   {
    "duration": 40,
    "start_time": "2022-03-22T16:14:09.327Z"
   },
   {
    "duration": 40,
    "start_time": "2022-03-22T16:14:18.478Z"
   },
   {
    "duration": 39,
    "start_time": "2022-03-22T16:14:21.157Z"
   },
   {
    "duration": 1546,
    "start_time": "2022-03-22T16:14:52.554Z"
   },
   {
    "duration": 1241,
    "start_time": "2022-03-22T16:14:54.103Z"
   },
   {
    "duration": 11,
    "start_time": "2022-03-22T16:14:55.346Z"
   },
   {
    "duration": 27,
    "start_time": "2022-03-22T16:14:55.359Z"
   },
   {
    "duration": 65,
    "start_time": "2022-03-22T16:14:55.389Z"
   },
   {
    "duration": 29,
    "start_time": "2022-03-22T16:14:55.456Z"
   },
   {
    "duration": 100,
    "start_time": "2022-03-22T16:14:55.487Z"
   },
   {
    "duration": 14,
    "start_time": "2022-03-22T16:14:55.589Z"
   },
   {
    "duration": 52,
    "start_time": "2022-03-22T16:14:55.605Z"
   },
   {
    "duration": 39,
    "start_time": "2022-03-22T16:14:55.659Z"
   },
   {
    "duration": 12,
    "start_time": "2022-03-22T16:14:55.700Z"
   },
   {
    "duration": 527,
    "start_time": "2022-03-22T16:14:55.715Z"
   },
   {
    "duration": 50,
    "start_time": "2022-03-22T16:14:56.245Z"
   },
   {
    "duration": 33,
    "start_time": "2022-03-22T16:14:56.299Z"
   },
   {
    "duration": 52,
    "start_time": "2022-03-22T16:18:45.159Z"
   },
   {
    "duration": 34,
    "start_time": "2022-03-22T16:18:50.963Z"
   },
   {
    "duration": 52,
    "start_time": "2022-03-22T16:20:37.879Z"
   },
   {
    "duration": 33,
    "start_time": "2022-03-22T16:20:40.525Z"
   },
   {
    "duration": 75,
    "start_time": "2022-03-22T16:22:38.018Z"
   },
   {
    "duration": 95,
    "start_time": "2022-03-22T16:31:17.995Z"
   },
   {
    "duration": 80,
    "start_time": "2022-03-22T16:31:30.203Z"
   },
   {
    "duration": 81,
    "start_time": "2022-03-22T16:33:35.954Z"
   },
   {
    "duration": 144,
    "start_time": "2022-03-22T17:07:55.386Z"
   },
   {
    "duration": 7,
    "start_time": "2022-03-22T17:08:06.065Z"
   },
   {
    "duration": 529,
    "start_time": "2022-03-22T17:08:09.503Z"
   },
   {
    "duration": 11,
    "start_time": "2022-03-22T17:08:13.499Z"
   },
   {
    "duration": 16,
    "start_time": "2022-03-22T17:08:19.165Z"
   },
   {
    "duration": 63,
    "start_time": "2022-03-22T17:08:29.565Z"
   },
   {
    "duration": 14,
    "start_time": "2022-03-22T17:08:35.701Z"
   },
   {
    "duration": 81,
    "start_time": "2022-03-22T17:08:40.634Z"
   },
   {
    "duration": 16,
    "start_time": "2022-03-22T17:08:45.824Z"
   },
   {
    "duration": 48,
    "start_time": "2022-03-22T17:08:49.920Z"
   },
   {
    "duration": 17,
    "start_time": "2022-03-22T17:08:52.900Z"
   },
   {
    "duration": 13,
    "start_time": "2022-03-22T17:08:57.984Z"
   },
   {
    "duration": 388,
    "start_time": "2022-03-22T17:09:02.514Z"
   },
   {
    "duration": 52,
    "start_time": "2022-03-22T17:09:09.223Z"
   },
   {
    "duration": 101,
    "start_time": "2022-03-22T17:09:12.498Z"
   },
   {
    "duration": 576,
    "start_time": "2022-03-22T17:22:27.295Z"
   },
   {
    "duration": 650,
    "start_time": "2022-03-22T17:49:18.276Z"
   },
   {
    "duration": 599,
    "start_time": "2022-03-22T17:49:43.300Z"
   },
   {
    "duration": 610,
    "start_time": "2022-03-22T17:49:58.461Z"
   },
   {
    "duration": 369,
    "start_time": "2022-03-22T17:50:41.502Z"
   },
   {
    "duration": 55,
    "start_time": "2022-03-22T17:51:01.212Z"
   },
   {
    "duration": 79,
    "start_time": "2022-03-22T17:51:08.090Z"
   },
   {
    "duration": 608,
    "start_time": "2022-03-22T17:51:17.569Z"
   },
   {
    "duration": 572,
    "start_time": "2022-03-22T17:52:29.581Z"
   },
   {
    "duration": 785,
    "start_time": "2022-03-22T17:54:10.087Z"
   },
   {
    "duration": 602,
    "start_time": "2022-03-22T17:56:25.295Z"
   },
   {
    "duration": 397,
    "start_time": "2022-03-22T17:58:06.281Z"
   },
   {
    "duration": 581,
    "start_time": "2022-03-22T18:01:20.032Z"
   },
   {
    "duration": 4043,
    "start_time": "2022-03-22T18:07:56.019Z"
   },
   {
    "duration": 111,
    "start_time": "2022-03-22T18:21:02.058Z"
   },
   {
    "duration": 33,
    "start_time": "2022-03-22T18:21:06.103Z"
   },
   {
    "duration": 74,
    "start_time": "2022-03-22T18:21:45.795Z"
   },
   {
    "duration": 103,
    "start_time": "2022-03-22T18:24:23.678Z"
   },
   {
    "duration": 83,
    "start_time": "2022-03-22T18:24:27.557Z"
   },
   {
    "duration": 176,
    "start_time": "2022-03-22T18:25:08.428Z"
   },
   {
    "duration": 115,
    "start_time": "2022-03-22T18:25:20.392Z"
   },
   {
    "duration": 561,
    "start_time": "2022-03-22T18:27:46.624Z"
   },
   {
    "duration": 1256,
    "start_time": "2022-03-23T05:13:33.477Z"
   },
   {
    "duration": 4,
    "start_time": "2022-03-23T05:13:38.554Z"
   },
   {
    "duration": 375,
    "start_time": "2022-03-23T05:13:40.965Z"
   },
   {
    "duration": 7,
    "start_time": "2022-03-23T05:13:49.400Z"
   },
   {
    "duration": 14,
    "start_time": "2022-03-23T05:13:52.729Z"
   },
   {
    "duration": 45,
    "start_time": "2022-03-23T05:13:58.846Z"
   },
   {
    "duration": 32,
    "start_time": "2022-03-23T05:14:03.291Z"
   },
   {
    "duration": 9,
    "start_time": "2022-03-23T05:14:06.393Z"
   },
   {
    "duration": 55,
    "start_time": "2022-03-23T05:14:14.021Z"
   },
   {
    "duration": 10,
    "start_time": "2022-03-23T05:14:17.554Z"
   },
   {
    "duration": 33,
    "start_time": "2022-03-23T05:14:24.166Z"
   },
   {
    "duration": 12,
    "start_time": "2022-03-23T05:14:27.404Z"
   },
   {
    "duration": 7,
    "start_time": "2022-03-23T05:14:33.837Z"
   },
   {
    "duration": 275,
    "start_time": "2022-03-23T05:14:37.341Z"
   },
   {
    "duration": 30,
    "start_time": "2022-03-23T05:14:42.461Z"
   },
   {
    "duration": 420,
    "start_time": "2022-03-23T05:14:50.459Z"
   },
   {
    "duration": 58,
    "start_time": "2022-03-23T05:14:58.655Z"
   },
   {
    "duration": 45,
    "start_time": "2022-03-23T05:15:06.595Z"
   },
   {
    "duration": 1364,
    "start_time": "2022-03-23T12:27:46.130Z"
   },
   {
    "duration": 474,
    "start_time": "2022-03-23T12:27:51.051Z"
   },
   {
    "duration": 9,
    "start_time": "2022-03-23T12:27:57.409Z"
   },
   {
    "duration": 15,
    "start_time": "2022-03-23T12:28:00.688Z"
   },
   {
    "duration": 44,
    "start_time": "2022-03-23T12:28:09.894Z"
   },
   {
    "duration": 10,
    "start_time": "2022-03-23T12:28:14.621Z"
   },
   {
    "duration": 31,
    "start_time": "2022-03-23T12:28:26.936Z"
   },
   {
    "duration": 10,
    "start_time": "2022-03-23T12:28:30.570Z"
   },
   {
    "duration": 88,
    "start_time": "2022-03-23T12:28:38.157Z"
   },
   {
    "duration": 12,
    "start_time": "2022-03-23T12:28:41.569Z"
   },
   {
    "duration": 34,
    "start_time": "2022-03-23T12:28:46.921Z"
   },
   {
    "duration": 12,
    "start_time": "2022-03-23T12:28:50.969Z"
   },
   {
    "duration": 8,
    "start_time": "2022-03-23T12:28:55.820Z"
   },
   {
    "duration": 265,
    "start_time": "2022-03-23T12:28:59.651Z"
   },
   {
    "duration": 51,
    "start_time": "2022-03-23T12:29:04.340Z"
   },
   {
    "duration": 4,
    "start_time": "2022-03-23T12:39:05.289Z"
   },
   {
    "duration": 22,
    "start_time": "2022-03-23T12:39:14.691Z"
   },
   {
    "duration": 152,
    "start_time": "2022-03-23T12:45:04.288Z"
   },
   {
    "duration": 150,
    "start_time": "2022-03-23T12:52:24.533Z"
   },
   {
    "duration": 101,
    "start_time": "2022-03-23T12:56:02.248Z"
   },
   {
    "duration": 173,
    "start_time": "2022-03-23T12:56:25.895Z"
   },
   {
    "duration": 171,
    "start_time": "2022-03-23T12:56:50.398Z"
   },
   {
    "duration": 213,
    "start_time": "2022-03-23T12:57:02.207Z"
   },
   {
    "duration": 155,
    "start_time": "2022-03-23T13:10:58.257Z"
   },
   {
    "duration": 183,
    "start_time": "2022-03-23T13:11:46.739Z"
   },
   {
    "duration": 332,
    "start_time": "2022-03-23T13:19:42.118Z"
   },
   {
    "duration": 319,
    "start_time": "2022-03-23T13:22:05.517Z"
   },
   {
    "duration": 69,
    "start_time": "2022-03-23T13:22:16.935Z"
   },
   {
    "duration": 20,
    "start_time": "2022-03-23T13:22:23.370Z"
   },
   {
    "duration": 138,
    "start_time": "2022-03-23T13:22:30.048Z"
   },
   {
    "duration": 162,
    "start_time": "2022-03-23T13:22:36.686Z"
   },
   {
    "duration": 160,
    "start_time": "2022-03-23T13:22:44.776Z"
   },
   {
    "duration": 520,
    "start_time": "2022-03-23T13:24:28.634Z"
   },
   {
    "duration": 77,
    "start_time": "2022-03-23T13:24:33.880Z"
   },
   {
    "duration": 21,
    "start_time": "2022-03-23T13:24:37.801Z"
   },
   {
    "duration": 139,
    "start_time": "2022-03-23T13:24:44.177Z"
   },
   {
    "duration": 164,
    "start_time": "2022-03-23T13:24:52.014Z"
   },
   {
    "duration": 152,
    "start_time": "2022-03-23T13:25:22.805Z"
   },
   {
    "duration": 165,
    "start_time": "2022-03-23T13:28:38.053Z"
   },
   {
    "duration": 157,
    "start_time": "2022-03-23T13:29:06.767Z"
   },
   {
    "duration": 163,
    "start_time": "2022-03-23T13:30:38.891Z"
   },
   {
    "duration": 4,
    "start_time": "2022-03-23T13:31:16.008Z"
   },
   {
    "duration": 397,
    "start_time": "2022-03-23T13:31:19.370Z"
   },
   {
    "duration": 7,
    "start_time": "2022-03-23T13:31:22.887Z"
   },
   {
    "duration": 11,
    "start_time": "2022-03-23T13:31:26.852Z"
   },
   {
    "duration": 43,
    "start_time": "2022-03-23T13:31:33.569Z"
   },
   {
    "duration": 9,
    "start_time": "2022-03-23T13:31:37.328Z"
   },
   {
    "duration": 53,
    "start_time": "2022-03-23T13:31:43.053Z"
   },
   {
    "duration": 11,
    "start_time": "2022-03-23T13:31:46.006Z"
   },
   {
    "duration": 32,
    "start_time": "2022-03-23T13:31:50.374Z"
   },
   {
    "duration": 13,
    "start_time": "2022-03-23T13:31:53.444Z"
   },
   {
    "duration": 9,
    "start_time": "2022-03-23T13:32:00.127Z"
   },
   {
    "duration": 526,
    "start_time": "2022-03-23T13:32:05.259Z"
   },
   {
    "duration": 76,
    "start_time": "2022-03-23T13:32:10.210Z"
   },
   {
    "duration": 22,
    "start_time": "2022-03-23T13:32:14.997Z"
   },
   {
    "duration": 143,
    "start_time": "2022-03-23T13:32:20.197Z"
   },
   {
    "duration": 254,
    "start_time": "2022-03-23T13:32:25.926Z"
   },
   {
    "duration": 156,
    "start_time": "2022-03-23T13:32:37.247Z"
   },
   {
    "duration": 1200,
    "start_time": "2022-03-23T13:35:06.620Z"
   },
   {
    "duration": 402,
    "start_time": "2022-03-23T13:35:07.822Z"
   },
   {
    "duration": 8,
    "start_time": "2022-03-23T13:35:08.225Z"
   },
   {
    "duration": 19,
    "start_time": "2022-03-23T13:35:08.235Z"
   },
   {
    "duration": 48,
    "start_time": "2022-03-23T13:35:08.257Z"
   },
   {
    "duration": 9,
    "start_time": "2022-03-23T13:35:08.307Z"
   },
   {
    "duration": 62,
    "start_time": "2022-03-23T13:35:08.334Z"
   },
   {
    "duration": 9,
    "start_time": "2022-03-23T13:35:08.398Z"
   },
   {
    "duration": 53,
    "start_time": "2022-03-23T13:35:08.409Z"
   },
   {
    "duration": 12,
    "start_time": "2022-03-23T13:35:08.463Z"
   },
   {
    "duration": 12,
    "start_time": "2022-03-23T13:35:08.477Z"
   },
   {
    "duration": 582,
    "start_time": "2022-03-23T13:35:08.491Z"
   },
   {
    "duration": 88,
    "start_time": "2022-03-23T13:35:09.075Z"
   },
   {
    "duration": 20,
    "start_time": "2022-03-23T13:35:09.167Z"
   },
   {
    "duration": 175,
    "start_time": "2022-03-23T13:35:09.190Z"
   },
   {
    "duration": 180,
    "start_time": "2022-03-23T13:35:09.367Z"
   },
   {
    "duration": 110,
    "start_time": "2022-03-23T13:35:09.549Z"
   },
   {
    "duration": 0,
    "start_time": "2022-03-23T13:35:09.661Z"
   },
   {
    "duration": 0,
    "start_time": "2022-03-23T13:35:09.662Z"
   },
   {
    "duration": 0,
    "start_time": "2022-03-23T13:35:09.663Z"
   },
   {
    "duration": 0,
    "start_time": "2022-03-23T13:35:09.664Z"
   },
   {
    "duration": 0,
    "start_time": "2022-03-23T13:35:09.665Z"
   },
   {
    "duration": 1173,
    "start_time": "2022-03-23T13:36:08.295Z"
   },
   {
    "duration": 417,
    "start_time": "2022-03-23T13:36:09.470Z"
   },
   {
    "duration": 9,
    "start_time": "2022-03-23T13:36:09.888Z"
   },
   {
    "duration": 20,
    "start_time": "2022-03-23T13:36:09.901Z"
   },
   {
    "duration": 53,
    "start_time": "2022-03-23T13:36:09.922Z"
   },
   {
    "duration": 12,
    "start_time": "2022-03-23T13:36:09.977Z"
   },
   {
    "duration": 77,
    "start_time": "2022-03-23T13:36:09.990Z"
   },
   {
    "duration": 10,
    "start_time": "2022-03-23T13:36:10.069Z"
   },
   {
    "duration": 42,
    "start_time": "2022-03-23T13:36:10.080Z"
   },
   {
    "duration": 21,
    "start_time": "2022-03-23T13:36:10.124Z"
   },
   {
    "duration": 18,
    "start_time": "2022-03-23T13:36:10.146Z"
   },
   {
    "duration": 587,
    "start_time": "2022-03-23T13:36:10.165Z"
   },
   {
    "duration": 86,
    "start_time": "2022-03-23T13:36:10.754Z"
   },
   {
    "duration": 22,
    "start_time": "2022-03-23T13:36:10.842Z"
   },
   {
    "duration": 185,
    "start_time": "2022-03-23T13:36:10.866Z"
   },
   {
    "duration": 197,
    "start_time": "2022-03-23T13:36:11.053Z"
   },
   {
    "duration": 169,
    "start_time": "2022-03-23T13:36:11.252Z"
   },
   {
    "duration": 3,
    "start_time": "2022-03-23T13:36:11.423Z"
   },
   {
    "duration": 428,
    "start_time": "2022-03-23T13:36:11.432Z"
   },
   {
    "duration": 80,
    "start_time": "2022-03-23T13:36:11.862Z"
   },
   {
    "duration": 49,
    "start_time": "2022-03-23T13:36:11.944Z"
   },
   {
    "duration": 264,
    "start_time": "2022-03-23T13:36:31.445Z"
   },
   {
    "duration": 154,
    "start_time": "2022-03-23T13:36:41.285Z"
   },
   {
    "duration": 602,
    "start_time": "2022-03-23T13:44:32.870Z"
   },
   {
    "duration": 79,
    "start_time": "2022-03-23T13:44:37.367Z"
   },
   {
    "duration": 21,
    "start_time": "2022-03-23T13:44:42.294Z"
   },
   {
    "duration": 144,
    "start_time": "2022-03-23T13:44:47.216Z"
   },
   {
    "duration": 172,
    "start_time": "2022-03-23T13:44:53.045Z"
   },
   {
    "duration": 178,
    "start_time": "2022-03-23T13:44:58.008Z"
   },
   {
    "duration": 417,
    "start_time": "2022-03-23T13:48:20.090Z"
   },
   {
    "duration": 74,
    "start_time": "2022-03-23T13:48:24.450Z"
   },
   {
    "duration": 21,
    "start_time": "2022-03-23T13:48:28.776Z"
   },
   {
    "duration": 144,
    "start_time": "2022-03-23T13:48:33.956Z"
   },
   {
    "duration": 168,
    "start_time": "2022-03-23T13:48:39.389Z"
   },
   {
    "duration": 167,
    "start_time": "2022-03-23T13:48:44.911Z"
   },
   {
    "duration": 173,
    "start_time": "2022-03-23T13:52:57.790Z"
   },
   {
    "duration": 170,
    "start_time": "2022-03-23T13:53:51.114Z"
   },
   {
    "duration": 349,
    "start_time": "2022-03-23T13:55:16.630Z"
   },
   {
    "duration": 72,
    "start_time": "2022-03-23T13:55:21.446Z"
   },
   {
    "duration": 23,
    "start_time": "2022-03-23T13:55:25.051Z"
   },
   {
    "duration": 138,
    "start_time": "2022-03-23T13:55:29.358Z"
   },
   {
    "duration": 170,
    "start_time": "2022-03-23T13:55:34.040Z"
   },
   {
    "duration": 240,
    "start_time": "2022-03-23T13:55:49.396Z"
   },
   {
    "duration": 163,
    "start_time": "2022-03-23T13:55:55.034Z"
   },
   {
    "duration": 286,
    "start_time": "2022-03-23T13:56:56.516Z"
   },
   {
    "duration": 72,
    "start_time": "2022-03-23T13:57:00.387Z"
   },
   {
    "duration": 22,
    "start_time": "2022-03-23T13:57:04.648Z"
   },
   {
    "duration": 132,
    "start_time": "2022-03-23T13:57:08.893Z"
   },
   {
    "duration": 165,
    "start_time": "2022-03-23T13:57:13.485Z"
   },
   {
    "duration": 399,
    "start_time": "2022-03-23T13:57:18.786Z"
   },
   {
    "duration": 284,
    "start_time": "2022-03-23T13:57:28.988Z"
   },
   {
    "duration": 436,
    "start_time": "2022-03-23T13:58:52.251Z"
   },
   {
    "duration": 76,
    "start_time": "2022-03-23T13:58:56.122Z"
   },
   {
    "duration": 21,
    "start_time": "2022-03-23T13:58:59.756Z"
   },
   {
    "duration": 136,
    "start_time": "2022-03-23T13:59:03.911Z"
   },
   {
    "duration": 162,
    "start_time": "2022-03-23T13:59:09.374Z"
   },
   {
    "duration": 165,
    "start_time": "2022-03-23T13:59:17.722Z"
   },
   {
    "duration": 158,
    "start_time": "2022-03-23T13:59:30.447Z"
   },
   {
    "duration": 155,
    "start_time": "2022-03-23T14:02:46.794Z"
   },
   {
    "duration": 97,
    "start_time": "2022-03-23T14:40:27.006Z"
   },
   {
    "duration": 0,
    "start_time": "2022-03-23T14:44:51.047Z"
   },
   {
    "duration": 1308,
    "start_time": "2022-03-23T14:45:18.126Z"
   },
   {
    "duration": 403,
    "start_time": "2022-03-23T14:45:19.436Z"
   },
   {
    "duration": 8,
    "start_time": "2022-03-23T14:45:19.842Z"
   },
   {
    "duration": 17,
    "start_time": "2022-03-23T14:45:19.852Z"
   },
   {
    "duration": 46,
    "start_time": "2022-03-23T14:45:19.871Z"
   },
   {
    "duration": 21,
    "start_time": "2022-03-23T14:45:19.918Z"
   },
   {
    "duration": 63,
    "start_time": "2022-03-23T14:45:19.941Z"
   },
   {
    "duration": 11,
    "start_time": "2022-03-23T14:45:20.006Z"
   },
   {
    "duration": 35,
    "start_time": "2022-03-23T14:45:20.034Z"
   },
   {
    "duration": 14,
    "start_time": "2022-03-23T14:45:20.073Z"
   },
   {
    "duration": 10,
    "start_time": "2022-03-23T14:45:20.088Z"
   },
   {
    "duration": 499,
    "start_time": "2022-03-23T14:45:20.100Z"
   },
   {
    "duration": 92,
    "start_time": "2022-03-23T14:45:20.601Z"
   },
   {
    "duration": 22,
    "start_time": "2022-03-23T14:45:20.695Z"
   },
   {
    "duration": 167,
    "start_time": "2022-03-23T14:45:20.719Z"
   },
   {
    "duration": 180,
    "start_time": "2022-03-23T14:45:20.889Z"
   },
   {
    "duration": 168,
    "start_time": "2022-03-23T14:45:21.071Z"
   },
   {
    "duration": 165,
    "start_time": "2022-03-23T14:45:21.241Z"
   },
   {
    "duration": 178,
    "start_time": "2022-03-23T14:45:21.408Z"
   },
   {
    "duration": 190,
    "start_time": "2022-03-23T14:45:21.588Z"
   },
   {
    "duration": 415,
    "start_time": "2022-03-23T14:45:21.780Z"
   },
   {
    "duration": 73,
    "start_time": "2022-03-23T14:45:22.197Z"
   },
   {
    "duration": 46,
    "start_time": "2022-03-23T14:45:22.271Z"
   },
   {
    "duration": 128,
    "start_time": "2022-03-23T14:45:54.992Z"
   },
   {
    "duration": 203,
    "start_time": "2022-03-23T14:46:08.710Z"
   },
   {
    "duration": 192,
    "start_time": "2022-03-23T14:46:26.832Z"
   },
   {
    "duration": 292,
    "start_time": "2022-03-23T14:46:33.287Z"
   },
   {
    "duration": 121,
    "start_time": "2022-03-23T14:46:40.964Z"
   },
   {
    "duration": 126,
    "start_time": "2022-03-23T14:46:51.338Z"
   },
   {
    "duration": 133,
    "start_time": "2022-03-23T14:47:33.516Z"
   },
   {
    "duration": 113,
    "start_time": "2022-03-23T14:47:41.211Z"
   },
   {
    "duration": 121,
    "start_time": "2022-03-23T14:47:48.769Z"
   },
   {
    "duration": 219,
    "start_time": "2022-03-23T14:50:54.928Z"
   },
   {
    "duration": 141,
    "start_time": "2022-03-23T14:51:04.845Z"
   },
   {
    "duration": 142,
    "start_time": "2022-03-23T14:51:21.756Z"
   },
   {
    "duration": 146,
    "start_time": "2022-03-23T14:52:52.878Z"
   },
   {
    "duration": 139,
    "start_time": "2022-03-23T14:53:09.193Z"
   },
   {
    "duration": 137,
    "start_time": "2022-03-23T14:53:18.174Z"
   },
   {
    "duration": 138,
    "start_time": "2022-03-23T14:56:07.786Z"
   },
   {
    "duration": 162,
    "start_time": "2022-03-23T14:56:34.428Z"
   },
   {
    "duration": 188,
    "start_time": "2022-03-23T14:56:43.046Z"
   },
   {
    "duration": 336,
    "start_time": "2022-03-23T15:05:42.735Z"
   },
   {
    "duration": 123,
    "start_time": "2022-03-23T15:05:53.059Z"
   },
   {
    "duration": 119,
    "start_time": "2022-03-23T15:06:19.466Z"
   },
   {
    "duration": 119,
    "start_time": "2022-03-23T15:06:27.689Z"
   },
   {
    "duration": 125,
    "start_time": "2022-03-23T15:06:33.456Z"
   },
   {
    "duration": 120,
    "start_time": "2022-03-23T15:06:41.665Z"
   },
   {
    "duration": 124,
    "start_time": "2022-03-23T15:07:39.803Z"
   },
   {
    "duration": 138,
    "start_time": "2022-03-23T15:07:49.342Z"
   },
   {
    "duration": 184,
    "start_time": "2022-03-23T15:07:57.696Z"
   },
   {
    "duration": 431,
    "start_time": "2022-03-23T15:09:04.711Z"
   },
   {
    "duration": 82,
    "start_time": "2022-03-23T15:09:09.716Z"
   },
   {
    "duration": 20,
    "start_time": "2022-03-23T15:09:14.780Z"
   },
   {
    "duration": 139,
    "start_time": "2022-03-23T15:09:19.150Z"
   },
   {
    "duration": 156,
    "start_time": "2022-03-23T15:09:24.396Z"
   },
   {
    "duration": 158,
    "start_time": "2022-03-23T15:09:30.818Z"
   },
   {
    "duration": 149,
    "start_time": "2022-03-23T15:09:42.015Z"
   },
   {
    "duration": 158,
    "start_time": "2022-03-23T15:09:53.791Z"
   },
   {
    "duration": 133,
    "start_time": "2022-03-23T15:10:09.673Z"
   },
   {
    "duration": 299,
    "start_time": "2022-03-23T15:10:20.105Z"
   },
   {
    "duration": 134,
    "start_time": "2022-03-23T15:10:32.461Z"
   },
   {
    "duration": 185,
    "start_time": "2022-03-23T15:10:37.866Z"
   },
   {
    "duration": 184,
    "start_time": "2022-03-23T15:10:44.220Z"
   },
   {
    "duration": 144,
    "start_time": "2022-03-23T15:20:59.257Z"
   },
   {
    "duration": 187,
    "start_time": "2022-03-23T15:21:14.641Z"
   },
   {
    "duration": 129,
    "start_time": "2022-03-23T15:23:08.328Z"
   },
   {
    "duration": 133,
    "start_time": "2022-03-23T15:23:15.353Z"
   },
   {
    "duration": 139,
    "start_time": "2022-03-23T15:23:23.269Z"
   },
   {
    "duration": 179,
    "start_time": "2022-03-23T15:23:35.005Z"
   },
   {
    "duration": 193,
    "start_time": "2022-03-23T15:24:24.477Z"
   },
   {
    "duration": 354,
    "start_time": "2022-03-23T15:24:36.197Z"
   },
   {
    "duration": 196,
    "start_time": "2022-03-23T15:24:50.115Z"
   },
   {
    "duration": 147,
    "start_time": "2022-03-23T15:24:57.504Z"
   },
   {
    "duration": 200,
    "start_time": "2022-03-23T15:25:04.354Z"
   },
   {
    "duration": 201,
    "start_time": "2022-03-23T15:25:24.645Z"
   },
   {
    "duration": 207,
    "start_time": "2022-03-23T15:25:51.471Z"
   },
   {
    "duration": 465,
    "start_time": "2022-03-23T15:31:08.839Z"
   },
   {
    "duration": 18,
    "start_time": "2022-03-23T15:36:16.871Z"
   },
   {
    "duration": 18,
    "start_time": "2022-03-23T15:48:58.289Z"
   },
   {
    "duration": 30,
    "start_time": "2022-03-23T15:49:46.689Z"
   },
   {
    "duration": 18,
    "start_time": "2022-03-23T15:51:23.479Z"
   },
   {
    "duration": 26,
    "start_time": "2022-03-23T15:51:55.318Z"
   },
   {
    "duration": 16,
    "start_time": "2022-03-23T15:52:44.091Z"
   },
   {
    "duration": 106,
    "start_time": "2022-03-23T15:53:16.941Z"
   },
   {
    "duration": 5,
    "start_time": "2022-03-23T15:53:39.398Z"
   },
   {
    "duration": 380,
    "start_time": "2022-03-23T15:53:43.765Z"
   },
   {
    "duration": 43,
    "start_time": "2022-03-23T15:53:51.409Z"
   },
   {
    "duration": 37,
    "start_time": "2022-03-23T15:53:55.960Z"
   },
   {
    "duration": 34,
    "start_time": "2022-03-23T15:54:13.008Z"
   },
   {
    "duration": 11,
    "start_time": "2022-03-23T15:54:47.390Z"
   },
   {
    "duration": 11,
    "start_time": "2022-03-23T15:55:48.068Z"
   },
   {
    "duration": 14,
    "start_time": "2022-03-23T15:56:31.634Z"
   },
   {
    "duration": 13,
    "start_time": "2022-03-23T15:58:43.387Z"
   },
   {
    "duration": 21,
    "start_time": "2022-03-23T15:59:46.235Z"
   },
   {
    "duration": 18,
    "start_time": "2022-03-23T16:00:02.107Z"
   },
   {
    "duration": 17,
    "start_time": "2022-03-23T16:01:26.806Z"
   },
   {
    "duration": 142,
    "start_time": "2022-03-23T16:06:17.981Z"
   },
   {
    "duration": 153,
    "start_time": "2022-03-23T16:08:02.781Z"
   },
   {
    "duration": 1166,
    "start_time": "2022-03-23T16:08:34.666Z"
   },
   {
    "duration": 388,
    "start_time": "2022-03-23T16:08:35.834Z"
   },
   {
    "duration": 2,
    "start_time": "2022-03-23T16:08:36.224Z"
   },
   {
    "duration": 5,
    "start_time": "2022-03-23T16:08:36.228Z"
   },
   {
    "duration": 4,
    "start_time": "2022-03-23T16:08:36.235Z"
   },
   {
    "duration": 5,
    "start_time": "2022-03-23T16:08:36.241Z"
   },
   {
    "duration": 6,
    "start_time": "2022-03-23T16:08:36.247Z"
   },
   {
    "duration": 10,
    "start_time": "2022-03-23T16:08:36.255Z"
   },
   {
    "duration": 17,
    "start_time": "2022-03-23T16:08:36.267Z"
   },
   {
    "duration": 65,
    "start_time": "2022-03-23T16:08:36.287Z"
   },
   {
    "duration": 8,
    "start_time": "2022-03-23T16:08:36.354Z"
   },
   {
    "duration": 73,
    "start_time": "2022-03-23T16:08:36.364Z"
   },
   {
    "duration": 10,
    "start_time": "2022-03-23T16:08:36.439Z"
   },
   {
    "duration": 36,
    "start_time": "2022-03-23T16:08:36.451Z"
   },
   {
    "duration": 12,
    "start_time": "2022-03-23T16:08:36.489Z"
   },
   {
    "duration": 34,
    "start_time": "2022-03-23T16:08:36.503Z"
   },
   {
    "duration": 543,
    "start_time": "2022-03-23T16:08:36.540Z"
   },
   {
    "duration": 92,
    "start_time": "2022-03-23T16:08:37.085Z"
   },
   {
    "duration": 20,
    "start_time": "2022-03-23T16:08:37.178Z"
   },
   {
    "duration": 178,
    "start_time": "2022-03-23T16:08:37.200Z"
   },
   {
    "duration": 173,
    "start_time": "2022-03-23T16:08:37.380Z"
   },
   {
    "duration": 180,
    "start_time": "2022-03-23T16:08:37.555Z"
   },
   {
    "duration": 176,
    "start_time": "2022-03-23T16:08:37.738Z"
   },
   {
    "duration": 203,
    "start_time": "2022-03-23T16:08:37.916Z"
   },
   {
    "duration": 196,
    "start_time": "2022-03-23T16:08:38.121Z"
   },
   {
    "duration": 223,
    "start_time": "2022-03-23T16:08:38.319Z"
   },
   {
    "duration": 293,
    "start_time": "2022-03-23T16:08:38.544Z"
   },
   {
    "duration": 194,
    "start_time": "2022-03-23T16:08:38.840Z"
   },
   {
    "duration": 541,
    "start_time": "2022-03-23T16:08:39.036Z"
   },
   {
    "duration": 94,
    "start_time": "2022-03-23T16:08:39.578Z"
   },
   {
    "duration": 19,
    "start_time": "2022-03-23T16:08:39.674Z"
   },
   {
    "duration": 158,
    "start_time": "2022-03-23T16:08:39.695Z"
   },
   {
    "duration": 183,
    "start_time": "2022-03-23T16:08:39.855Z"
   },
   {
    "duration": 454,
    "start_time": "2022-03-23T16:09:05.885Z"
   },
   {
    "duration": 82,
    "start_time": "2022-03-23T16:09:10.845Z"
   },
   {
    "duration": 22,
    "start_time": "2022-03-23T16:09:14.460Z"
   },
   {
    "duration": 131,
    "start_time": "2022-03-23T16:09:20.762Z"
   },
   {
    "duration": 162,
    "start_time": "2022-03-23T16:09:25.957Z"
   },
   {
    "duration": 511,
    "start_time": "2022-03-23T16:11:06.223Z"
   },
   {
    "duration": 518,
    "start_time": "2022-03-23T16:11:35.273Z"
   },
   {
    "duration": 14,
    "start_time": "2022-03-23T16:12:03.200Z"
   },
   {
    "duration": 106,
    "start_time": "2022-03-23T16:13:56.355Z"
   },
   {
    "duration": 2018,
    "start_time": "2022-03-23T16:14:50.181Z"
   },
   {
    "duration": 1216,
    "start_time": "2022-03-23T17:10:39.422Z"
   },
   {
    "duration": 391,
    "start_time": "2022-03-23T17:10:40.641Z"
   },
   {
    "duration": 3,
    "start_time": "2022-03-23T17:10:41.033Z"
   },
   {
    "duration": 10,
    "start_time": "2022-03-23T17:10:41.038Z"
   },
   {
    "duration": 8,
    "start_time": "2022-03-23T17:10:41.050Z"
   },
   {
    "duration": 10,
    "start_time": "2022-03-23T17:10:41.060Z"
   },
   {
    "duration": 7,
    "start_time": "2022-03-23T17:10:41.073Z"
   },
   {
    "duration": 13,
    "start_time": "2022-03-23T17:10:41.082Z"
   },
   {
    "duration": 20,
    "start_time": "2022-03-23T17:10:41.096Z"
   },
   {
    "duration": 49,
    "start_time": "2022-03-23T17:10:41.120Z"
   },
   {
    "duration": 8,
    "start_time": "2022-03-23T17:10:41.171Z"
   },
   {
    "duration": 74,
    "start_time": "2022-03-23T17:10:41.181Z"
   },
   {
    "duration": 9,
    "start_time": "2022-03-23T17:10:41.257Z"
   },
   {
    "duration": 42,
    "start_time": "2022-03-23T17:10:41.268Z"
   },
   {
    "duration": 26,
    "start_time": "2022-03-23T17:10:41.312Z"
   },
   {
    "duration": 12,
    "start_time": "2022-03-23T17:10:41.340Z"
   },
   {
    "duration": 167,
    "start_time": "2022-03-23T17:10:41.353Z"
   },
   {
    "duration": 147,
    "start_time": "2022-03-23T17:10:41.521Z"
   },
   {
    "duration": 107,
    "start_time": "2022-03-23T17:10:41.669Z"
   },
   {
    "duration": 118,
    "start_time": "2022-03-23T17:10:41.778Z"
   },
   {
    "duration": 48,
    "start_time": "2022-03-23T17:10:41.898Z"
   },
   {
    "duration": 88,
    "start_time": "2022-03-23T17:10:41.948Z"
   },
   {
    "duration": 2,
    "start_time": "2022-03-23T17:10:42.038Z"
   },
   {
    "duration": 162,
    "start_time": "2022-03-23T17:10:42.042Z"
   },
   {
    "duration": 174,
    "start_time": "2022-03-23T17:10:42.206Z"
   },
   {
    "duration": 166,
    "start_time": "2022-03-23T17:10:42.382Z"
   },
   {
    "duration": 165,
    "start_time": "2022-03-23T17:10:42.549Z"
   },
   {
    "duration": 167,
    "start_time": "2022-03-23T17:10:42.717Z"
   },
   {
    "duration": 168,
    "start_time": "2022-03-23T17:10:42.886Z"
   },
   {
    "duration": 262,
    "start_time": "2022-03-23T17:10:43.056Z"
   },
   {
    "duration": 272,
    "start_time": "2022-03-23T17:10:43.320Z"
   },
   {
    "duration": 199,
    "start_time": "2022-03-23T17:10:43.594Z"
   },
   {
    "duration": 144,
    "start_time": "2022-03-23T17:18:56.136Z"
   },
   {
    "duration": 271,
    "start_time": "2022-03-23T17:19:35.289Z"
   },
   {
    "duration": 172,
    "start_time": "2022-03-23T17:20:48.209Z"
   },
   {
    "duration": 342,
    "start_time": "2022-03-23T17:21:34.554Z"
   },
   {
    "duration": 323,
    "start_time": "2022-03-23T17:21:59.413Z"
   },
   {
    "duration": 112,
    "start_time": "2022-03-23T17:23:37.765Z"
   },
   {
    "duration": 276,
    "start_time": "2022-03-23T17:24:09.927Z"
   },
   {
    "duration": 326,
    "start_time": "2022-03-23T17:25:00.587Z"
   },
   {
    "duration": 326,
    "start_time": "2022-03-23T17:26:51.733Z"
   },
   {
    "duration": 116,
    "start_time": "2022-03-23T17:28:51.939Z"
   },
   {
    "duration": 10,
    "start_time": "2022-03-23T17:29:44.307Z"
   },
   {
    "duration": 164,
    "start_time": "2022-03-23T17:30:11.311Z"
   },
   {
    "duration": 333,
    "start_time": "2022-03-23T17:31:58.623Z"
   },
   {
    "duration": 175,
    "start_time": "2022-03-23T17:34:20.378Z"
   },
   {
    "duration": 338,
    "start_time": "2022-03-23T17:36:26.509Z"
   },
   {
    "duration": 163,
    "start_time": "2022-03-23T17:37:47.061Z"
   },
   {
    "duration": 297,
    "start_time": "2022-03-23T17:37:59.395Z"
   },
   {
    "duration": 270,
    "start_time": "2022-03-23T17:39:12.637Z"
   },
   {
    "duration": 372,
    "start_time": "2022-03-23T17:39:44.590Z"
   },
   {
    "duration": 791,
    "start_time": "2022-03-23T17:40:11.288Z"
   },
   {
    "duration": 359,
    "start_time": "2022-03-23T17:40:26.452Z"
   },
   {
    "duration": 111,
    "start_time": "2022-03-23T17:41:29.517Z"
   },
   {
    "duration": 375,
    "start_time": "2022-03-23T17:41:45.268Z"
   },
   {
    "duration": 331,
    "start_time": "2022-03-23T17:42:55.314Z"
   },
   {
    "duration": 508,
    "start_time": "2022-03-23T17:43:13.683Z"
   },
   {
    "duration": 205,
    "start_time": "2022-03-23T17:44:33.946Z"
   },
   {
    "duration": 315,
    "start_time": "2022-03-23T17:44:52.522Z"
   },
   {
    "duration": 204,
    "start_time": "2022-03-23T17:45:05.511Z"
   },
   {
    "duration": 186,
    "start_time": "2022-03-23T17:52:17.622Z"
   },
   {
    "duration": 298,
    "start_time": "2022-03-23T17:52:35.300Z"
   },
   {
    "duration": 475,
    "start_time": "2022-03-23T17:53:24.050Z"
   },
   {
    "duration": 213,
    "start_time": "2022-03-23T17:55:45.021Z"
   },
   {
    "duration": 138,
    "start_time": "2022-03-23T17:56:16.569Z"
   },
   {
    "duration": 152,
    "start_time": "2022-03-23T17:56:25.732Z"
   },
   {
    "duration": 205,
    "start_time": "2022-03-23T17:57:03.938Z"
   },
   {
    "duration": 284,
    "start_time": "2022-03-23T17:57:22.843Z"
   },
   {
    "duration": 218,
    "start_time": "2022-03-23T17:59:33.672Z"
   },
   {
    "duration": 171,
    "start_time": "2022-03-23T17:59:42.615Z"
   },
   {
    "duration": 330,
    "start_time": "2022-03-23T18:00:53.505Z"
   },
   {
    "duration": 314,
    "start_time": "2022-03-23T18:01:05.744Z"
   },
   {
    "duration": 554,
    "start_time": "2022-03-23T18:01:19.101Z"
   },
   {
    "duration": 286,
    "start_time": "2022-03-23T18:02:45.931Z"
   },
   {
    "duration": 41,
    "start_time": "2022-03-23T18:20:43.448Z"
   },
   {
    "duration": 41,
    "start_time": "2022-03-23T18:21:16.358Z"
   },
   {
    "duration": 1920,
    "start_time": "2022-03-23T18:27:38.420Z"
   },
   {
    "duration": 1973,
    "start_time": "2022-03-23T18:28:42.233Z"
   },
   {
    "duration": 1876,
    "start_time": "2022-03-23T18:29:05.322Z"
   },
   {
    "duration": 18,
    "start_time": "2022-03-23T18:30:21.031Z"
   },
   {
    "duration": 77,
    "start_time": "2022-03-23T18:31:26.962Z"
   },
   {
    "duration": 20,
    "start_time": "2022-03-23T18:31:31.045Z"
   },
   {
    "duration": 36,
    "start_time": "2022-03-23T18:45:15.784Z"
   },
   {
    "duration": 25,
    "start_time": "2022-03-23T18:45:25.372Z"
   },
   {
    "duration": 470,
    "start_time": "2022-03-23T18:47:48.681Z"
   },
   {
    "duration": 465,
    "start_time": "2022-03-23T18:48:01.687Z"
   },
   {
    "duration": 33,
    "start_time": "2022-03-23T18:49:04.449Z"
   },
   {
    "duration": 23,
    "start_time": "2022-03-23T18:49:11.217Z"
   },
   {
    "duration": 1153,
    "start_time": "2022-03-23T18:50:43.789Z"
   },
   {
    "duration": 411,
    "start_time": "2022-03-23T18:50:44.944Z"
   },
   {
    "duration": 2,
    "start_time": "2022-03-23T18:50:45.357Z"
   },
   {
    "duration": 13,
    "start_time": "2022-03-23T18:50:45.361Z"
   },
   {
    "duration": 7,
    "start_time": "2022-03-23T18:50:45.376Z"
   },
   {
    "duration": 7,
    "start_time": "2022-03-23T18:50:45.385Z"
   },
   {
    "duration": 13,
    "start_time": "2022-03-23T18:50:45.394Z"
   },
   {
    "duration": 15,
    "start_time": "2022-03-23T18:50:45.409Z"
   },
   {
    "duration": 18,
    "start_time": "2022-03-23T18:50:45.426Z"
   },
   {
    "duration": 47,
    "start_time": "2022-03-23T18:50:45.447Z"
   },
   {
    "duration": 8,
    "start_time": "2022-03-23T18:50:45.496Z"
   },
   {
    "duration": 73,
    "start_time": "2022-03-23T18:50:45.506Z"
   },
   {
    "duration": 10,
    "start_time": "2022-03-23T18:50:45.581Z"
   },
   {
    "duration": 52,
    "start_time": "2022-03-23T18:50:45.593Z"
   },
   {
    "duration": 12,
    "start_time": "2022-03-23T18:50:45.647Z"
   },
   {
    "duration": 9,
    "start_time": "2022-03-23T18:50:45.661Z"
   },
   {
    "duration": 185,
    "start_time": "2022-03-23T18:50:45.672Z"
   },
   {
    "duration": 143,
    "start_time": "2022-03-23T18:50:45.859Z"
   },
   {
    "duration": 108,
    "start_time": "2022-03-23T18:50:46.003Z"
   },
   {
    "duration": 116,
    "start_time": "2022-03-23T18:50:46.113Z"
   },
   {
    "duration": 39,
    "start_time": "2022-03-23T18:50:46.230Z"
   },
   {
    "duration": 32,
    "start_time": "2022-03-23T18:50:46.271Z"
   },
   {
    "duration": 38,
    "start_time": "2022-03-23T18:50:46.305Z"
   },
   {
    "duration": 284,
    "start_time": "2022-03-23T18:50:46.344Z"
   },
   {
    "duration": 328,
    "start_time": "2022-03-23T18:50:46.630Z"
   },
   {
    "duration": 319,
    "start_time": "2022-03-23T18:50:46.960Z"
   },
   {
    "duration": 331,
    "start_time": "2022-03-23T18:50:47.280Z"
   },
   {
    "duration": 398,
    "start_time": "2022-03-23T18:50:47.614Z"
   },
   {
    "duration": 375,
    "start_time": "2022-03-23T18:50:48.013Z"
   },
   {
    "duration": 306,
    "start_time": "2022-03-23T18:50:48.390Z"
   },
   {
    "duration": 315,
    "start_time": "2022-03-23T18:50:48.698Z"
   },
   {
    "duration": 457,
    "start_time": "2022-03-23T18:50:49.015Z"
   },
   {
    "duration": 42,
    "start_time": "2022-03-23T18:53:07.630Z"
   },
   {
    "duration": 26,
    "start_time": "2022-03-23T18:53:32.833Z"
   },
   {
    "duration": 33,
    "start_time": "2022-03-23T18:55:10.867Z"
   },
   {
    "duration": 26,
    "start_time": "2022-03-23T18:55:16.215Z"
   },
   {
    "duration": 27,
    "start_time": "2022-03-23T18:56:17.806Z"
   },
   {
    "duration": 119,
    "start_time": "2022-03-23T18:56:46.068Z"
   },
   {
    "duration": 29,
    "start_time": "2022-03-23T18:57:07.058Z"
   },
   {
    "duration": 34,
    "start_time": "2022-03-23T19:08:44.367Z"
   },
   {
    "duration": 27,
    "start_time": "2022-03-23T19:08:50.804Z"
   },
   {
    "duration": 50,
    "start_time": "2022-03-23T19:12:28.257Z"
   },
   {
    "duration": 36,
    "start_time": "2022-03-23T19:16:29.149Z"
   },
   {
    "duration": 28,
    "start_time": "2022-03-23T19:16:32.838Z"
   },
   {
    "duration": 4,
    "start_time": "2022-03-23T19:21:18.999Z"
   },
   {
    "duration": 73,
    "start_time": "2022-03-24T05:29:42.967Z"
   },
   {
    "duration": 1726,
    "start_time": "2022-03-24T05:29:57.908Z"
   },
   {
    "duration": 474,
    "start_time": "2022-03-24T05:29:59.772Z"
   },
   {
    "duration": 13,
    "start_time": "2022-03-24T05:30:05.732Z"
   },
   {
    "duration": 23,
    "start_time": "2022-03-24T05:30:10.765Z"
   },
   {
    "duration": 64,
    "start_time": "2022-03-24T05:30:16.541Z"
   },
   {
    "duration": 13,
    "start_time": "2022-03-24T05:30:20.095Z"
   },
   {
    "duration": 84,
    "start_time": "2022-03-24T05:30:26.148Z"
   },
   {
    "duration": 15,
    "start_time": "2022-03-24T05:30:29.020Z"
   },
   {
    "duration": 54,
    "start_time": "2022-03-24T05:30:33.683Z"
   },
   {
    "duration": 18,
    "start_time": "2022-03-24T05:30:36.493Z"
   },
   {
    "duration": 12,
    "start_time": "2022-03-24T05:30:40.564Z"
   },
   {
    "duration": 209,
    "start_time": "2022-03-24T05:30:45.340Z"
   },
   {
    "duration": 176,
    "start_time": "2022-03-24T05:30:48.643Z"
   },
   {
    "duration": 133,
    "start_time": "2022-03-24T05:30:52.276Z"
   },
   {
    "duration": 153,
    "start_time": "2022-03-24T05:30:56.994Z"
   },
   {
    "duration": 62,
    "start_time": "2022-03-24T05:31:01.654Z"
   },
   {
    "duration": 57,
    "start_time": "2022-03-24T05:31:06.762Z"
   },
   {
    "duration": 6,
    "start_time": "2022-03-24T05:31:12.123Z"
   },
   {
    "duration": 302,
    "start_time": "2022-03-24T05:31:19.759Z"
   },
   {
    "duration": 571,
    "start_time": "2022-03-24T05:31:38.904Z"
   },
   {
    "duration": 567,
    "start_time": "2022-03-24T05:32:00.845Z"
   },
   {
    "duration": 509,
    "start_time": "2022-03-24T05:32:17.596Z"
   },
   {
    "duration": 586,
    "start_time": "2022-03-24T05:32:42.196Z"
   },
   {
    "duration": 649,
    "start_time": "2022-03-24T05:33:09.125Z"
   },
   {
    "duration": 612,
    "start_time": "2022-03-24T05:33:51.862Z"
   },
   {
    "duration": 722,
    "start_time": "2022-03-24T05:34:35.390Z"
   },
   {
    "duration": 741,
    "start_time": "2022-03-24T05:35:05.017Z"
   },
   {
    "duration": 144,
    "start_time": "2022-03-24T05:39:30.057Z"
   },
   {
    "duration": 55,
    "start_time": "2022-03-24T05:39:44.455Z"
   },
   {
    "duration": 6,
    "start_time": "2022-03-24T05:39:50.653Z"
   },
   {
    "duration": 142,
    "start_time": "2022-03-24T05:39:54.627Z"
   },
   {
    "duration": 1370,
    "start_time": "2022-03-24T05:40:50.517Z"
   },
   {
    "duration": 473,
    "start_time": "2022-03-24T05:40:51.889Z"
   },
   {
    "duration": 4,
    "start_time": "2022-03-24T05:40:52.364Z"
   },
   {
    "duration": 5,
    "start_time": "2022-03-24T05:40:52.371Z"
   },
   {
    "duration": 7,
    "start_time": "2022-03-24T05:40:52.378Z"
   },
   {
    "duration": 6,
    "start_time": "2022-03-24T05:40:52.388Z"
   },
   {
    "duration": 5,
    "start_time": "2022-03-24T05:40:52.397Z"
   },
   {
    "duration": 15,
    "start_time": "2022-03-24T05:40:52.404Z"
   },
   {
    "duration": 21,
    "start_time": "2022-03-24T05:40:52.421Z"
   },
   {
    "duration": 85,
    "start_time": "2022-03-24T05:40:52.446Z"
   },
   {
    "duration": 12,
    "start_time": "2022-03-24T05:40:52.533Z"
   },
   {
    "duration": 100,
    "start_time": "2022-03-24T05:40:52.548Z"
   },
   {
    "duration": 13,
    "start_time": "2022-03-24T05:40:52.651Z"
   },
   {
    "duration": 47,
    "start_time": "2022-03-24T05:40:52.683Z"
   },
   {
    "duration": 20,
    "start_time": "2022-03-24T05:40:52.732Z"
   },
   {
    "duration": 33,
    "start_time": "2022-03-24T05:40:52.754Z"
   },
   {
    "duration": 216,
    "start_time": "2022-03-24T05:40:52.790Z"
   },
   {
    "duration": 190,
    "start_time": "2022-03-24T05:40:53.009Z"
   },
   {
    "duration": 139,
    "start_time": "2022-03-24T05:40:53.201Z"
   },
   {
    "duration": 155,
    "start_time": "2022-03-24T05:40:53.342Z"
   },
   {
    "duration": 62,
    "start_time": "2022-03-24T05:40:53.499Z"
   },
   {
    "duration": 68,
    "start_time": "2022-03-24T05:40:53.563Z"
   },
   {
    "duration": 5,
    "start_time": "2022-03-24T05:40:53.634Z"
   },
   {
    "duration": 170,
    "start_time": "2022-03-24T05:40:53.641Z"
   },
   {
    "duration": 641,
    "start_time": "2022-03-24T05:40:53.814Z"
   },
   {
    "duration": 542,
    "start_time": "2022-03-24T05:40:54.457Z"
   },
   {
    "duration": 534,
    "start_time": "2022-03-24T05:40:55.002Z"
   },
   {
    "duration": 524,
    "start_time": "2022-03-24T05:40:55.541Z"
   },
   {
    "duration": 616,
    "start_time": "2022-03-24T05:40:56.068Z"
   },
   {
    "duration": 773,
    "start_time": "2022-03-24T05:40:56.687Z"
   },
   {
    "duration": 499,
    "start_time": "2022-03-24T05:40:57.463Z"
   },
   {
    "duration": 517,
    "start_time": "2022-03-24T05:40:57.965Z"
   },
   {
    "duration": 728,
    "start_time": "2022-03-24T05:40:58.484Z"
   },
   {
    "duration": 56,
    "start_time": "2022-03-24T05:41:58.395Z"
   },
   {
    "duration": 60,
    "start_time": "2022-03-24T05:42:28.068Z"
   },
   {
    "duration": 142,
    "start_time": "2022-03-24T05:42:57.720Z"
   },
   {
    "duration": 53,
    "start_time": "2022-03-24T05:44:22.946Z"
   },
   {
    "duration": 56,
    "start_time": "2022-03-24T05:44:29.074Z"
   },
   {
    "duration": 148,
    "start_time": "2022-03-24T05:44:36.322Z"
   },
   {
    "duration": 587,
    "start_time": "2022-03-24T05:44:44.059Z"
   },
   {
    "duration": 6,
    "start_time": "2022-03-24T05:44:59.667Z"
   },
   {
    "duration": 505,
    "start_time": "2022-03-24T05:45:03.475Z"
   },
   {
    "duration": 11,
    "start_time": "2022-03-24T05:45:10.723Z"
   },
   {
    "duration": 17,
    "start_time": "2022-03-24T05:45:13.828Z"
   },
   {
    "duration": 58,
    "start_time": "2022-03-24T05:45:20.700Z"
   },
   {
    "duration": 13,
    "start_time": "2022-03-24T05:45:24.331Z"
   },
   {
    "duration": 76,
    "start_time": "2022-03-24T05:45:28.454Z"
   },
   {
    "duration": 16,
    "start_time": "2022-03-24T05:45:31.588Z"
   },
   {
    "duration": 47,
    "start_time": "2022-03-24T05:45:37.010Z"
   },
   {
    "duration": 19,
    "start_time": "2022-03-24T05:45:40.747Z"
   },
   {
    "duration": 13,
    "start_time": "2022-03-24T05:45:46.789Z"
   },
   {
    "duration": 194,
    "start_time": "2022-03-24T05:46:27.979Z"
   },
   {
    "duration": 168,
    "start_time": "2022-03-24T05:46:32.005Z"
   },
   {
    "duration": 115,
    "start_time": "2022-03-24T05:46:35.877Z"
   },
   {
    "duration": 145,
    "start_time": "2022-03-24T05:46:39.188Z"
   },
   {
    "duration": 60,
    "start_time": "2022-03-24T05:46:43.981Z"
   },
   {
    "duration": 54,
    "start_time": "2022-03-24T05:46:47.948Z"
   },
   {
    "duration": 47,
    "start_time": "2022-03-24T05:46:53.365Z"
   },
   {
    "duration": 159,
    "start_time": "2022-03-24T05:50:16.138Z"
   },
   {
    "duration": 150,
    "start_time": "2022-03-24T05:51:18.756Z"
   },
   {
    "duration": 640,
    "start_time": "2022-03-24T05:51:47.270Z"
   },
   {
    "duration": 1387,
    "start_time": "2022-03-24T05:52:02.404Z"
   },
   {
    "duration": 458,
    "start_time": "2022-03-24T05:52:03.793Z"
   },
   {
    "duration": 3,
    "start_time": "2022-03-24T05:52:04.253Z"
   },
   {
    "duration": 6,
    "start_time": "2022-03-24T05:52:04.259Z"
   },
   {
    "duration": 8,
    "start_time": "2022-03-24T05:52:04.267Z"
   },
   {
    "duration": 9,
    "start_time": "2022-03-24T05:52:04.276Z"
   },
   {
    "duration": 6,
    "start_time": "2022-03-24T05:52:04.287Z"
   },
   {
    "duration": 14,
    "start_time": "2022-03-24T05:52:04.295Z"
   },
   {
    "duration": 25,
    "start_time": "2022-03-24T05:52:04.311Z"
   },
   {
    "duration": 80,
    "start_time": "2022-03-24T05:52:04.340Z"
   },
   {
    "duration": 13,
    "start_time": "2022-03-24T05:52:04.422Z"
   },
   {
    "duration": 98,
    "start_time": "2022-03-24T05:52:04.438Z"
   },
   {
    "duration": 13,
    "start_time": "2022-03-24T05:52:04.539Z"
   },
   {
    "duration": 65,
    "start_time": "2022-03-24T05:52:04.555Z"
   },
   {
    "duration": 17,
    "start_time": "2022-03-24T05:52:04.622Z"
   },
   {
    "duration": 11,
    "start_time": "2022-03-24T05:52:04.642Z"
   },
   {
    "duration": 210,
    "start_time": "2022-03-24T05:52:04.682Z"
   },
   {
    "duration": 194,
    "start_time": "2022-03-24T05:52:04.895Z"
   },
   {
    "duration": 137,
    "start_time": "2022-03-24T05:52:05.092Z"
   },
   {
    "duration": 157,
    "start_time": "2022-03-24T05:52:05.232Z"
   },
   {
    "duration": 61,
    "start_time": "2022-03-24T05:52:05.392Z"
   },
   {
    "duration": 74,
    "start_time": "2022-03-24T05:52:05.455Z"
   },
   {
    "duration": 56,
    "start_time": "2022-03-24T05:52:05.532Z"
   },
   {
    "duration": 173,
    "start_time": "2022-03-24T05:52:05.590Z"
   },
   {
    "duration": 645,
    "start_time": "2022-03-24T05:52:05.766Z"
   },
   {
    "duration": 530,
    "start_time": "2022-03-24T05:52:06.415Z"
   },
   {
    "duration": 535,
    "start_time": "2022-03-24T05:52:06.947Z"
   },
   {
    "duration": 537,
    "start_time": "2022-03-24T05:52:07.487Z"
   },
   {
    "duration": 630,
    "start_time": "2022-03-24T05:52:08.026Z"
   },
   {
    "duration": 754,
    "start_time": "2022-03-24T05:52:08.658Z"
   },
   {
    "duration": 514,
    "start_time": "2022-03-24T05:52:09.414Z"
   },
   {
    "duration": 498,
    "start_time": "2022-03-24T05:52:09.932Z"
   },
   {
    "duration": 718,
    "start_time": "2022-03-24T05:52:10.432Z"
   },
   {
    "duration": 630,
    "start_time": "2022-03-24T06:52:00.052Z"
   },
   {
    "duration": 1416,
    "start_time": "2022-03-24T13:54:03.338Z"
   },
   {
    "duration": 411,
    "start_time": "2022-03-24T13:54:07.493Z"
   },
   {
    "duration": 2,
    "start_time": "2022-03-24T13:54:14.218Z"
   },
   {
    "duration": 7,
    "start_time": "2022-03-24T13:54:25.254Z"
   },
   {
    "duration": 13,
    "start_time": "2022-03-24T13:54:29.977Z"
   },
   {
    "duration": 46,
    "start_time": "2022-03-24T13:54:36.765Z"
   },
   {
    "duration": 9,
    "start_time": "2022-03-24T13:54:40.123Z"
   },
   {
    "duration": 59,
    "start_time": "2022-03-24T13:54:44.677Z"
   },
   {
    "duration": 11,
    "start_time": "2022-03-24T13:54:48.537Z"
   },
   {
    "duration": 33,
    "start_time": "2022-03-24T13:54:53.683Z"
   },
   {
    "duration": 10,
    "start_time": "2022-03-24T13:54:57.250Z"
   },
   {
    "duration": 8,
    "start_time": "2022-03-24T13:55:01.529Z"
   },
   {
    "duration": 147,
    "start_time": "2022-03-24T13:55:07.329Z"
   },
   {
    "duration": 121,
    "start_time": "2022-03-24T13:55:10.837Z"
   },
   {
    "duration": 91,
    "start_time": "2022-03-24T13:55:16.835Z"
   },
   {
    "duration": 101,
    "start_time": "2022-03-24T13:55:20.236Z"
   },
   {
    "duration": 37,
    "start_time": "2022-03-24T13:55:24.302Z"
   },
   {
    "duration": 35,
    "start_time": "2022-03-24T13:56:28.986Z"
   },
   {
    "duration": 28,
    "start_time": "2022-03-24T13:56:33.531Z"
   },
   {
    "duration": 100,
    "start_time": "2022-03-24T13:56:40.744Z"
   },
   {
    "duration": 362,
    "start_time": "2022-03-24T13:56:49.660Z"
   },
   {
    "duration": 421,
    "start_time": "2022-03-24T13:57:14.198Z"
   },
   {
    "duration": 416,
    "start_time": "2022-03-24T13:57:54.575Z"
   },
   {
    "duration": 112,
    "start_time": "2022-03-24T14:10:12.979Z"
   },
   {
    "duration": 19,
    "start_time": "2022-03-24T14:11:09.358Z"
   },
   {
    "duration": 376,
    "start_time": "2022-03-24T14:12:10.338Z"
   },
   {
    "duration": 372,
    "start_time": "2022-03-24T14:12:27.888Z"
   },
   {
    "duration": 278,
    "start_time": "2022-03-24T14:12:41.538Z"
   },
   {
    "duration": 274,
    "start_time": "2022-03-24T14:12:55.967Z"
   },
   {
    "duration": 279,
    "start_time": "2022-03-24T14:13:12.248Z"
   },
   {
    "duration": 299,
    "start_time": "2022-03-24T14:13:32.868Z"
   },
   {
    "duration": 307,
    "start_time": "2022-03-24T14:13:55.948Z"
   },
   {
    "duration": 315,
    "start_time": "2022-03-24T14:14:08.838Z"
   },
   {
    "duration": 193,
    "start_time": "2022-03-24T14:14:59.828Z"
   },
   {
    "duration": 17,
    "start_time": "2022-03-24T14:15:12.228Z"
   },
   {
    "duration": 23,
    "start_time": "2022-03-24T14:17:33.997Z"
   },
   {
    "duration": 20,
    "start_time": "2022-03-24T14:17:37.418Z"
   },
   {
    "duration": 31,
    "start_time": "2022-03-24T14:18:26.758Z"
   },
   {
    "duration": 31,
    "start_time": "2022-03-24T14:19:16.848Z"
   },
   {
    "duration": 416,
    "start_time": "2022-03-24T14:20:15.387Z"
   },
   {
    "duration": 319,
    "start_time": "2022-03-24T14:21:01.407Z"
   },
   {
    "duration": 185,
    "start_time": "2022-03-24T14:21:38.158Z"
   },
   {
    "duration": 308,
    "start_time": "2022-03-24T14:21:56.408Z"
   },
   {
    "duration": 339,
    "start_time": "2022-03-24T14:22:09.857Z"
   },
   {
    "duration": 318,
    "start_time": "2022-03-24T14:22:55.197Z"
   },
   {
    "duration": 388,
    "start_time": "2022-03-24T14:25:24.748Z"
   },
   {
    "duration": 505,
    "start_time": "2022-03-24T14:25:37.388Z"
   },
   {
    "duration": 379,
    "start_time": "2022-03-24T14:26:52.728Z"
   },
   {
    "duration": 534,
    "start_time": "2022-03-24T14:27:04.788Z"
   },
   {
    "duration": 364,
    "start_time": "2022-03-24T14:27:55.497Z"
   },
   {
    "duration": 292,
    "start_time": "2022-03-24T14:28:40.838Z"
   },
   {
    "duration": 223,
    "start_time": "2022-03-24T14:29:26.417Z"
   },
   {
    "duration": 419,
    "start_time": "2022-03-24T14:29:36.298Z"
   },
   {
    "duration": 287,
    "start_time": "2022-03-24T14:30:04.097Z"
   },
   {
    "duration": 424,
    "start_time": "2022-03-24T14:30:25.928Z"
   },
   {
    "duration": 378,
    "start_time": "2022-03-24T14:30:38.193Z"
   },
   {
    "duration": 17,
    "start_time": "2022-03-24T14:33:52.369Z"
   },
   {
    "duration": 88,
    "start_time": "2022-03-24T14:35:11.110Z"
   },
   {
    "duration": 278,
    "start_time": "2022-03-24T14:44:04.784Z"
   },
   {
    "duration": 281,
    "start_time": "2022-03-24T14:45:01.295Z"
   },
   {
    "duration": 335,
    "start_time": "2022-03-24T14:46:55.515Z"
   },
   {
    "duration": 326,
    "start_time": "2022-03-24T14:47:43.630Z"
   },
   {
    "duration": 36,
    "start_time": "2022-03-24T14:50:16.071Z"
   },
   {
    "duration": 189,
    "start_time": "2022-03-24T14:50:37.719Z"
   },
   {
    "duration": 30,
    "start_time": "2022-03-24T14:50:53.037Z"
   },
   {
    "duration": 190,
    "start_time": "2022-03-24T14:52:02.315Z"
   },
   {
    "duration": 26,
    "start_time": "2022-03-24T14:52:28.625Z"
   },
   {
    "duration": 32,
    "start_time": "2022-03-24T14:53:10.834Z"
   },
   {
    "duration": 27,
    "start_time": "2022-03-24T14:56:27.786Z"
   },
   {
    "duration": 29,
    "start_time": "2022-03-24T14:58:12.634Z"
   },
   {
    "duration": 29,
    "start_time": "2022-03-24T14:59:07.440Z"
   },
   {
    "duration": 25,
    "start_time": "2022-03-24T14:59:20.063Z"
   },
   {
    "duration": 25,
    "start_time": "2022-03-24T14:59:25.414Z"
   },
   {
    "duration": 34,
    "start_time": "2022-03-24T15:00:19.710Z"
   },
   {
    "duration": 31,
    "start_time": "2022-03-24T15:00:42.196Z"
   },
   {
    "duration": 496,
    "start_time": "2022-03-24T15:02:26.237Z"
   },
   {
    "duration": 291,
    "start_time": "2022-03-24T15:02:56.099Z"
   },
   {
    "duration": 302,
    "start_time": "2022-03-24T15:03:20.990Z"
   },
   {
    "duration": 382,
    "start_time": "2022-03-24T15:04:12.738Z"
   },
   {
    "duration": 394,
    "start_time": "2022-03-24T15:05:44.381Z"
   },
   {
    "duration": 293,
    "start_time": "2022-03-24T15:09:45.489Z"
   },
   {
    "duration": 303,
    "start_time": "2022-03-24T15:12:56.751Z"
   },
   {
    "duration": 545,
    "start_time": "2022-03-24T15:16:15.612Z"
   },
   {
    "duration": 302,
    "start_time": "2022-03-24T15:18:59.694Z"
   },
   {
    "duration": 299,
    "start_time": "2022-03-24T15:19:39.729Z"
   },
   {
    "duration": 31,
    "start_time": "2022-03-24T16:59:42.721Z"
   },
   {
    "duration": 18,
    "start_time": "2022-03-24T17:00:42.457Z"
   },
   {
    "duration": 77,
    "start_time": "2022-03-24T17:02:20.694Z"
   },
   {
    "duration": 77,
    "start_time": "2022-03-24T17:02:46.555Z"
   },
   {
    "duration": 5,
    "start_time": "2022-03-24T17:03:23.645Z"
   },
   {
    "duration": 392,
    "start_time": "2022-03-24T17:03:26.820Z"
   },
   {
    "duration": 7,
    "start_time": "2022-03-24T17:03:32.189Z"
   },
   {
    "duration": 11,
    "start_time": "2022-03-24T17:03:34.715Z"
   },
   {
    "duration": 39,
    "start_time": "2022-03-24T17:03:41.377Z"
   },
   {
    "duration": 9,
    "start_time": "2022-03-24T17:03:45.289Z"
   },
   {
    "duration": 128,
    "start_time": "2022-03-24T17:06:07.887Z"
   },
   {
    "duration": 47,
    "start_time": "2022-03-24T17:06:08.017Z"
   },
   {
    "duration": 0,
    "start_time": "2022-03-24T17:06:08.066Z"
   },
   {
    "duration": 0,
    "start_time": "2022-03-24T17:06:08.067Z"
   },
   {
    "duration": 0,
    "start_time": "2022-03-24T17:06:08.068Z"
   },
   {
    "duration": 0,
    "start_time": "2022-03-24T17:06:08.070Z"
   },
   {
    "duration": 34,
    "start_time": "2022-03-24T17:06:09.707Z"
   },
   {
    "duration": 18,
    "start_time": "2022-03-24T17:06:22.952Z"
   },
   {
    "duration": 86,
    "start_time": "2022-03-24T17:06:29.635Z"
   },
   {
    "duration": 88,
    "start_time": "2022-03-24T17:07:06.968Z"
   },
   {
    "duration": 33,
    "start_time": "2022-03-24T17:08:56.813Z"
   },
   {
    "duration": 31,
    "start_time": "2022-03-24T17:09:07.782Z"
   },
   {
    "duration": 438,
    "start_time": "2022-03-24T17:09:16.414Z"
   },
   {
    "duration": 555,
    "start_time": "2022-03-24T17:10:07.016Z"
   },
   {
    "duration": 322,
    "start_time": "2022-03-24T17:10:14.568Z"
   },
   {
    "duration": 298,
    "start_time": "2022-03-24T17:10:24.369Z"
   },
   {
    "duration": 465,
    "start_time": "2022-03-24T17:10:29.495Z"
   },
   {
    "duration": 13,
    "start_time": "2022-03-24T17:21:08.308Z"
   },
   {
    "duration": 126,
    "start_time": "2022-03-24T17:21:49.756Z"
   },
   {
    "duration": 119,
    "start_time": "2022-03-24T17:21:54.593Z"
   },
   {
    "duration": 12,
    "start_time": "2022-03-24T17:23:03.633Z"
   },
   {
    "duration": 4,
    "start_time": "2022-03-24T17:23:20.006Z"
   },
   {
    "duration": 5,
    "start_time": "2022-03-24T17:23:35.405Z"
   },
   {
    "duration": 382,
    "start_time": "2022-03-24T17:23:38.471Z"
   },
   {
    "duration": 4,
    "start_time": "2022-03-24T17:23:45.103Z"
   },
   {
    "duration": 3,
    "start_time": "2022-03-24T17:23:47.401Z"
   },
   {
    "duration": 3,
    "start_time": "2022-03-24T17:23:50.383Z"
   },
   {
    "duration": 3,
    "start_time": "2022-03-24T17:23:58.102Z"
   },
   {
    "duration": 2,
    "start_time": "2022-03-24T17:24:00.783Z"
   },
   {
    "duration": 7,
    "start_time": "2022-03-24T17:24:04.553Z"
   },
   {
    "duration": 11,
    "start_time": "2022-03-24T17:24:08.001Z"
   },
   {
    "duration": 50,
    "start_time": "2022-03-24T17:24:13.463Z"
   },
   {
    "duration": 9,
    "start_time": "2022-03-24T17:24:16.884Z"
   },
   {
    "duration": 49,
    "start_time": "2022-03-24T17:24:32.994Z"
   },
   {
    "duration": 10,
    "start_time": "2022-03-24T17:24:36.108Z"
   },
   {
    "duration": 32,
    "start_time": "2022-03-24T17:24:48.063Z"
   },
   {
    "duration": 11,
    "start_time": "2022-03-24T17:25:07.385Z"
   },
   {
    "duration": 8,
    "start_time": "2022-03-24T17:25:12.144Z"
   },
   {
    "duration": 133,
    "start_time": "2022-03-24T17:25:17.885Z"
   },
   {
    "duration": 116,
    "start_time": "2022-03-24T17:25:21.067Z"
   },
   {
    "duration": 88,
    "start_time": "2022-03-24T17:25:43.526Z"
   },
   {
    "duration": 95,
    "start_time": "2022-03-24T17:25:51.396Z"
   },
   {
    "duration": 40,
    "start_time": "2022-03-24T17:25:55.396Z"
   },
   {
    "duration": 37,
    "start_time": "2022-03-24T17:26:33.767Z"
   },
   {
    "duration": 4,
    "start_time": "2022-03-24T17:43:17.672Z"
   },
   {
    "duration": 3,
    "start_time": "2022-03-24T17:43:51.944Z"
   },
   {
    "duration": 8,
    "start_time": "2022-03-24T17:46:27.475Z"
   },
   {
    "duration": 8,
    "start_time": "2022-03-24T17:49:26.779Z"
   },
   {
    "duration": 3928,
    "start_time": "2022-03-24T17:52:28.040Z"
   },
   {
    "duration": 9,
    "start_time": "2022-03-24T17:53:43.420Z"
   },
   {
    "duration": 9,
    "start_time": "2022-03-24T17:54:40.502Z"
   },
   {
    "duration": 10,
    "start_time": "2022-03-24T17:58:45.452Z"
   },
   {
    "duration": 35,
    "start_time": "2022-03-24T18:00:32.833Z"
   },
   {
    "duration": 19,
    "start_time": "2022-03-24T18:00:38.861Z"
   },
   {
    "duration": 16,
    "start_time": "2022-03-24T18:00:48.188Z"
   },
   {
    "duration": 4,
    "start_time": "2022-03-24T18:01:13.621Z"
   },
   {
    "duration": 88,
    "start_time": "2022-03-24T18:01:23.875Z"
   },
   {
    "duration": 69,
    "start_time": "2022-03-24T18:01:35.843Z"
   },
   {
    "duration": 11,
    "start_time": "2022-03-24T18:02:56.782Z"
   },
   {
    "duration": 11,
    "start_time": "2022-03-24T18:34:29.209Z"
   },
   {
    "duration": 9,
    "start_time": "2022-03-24T18:34:50.129Z"
   },
   {
    "duration": 10,
    "start_time": "2022-03-24T18:49:21.521Z"
   },
   {
    "duration": 8,
    "start_time": "2022-03-24T18:50:03.643Z"
   },
   {
    "duration": 8,
    "start_time": "2022-03-24T18:54:30.546Z"
   },
   {
    "duration": 6,
    "start_time": "2022-03-24T18:54:53.042Z"
   },
   {
    "duration": 479,
    "start_time": "2022-03-24T18:54:56.145Z"
   },
   {
    "duration": 9,
    "start_time": "2022-03-24T18:55:00.907Z"
   },
   {
    "duration": 11,
    "start_time": "2022-03-24T18:55:04.105Z"
   },
   {
    "duration": 47,
    "start_time": "2022-03-24T18:55:07.966Z"
   },
   {
    "duration": 10,
    "start_time": "2022-03-24T18:55:11.809Z"
   },
   {
    "duration": 62,
    "start_time": "2022-03-24T18:55:16.690Z"
   },
   {
    "duration": 9,
    "start_time": "2022-03-24T18:55:27.491Z"
   },
   {
    "duration": 34,
    "start_time": "2022-03-24T18:55:36.576Z"
   },
   {
    "duration": 13,
    "start_time": "2022-03-24T18:55:39.743Z"
   },
   {
    "duration": 9,
    "start_time": "2022-03-24T18:55:45.650Z"
   },
   {
    "duration": 143,
    "start_time": "2022-03-24T18:55:54.068Z"
   },
   {
    "duration": 137,
    "start_time": "2022-03-24T18:55:57.714Z"
   },
   {
    "duration": 104,
    "start_time": "2022-03-24T18:56:06.910Z"
   },
   {
    "duration": 117,
    "start_time": "2022-03-24T18:56:10.267Z"
   },
   {
    "duration": 44,
    "start_time": "2022-03-24T18:56:13.098Z"
   },
   {
    "duration": 12,
    "start_time": "2022-03-24T18:56:17.987Z"
   },
   {
    "duration": 10,
    "start_time": "2022-03-24T18:56:23.377Z"
   },
   {
    "duration": 39,
    "start_time": "2022-03-24T18:56:27.216Z"
   },
   {
    "duration": 81,
    "start_time": "2022-03-24T18:56:33.533Z"
   },
   {
    "duration": 9,
    "start_time": "2022-03-24T18:58:07.257Z"
   },
   {
    "duration": 3278,
    "start_time": "2022-03-24T18:59:19.419Z"
   },
   {
    "duration": 7,
    "start_time": "2022-03-24T19:00:38.578Z"
   },
   {
    "duration": 8,
    "start_time": "2022-03-24T19:02:55.968Z"
   },
   {
    "duration": 8,
    "start_time": "2022-03-24T19:03:45.387Z"
   },
   {
    "duration": 210,
    "start_time": "2022-03-24T19:05:48.805Z"
   },
   {
    "duration": 7,
    "start_time": "2022-03-24T19:05:58.926Z"
   },
   {
    "duration": 8,
    "start_time": "2022-03-24T19:06:26.555Z"
   },
   {
    "duration": 8,
    "start_time": "2022-03-24T19:07:04.414Z"
   },
   {
    "duration": 72,
    "start_time": "2022-03-24T19:07:18.126Z"
   },
   {
    "duration": 8,
    "start_time": "2022-03-24T19:10:17.466Z"
   },
   {
    "duration": 8,
    "start_time": "2022-03-24T19:11:45.937Z"
   },
   {
    "duration": 7,
    "start_time": "2022-03-24T19:12:15.872Z"
   },
   {
    "duration": 9,
    "start_time": "2022-03-24T19:13:32.836Z"
   },
   {
    "duration": 8,
    "start_time": "2022-03-24T19:14:30.208Z"
   },
   {
    "duration": 9,
    "start_time": "2022-03-24T19:15:14.541Z"
   },
   {
    "duration": 349,
    "start_time": "2022-03-24T19:16:06.446Z"
   },
   {
    "duration": 51,
    "start_time": "2022-03-25T05:11:50.795Z"
   },
   {
    "duration": 1302,
    "start_time": "2022-03-25T05:12:03.612Z"
   },
   {
    "duration": 380,
    "start_time": "2022-03-25T05:12:07.099Z"
   },
   {
    "duration": 9,
    "start_time": "2022-03-25T05:12:12.672Z"
   },
   {
    "duration": 15,
    "start_time": "2022-03-25T05:12:15.986Z"
   },
   {
    "duration": 48,
    "start_time": "2022-03-25T05:12:20.457Z"
   },
   {
    "duration": 8,
    "start_time": "2022-03-25T05:12:24.490Z"
   },
   {
    "duration": 58,
    "start_time": "2022-03-25T05:12:31.048Z"
   },
   {
    "duration": 9,
    "start_time": "2022-03-25T05:12:34.122Z"
   },
   {
    "duration": 33,
    "start_time": "2022-03-25T05:12:38.338Z"
   },
   {
    "duration": 12,
    "start_time": "2022-03-25T05:12:41.466Z"
   },
   {
    "duration": 8,
    "start_time": "2022-03-25T05:12:47.083Z"
   },
   {
    "duration": 144,
    "start_time": "2022-03-25T05:12:52.680Z"
   },
   {
    "duration": 129,
    "start_time": "2022-03-25T05:12:56.353Z"
   },
   {
    "duration": 99,
    "start_time": "2022-03-25T05:13:00.305Z"
   },
   {
    "duration": 109,
    "start_time": "2022-03-25T05:13:03.889Z"
   },
   {
    "duration": 41,
    "start_time": "2022-03-25T05:13:07.578Z"
   },
   {
    "duration": 10,
    "start_time": "2022-03-25T05:13:13.177Z"
   },
   {
    "duration": 10,
    "start_time": "2022-03-25T05:13:17.969Z"
   },
   {
    "duration": 37,
    "start_time": "2022-03-25T05:13:22.442Z"
   },
   {
    "duration": 8,
    "start_time": "2022-03-25T05:13:30.713Z"
   },
   {
    "duration": 73,
    "start_time": "2022-03-25T05:13:34.824Z"
   },
   {
    "duration": 7,
    "start_time": "2022-03-25T05:13:40.242Z"
   },
   {
    "duration": 386,
    "start_time": "2022-03-25T05:13:44.428Z"
   },
   {
    "duration": 327,
    "start_time": "2022-03-25T05:15:15.193Z"
   },
   {
    "duration": 1204,
    "start_time": "2022-03-25T05:36:12.235Z"
   },
   {
    "duration": 15,
    "start_time": "2022-03-25T05:36:43.618Z"
   },
   {
    "duration": 14,
    "start_time": "2022-03-25T05:38:34.224Z"
   },
   {
    "duration": 14,
    "start_time": "2022-03-25T06:08:24.857Z"
   },
   {
    "duration": 14,
    "start_time": "2022-03-25T06:21:28.223Z"
   },
   {
    "duration": 1030,
    "start_time": "2022-03-25T06:35:24.448Z"
   },
   {
    "duration": 14,
    "start_time": "2022-03-25T06:36:51.142Z"
   },
   {
    "duration": 11,
    "start_time": "2022-03-25T06:58:07.636Z"
   },
   {
    "duration": 13,
    "start_time": "2022-03-25T06:59:22.776Z"
   },
   {
    "duration": 13,
    "start_time": "2022-03-25T07:20:30.189Z"
   },
   {
    "duration": 13,
    "start_time": "2022-03-25T07:21:05.865Z"
   },
   {
    "duration": 73,
    "start_time": "2022-03-25T07:22:26.624Z"
   },
   {
    "duration": 66,
    "start_time": "2022-03-25T07:22:52.401Z"
   },
   {
    "duration": 13,
    "start_time": "2022-03-25T07:23:02.248Z"
   },
   {
    "duration": 11,
    "start_time": "2022-03-25T07:24:43.689Z"
   },
   {
    "duration": 11,
    "start_time": "2022-03-25T07:28:14.402Z"
   },
   {
    "duration": 12,
    "start_time": "2022-03-25T07:34:42.414Z"
   },
   {
    "duration": 297,
    "start_time": "2022-03-25T07:57:58.424Z"
   },
   {
    "duration": 418,
    "start_time": "2022-03-25T07:58:28.177Z"
   },
   {
    "duration": 510,
    "start_time": "2022-03-25T07:59:42.622Z"
   },
   {
    "duration": 427,
    "start_time": "2022-03-25T07:59:58.241Z"
   },
   {
    "duration": 492,
    "start_time": "2022-03-25T08:00:18.840Z"
   },
   {
    "duration": 474,
    "start_time": "2022-03-25T08:01:52.544Z"
   },
   {
    "duration": 414,
    "start_time": "2022-03-25T08:02:23.096Z"
   },
   {
    "duration": 354,
    "start_time": "2022-03-25T08:02:32.680Z"
   },
   {
    "duration": 341,
    "start_time": "2022-03-25T08:04:24.833Z"
   },
   {
    "duration": 515,
    "start_time": "2022-03-25T08:09:36.742Z"
   },
   {
    "duration": 366,
    "start_time": "2022-03-25T08:29:17.295Z"
   },
   {
    "duration": 373,
    "start_time": "2022-03-25T08:30:03.672Z"
   },
   {
    "duration": 349,
    "start_time": "2022-03-25T08:31:50.609Z"
   },
   {
    "duration": 1249,
    "start_time": "2022-03-25T10:54:56.454Z"
   },
   {
    "duration": 438,
    "start_time": "2022-03-25T10:54:59.420Z"
   },
   {
    "duration": 8,
    "start_time": "2022-03-25T10:55:04.748Z"
   },
   {
    "duration": 15,
    "start_time": "2022-03-25T10:55:08.224Z"
   },
   {
    "duration": 47,
    "start_time": "2022-03-25T10:55:15.598Z"
   },
   {
    "duration": 9,
    "start_time": "2022-03-25T10:55:18.918Z"
   },
   {
    "duration": 70,
    "start_time": "2022-03-25T10:55:23.482Z"
   },
   {
    "duration": 10,
    "start_time": "2022-03-25T10:55:26.972Z"
   },
   {
    "duration": 33,
    "start_time": "2022-03-25T10:55:32.173Z"
   },
   {
    "duration": 12,
    "start_time": "2022-03-25T10:55:34.988Z"
   },
   {
    "duration": 9,
    "start_time": "2022-03-25T10:55:39.924Z"
   },
   {
    "duration": 161,
    "start_time": "2022-03-25T10:55:47.188Z"
   },
   {
    "duration": 132,
    "start_time": "2022-03-25T10:55:51.094Z"
   },
   {
    "duration": 94,
    "start_time": "2022-03-25T10:55:56.042Z"
   },
   {
    "duration": 126,
    "start_time": "2022-03-25T10:56:00.300Z"
   },
   {
    "duration": 40,
    "start_time": "2022-03-25T10:56:04.150Z"
   },
   {
    "duration": 10,
    "start_time": "2022-03-25T10:56:12.874Z"
   },
   {
    "duration": 9,
    "start_time": "2022-03-25T10:56:27.606Z"
   },
   {
    "duration": 9,
    "start_time": "2022-03-25T10:56:31.118Z"
   },
   {
    "duration": 15,
    "start_time": "2022-03-25T10:56:39.206Z"
   },
   {
    "duration": 14,
    "start_time": "2022-03-25T10:56:52.380Z"
   },
   {
    "duration": 14,
    "start_time": "2022-03-25T10:56:58.132Z"
   },
   {
    "duration": 39,
    "start_time": "2022-03-25T10:57:02.381Z"
   },
   {
    "duration": 12,
    "start_time": "2022-03-25T10:57:15.139Z"
   },
   {
    "duration": 79,
    "start_time": "2022-03-25T10:57:19.165Z"
   },
   {
    "duration": 12,
    "start_time": "2022-03-25T10:57:24.613Z"
   },
   {
    "duration": 325,
    "start_time": "2022-03-25T10:57:50.705Z"
   },
   {
    "duration": 393,
    "start_time": "2022-03-25T10:57:56.105Z"
   },
   {
    "duration": 33,
    "start_time": "2022-03-25T10:58:01.436Z"
   },
   {
    "duration": 35,
    "start_time": "2022-03-25T10:58:09.155Z"
   },
   {
    "duration": 452,
    "start_time": "2022-03-25T10:58:19.905Z"
   },
   {
    "duration": 397,
    "start_time": "2022-03-25T10:58:25.553Z"
   },
   {
    "duration": 334,
    "start_time": "2022-03-25T10:58:31.994Z"
   },
   {
    "duration": 423,
    "start_time": "2022-03-25T10:58:42.545Z"
   },
   {
    "duration": 349,
    "start_time": "2022-03-25T10:58:49.910Z"
   },
   {
    "duration": 98,
    "start_time": "2022-03-25T11:00:03.214Z"
   },
   {
    "duration": 6,
    "start_time": "2022-03-25T11:11:48.295Z"
   },
   {
    "duration": 6,
    "start_time": "2022-03-25T11:12:29.795Z"
   },
   {
    "duration": 70,
    "start_time": "2022-03-25T11:15:51.860Z"
   },
   {
    "duration": 65,
    "start_time": "2022-03-25T11:16:04.573Z"
   },
   {
    "duration": 73,
    "start_time": "2022-03-25T11:16:17.533Z"
   },
   {
    "duration": 67,
    "start_time": "2022-03-25T11:16:34.533Z"
   },
   {
    "duration": 362,
    "start_time": "2022-03-25T11:17:21.550Z"
   },
   {
    "duration": 464,
    "start_time": "2022-03-25T11:21:46.498Z"
   },
   {
    "duration": 372,
    "start_time": "2022-03-25T11:24:59.602Z"
   },
   {
    "duration": 353,
    "start_time": "2022-03-25T11:25:47.260Z"
   },
   {
    "duration": 374,
    "start_time": "2022-03-25T11:30:40.578Z"
   },
   {
    "duration": 13,
    "start_time": "2022-03-25T11:35:31.163Z"
   },
   {
    "duration": 13,
    "start_time": "2022-03-25T11:35:56.793Z"
   },
   {
    "duration": 385,
    "start_time": "2022-03-25T11:40:18.867Z"
   },
   {
    "duration": 512,
    "start_time": "2022-03-25T11:40:56.818Z"
   },
   {
    "duration": 414,
    "start_time": "2022-03-25T11:41:01.994Z"
   },
   {
    "duration": 1326,
    "start_time": "2022-03-25T18:34:51.999Z"
   },
   {
    "duration": 375,
    "start_time": "2022-03-25T18:34:55.606Z"
   },
   {
    "duration": 8,
    "start_time": "2022-03-25T18:35:03.357Z"
   },
   {
    "duration": 15,
    "start_time": "2022-03-25T18:35:07.633Z"
   },
   {
    "duration": 49,
    "start_time": "2022-03-25T18:35:15.434Z"
   },
   {
    "duration": 9,
    "start_time": "2022-03-25T18:35:18.682Z"
   },
   {
    "duration": 63,
    "start_time": "2022-03-25T18:35:25.352Z"
   },
   {
    "duration": 15,
    "start_time": "2022-03-25T18:35:29.691Z"
   },
   {
    "duration": 34,
    "start_time": "2022-03-25T18:35:35.131Z"
   },
   {
    "duration": 14,
    "start_time": "2022-03-25T18:35:37.981Z"
   },
   {
    "duration": 8,
    "start_time": "2022-03-25T18:35:42.553Z"
   },
   {
    "duration": 144,
    "start_time": "2022-03-25T18:35:46.717Z"
   },
   {
    "duration": 122,
    "start_time": "2022-03-25T18:35:51.195Z"
   },
   {
    "duration": 92,
    "start_time": "2022-03-25T18:35:55.541Z"
   },
   {
    "duration": 108,
    "start_time": "2022-03-25T18:36:00.547Z"
   },
   {
    "duration": 43,
    "start_time": "2022-03-25T18:36:05.068Z"
   },
   {
    "duration": 10,
    "start_time": "2022-03-25T18:36:10.668Z"
   },
   {
    "duration": 13,
    "start_time": "2022-03-25T18:36:23.979Z"
   },
   {
    "duration": 13,
    "start_time": "2022-03-25T18:36:30.666Z"
   },
   {
    "duration": 14,
    "start_time": "2022-03-25T18:36:35.639Z"
   },
   {
    "duration": 14,
    "start_time": "2022-03-25T18:36:42.546Z"
   },
   {
    "duration": 37,
    "start_time": "2022-03-25T18:36:52.515Z"
   },
   {
    "duration": 11,
    "start_time": "2022-03-25T18:37:00.966Z"
   },
   {
    "duration": 74,
    "start_time": "2022-03-25T18:37:46.042Z"
   },
   {
    "duration": 11,
    "start_time": "2022-03-25T18:37:50.795Z"
   },
   {
    "duration": 335,
    "start_time": "2022-03-25T18:37:56.085Z"
   },
   {
    "duration": 400,
    "start_time": "2022-03-25T18:38:01.419Z"
   },
   {
    "duration": 13,
    "start_time": "2022-03-25T18:38:06.441Z"
   },
   {
    "duration": 12,
    "start_time": "2022-03-25T18:38:10.181Z"
   },
   {
    "duration": 454,
    "start_time": "2022-03-25T18:38:16.939Z"
   },
   {
    "duration": 428,
    "start_time": "2022-03-25T18:38:22.094Z"
   },
   {
    "duration": 411,
    "start_time": "2022-03-25T18:38:27.525Z"
   },
   {
    "duration": 351,
    "start_time": "2022-03-25T18:38:32.052Z"
   },
   {
    "duration": 397,
    "start_time": "2022-03-25T18:38:51.398Z"
   },
   {
    "duration": 395,
    "start_time": "2022-03-25T18:39:06.207Z"
   },
   {
    "duration": 8,
    "start_time": "2022-03-25T18:45:00.480Z"
   },
   {
    "duration": 8,
    "start_time": "2022-03-25T18:47:43.928Z"
   },
   {
    "duration": 8,
    "start_time": "2022-03-25T18:54:27.804Z"
   },
   {
    "duration": 9,
    "start_time": "2022-03-25T18:56:50.197Z"
   },
   {
    "duration": 9,
    "start_time": "2022-03-25T18:57:12.574Z"
   },
   {
    "duration": 8,
    "start_time": "2022-03-25T19:02:07.150Z"
   },
   {
    "duration": 9,
    "start_time": "2022-03-25T19:02:37.001Z"
   },
   {
    "duration": 9,
    "start_time": "2022-03-25T19:05:34.309Z"
   },
   {
    "duration": 9,
    "start_time": "2022-03-25T19:10:27.534Z"
   },
   {
    "duration": 7,
    "start_time": "2022-03-25T19:11:35.108Z"
   },
   {
    "duration": 9,
    "start_time": "2022-03-25T19:11:52.771Z"
   },
   {
    "duration": 1380,
    "start_time": "2022-03-26T09:44:31.751Z"
   },
   {
    "duration": 409,
    "start_time": "2022-03-26T09:44:35.912Z"
   },
   {
    "duration": 51,
    "start_time": "2022-03-26T09:44:40.731Z"
   },
   {
    "duration": 63,
    "start_time": "2022-03-26T09:46:08.442Z"
   },
   {
    "duration": 11,
    "start_time": "2022-03-26T09:46:12.472Z"
   },
   {
    "duration": 69,
    "start_time": "2022-03-26T09:46:29.991Z"
   },
   {
    "duration": 10,
    "start_time": "2022-03-26T09:46:40.681Z"
   },
   {
    "duration": 44,
    "start_time": "2022-03-26T09:48:49.823Z"
   },
   {
    "duration": 11,
    "start_time": "2022-03-26T09:49:04.701Z"
   },
   {
    "duration": 46,
    "start_time": "2022-03-26T09:49:13.991Z"
   },
   {
    "duration": 10,
    "start_time": "2022-03-26T09:49:18.623Z"
   },
   {
    "duration": 41,
    "start_time": "2022-03-26T09:49:44.882Z"
   },
   {
    "duration": 14,
    "start_time": "2022-03-26T09:49:48.291Z"
   },
   {
    "duration": 9,
    "start_time": "2022-03-26T09:50:06.530Z"
   },
   {
    "duration": 1884,
    "start_time": "2022-03-26T16:16:58.260Z"
   },
   {
    "duration": 527,
    "start_time": "2022-03-26T16:17:02.510Z"
   },
   {
    "duration": 4,
    "start_time": "2022-03-26T16:17:13.229Z"
   },
   {
    "duration": 11,
    "start_time": "2022-03-26T16:17:19.187Z"
   },
   {
    "duration": 21,
    "start_time": "2022-03-26T16:17:22.545Z"
   },
   {
    "duration": 68,
    "start_time": "2022-03-26T16:17:27.225Z"
   },
   {
    "duration": 14,
    "start_time": "2022-03-26T16:17:30.859Z"
   },
   {
    "duration": 87,
    "start_time": "2022-03-26T16:17:35.990Z"
   },
   {
    "duration": 15,
    "start_time": "2022-03-26T16:17:39.580Z"
   },
   {
    "duration": 48,
    "start_time": "2022-03-26T16:17:43.903Z"
   },
   {
    "duration": 18,
    "start_time": "2022-03-26T16:17:47.380Z"
   },
   {
    "duration": 12,
    "start_time": "2022-03-26T16:17:52.307Z"
   },
   {
    "duration": 221,
    "start_time": "2022-03-26T16:18:56.787Z"
   },
   {
    "duration": 203,
    "start_time": "2022-03-26T16:19:38.477Z"
   },
   {
    "duration": 216,
    "start_time": "2022-03-26T16:20:22.342Z"
   },
   {
    "duration": 202,
    "start_time": "2022-03-26T16:20:27.214Z"
   },
   {
    "duration": 192,
    "start_time": "2022-03-26T16:20:43.734Z"
   },
   {
    "duration": 171,
    "start_time": "2022-03-26T16:21:28.374Z"
   },
   {
    "duration": 61,
    "start_time": "2022-03-26T16:21:42.757Z"
   },
   {
    "duration": 15,
    "start_time": "2022-03-26T16:21:57.095Z"
   },
   {
    "duration": 17,
    "start_time": "2022-03-26T16:22:11.834Z"
   },
   {
    "duration": 19,
    "start_time": "2022-03-26T16:26:03.077Z"
   },
   {
    "duration": 18,
    "start_time": "2022-03-26T16:35:10.788Z"
   },
   {
    "duration": 58,
    "start_time": "2022-03-26T16:37:19.672Z"
   },
   {
    "duration": 16,
    "start_time": "2022-03-26T16:37:46.637Z"
   },
   {
    "duration": 117,
    "start_time": "2022-03-26T16:38:54.441Z"
   },
   {
    "duration": 16,
    "start_time": "2022-03-26T16:39:03.719Z"
   },
   {
    "duration": 15,
    "start_time": "2022-03-26T16:46:50.643Z"
   },
   {
    "duration": 16,
    "start_time": "2022-03-26T16:47:41.843Z"
   },
   {
    "duration": 612,
    "start_time": "2022-03-26T16:48:16.827Z"
   },
   {
    "duration": 601,
    "start_time": "2022-03-26T16:52:06.526Z"
   },
   {
    "duration": 50,
    "start_time": "2022-03-26T16:54:31.507Z"
   },
   {
    "duration": 50,
    "start_time": "2022-03-26T16:54:43.636Z"
   },
   {
    "duration": 720,
    "start_time": "2022-03-26T17:04:15.139Z"
   },
   {
    "duration": 639,
    "start_time": "2022-03-26T17:04:29.505Z"
   },
   {
    "duration": 534,
    "start_time": "2022-03-26T17:04:35.647Z"
   },
   {
    "duration": 678,
    "start_time": "2022-03-26T17:04:41.488Z"
   },
   {
    "duration": 547,
    "start_time": "2022-03-26T17:06:39.332Z"
   },
   {
    "duration": 716,
    "start_time": "2022-03-26T17:14:20.797Z"
   },
   {
    "duration": 11,
    "start_time": "2022-03-26T17:16:09.389Z"
   },
   {
    "duration": 12,
    "start_time": "2022-03-26T17:18:55.549Z"
   },
   {
    "duration": 22,
    "start_time": "2022-03-26T18:22:24.855Z"
   },
   {
    "duration": 20,
    "start_time": "2022-03-26T18:22:57.352Z"
   },
   {
    "duration": 27,
    "start_time": "2022-03-26T18:23:36.755Z"
   },
   {
    "duration": 24,
    "start_time": "2022-03-26T18:24:05.165Z"
   },
   {
    "duration": 15,
    "start_time": "2022-03-26T18:24:41.085Z"
   },
   {
    "duration": 114,
    "start_time": "2022-03-26T18:24:49.426Z"
   },
   {
    "duration": 16,
    "start_time": "2022-03-26T18:25:05.570Z"
   },
   {
    "duration": 505,
    "start_time": "2022-03-26T18:25:12.913Z"
   },
   {
    "duration": 669,
    "start_time": "2022-03-26T18:26:05.816Z"
   },
   {
    "duration": 910,
    "start_time": "2022-03-26T18:26:41.559Z"
   },
   {
    "duration": 16,
    "start_time": "2022-03-26T18:26:50.810Z"
   },
   {
    "duration": 15,
    "start_time": "2022-03-26T18:27:02.613Z"
   },
   {
    "duration": 1580,
    "start_time": "2022-03-26T18:27:36.531Z"
   },
   {
    "duration": 531,
    "start_time": "2022-03-26T18:27:38.114Z"
   },
   {
    "duration": 3,
    "start_time": "2022-03-26T18:27:38.648Z"
   },
   {
    "duration": 7,
    "start_time": "2022-03-26T18:27:38.655Z"
   },
   {
    "duration": 8,
    "start_time": "2022-03-26T18:27:38.664Z"
   },
   {
    "duration": 11,
    "start_time": "2022-03-26T18:27:38.674Z"
   },
   {
    "duration": 10,
    "start_time": "2022-03-26T18:27:38.687Z"
   },
   {
    "duration": 16,
    "start_time": "2022-03-26T18:27:38.700Z"
   },
   {
    "duration": 23,
    "start_time": "2022-03-26T18:27:38.719Z"
   },
   {
    "duration": 81,
    "start_time": "2022-03-26T18:27:38.747Z"
   },
   {
    "duration": 13,
    "start_time": "2022-03-26T18:27:38.830Z"
   },
   {
    "duration": 109,
    "start_time": "2022-03-26T18:27:38.846Z"
   },
   {
    "duration": 29,
    "start_time": "2022-03-26T18:27:38.958Z"
   },
   {
    "duration": 51,
    "start_time": "2022-03-26T18:27:38.990Z"
   },
   {
    "duration": 44,
    "start_time": "2022-03-26T18:27:39.043Z"
   },
   {
    "duration": 12,
    "start_time": "2022-03-26T18:27:39.090Z"
   },
   {
    "duration": 261,
    "start_time": "2022-03-26T18:27:39.105Z"
   },
   {
    "duration": 210,
    "start_time": "2022-03-26T18:27:39.368Z"
   },
   {
    "duration": 200,
    "start_time": "2022-03-26T18:27:39.585Z"
   },
   {
    "duration": 228,
    "start_time": "2022-03-26T18:27:39.788Z"
   },
   {
    "duration": 101,
    "start_time": "2022-03-26T18:27:40.018Z"
   },
   {
    "duration": 17,
    "start_time": "2022-03-26T18:27:40.122Z"
   },
   {
    "duration": 43,
    "start_time": "2022-03-26T18:27:40.141Z"
   },
   {
    "duration": 20,
    "start_time": "2022-03-26T18:27:40.187Z"
   },
   {
    "duration": 20,
    "start_time": "2022-03-26T18:27:40.210Z"
   },
   {
    "duration": 63,
    "start_time": "2022-03-26T18:27:40.232Z"
   },
   {
    "duration": 60,
    "start_time": "2022-03-26T18:27:40.298Z"
   },
   {
    "duration": 16,
    "start_time": "2022-03-26T18:27:40.386Z"
   },
   {
    "duration": 147,
    "start_time": "2022-03-26T18:27:40.405Z"
   },
   {
    "duration": 34,
    "start_time": "2022-03-26T18:27:40.555Z"
   },
   {
    "duration": 579,
    "start_time": "2022-03-26T18:27:40.592Z"
   },
   {
    "duration": 153,
    "start_time": "2022-03-26T18:27:41.174Z"
   },
   {
    "duration": 0,
    "start_time": "2022-03-26T18:27:41.330Z"
   },
   {
    "duration": 0,
    "start_time": "2022-03-26T18:27:41.333Z"
   },
   {
    "duration": 0,
    "start_time": "2022-03-26T18:27:41.335Z"
   },
   {
    "duration": 0,
    "start_time": "2022-03-26T18:27:41.337Z"
   },
   {
    "duration": 0,
    "start_time": "2022-03-26T18:27:41.338Z"
   },
   {
    "duration": 0,
    "start_time": "2022-03-26T18:27:41.340Z"
   },
   {
    "duration": 0,
    "start_time": "2022-03-26T18:27:41.341Z"
   },
   {
    "duration": 0,
    "start_time": "2022-03-26T18:27:41.343Z"
   },
   {
    "duration": 0,
    "start_time": "2022-03-26T18:27:41.345Z"
   },
   {
    "duration": 0,
    "start_time": "2022-03-26T18:27:41.346Z"
   },
   {
    "duration": 0,
    "start_time": "2022-03-26T18:27:41.348Z"
   },
   {
    "duration": 0,
    "start_time": "2022-03-26T18:27:41.350Z"
   },
   {
    "duration": 1,
    "start_time": "2022-03-26T18:27:41.351Z"
   },
   {
    "duration": 1575,
    "start_time": "2022-03-26T18:28:23.254Z"
   },
   {
    "duration": 521,
    "start_time": "2022-03-26T18:28:24.832Z"
   },
   {
    "duration": 3,
    "start_time": "2022-03-26T18:28:25.356Z"
   },
   {
    "duration": 7,
    "start_time": "2022-03-26T18:28:25.362Z"
   },
   {
    "duration": 9,
    "start_time": "2022-03-26T18:28:25.372Z"
   },
   {
    "duration": 14,
    "start_time": "2022-03-26T18:28:25.384Z"
   },
   {
    "duration": 7,
    "start_time": "2022-03-26T18:28:25.400Z"
   },
   {
    "duration": 14,
    "start_time": "2022-03-26T18:28:25.410Z"
   },
   {
    "duration": 29,
    "start_time": "2022-03-26T18:28:25.426Z"
   },
   {
    "duration": 83,
    "start_time": "2022-03-26T18:28:25.460Z"
   },
   {
    "duration": 15,
    "start_time": "2022-03-26T18:28:25.545Z"
   },
   {
    "duration": 112,
    "start_time": "2022-03-26T18:28:25.562Z"
   },
   {
    "duration": 16,
    "start_time": "2022-03-26T18:28:25.676Z"
   },
   {
    "duration": 59,
    "start_time": "2022-03-26T18:28:25.695Z"
   },
   {
    "duration": 40,
    "start_time": "2022-03-26T18:28:25.756Z"
   },
   {
    "duration": 46,
    "start_time": "2022-03-26T18:28:25.799Z"
   },
   {
    "duration": 254,
    "start_time": "2022-03-26T18:28:25.847Z"
   },
   {
    "duration": 219,
    "start_time": "2022-03-26T18:28:26.104Z"
   },
   {
    "duration": 166,
    "start_time": "2022-03-26T18:28:26.326Z"
   },
   {
    "duration": 195,
    "start_time": "2022-03-26T18:28:26.495Z"
   },
   {
    "duration": 63,
    "start_time": "2022-03-26T18:28:26.692Z"
   },
   {
    "duration": 36,
    "start_time": "2022-03-26T18:28:26.757Z"
   },
   {
    "duration": 27,
    "start_time": "2022-03-26T18:28:26.795Z"
   },
   {
    "duration": 38,
    "start_time": "2022-03-26T18:28:26.824Z"
   },
   {
    "duration": 27,
    "start_time": "2022-03-26T18:28:26.864Z"
   },
   {
    "duration": 50,
    "start_time": "2022-03-26T18:28:26.893Z"
   },
   {
    "duration": 68,
    "start_time": "2022-03-26T18:28:26.946Z"
   },
   {
    "duration": 17,
    "start_time": "2022-03-26T18:28:27.022Z"
   },
   {
    "duration": 150,
    "start_time": "2022-03-26T18:28:27.041Z"
   },
   {
    "duration": 16,
    "start_time": "2022-03-26T18:28:27.193Z"
   },
   {
    "duration": 552,
    "start_time": "2022-03-26T18:28:27.212Z"
   },
   {
    "duration": 633,
    "start_time": "2022-03-26T18:28:27.767Z"
   },
   {
    "duration": 53,
    "start_time": "2022-03-26T18:28:28.403Z"
   },
   {
    "duration": 53,
    "start_time": "2022-03-26T18:28:28.484Z"
   },
   {
    "duration": 771,
    "start_time": "2022-03-26T18:28:28.540Z"
   },
   {
    "duration": 650,
    "start_time": "2022-03-26T18:28:29.313Z"
   },
   {
    "duration": 564,
    "start_time": "2022-03-26T18:28:29.965Z"
   },
   {
    "duration": 696,
    "start_time": "2022-03-26T18:28:30.532Z"
   },
   {
    "duration": 595,
    "start_time": "2022-03-26T18:28:31.231Z"
   },
   {
    "duration": 735,
    "start_time": "2022-03-26T18:28:31.829Z"
   },
   {
    "duration": 609,
    "start_time": "2022-03-26T18:28:32.566Z"
   },
   {
    "duration": 13,
    "start_time": "2022-03-26T18:28:33.184Z"
   },
   {
    "duration": 15,
    "start_time": "2022-03-26T18:28:33.199Z"
   },
   {
    "duration": 15,
    "start_time": "2022-03-26T18:28:33.217Z"
   },
   {
    "duration": 1712,
    "start_time": "2022-04-06T12:04:33.926Z"
   },
   {
    "duration": 484,
    "start_time": "2022-04-06T12:04:50.674Z"
   },
   {
    "duration": 2300,
    "start_time": "2022-04-06T14:09:10.079Z"
   },
   {
    "duration": 685,
    "start_time": "2022-04-06T14:09:39.169Z"
   },
   {
    "duration": 92,
    "start_time": "2022-04-06T14:10:25.525Z"
   },
   {
    "duration": 39,
    "start_time": "2022-04-06T14:10:29.720Z"
   },
   {
    "duration": 35,
    "start_time": "2022-04-06T14:10:35.259Z"
   },
   {
    "duration": 13,
    "start_time": "2022-04-06T14:10:43.488Z"
   },
   {
    "duration": 18,
    "start_time": "2022-04-06T14:10:48.937Z"
   },
   {
    "duration": 13,
    "start_time": "2022-04-06T14:15:41.622Z"
   },
   {
    "duration": 44,
    "start_time": "2022-04-06T14:23:07.046Z"
   },
   {
    "duration": 13,
    "start_time": "2022-04-06T14:23:31.484Z"
   },
   {
    "duration": 62,
    "start_time": "2022-04-06T14:24:20.408Z"
   },
   {
    "duration": 11,
    "start_time": "2022-04-06T14:24:44.684Z"
   },
   {
    "duration": 39,
    "start_time": "2022-04-06T14:24:57.326Z"
   },
   {
    "duration": 14,
    "start_time": "2022-04-06T14:25:09.163Z"
   },
   {
    "duration": 9,
    "start_time": "2022-04-06T14:25:21.684Z"
   },
   {
    "duration": 171,
    "start_time": "2022-04-06T14:26:35.078Z"
   },
   {
    "duration": 33,
    "start_time": "2022-04-06T15:13:51.817Z"
   },
   {
    "duration": 10,
    "start_time": "2022-04-06T15:13:58.779Z"
   },
   {
    "duration": 40,
    "start_time": "2022-04-06T15:17:08.375Z"
   },
   {
    "duration": 9,
    "start_time": "2022-04-06T15:18:42.349Z"
   },
   {
    "duration": 32,
    "start_time": "2022-04-06T15:20:31.110Z"
   },
   {
    "duration": 10,
    "start_time": "2022-04-06T15:20:35.562Z"
   },
   {
    "duration": 40,
    "start_time": "2022-04-06T15:21:27.327Z"
   },
   {
    "duration": 11,
    "start_time": "2022-04-06T15:21:30.918Z"
   },
   {
    "duration": 29,
    "start_time": "2022-04-06T15:21:46.951Z"
   },
   {
    "duration": 13,
    "start_time": "2022-04-06T15:21:50.243Z"
   },
   {
    "duration": 42,
    "start_time": "2022-04-06T15:25:22.493Z"
   },
   {
    "duration": 10,
    "start_time": "2022-04-06T15:25:25.662Z"
   },
   {
    "duration": 27,
    "start_time": "2022-04-06T15:25:39.780Z"
   },
   {
    "duration": 13,
    "start_time": "2022-04-06T15:25:42.775Z"
   },
   {
    "duration": 120,
    "start_time": "2022-04-06T15:32:05.863Z"
   },
   {
    "duration": 140,
    "start_time": "2022-04-06T15:32:50.553Z"
   },
   {
    "duration": 112,
    "start_time": "2022-04-06T15:33:25.920Z"
   },
   {
    "duration": 124,
    "start_time": "2022-04-06T15:33:32.305Z"
   },
   {
    "duration": 122,
    "start_time": "2022-04-06T15:34:01.583Z"
   },
   {
    "duration": 127,
    "start_time": "2022-04-06T15:34:20.295Z"
   },
   {
    "duration": 123,
    "start_time": "2022-04-06T15:35:00.680Z"
   },
   {
    "duration": 118,
    "start_time": "2022-04-06T15:39:02.432Z"
   },
   {
    "duration": 102,
    "start_time": "2022-04-06T15:53:49.784Z"
   },
   {
    "duration": 157,
    "start_time": "2022-04-06T15:54:07.589Z"
   },
   {
    "duration": 110,
    "start_time": "2022-04-06T15:54:11.764Z"
   },
   {
    "duration": 127,
    "start_time": "2022-04-06T15:54:18.393Z"
   },
   {
    "duration": 43,
    "start_time": "2022-04-06T15:54:22.879Z"
   },
   {
    "duration": 51,
    "start_time": "2022-04-06T15:59:45.348Z"
   },
   {
    "duration": 1339,
    "start_time": "2022-04-06T16:57:16.894Z"
   },
   {
    "duration": 385,
    "start_time": "2022-04-06T16:57:22.105Z"
   },
   {
    "duration": 43,
    "start_time": "2022-04-06T16:57:31.238Z"
   },
   {
    "duration": 43,
    "start_time": "2022-04-06T16:57:38.486Z"
   },
   {
    "duration": 30,
    "start_time": "2022-04-06T16:57:44.741Z"
   },
   {
    "duration": 9,
    "start_time": "2022-04-06T16:57:49.886Z"
   },
   {
    "duration": 16,
    "start_time": "2022-04-06T16:57:56.479Z"
   },
   {
    "duration": 7,
    "start_time": "2022-04-06T16:58:07.495Z"
   },
   {
    "duration": 13,
    "start_time": "2022-04-06T16:58:11.742Z"
   },
   {
    "duration": 47,
    "start_time": "2022-04-06T16:58:16.279Z"
   },
   {
    "duration": 10,
    "start_time": "2022-04-06T16:58:21.651Z"
   },
   {
    "duration": 66,
    "start_time": "2022-04-06T16:58:26.812Z"
   },
   {
    "duration": 9,
    "start_time": "2022-04-06T16:58:30.328Z"
   },
   {
    "duration": 42,
    "start_time": "2022-04-06T16:58:34.501Z"
   },
   {
    "duration": 11,
    "start_time": "2022-04-06T16:58:38.981Z"
   },
   {
    "duration": 8,
    "start_time": "2022-04-06T16:58:44.403Z"
   },
   {
    "duration": 161,
    "start_time": "2022-04-06T16:58:49.332Z"
   },
   {
    "duration": 143,
    "start_time": "2022-04-06T16:59:00.293Z"
   },
   {
    "duration": 116,
    "start_time": "2022-04-06T16:59:04.345Z"
   },
   {
    "duration": 135,
    "start_time": "2022-04-06T16:59:07.782Z"
   },
   {
    "duration": 129,
    "start_time": "2022-04-06T17:12:04.656Z"
   },
   {
    "duration": 54,
    "start_time": "2022-04-06T17:12:58.070Z"
   },
   {
    "duration": 10,
    "start_time": "2022-04-06T17:13:42.227Z"
   },
   {
    "duration": 15,
    "start_time": "2022-04-06T17:13:47.642Z"
   },
   {
    "duration": 54,
    "start_time": "2022-04-06T17:18:02.234Z"
   },
   {
    "duration": 76,
    "start_time": "2022-04-06T17:20:16.398Z"
   },
   {
    "duration": 60,
    "start_time": "2022-04-06T17:20:30.501Z"
   },
   {
    "duration": 38,
    "start_time": "2022-04-06T17:21:01.000Z"
   },
   {
    "duration": 39,
    "start_time": "2022-04-06T17:22:57.838Z"
   },
   {
    "duration": 30,
    "start_time": "2022-04-06T17:29:24.951Z"
   },
   {
    "duration": 53,
    "start_time": "2022-04-06T17:30:38.748Z"
   },
   {
    "duration": 65,
    "start_time": "2022-04-06T17:33:41.656Z"
   },
   {
    "duration": 56,
    "start_time": "2022-04-06T17:35:07.062Z"
   },
   {
    "duration": 54,
    "start_time": "2022-04-06T17:36:09.309Z"
   },
   {
    "duration": 25,
    "start_time": "2022-04-06T18:06:58.282Z"
   },
   {
    "duration": 28,
    "start_time": "2022-04-06T18:12:40.992Z"
   },
   {
    "duration": 23,
    "start_time": "2022-04-06T18:17:06.802Z"
   },
   {
    "duration": 26,
    "start_time": "2022-04-06T18:17:14.298Z"
   },
   {
    "duration": 47,
    "start_time": "2022-04-06T18:43:55.149Z"
   },
   {
    "duration": 1423,
    "start_time": "2022-04-06T18:44:08.997Z"
   },
   {
    "duration": 452,
    "start_time": "2022-04-06T18:44:14.563Z"
   },
   {
    "duration": 46,
    "start_time": "2022-04-06T18:44:18.835Z"
   },
   {
    "duration": 41,
    "start_time": "2022-04-06T18:44:23.547Z"
   },
   {
    "duration": 29,
    "start_time": "2022-04-06T18:44:28.307Z"
   },
   {
    "duration": 11,
    "start_time": "2022-04-06T18:44:33.061Z"
   },
   {
    "duration": 14,
    "start_time": "2022-04-06T18:44:37.074Z"
   },
   {
    "duration": 7,
    "start_time": "2022-04-06T18:44:46.395Z"
   },
   {
    "duration": 14,
    "start_time": "2022-04-06T18:44:50.435Z"
   },
   {
    "duration": 41,
    "start_time": "2022-04-06T18:44:58.027Z"
   },
   {
    "duration": 10,
    "start_time": "2022-04-06T18:45:05.828Z"
   },
   {
    "duration": 62,
    "start_time": "2022-04-06T18:45:12.201Z"
   },
   {
    "duration": 9,
    "start_time": "2022-04-06T18:45:16.790Z"
   },
   {
    "duration": 34,
    "start_time": "2022-04-06T18:45:21.027Z"
   },
   {
    "duration": 11,
    "start_time": "2022-04-06T18:45:24.502Z"
   },
   {
    "duration": 7,
    "start_time": "2022-04-06T18:45:30.429Z"
   },
   {
    "duration": 163,
    "start_time": "2022-04-06T18:45:35.802Z"
   },
   {
    "duration": 134,
    "start_time": "2022-04-06T18:45:41.325Z"
   },
   {
    "duration": 95,
    "start_time": "2022-04-06T18:45:45.600Z"
   },
   {
    "duration": 116,
    "start_time": "2022-04-06T18:45:50.025Z"
   },
   {
    "duration": 49,
    "start_time": "2022-04-06T18:45:55.107Z"
   },
   {
    "duration": 23,
    "start_time": "2022-04-06T18:46:06.505Z"
   },
   {
    "duration": 30,
    "start_time": "2022-04-06T18:56:47.111Z"
   },
   {
    "duration": 36,
    "start_time": "2022-04-06T19:08:16.945Z"
   },
   {
    "duration": 43,
    "start_time": "2022-04-06T19:09:19.032Z"
   },
   {
    "duration": 11,
    "start_time": "2022-04-06T19:24:06.632Z"
   },
   {
    "duration": 9,
    "start_time": "2022-04-06T19:25:43.748Z"
   },
   {
    "duration": 11,
    "start_time": "2022-04-06T19:26:06.008Z"
   },
   {
    "duration": 10,
    "start_time": "2022-04-06T19:26:47.574Z"
   },
   {
    "duration": 11,
    "start_time": "2022-04-06T19:28:11.029Z"
   },
   {
    "duration": 311,
    "start_time": "2022-04-06T19:29:04.656Z"
   },
   {
    "duration": 349,
    "start_time": "2022-04-06T19:29:27.193Z"
   },
   {
    "duration": 31,
    "start_time": "2022-04-06T19:29:55.958Z"
   },
   {
    "duration": 382,
    "start_time": "2022-04-06T19:30:06.637Z"
   },
   {
    "duration": 392,
    "start_time": "2022-04-06T19:30:14.330Z"
   },
   {
    "duration": 296,
    "start_time": "2022-04-06T19:30:19.735Z"
   },
   {
    "duration": 366,
    "start_time": "2022-04-06T19:30:26.115Z"
   },
   {
    "duration": 289,
    "start_time": "2022-04-06T19:32:34.450Z"
   },
   {
    "duration": 328,
    "start_time": "2022-04-06T19:33:01.963Z"
   },
   {
    "duration": 292,
    "start_time": "2022-04-06T19:33:33.100Z"
   },
   {
    "duration": 313,
    "start_time": "2022-04-06T19:34:07.045Z"
   },
   {
    "duration": 64,
    "start_time": "2022-04-06T20:02:59.064Z"
   },
   {
    "duration": 304,
    "start_time": "2022-04-06T20:03:44.549Z"
   },
   {
    "duration": 318,
    "start_time": "2022-04-06T20:07:40.128Z"
   },
   {
    "duration": 1869,
    "start_time": "2022-04-07T05:31:55.570Z"
   },
   {
    "duration": 527,
    "start_time": "2022-04-07T05:32:01.679Z"
   },
   {
    "duration": 63,
    "start_time": "2022-04-07T05:32:07.949Z"
   },
   {
    "duration": 48,
    "start_time": "2022-04-07T05:32:13.182Z"
   },
   {
    "duration": 41,
    "start_time": "2022-04-07T05:32:17.890Z"
   },
   {
    "duration": 15,
    "start_time": "2022-04-07T05:32:22.803Z"
   },
   {
    "duration": 22,
    "start_time": "2022-04-07T05:32:29.916Z"
   },
   {
    "duration": 12,
    "start_time": "2022-04-07T05:32:53.881Z"
   },
   {
    "duration": 18,
    "start_time": "2022-04-07T05:33:00.456Z"
   },
   {
    "duration": 61,
    "start_time": "2022-04-07T05:33:04.360Z"
   },
   {
    "duration": 14,
    "start_time": "2022-04-07T05:33:12.353Z"
   },
   {
    "duration": 87,
    "start_time": "2022-04-07T05:33:21.529Z"
   },
   {
    "duration": 13,
    "start_time": "2022-04-07T05:33:25.250Z"
   },
   {
    "duration": 48,
    "start_time": "2022-04-07T05:33:38.060Z"
   },
   {
    "duration": 18,
    "start_time": "2022-04-07T05:33:41.914Z"
   },
   {
    "duration": 12,
    "start_time": "2022-04-07T05:33:50.801Z"
   },
   {
    "duration": 249,
    "start_time": "2022-04-07T05:33:56.049Z"
   },
   {
    "duration": 205,
    "start_time": "2022-04-07T05:34:02.931Z"
   },
   {
    "duration": 153,
    "start_time": "2022-04-07T05:34:08.043Z"
   },
   {
    "duration": 174,
    "start_time": "2022-04-07T05:34:14.163Z"
   },
   {
    "duration": 81,
    "start_time": "2022-04-07T05:34:25.370Z"
   },
   {
    "duration": 37,
    "start_time": "2022-04-07T05:34:36.595Z"
   },
   {
    "duration": 72,
    "start_time": "2022-04-07T05:35:46.028Z"
   },
   {
    "duration": 17,
    "start_time": "2022-04-07T05:36:15.899Z"
   },
   {
    "duration": 15,
    "start_time": "2022-04-07T05:36:25.292Z"
   },
   {
    "duration": 599,
    "start_time": "2022-04-07T05:37:22.659Z"
   },
   {
    "duration": 609,
    "start_time": "2022-04-07T05:41:50.716Z"
   },
   {
    "duration": 12,
    "start_time": "2022-04-07T05:42:41.738Z"
   },
   {
    "duration": 646,
    "start_time": "2022-04-07T06:12:04.952Z"
   },
   {
    "duration": 919,
    "start_time": "2022-04-07T06:12:26.125Z"
   },
   {
    "duration": 866,
    "start_time": "2022-04-07T06:13:23.111Z"
   },
   {
    "duration": 532,
    "start_time": "2022-04-07T06:16:10.942Z"
   },
   {
    "duration": 644,
    "start_time": "2022-04-07T06:16:54.096Z"
   },
   {
    "duration": 636,
    "start_time": "2022-04-07T06:17:06.105Z"
   },
   {
    "duration": 675,
    "start_time": "2022-04-07T06:17:16.848Z"
   },
   {
    "duration": 686,
    "start_time": "2022-04-07T06:17:25.561Z"
   },
   {
    "duration": 668,
    "start_time": "2022-04-07T06:20:47.568Z"
   },
   {
    "duration": 541,
    "start_time": "2022-04-07T06:23:50.425Z"
   },
   {
    "duration": 767,
    "start_time": "2022-04-07T06:35:17.344Z"
   },
   {
    "duration": 623,
    "start_time": "2022-04-07T07:05:57.597Z"
   },
   {
    "duration": 559,
    "start_time": "2022-04-07T07:06:54.374Z"
   },
   {
    "duration": 766,
    "start_time": "2022-04-07T07:08:24.573Z"
   },
   {
    "duration": 558,
    "start_time": "2022-04-07T07:10:26.198Z"
   },
   {
    "duration": 579,
    "start_time": "2022-04-07T07:11:33.485Z"
   },
   {
    "duration": 664,
    "start_time": "2022-04-07T07:12:16.943Z"
   },
   {
    "duration": 620,
    "start_time": "2022-04-07T07:14:20.174Z"
   },
   {
    "duration": 589,
    "start_time": "2022-04-07T07:15:54.784Z"
   },
   {
    "duration": 11,
    "start_time": "2022-04-07T07:18:03.543Z"
   },
   {
    "duration": 882,
    "start_time": "2022-04-07T07:25:01.551Z"
   },
   {
    "duration": 537,
    "start_time": "2022-04-07T07:25:06.776Z"
   },
   {
    "duration": 548,
    "start_time": "2022-04-07T07:25:18.811Z"
   },
   {
    "duration": 539,
    "start_time": "2022-04-07T07:25:26.099Z"
   },
   {
    "duration": 549,
    "start_time": "2022-04-07T07:25:41.306Z"
   },
   {
    "duration": 449,
    "start_time": "2022-04-07T07:26:35.493Z"
   },
   {
    "duration": 263,
    "start_time": "2022-04-07T07:27:22.707Z"
   },
   {
    "duration": 274,
    "start_time": "2022-04-07T07:28:08.573Z"
   },
   {
    "duration": 98,
    "start_time": "2022-04-07T07:29:42.766Z"
   },
   {
    "duration": 247,
    "start_time": "2022-04-07T07:29:55.772Z"
   },
   {
    "duration": 51,
    "start_time": "2022-04-07T14:00:33.261Z"
   },
   {
    "duration": 1348,
    "start_time": "2022-04-07T14:04:08.994Z"
   },
   {
    "duration": 380,
    "start_time": "2022-04-07T14:04:14.545Z"
   },
   {
    "duration": 46,
    "start_time": "2022-04-07T14:04:18.966Z"
   },
   {
    "duration": 37,
    "start_time": "2022-04-07T14:04:23.328Z"
   },
   {
    "duration": 30,
    "start_time": "2022-04-07T14:04:27.360Z"
   },
   {
    "duration": 11,
    "start_time": "2022-04-07T14:04:31.272Z"
   },
   {
    "duration": 17,
    "start_time": "2022-04-07T14:04:35.432Z"
   },
   {
    "duration": 8,
    "start_time": "2022-04-07T14:04:46.002Z"
   },
   {
    "duration": 13,
    "start_time": "2022-04-07T14:04:50.069Z"
   },
   {
    "duration": 41,
    "start_time": "2022-04-07T14:04:54.930Z"
   },
   {
    "duration": 10,
    "start_time": "2022-04-07T14:05:00.123Z"
   },
   {
    "duration": 60,
    "start_time": "2022-04-07T14:05:05.711Z"
   },
   {
    "duration": 11,
    "start_time": "2022-04-07T14:05:09.111Z"
   },
   {
    "duration": 34,
    "start_time": "2022-04-07T14:05:19.107Z"
   },
   {
    "duration": 12,
    "start_time": "2022-04-07T14:05:22.436Z"
   },
   {
    "duration": 8,
    "start_time": "2022-04-07T14:05:27.084Z"
   },
   {
    "duration": 169,
    "start_time": "2022-04-07T14:05:32.679Z"
   },
   {
    "duration": 151,
    "start_time": "2022-04-07T14:05:37.928Z"
   },
   {
    "duration": 109,
    "start_time": "2022-04-07T14:05:42.637Z"
   },
   {
    "duration": 125,
    "start_time": "2022-04-07T14:05:46.331Z"
   },
   {
    "duration": 50,
    "start_time": "2022-04-07T14:05:51.248Z"
   },
   {
    "duration": 23,
    "start_time": "2022-04-07T14:06:01.362Z"
   },
   {
    "duration": 45,
    "start_time": "2022-04-07T14:06:07.045Z"
   },
   {
    "duration": 11,
    "start_time": "2022-04-07T14:06:16.266Z"
   },
   {
    "duration": 11,
    "start_time": "2022-04-07T14:06:23.365Z"
   },
   {
    "duration": 301,
    "start_time": "2022-04-07T14:06:32.243Z"
   },
   {
    "duration": 360,
    "start_time": "2022-04-07T14:06:37.744Z"
   },
   {
    "duration": 473,
    "start_time": "2022-04-07T14:06:44.923Z"
   },
   {
    "duration": 323,
    "start_time": "2022-04-07T14:09:53.784Z"
   },
   {
    "duration": 423,
    "start_time": "2022-04-07T14:11:33.086Z"
   },
   {
    "duration": 103,
    "start_time": "2022-04-07T14:12:56.425Z"
   },
   {
    "duration": 358,
    "start_time": "2022-04-07T14:13:17.686Z"
   },
   {
    "duration": 391,
    "start_time": "2022-04-07T14:15:32.909Z"
   },
   {
    "duration": 161,
    "start_time": "2022-04-07T14:28:21.447Z"
   },
   {
    "duration": 18,
    "start_time": "2022-04-07T14:28:31.739Z"
   },
   {
    "duration": 41,
    "start_time": "2022-04-07T14:30:34.539Z"
   },
   {
    "duration": 73,
    "start_time": "2022-04-07T14:32:08.212Z"
   },
   {
    "duration": 80,
    "start_time": "2022-04-07T14:32:31.691Z"
   },
   {
    "duration": 80,
    "start_time": "2022-04-07T14:32:44.103Z"
   },
   {
    "duration": 82,
    "start_time": "2022-04-07T14:33:36.809Z"
   },
   {
    "duration": 91,
    "start_time": "2022-04-07T14:34:12.290Z"
   },
   {
    "duration": 87,
    "start_time": "2022-04-07T14:34:24.416Z"
   },
   {
    "duration": 93,
    "start_time": "2022-04-07T14:36:03.705Z"
   },
   {
    "duration": 319,
    "start_time": "2022-04-07T14:42:49.708Z"
   },
   {
    "duration": 418,
    "start_time": "2022-04-07T14:43:05.421Z"
   },
   {
    "duration": 307,
    "start_time": "2022-04-07T14:43:24.991Z"
   },
   {
    "duration": 307,
    "start_time": "2022-04-07T14:43:42.162Z"
   },
   {
    "duration": 313,
    "start_time": "2022-04-07T14:49:46.256Z"
   },
   {
    "duration": 108,
    "start_time": "2022-04-07T14:51:15.506Z"
   },
   {
    "duration": 337,
    "start_time": "2022-04-07T14:51:35.395Z"
   },
   {
    "duration": 332,
    "start_time": "2022-04-07T14:52:41.418Z"
   },
   {
    "duration": 313,
    "start_time": "2022-04-07T14:53:04.943Z"
   },
   {
    "duration": 410,
    "start_time": "2022-04-07T14:56:16.724Z"
   },
   {
    "duration": 441,
    "start_time": "2022-04-07T14:58:10.764Z"
   },
   {
    "duration": 770,
    "start_time": "2022-04-07T15:03:08.255Z"
   },
   {
    "duration": 528,
    "start_time": "2022-04-07T15:04:05.081Z"
   },
   {
    "duration": 487,
    "start_time": "2022-04-07T15:04:48.917Z"
   },
   {
    "duration": 734,
    "start_time": "2022-04-07T15:05:24.304Z"
   },
   {
    "duration": 426,
    "start_time": "2022-04-07T15:14:28.102Z"
   },
   {
    "duration": 379,
    "start_time": "2022-04-07T15:16:08.687Z"
   },
   {
    "duration": 110,
    "start_time": "2022-04-07T15:16:44.867Z"
   },
   {
    "duration": 320,
    "start_time": "2022-04-07T15:16:59.949Z"
   },
   {
    "duration": 312,
    "start_time": "2022-04-07T15:18:22.228Z"
   },
   {
    "duration": 550,
    "start_time": "2022-04-07T15:18:35.987Z"
   },
   {
    "duration": 332,
    "start_time": "2022-04-07T15:18:48.305Z"
   },
   {
    "duration": 346,
    "start_time": "2022-04-07T15:21:37.390Z"
   },
   {
    "duration": 388,
    "start_time": "2022-04-07T15:22:10.212Z"
   },
   {
    "duration": 364,
    "start_time": "2022-04-07T15:22:24.034Z"
   },
   {
    "duration": 356,
    "start_time": "2022-04-07T15:22:36.104Z"
   },
   {
    "duration": 332,
    "start_time": "2022-04-07T15:24:29.782Z"
   },
   {
    "duration": 454,
    "start_time": "2022-04-07T15:26:03.899Z"
   },
   {
    "duration": 620,
    "start_time": "2022-04-07T15:26:21.286Z"
   },
   {
    "duration": 321,
    "start_time": "2022-04-07T15:42:41.214Z"
   },
   {
    "duration": 9,
    "start_time": "2022-04-07T15:43:00.646Z"
   },
   {
    "duration": 8,
    "start_time": "2022-04-07T15:47:14.036Z"
   },
   {
    "duration": 4,
    "start_time": "2022-04-07T16:01:37.928Z"
   },
   {
    "duration": 396,
    "start_time": "2022-04-07T16:01:44.054Z"
   },
   {
    "duration": 44,
    "start_time": "2022-04-07T16:01:49.804Z"
   },
   {
    "duration": 35,
    "start_time": "2022-04-07T16:01:54.013Z"
   },
   {
    "duration": 31,
    "start_time": "2022-04-07T16:02:02.263Z"
   },
   {
    "duration": 11,
    "start_time": "2022-04-07T16:02:06.812Z"
   },
   {
    "duration": 16,
    "start_time": "2022-04-07T16:02:11.207Z"
   },
   {
    "duration": 7,
    "start_time": "2022-04-07T16:02:29.744Z"
   },
   {
    "duration": 11,
    "start_time": "2022-04-07T16:02:34.367Z"
   },
   {
    "duration": 38,
    "start_time": "2022-04-07T16:03:28.414Z"
   },
   {
    "duration": 10,
    "start_time": "2022-04-07T16:03:33.621Z"
   },
   {
    "duration": 60,
    "start_time": "2022-04-07T16:03:44.969Z"
   },
   {
    "duration": 11,
    "start_time": "2022-04-07T16:03:50.008Z"
   },
   {
    "duration": 34,
    "start_time": "2022-04-07T16:03:58.097Z"
   },
   {
    "duration": 12,
    "start_time": "2022-04-07T16:04:02.024Z"
   },
   {
    "duration": 8,
    "start_time": "2022-04-07T16:04:07.368Z"
   },
   {
    "duration": 147,
    "start_time": "2022-04-07T16:04:18.656Z"
   },
   {
    "duration": 147,
    "start_time": "2022-04-07T16:04:27.744Z"
   },
   {
    "duration": 103,
    "start_time": "2022-04-07T16:04:32.495Z"
   },
   {
    "duration": 116,
    "start_time": "2022-04-07T16:04:50.639Z"
   },
   {
    "duration": 52,
    "start_time": "2022-04-07T16:05:56.969Z"
   },
   {
    "duration": 23,
    "start_time": "2022-04-07T16:06:51.962Z"
   },
   {
    "duration": 45,
    "start_time": "2022-04-07T16:07:00.055Z"
   },
   {
    "duration": 11,
    "start_time": "2022-04-07T16:11:10.286Z"
   },
   {
    "duration": 10,
    "start_time": "2022-04-07T16:11:17.865Z"
   },
   {
    "duration": 304,
    "start_time": "2022-04-07T16:12:03.179Z"
   },
   {
    "duration": 303,
    "start_time": "2022-04-07T16:12:44.376Z"
   },
   {
    "duration": 94,
    "start_time": "2022-04-07T16:13:01.093Z"
   },
   {
    "duration": 391,
    "start_time": "2022-04-07T16:43:07.961Z"
   },
   {
    "duration": 571,
    "start_time": "2022-04-07T16:43:38.009Z"
   },
   {
    "duration": 173,
    "start_time": "2022-04-07T16:47:07.603Z"
   },
   {
    "duration": 175,
    "start_time": "2022-04-07T16:47:17.371Z"
   },
   {
    "duration": 381,
    "start_time": "2022-04-07T16:48:25.096Z"
   },
   {
    "duration": 305,
    "start_time": "2022-04-07T17:37:19.491Z"
   },
   {
    "duration": 10,
    "start_time": "2022-04-07T17:48:57.994Z"
   },
   {
    "duration": 111,
    "start_time": "2022-04-07T17:49:49.683Z"
   },
   {
    "duration": 9,
    "start_time": "2022-04-07T17:50:19.200Z"
   },
   {
    "duration": 8,
    "start_time": "2022-04-07T17:51:13.437Z"
   },
   {
    "duration": 7,
    "start_time": "2022-04-07T17:51:30.205Z"
   },
   {
    "duration": 8,
    "start_time": "2022-04-07T17:52:04.906Z"
   },
   {
    "duration": 5,
    "start_time": "2022-04-07T18:29:23.556Z"
   },
   {
    "duration": 5,
    "start_time": "2022-04-07T18:29:38.685Z"
   },
   {
    "duration": 389,
    "start_time": "2022-04-07T18:29:41.832Z"
   },
   {
    "duration": 41,
    "start_time": "2022-04-07T18:29:46.891Z"
   },
   {
    "duration": 37,
    "start_time": "2022-04-07T18:29:50.712Z"
   },
   {
    "duration": 32,
    "start_time": "2022-04-07T18:29:54.397Z"
   },
   {
    "duration": 12,
    "start_time": "2022-04-07T18:29:57.587Z"
   },
   {
    "duration": 16,
    "start_time": "2022-04-07T18:30:00.537Z"
   },
   {
    "duration": 7,
    "start_time": "2022-04-07T18:30:09.223Z"
   },
   {
    "duration": 16,
    "start_time": "2022-04-07T18:30:13.051Z"
   },
   {
    "duration": 42,
    "start_time": "2022-04-07T18:30:17.683Z"
   },
   {
    "duration": 10,
    "start_time": "2022-04-07T18:30:28.068Z"
   },
   {
    "duration": 54,
    "start_time": "2022-04-07T18:30:31.174Z"
   },
   {
    "duration": 11,
    "start_time": "2022-04-07T18:30:38.200Z"
   },
   {
    "duration": 33,
    "start_time": "2022-04-07T18:30:44.906Z"
   },
   {
    "duration": 12,
    "start_time": "2022-04-07T18:30:47.002Z"
   },
   {
    "duration": 9,
    "start_time": "2022-04-07T18:30:50.402Z"
   },
   {
    "duration": 146,
    "start_time": "2022-04-07T18:30:58.852Z"
   },
   {
    "duration": 135,
    "start_time": "2022-04-07T18:31:04.472Z"
   },
   {
    "duration": 95,
    "start_time": "2022-04-07T18:31:09.690Z"
   },
   {
    "duration": 109,
    "start_time": "2022-04-07T18:31:17.747Z"
   },
   {
    "duration": 53,
    "start_time": "2022-04-07T18:31:24.474Z"
   },
   {
    "duration": 24,
    "start_time": "2022-04-07T18:31:42.699Z"
   },
   {
    "duration": 43,
    "start_time": "2022-04-07T18:31:58.832Z"
   },
   {
    "duration": 10,
    "start_time": "2022-04-07T18:32:20.411Z"
   },
   {
    "duration": 10,
    "start_time": "2022-04-07T18:32:32.333Z"
   },
   {
    "duration": 290,
    "start_time": "2022-04-07T18:32:45.410Z"
   },
   {
    "duration": 293,
    "start_time": "2022-04-07T18:32:53.806Z"
   },
   {
    "duration": 90,
    "start_time": "2022-04-07T18:33:02.868Z"
   },
   {
    "duration": 482,
    "start_time": "2022-04-07T18:33:22.628Z"
   },
   {
    "duration": 588,
    "start_time": "2022-04-07T18:33:37.116Z"
   },
   {
    "duration": 310,
    "start_time": "2022-04-07T18:33:47.691Z"
   },
   {
    "duration": 293,
    "start_time": "2022-04-07T18:33:57.267Z"
   },
   {
    "duration": 309,
    "start_time": "2022-04-07T18:34:06.280Z"
   },
   {
    "duration": 304,
    "start_time": "2022-04-07T18:34:16.322Z"
   },
   {
    "duration": 8,
    "start_time": "2022-04-07T18:34:31.507Z"
   },
   {
    "duration": 9,
    "start_time": "2022-04-07T18:34:37.737Z"
   },
   {
    "duration": 1515,
    "start_time": "2022-04-08T11:44:11.851Z"
   },
   {
    "duration": 469,
    "start_time": "2022-04-08T11:44:13.369Z"
   },
   {
    "duration": 52,
    "start_time": "2022-04-08T11:44:13.840Z"
   },
   {
    "duration": 57,
    "start_time": "2022-04-08T11:44:13.895Z"
   },
   {
    "duration": 35,
    "start_time": "2022-04-08T11:44:13.954Z"
   },
   {
    "duration": 13,
    "start_time": "2022-04-08T11:44:13.991Z"
   },
   {
    "duration": 44,
    "start_time": "2022-04-08T11:44:14.006Z"
   },
   {
    "duration": 230,
    "start_time": "2022-04-08T11:44:14.052Z"
   },
   {
    "duration": 0,
    "start_time": "2022-04-08T11:44:14.286Z"
   },
   {
    "duration": 0,
    "start_time": "2022-04-08T11:44:14.288Z"
   },
   {
    "duration": 0,
    "start_time": "2022-04-08T11:44:14.289Z"
   },
   {
    "duration": 0,
    "start_time": "2022-04-08T11:44:14.290Z"
   },
   {
    "duration": 0,
    "start_time": "2022-04-08T11:44:14.292Z"
   },
   {
    "duration": 0,
    "start_time": "2022-04-08T11:44:14.293Z"
   },
   {
    "duration": 0,
    "start_time": "2022-04-08T11:44:14.294Z"
   },
   {
    "duration": 0,
    "start_time": "2022-04-08T11:44:14.295Z"
   },
   {
    "duration": 0,
    "start_time": "2022-04-08T11:44:14.297Z"
   },
   {
    "duration": 0,
    "start_time": "2022-04-08T11:44:14.298Z"
   },
   {
    "duration": 0,
    "start_time": "2022-04-08T11:44:14.299Z"
   },
   {
    "duration": 0,
    "start_time": "2022-04-08T11:44:14.300Z"
   },
   {
    "duration": 0,
    "start_time": "2022-04-08T11:44:14.302Z"
   },
   {
    "duration": 0,
    "start_time": "2022-04-08T11:44:14.304Z"
   },
   {
    "duration": 0,
    "start_time": "2022-04-08T11:44:14.305Z"
   },
   {
    "duration": 0,
    "start_time": "2022-04-08T11:44:14.307Z"
   },
   {
    "duration": 0,
    "start_time": "2022-04-08T11:44:14.309Z"
   },
   {
    "duration": 0,
    "start_time": "2022-04-08T11:44:14.311Z"
   },
   {
    "duration": 0,
    "start_time": "2022-04-08T11:44:14.312Z"
   },
   {
    "duration": 0,
    "start_time": "2022-04-08T11:44:14.314Z"
   },
   {
    "duration": 0,
    "start_time": "2022-04-08T11:44:14.315Z"
   },
   {
    "duration": 0,
    "start_time": "2022-04-08T11:44:14.316Z"
   },
   {
    "duration": 0,
    "start_time": "2022-04-08T11:44:14.317Z"
   },
   {
    "duration": 0,
    "start_time": "2022-04-08T11:44:14.318Z"
   },
   {
    "duration": 0,
    "start_time": "2022-04-08T11:44:14.319Z"
   },
   {
    "duration": 0,
    "start_time": "2022-04-08T11:44:14.321Z"
   },
   {
    "duration": 0,
    "start_time": "2022-04-08T11:44:14.323Z"
   },
   {
    "duration": 0,
    "start_time": "2022-04-08T11:44:14.331Z"
   },
   {
    "duration": 0,
    "start_time": "2022-04-08T11:44:14.333Z"
   },
   {
    "duration": 1299,
    "start_time": "2022-04-08T11:45:09.459Z"
   },
   {
    "duration": 433,
    "start_time": "2022-04-08T11:45:10.760Z"
   },
   {
    "duration": 49,
    "start_time": "2022-04-08T11:45:11.195Z"
   },
   {
    "duration": 39,
    "start_time": "2022-04-08T11:45:11.246Z"
   },
   {
    "duration": 54,
    "start_time": "2022-04-08T11:45:11.289Z"
   },
   {
    "duration": 12,
    "start_time": "2022-04-08T11:45:11.346Z"
   },
   {
    "duration": 18,
    "start_time": "2022-04-08T11:45:11.360Z"
   },
   {
    "duration": 10,
    "start_time": "2022-04-08T11:45:11.380Z"
   },
   {
    "duration": 41,
    "start_time": "2022-04-08T11:45:11.392Z"
   },
   {
    "duration": 45,
    "start_time": "2022-04-08T11:45:11.435Z"
   },
   {
    "duration": 11,
    "start_time": "2022-04-08T11:45:11.482Z"
   },
   {
    "duration": 91,
    "start_time": "2022-04-08T11:45:11.495Z"
   },
   {
    "duration": 11,
    "start_time": "2022-04-08T11:45:11.588Z"
   },
   {
    "duration": 66,
    "start_time": "2022-04-08T11:45:11.603Z"
   },
   {
    "duration": 14,
    "start_time": "2022-04-08T11:45:11.671Z"
   },
   {
    "duration": 18,
    "start_time": "2022-04-08T11:45:11.687Z"
   },
   {
    "duration": 183,
    "start_time": "2022-04-08T11:45:11.708Z"
   },
   {
    "duration": 153,
    "start_time": "2022-04-08T11:45:11.893Z"
   },
   {
    "duration": 114,
    "start_time": "2022-04-08T11:45:12.048Z"
   },
   {
    "duration": 132,
    "start_time": "2022-04-08T11:45:12.164Z"
   },
   {
    "duration": 65,
    "start_time": "2022-04-08T11:45:12.298Z"
   },
   {
    "duration": 25,
    "start_time": "2022-04-08T11:45:12.365Z"
   },
   {
    "duration": 71,
    "start_time": "2022-04-08T11:45:12.391Z"
   },
   {
    "duration": 12,
    "start_time": "2022-04-08T11:45:12.464Z"
   },
   {
    "duration": 12,
    "start_time": "2022-04-08T11:45:12.477Z"
   },
   {
    "duration": 403,
    "start_time": "2022-04-08T11:45:12.490Z"
   },
   {
    "duration": 387,
    "start_time": "2022-04-08T11:45:12.895Z"
   },
   {
    "duration": 118,
    "start_time": "2022-04-08T11:45:13.284Z"
   },
   {
    "duration": 557,
    "start_time": "2022-04-08T11:45:13.404Z"
   },
   {
    "duration": 563,
    "start_time": "2022-04-08T11:45:13.963Z"
   },
   {
    "duration": 372,
    "start_time": "2022-04-08T11:45:14.532Z"
   },
   {
    "duration": 391,
    "start_time": "2022-04-08T11:45:14.906Z"
   },
   {
    "duration": 386,
    "start_time": "2022-04-08T11:45:15.299Z"
   },
   {
    "duration": 394,
    "start_time": "2022-04-08T11:45:15.687Z"
   },
   {
    "duration": 9,
    "start_time": "2022-04-08T11:45:16.083Z"
   },
   {
    "duration": 16,
    "start_time": "2022-04-08T11:45:16.094Z"
   },
   {
    "duration": 3,
    "start_time": "2022-04-08T11:55:01.615Z"
   },
   {
    "duration": 5,
    "start_time": "2022-04-08T11:57:06.081Z"
   },
   {
    "duration": 4,
    "start_time": "2022-04-08T11:58:09.733Z"
   },
   {
    "duration": 5,
    "start_time": "2022-04-08T11:58:41.494Z"
   },
   {
    "duration": 27,
    "start_time": "2022-04-08T12:35:51.292Z"
   }
  ],
  "kernelspec": {
   "display_name": "Python 3",
   "language": "python",
   "name": "python3"
  },
  "language_info": {
   "codemirror_mode": {
    "name": "ipython",
    "version": 3
   },
   "file_extension": ".py",
   "mimetype": "text/x-python",
   "name": "python",
   "nbconvert_exporter": "python",
   "pygments_lexer": "ipython3",
   "version": "3.8.8"
  },
  "toc": {
   "base_numbering": 1,
   "nav_menu": {},
   "number_sections": true,
   "sideBar": true,
   "skip_h1_title": true,
   "title_cell": "Table of Contents",
   "title_sidebar": "Contents",
   "toc_cell": false,
   "toc_position": {},
   "toc_section_display": true,
   "toc_window_display": false
  }
 },
 "nbformat": 4,
 "nbformat_minor": 2
}
