{
 "cells": [
  {
   "cell_type": "markdown",
   "metadata": {},
   "source": [
    "# Проект для «Викишоп»"
   ]
  },
  {
   "cell_type": "markdown",
   "metadata": {},
   "source": [
    "Интернет-магазин «Викишоп» запускает новый сервис. Теперь пользователи могут редактировать и дополнять описания товаров, как в вики-сообществах. То есть клиенты предлагают свои правки и комментируют изменения других. Магазину нужен инструмент, который будет искать токсичные комментарии и отправлять их на модерацию. \n",
    "\n",
    "Обучите модель классифицировать комментарии на позитивные и негативные. В вашем распоряжении набор данных с разметкой о токсичности правок.\n",
    "\n",
    "Постройте модель со значением метрики качества *F1* не меньше 0.75. \n",
    "\n",
    "**Инструкция по выполнению проекта**\n",
    "\n",
    "1. Загрузите и подготовьте данные.\n",
    "2. Обучите разные модели. \n",
    "3. Сделайте выводы.\n",
    "\n",
    "**Описание данных**\n",
    "\n",
    "Данные находятся в файле `toxic_comments.csv`. Столбец *text* в нём содержит текст комментария, а *toxic* — целевой признак."
   ]
  },
  {
   "cell_type": "markdown",
   "metadata": {},
   "source": [
    "## Подготовка"
   ]
  },
  {
   "cell_type": "code",
   "execution_count": 41,
   "metadata": {},
   "outputs": [
    {
     "name": "stderr",
     "output_type": "stream",
     "text": [
      "[nltk_data] Downloading package stopwords to /home/jovyan/nltk_data...\n",
      "[nltk_data]   Package stopwords is already up-to-date!\n"
     ]
    }
   ],
   "source": [
    "from __future__ import division, print_function\n",
    "# отключим всякие предупреждения Anaconda\n",
    "import warnings\n",
    "warnings.filterwarnings('ignore')\n",
    "import pandas as pd\n",
    "import numpy as np\n",
    "\n",
    "import time\n",
    "from time import time\n",
    "from tqdm import tqdm\n",
    "\n",
    "\n",
    "from sklearn.linear_model import LogisticRegression\n",
    "from sklearn.tree import DecisionTreeClassifier\n",
    "from sklearn.model_selection import train_test_split\n",
    "from sklearn.metrics import f1_score,recall_score,precision_score\n",
    "\n",
    "from sklearn.model_selection import cross_val_score\n",
    "from sklearn.model_selection import GridSearchCV \n",
    "from sklearn.pipeline import make_pipeline\n",
    "\n",
    "import xgboost as xgb\n",
    "\n",
    "import catboost\n",
    "from catboost import Pool,CatBoost\n",
    "from catboost import CatBoostClassifier\n",
    "from catboost.utils import eval_metric\n",
    "from catboost.utils import get_fpr_curve\n",
    "from catboost.utils import get_fnr_curve\n",
    "from catboost.utils import select_threshold\n",
    "from catboost.utils import get_roc_curve\n",
    "from catboost.utils import get_confusion_matrix\n",
    "\n",
    "\n",
    "from pymystem3 import Mystem\n",
    "from nltk.stem import WordNetLemmatizer\n",
    "from sklearn.feature_extraction.text import CountVectorizer\n",
    "from nltk.corpus import stopwords\n",
    "import nltk\n",
    "from nltk.stem import WordNetLemmatizer\n",
    "nltk.download('stopwords')\n",
    "from nltk.tokenize import sent_tokenize, word_tokenize\n",
    "from nltk.stem import PorterStemmer\n",
    "\n",
    "from sklearn.feature_extraction.text import TfidfVectorizer\n",
    "from sklearn.feature_extraction.text import TfidfTransformer\n",
    "import re"
   ]
  },
  {
   "cell_type": "code",
   "execution_count": 42,
   "metadata": {},
   "outputs": [],
   "source": [
    "try:\n",
    "    data = pd.read_csv('/datasets/toxic_comments.csv')\n",
    "    \n",
    "except:\n",
    "    data = pd.read_csv('C:/Users/анатолий/Documents/datasets/toxic_comments.csv')"
   ]
  },
  {
   "cell_type": "code",
   "execution_count": 43,
   "metadata": {},
   "outputs": [
    {
     "data": {
      "text/html": [
       "<div>\n",
       "<style scoped>\n",
       "    .dataframe tbody tr th:only-of-type {\n",
       "        vertical-align: middle;\n",
       "    }\n",
       "\n",
       "    .dataframe tbody tr th {\n",
       "        vertical-align: top;\n",
       "    }\n",
       "\n",
       "    .dataframe thead th {\n",
       "        text-align: right;\n",
       "    }\n",
       "</style>\n",
       "<table border=\"1\" class=\"dataframe\">\n",
       "  <thead>\n",
       "    <tr style=\"text-align: right;\">\n",
       "      <th></th>\n",
       "      <th>text</th>\n",
       "      <th>toxic</th>\n",
       "    </tr>\n",
       "  </thead>\n",
       "  <tbody>\n",
       "    <tr>\n",
       "      <th>0</th>\n",
       "      <td>Explanation\\nWhy the edits made under my usern...</td>\n",
       "      <td>0</td>\n",
       "    </tr>\n",
       "    <tr>\n",
       "      <th>1</th>\n",
       "      <td>D'aww! He matches this background colour I'm s...</td>\n",
       "      <td>0</td>\n",
       "    </tr>\n",
       "    <tr>\n",
       "      <th>2</th>\n",
       "      <td>Hey man, I'm really not trying to edit war. It...</td>\n",
       "      <td>0</td>\n",
       "    </tr>\n",
       "    <tr>\n",
       "      <th>3</th>\n",
       "      <td>\"\\nMore\\nI can't make any real suggestions on ...</td>\n",
       "      <td>0</td>\n",
       "    </tr>\n",
       "    <tr>\n",
       "      <th>4</th>\n",
       "      <td>You, sir, are my hero. Any chance you remember...</td>\n",
       "      <td>0</td>\n",
       "    </tr>\n",
       "    <tr>\n",
       "      <th>...</th>\n",
       "      <td>...</td>\n",
       "      <td>...</td>\n",
       "    </tr>\n",
       "    <tr>\n",
       "      <th>159566</th>\n",
       "      <td>\":::::And for the second time of asking, when ...</td>\n",
       "      <td>0</td>\n",
       "    </tr>\n",
       "    <tr>\n",
       "      <th>159567</th>\n",
       "      <td>You should be ashamed of yourself \\n\\nThat is ...</td>\n",
       "      <td>0</td>\n",
       "    </tr>\n",
       "    <tr>\n",
       "      <th>159568</th>\n",
       "      <td>Spitzer \\n\\nUmm, theres no actual article for ...</td>\n",
       "      <td>0</td>\n",
       "    </tr>\n",
       "    <tr>\n",
       "      <th>159569</th>\n",
       "      <td>And it looks like it was actually you who put ...</td>\n",
       "      <td>0</td>\n",
       "    </tr>\n",
       "    <tr>\n",
       "      <th>159570</th>\n",
       "      <td>\"\\nAnd ... I really don't think you understand...</td>\n",
       "      <td>0</td>\n",
       "    </tr>\n",
       "  </tbody>\n",
       "</table>\n",
       "<p>159571 rows × 2 columns</p>\n",
       "</div>"
      ],
      "text/plain": [
       "                                                     text  toxic\n",
       "0       Explanation\\nWhy the edits made under my usern...      0\n",
       "1       D'aww! He matches this background colour I'm s...      0\n",
       "2       Hey man, I'm really not trying to edit war. It...      0\n",
       "3       \"\\nMore\\nI can't make any real suggestions on ...      0\n",
       "4       You, sir, are my hero. Any chance you remember...      0\n",
       "...                                                   ...    ...\n",
       "159566  \":::::And for the second time of asking, when ...      0\n",
       "159567  You should be ashamed of yourself \\n\\nThat is ...      0\n",
       "159568  Spitzer \\n\\nUmm, theres no actual article for ...      0\n",
       "159569  And it looks like it was actually you who put ...      0\n",
       "159570  \"\\nAnd ... I really don't think you understand...      0\n",
       "\n",
       "[159571 rows x 2 columns]"
      ]
     },
     "execution_count": 43,
     "metadata": {},
     "output_type": "execute_result"
    }
   ],
   "source": [
    "data"
   ]
  },
  {
   "cell_type": "code",
   "execution_count": 44,
   "metadata": {},
   "outputs": [
    {
     "name": "stderr",
     "output_type": "stream",
     "text": [
      "[nltk_data] Downloading package wordnet to /home/jovyan/nltk_data...\n",
      "[nltk_data]   Package wordnet is already up-to-date!\n"
     ]
    }
   ],
   "source": [
    "import nltk\n",
    "from nltk.stem import WordNetLemmatizer\n",
    "nltk.download('wordnet')\n",
    "\n",
    "\n",
    "l = WordNetLemmatizer()\n",
    "def lemmatize_text(text):\n",
    "    text = text.lower()\n",
    "    \n",
    "    text = nltk.word_tokenize(text)\n",
    "    \n",
    "    \n",
    "    lemm_text = ' '.join([l.lemmatize(t) for t in text])  \n",
    "    cleared_text = re.sub(r'[^a-zA-Z0-9]', ' ',lemm_text )\n",
    "     \n",
    "    \n",
    "    return \" \".join(cleared_text.split())\n"
   ]
  },
  {
   "cell_type": "code",
   "execution_count": 45,
   "metadata": {},
   "outputs": [
    {
     "name": "stderr",
     "output_type": "stream",
     "text": [
      "100%|██████████| 159571/159571 [02:36<00:00, 1018.01it/s]\n"
     ]
    }
   ],
   "source": [
    "\n",
    "from tqdm import tqdm\n",
    "tqdm.pandas()\n",
    "data['text'] = data['text'].progress_apply(lemmatize_text)"
   ]
  },
  {
   "cell_type": "code",
   "execution_count": 46,
   "metadata": {},
   "outputs": [
    {
     "data": {
      "text/plain": [
       "799"
      ]
     },
     "execution_count": 46,
     "metadata": {},
     "output_type": "execute_result"
    }
   ],
   "source": [
    "data.duplicated().sum()"
   ]
  },
  {
   "cell_type": "code",
   "execution_count": 47,
   "metadata": {},
   "outputs": [
    {
     "data": {
      "text/plain": [
       "0"
      ]
     },
     "execution_count": 47,
     "metadata": {},
     "output_type": "execute_result"
    }
   ],
   "source": [
    "data = data.drop_duplicates()\n",
    "data.duplicated().sum()"
   ]
  },
  {
   "cell_type": "code",
   "execution_count": 48,
   "metadata": {},
   "outputs": [
    {
     "name": "stderr",
     "output_type": "stream",
     "text": [
      "[nltk_data] Downloading package stopwords to /home/jovyan/nltk_data...\n",
      "[nltk_data]   Package stopwords is already up-to-date!\n"
     ]
    }
   ],
   "source": [
    "import nltk\n",
    "from nltk.corpus import stopwords as nltk_stopwords\n",
    "nltk.download('stopwords')\n",
    "stopwords = set(nltk_stopwords.words('english'))\n",
    "count_tf_idf = TfidfVectorizer(stop_words=stopwords)"
   ]
  },
  {
   "cell_type": "markdown",
   "metadata": {},
   "source": [
    "Данные лематизированы,стоп-слова исключены,дубликаты удалены.\n",
    "Приступим к созданию признака и цели."
   ]
  },
  {
   "cell_type": "code",
   "execution_count": 49,
   "metadata": {},
   "outputs": [],
   "source": [
    "features = data.drop('toxic',axis=1)\n",
    "\n",
    "target = data['toxic']\n"
   ]
  },
  {
   "cell_type": "code",
   "execution_count": 50,
   "metadata": {},
   "outputs": [],
   "source": [
    "features_train, features_test, target_train, target_test = train_test_split(features,\n",
    "                                                                            target,\n",
    "                                                                            test_size=0.3,stratify = target,\n",
    "                                                                            random_state=5)"
   ]
  },
  {
   "cell_type": "code",
   "execution_count": 51,
   "metadata": {},
   "outputs": [
    {
     "name": "stdout",
     "output_type": "stream",
     "text": [
      "(111140, 140719)\n",
      "(47632, 140719)\n"
     ]
    }
   ],
   "source": [
    "features_train = count_tf_idf.fit_transform(features_train['text'].values.astype('U'))\n",
    "features_test = count_tf_idf.transform(features_test['text'].values.astype('U'))\n",
    "print(features_train.shape)\n",
    "print(features_test.shape)"
   ]
  },
  {
   "cell_type": "code",
   "execution_count": 52,
   "metadata": {},
   "outputs": [
    {
     "name": "stdout",
     "output_type": "stream",
     "text": [
      "(111140,)\n",
      "(47632,)\n"
     ]
    }
   ],
   "source": [
    "print(target_train.shape)\n",
    "print(target_test.shape)"
   ]
  },
  {
   "cell_type": "markdown",
   "metadata": {},
   "source": [
    "С размерностями все хорошо - приступим к созданию и испытанию моделей"
   ]
  },
  {
   "cell_type": "markdown",
   "metadata": {},
   "source": [
    "## Обучение"
   ]
  },
  {
   "cell_type": "code",
   "execution_count": 53,
   "metadata": {},
   "outputs": [
    {
     "name": "stdout",
     "output_type": "stream",
     "text": [
      "Лучшая мера f1 модели на обучающей выборке:0.75\n",
      "Лучший параметр регуляризации и пенальти на обучающей выборке: {'C': 10.0, 'penalty': 'l2'}\n"
     ]
    }
   ],
   "source": [
    "#         Подберем гиперпараметры для LogisticRegression модели\n",
    "ldr = LogisticRegression(random_state=5)\n",
    "\n",
    "param_grid ={'C': [1.0,10.0],\\\n",
    "             'penalty':['l1','l2']}\n",
    "grid = GridSearchCV(ldr, param_grid,cv=3,n_jobs=1,scoring='f1')\n",
    "grid=grid.fit(features_train,target_train)\n",
    "print('Лучшая мера f1 модели на обучающей выборке:{:.2f}'.format(grid.best_score_))\n",
    "\n",
    "print('Лучший параметр регуляризации и пенальти на обучающей выборке:',grid.best_params_)"
   ]
  },
  {
   "cell_type": "code",
   "execution_count": 54,
   "metadata": {},
   "outputs": [
    {
     "name": "stdout",
     "output_type": "stream",
     "text": [
      "Время обучения и предсказания модели, сек : 50.12242817878723\n",
      "Мера f1 для модели LogisticRegression : 0.77\n"
     ]
    }
   ],
   "source": [
    "t0 = time()\n",
    "clf = LogisticRegression(**grid.best_params_)\n",
    "clf.fit(features_train, target_train)\n",
    "pred = clf.predict(features_test)\n",
    "t_lgr = time()-t0\n",
    "f1_lgr = f1_score(target_test,pred)\n",
    "print('Время обучения и предсказания модели, сек :',t_lgr)\n",
    "print('Мера f1 для модели LogisticRegression :',f1_score(target_test,pred).round(2))"
   ]
  },
  {
   "cell_type": "code",
   "execution_count": 55,
   "metadata": {},
   "outputs": [
    {
     "data": {
      "application/vnd.jupyter.widget-view+json": {
       "model_id": "763909f4771b4256a7e2029e8383c795",
       "version_major": 2,
       "version_minor": 0
      },
      "text/plain": [
       "MetricVisualizer(layout=Layout(align_self='stretch', height='500px'))"
      ]
     },
     "metadata": {},
     "output_type": "display_data"
    },
    {
     "name": "stdout",
     "output_type": "stream",
     "text": [
      "Время обучения и предсказания модели, сек : 374.6681447029114\n",
      "Метрика f1 на обучающей выборке : 0.8376385519242663\n",
      "Метрика f1 на тестовой выборке : 0.7545237282348924\n"
     ]
    }
   ],
   "source": [
    "#  рассмотрим модель CatBoostClassifier\n",
    "booster = CatBoostClassifier(iterations=150,learning_rate = 1.0, verbose=False, eval_metric= 'F1')\n",
    "t0=time()\n",
    "booster.fit(features_train, target_train,\n",
    "            eval_set=(features_test, target_test),\n",
    "            \n",
    "            plot=True);\n",
    " \n",
    "\n",
    "\n",
    "test_preds = booster.predict(features_test)\n",
    "train_preds = booster.predict(features_train)\n",
    "t_cat = time() - t0\n",
    "f1_cat = f1_score(y_true=target_test,y_pred=test_preds)\n",
    "print('Время обучения и предсказания модели, сек :',t_cat)\n",
    "print('Метрика f1 на обучающей выборке :', f1_score(y_true=target_train,y_pred=train_preds))\n",
    "print('Метрика f1 на тестовой выборке :', f1_score(y_true=target_test,y_pred=test_preds))\n",
    "\n"
   ]
  },
  {
   "cell_type": "code",
   "execution_count": 56,
   "metadata": {},
   "outputs": [
    {
     "name": "stdout",
     "output_type": "stream",
     "text": [
      "Время обучения и предсказания модели, сек : 257.013534784317\n",
      "Метрика  f1 на тестовой 0.7216443163303672\n",
      "Метрика f1 на обучающей 0.7766228256257955\n"
     ]
    }
   ],
   "source": [
    "xgb_clf = xgb.XGBClassifier()\n",
    "t0=time()\n",
    "xgb_clf.fit(features_train, target_train, eval_set=[(features_test, target_test)], eval_metric=\"auc\" , verbose=False)\n",
    "\n",
    "pred_test = xgb_clf.predict(features_test)\n",
    "pred_train = xgb_clf.predict(features_train)\n",
    "t_xgb = time() - t0\n",
    "f1_xgb = f1_score(y_true=target_test,y_pred=pred_test)\n",
    "\n",
    "print('Время обучения и предсказания модели, сек :',t_xgb)\n",
    "print('Метрика  f1 на тестовой', f1_score(y_true=target_test,y_pred=pred_test))\n",
    "print('Метрика f1 на обучающей', f1_score(y_true=target_train,y_pred=pred_train))\n",
    " "
   ]
  },
  {
   "cell_type": "code",
   "execution_count": 57,
   "metadata": {},
   "outputs": [
    {
     "data": {
      "text/html": [
       "<div>\n",
       "<style scoped>\n",
       "    .dataframe tbody tr th:only-of-type {\n",
       "        vertical-align: middle;\n",
       "    }\n",
       "\n",
       "    .dataframe tbody tr th {\n",
       "        vertical-align: top;\n",
       "    }\n",
       "\n",
       "    .dataframe thead th {\n",
       "        text-align: right;\n",
       "    }\n",
       "</style>\n",
       "<table border=\"1\" class=\"dataframe\">\n",
       "  <thead>\n",
       "    <tr style=\"text-align: right;\">\n",
       "      <th></th>\n",
       "      <th>model</th>\n",
       "      <th>f1_score</th>\n",
       "      <th>fit_predict_time</th>\n",
       "    </tr>\n",
       "  </thead>\n",
       "  <tbody>\n",
       "    <tr>\n",
       "      <th>0</th>\n",
       "      <td>LogisticRegression</td>\n",
       "      <td>0.769070</td>\n",
       "      <td>50.122428</td>\n",
       "    </tr>\n",
       "    <tr>\n",
       "      <th>1</th>\n",
       "      <td>CatBoost</td>\n",
       "      <td>0.754524</td>\n",
       "      <td>374.668145</td>\n",
       "    </tr>\n",
       "    <tr>\n",
       "      <th>2</th>\n",
       "      <td>XGBoost</td>\n",
       "      <td>0.721644</td>\n",
       "      <td>257.013535</td>\n",
       "    </tr>\n",
       "  </tbody>\n",
       "</table>\n",
       "</div>"
      ],
      "text/plain": [
       "                model  f1_score  fit_predict_time\n",
       "0  LogisticRegression  0.769070         50.122428\n",
       "1            CatBoost  0.754524        374.668145\n",
       "2             XGBoost  0.721644        257.013535"
      ]
     },
     "metadata": {},
     "output_type": "display_data"
    }
   ],
   "source": [
    "d = {'model': ['LogisticRegression','CatBoost','XGBoost'],\\\n",
    "     'f1_score':[f1_lgr,f1_cat,f1_xgb], \\\n",
    "     'fit_predict_time': [t_lgr,t_cat,t_xgb]}\n",
    "    \n",
    "\n",
    "display( pd.DataFrame(data=d))"
   ]
  },
  {
   "cell_type": "markdown",
   "metadata": {},
   "source": [
    "## Выводы"
   ]
  },
  {
   "cell_type": "markdown",
   "metadata": {},
   "source": [
    "После подготовки данных были испытаны три модели машинного обучения.\n",
    "И по времени и по результату вычисления метрики f1 лучший результат показала модель LogisticRegression.\n",
    "Наверное так и должно было быть ведь вектор признака это 0 и 1.А далее сигмоидальная функция активации очень точно разделяет классы.\n",
    "Метрика выше 0.75 получена - задача проекта выполнена."
   ]
  }
 ],
 "metadata": {
  "ExecuteTimeLog": [
   {
    "duration": 1657,
    "start_time": "2022-07-13T09:27:37.375Z"
   },
   {
    "duration": 2263,
    "start_time": "2022-07-13T09:28:01.693Z"
   },
   {
    "duration": 20,
    "start_time": "2022-07-13T09:28:20.454Z"
   },
   {
    "duration": 45,
    "start_time": "2022-07-13T09:29:25.180Z"
   },
   {
    "duration": 1418,
    "start_time": "2022-07-13T09:29:33.024Z"
   },
   {
    "duration": 2175,
    "start_time": "2022-07-13T09:29:34.444Z"
   },
   {
    "duration": 15,
    "start_time": "2022-07-13T09:29:36.620Z"
   },
   {
    "duration": 47,
    "start_time": "2022-07-13T09:30:13.187Z"
   },
   {
    "duration": 1501,
    "start_time": "2022-07-13T09:32:11.176Z"
   },
   {
    "duration": 6,
    "start_time": "2022-07-13T09:32:23.322Z"
   },
   {
    "duration": 2187,
    "start_time": "2022-07-13T09:32:27.864Z"
   },
   {
    "duration": 15,
    "start_time": "2022-07-13T09:32:33.735Z"
   },
   {
    "duration": 46,
    "start_time": "2022-07-13T09:32:47.094Z"
   },
   {
    "duration": 7,
    "start_time": "2022-07-13T09:32:59.630Z"
   },
   {
    "duration": 1408,
    "start_time": "2022-07-13T09:33:16.124Z"
   },
   {
    "duration": 2215,
    "start_time": "2022-07-13T09:33:17.534Z"
   },
   {
    "duration": 15,
    "start_time": "2022-07-13T09:33:23.898Z"
   },
   {
    "duration": 7450,
    "start_time": "2022-07-13T09:33:30.494Z"
   },
   {
    "duration": 6873,
    "start_time": "2022-07-13T09:33:39.986Z"
   },
   {
    "duration": 82,
    "start_time": "2022-07-13T09:34:06.866Z"
   },
   {
    "duration": 15,
    "start_time": "2022-07-13T09:42:53.704Z"
   },
   {
    "duration": 1661,
    "start_time": "2022-07-13T17:27:57.115Z"
   },
   {
    "duration": 2225,
    "start_time": "2022-07-13T17:27:58.778Z"
   },
   {
    "duration": 17,
    "start_time": "2022-07-13T17:28:01.005Z"
   },
   {
    "duration": 5,
    "start_time": "2022-07-13T17:29:25.183Z"
   },
   {
    "duration": 7165,
    "start_time": "2022-07-13T17:30:33.644Z"
   },
   {
    "duration": 7443,
    "start_time": "2022-07-13T17:31:06.365Z"
   },
   {
    "duration": 6942,
    "start_time": "2022-07-13T17:31:27.141Z"
   },
   {
    "duration": 115,
    "start_time": "2022-07-13T17:39:41.681Z"
   },
   {
    "duration": 18,
    "start_time": "2022-07-13T17:45:43.469Z"
   },
   {
    "duration": 3,
    "start_time": "2022-07-13T17:47:48.487Z"
   },
   {
    "duration": 3,
    "start_time": "2022-07-13T18:02:45.027Z"
   },
   {
    "duration": 1842,
    "start_time": "2022-07-13T18:02:46.963Z"
   },
   {
    "duration": 141,
    "start_time": "2022-07-13T18:02:51.199Z"
   },
   {
    "duration": 6,
    "start_time": "2022-07-13T18:03:59.120Z"
   },
   {
    "duration": 674,
    "start_time": "2022-07-13T18:04:05.503Z"
   },
   {
    "duration": 11,
    "start_time": "2022-07-13T18:04:07.090Z"
   },
   {
    "duration": 5,
    "start_time": "2022-07-13T18:04:11.019Z"
   },
   {
    "duration": 1330,
    "start_time": "2022-07-13T18:04:13.048Z"
   },
   {
    "duration": 3,
    "start_time": "2022-07-13T18:04:23.738Z"
   },
   {
    "duration": 7390,
    "start_time": "2022-07-13T18:04:29.680Z"
   },
   {
    "duration": 6589,
    "start_time": "2022-07-13T18:04:46.993Z"
   },
   {
    "duration": 3,
    "start_time": "2022-07-13T18:04:57.423Z"
   },
   {
    "duration": 1922,
    "start_time": "2022-07-13T18:04:58.561Z"
   },
   {
    "duration": 152,
    "start_time": "2022-07-13T18:05:00.484Z"
   },
   {
    "duration": 11,
    "start_time": "2022-07-13T18:33:03.925Z"
   },
   {
    "duration": 10,
    "start_time": "2022-07-13T18:33:12.381Z"
   },
   {
    "duration": 60,
    "start_time": "2022-07-13T18:33:26.956Z"
   },
   {
    "duration": 54,
    "start_time": "2022-07-13T18:34:28.179Z"
   },
   {
    "duration": 6624,
    "start_time": "2022-07-13T18:39:14.261Z"
   },
   {
    "duration": 6518,
    "start_time": "2022-07-13T18:40:03.465Z"
   },
   {
    "duration": 26,
    "start_time": "2022-07-13T18:43:22.359Z"
   },
   {
    "duration": 20,
    "start_time": "2022-07-13T18:45:39.503Z"
   },
   {
    "duration": 6,
    "start_time": "2022-07-13T18:45:53.804Z"
   },
   {
    "duration": 753,
    "start_time": "2022-07-13T18:45:54.955Z"
   },
   {
    "duration": 9,
    "start_time": "2022-07-13T18:45:56.061Z"
   },
   {
    "duration": 4,
    "start_time": "2022-07-13T18:45:57.671Z"
   },
   {
    "duration": 3,
    "start_time": "2022-07-13T18:45:58.800Z"
   },
   {
    "duration": 7348,
    "start_time": "2022-07-13T18:46:02.540Z"
   },
   {
    "duration": 6897,
    "start_time": "2022-07-13T18:46:09.890Z"
   },
   {
    "duration": 3,
    "start_time": "2022-07-13T18:46:16.789Z"
   },
   {
    "duration": 1992,
    "start_time": "2022-07-13T18:46:16.801Z"
   },
   {
    "duration": 149,
    "start_time": "2022-07-13T18:46:18.796Z"
   },
   {
    "duration": 67,
    "start_time": "2022-07-13T18:46:18.947Z"
   },
   {
    "duration": 54,
    "start_time": "2022-07-13T18:46:19.016Z"
   },
   {
    "duration": 6358,
    "start_time": "2022-07-13T18:46:23.567Z"
   },
   {
    "duration": 12,
    "start_time": "2022-07-13T18:58:46.966Z"
   },
   {
    "duration": 6,
    "start_time": "2022-07-13T19:03:13.430Z"
   },
   {
    "duration": 688,
    "start_time": "2022-07-13T19:03:14.610Z"
   },
   {
    "duration": 10,
    "start_time": "2022-07-13T19:03:16.219Z"
   },
   {
    "duration": 3,
    "start_time": "2022-07-13T19:03:19.672Z"
   },
   {
    "duration": 2,
    "start_time": "2022-07-13T19:03:22.818Z"
   },
   {
    "duration": 19,
    "start_time": "2022-07-13T19:03:23.640Z"
   },
   {
    "duration": 5,
    "start_time": "2022-07-13T19:03:30.301Z"
   },
   {
    "duration": 2,
    "start_time": "2022-07-13T19:03:39.579Z"
   },
   {
    "duration": 17,
    "start_time": "2022-07-13T19:03:50.879Z"
   },
   {
    "duration": 10,
    "start_time": "2022-07-13T19:06:40.798Z"
   },
   {
    "duration": 7,
    "start_time": "2022-07-13T19:06:47.907Z"
   },
   {
    "duration": 649,
    "start_time": "2022-07-13T19:06:49.604Z"
   },
   {
    "duration": 9,
    "start_time": "2022-07-13T19:06:51.621Z"
   },
   {
    "duration": 12,
    "start_time": "2022-07-13T19:06:53.729Z"
   },
   {
    "duration": 3,
    "start_time": "2022-07-13T19:13:03.652Z"
   },
   {
    "duration": 17,
    "start_time": "2022-07-13T19:13:06.309Z"
   },
   {
    "duration": 31,
    "start_time": "2022-07-13T19:13:51.045Z"
   },
   {
    "duration": 8,
    "start_time": "2022-07-13T19:15:27.548Z"
   },
   {
    "duration": 680,
    "start_time": "2022-07-13T19:15:28.892Z"
   },
   {
    "duration": 9,
    "start_time": "2022-07-13T19:15:31.180Z"
   },
   {
    "duration": 47,
    "start_time": "2022-07-13T19:16:30.619Z"
   },
   {
    "duration": 1944,
    "start_time": "2022-07-13T19:16:43.768Z"
   },
   {
    "duration": 62,
    "start_time": "2022-07-13T19:17:06.032Z"
   },
   {
    "duration": 50,
    "start_time": "2022-07-13T19:17:17.500Z"
   },
   {
    "duration": 57,
    "start_time": "2022-07-13T19:17:26.123Z"
   },
   {
    "duration": 177,
    "start_time": "2022-07-13T19:17:35.772Z"
   },
   {
    "duration": 171,
    "start_time": "2022-07-13T19:17:40.552Z"
   },
   {
    "duration": 343,
    "start_time": "2022-07-13T19:17:42.629Z"
   },
   {
    "duration": 6028,
    "start_time": "2022-07-13T19:18:17.366Z"
   },
   {
    "duration": 28,
    "start_time": "2022-07-13T19:18:53.528Z"
   },
   {
    "duration": 13,
    "start_time": "2022-07-13T19:20:07.651Z"
   },
   {
    "duration": 13,
    "start_time": "2022-07-13T19:21:20.604Z"
   },
   {
    "duration": 16,
    "start_time": "2022-07-13T19:22:37.283Z"
   },
   {
    "duration": 13,
    "start_time": "2022-07-13T19:23:47.784Z"
   },
   {
    "duration": 13,
    "start_time": "2022-07-13T19:28:21.981Z"
   },
   {
    "duration": 14,
    "start_time": "2022-07-13T19:29:35.779Z"
   },
   {
    "duration": 5,
    "start_time": "2022-07-13T19:30:10.387Z"
   },
   {
    "duration": 14,
    "start_time": "2022-07-13T19:30:42.392Z"
   },
   {
    "duration": 7,
    "start_time": "2022-07-13T19:34:08.526Z"
   },
   {
    "duration": 727,
    "start_time": "2022-07-13T19:34:15.142Z"
   },
   {
    "duration": 11,
    "start_time": "2022-07-13T19:34:17.885Z"
   },
   {
    "duration": 3,
    "start_time": "2022-07-13T19:34:30.864Z"
   },
   {
    "duration": 1935,
    "start_time": "2022-07-13T19:34:33.342Z"
   },
   {
    "duration": 178,
    "start_time": "2022-07-13T19:34:35.279Z"
   },
   {
    "duration": 177,
    "start_time": "2022-07-13T19:34:39.391Z"
   },
   {
    "duration": 353,
    "start_time": "2022-07-13T19:34:41.348Z"
   },
   {
    "duration": 6299,
    "start_time": "2022-07-13T19:35:34.752Z"
   },
   {
    "duration": 30,
    "start_time": "2022-07-13T19:35:51.386Z"
   },
   {
    "duration": 7,
    "start_time": "2022-07-13T19:36:04.629Z"
   },
   {
    "duration": 661,
    "start_time": "2022-07-13T19:36:06.079Z"
   },
   {
    "duration": 9,
    "start_time": "2022-07-13T19:36:06.938Z"
   },
   {
    "duration": 3,
    "start_time": "2022-07-13T19:36:10.645Z"
   },
   {
    "duration": 1807,
    "start_time": "2022-07-13T19:36:11.564Z"
   },
   {
    "duration": 168,
    "start_time": "2022-07-13T19:36:13.585Z"
   },
   {
    "duration": 173,
    "start_time": "2022-07-13T19:36:17.761Z"
   },
   {
    "duration": 352,
    "start_time": "2022-07-13T19:36:19.296Z"
   },
   {
    "duration": 6077,
    "start_time": "2022-07-13T19:36:20.757Z"
   },
   {
    "duration": 4,
    "start_time": "2022-07-13T19:38:24.785Z"
   },
   {
    "duration": 14,
    "start_time": "2022-07-13T19:39:44.728Z"
   },
   {
    "duration": 3,
    "start_time": "2022-07-13T19:40:16.080Z"
   },
   {
    "duration": 4,
    "start_time": "2022-07-13T19:40:35.391Z"
   },
   {
    "duration": 16,
    "start_time": "2022-07-13T19:48:56.722Z"
   },
   {
    "duration": 139,
    "start_time": "2022-07-13T19:49:25.049Z"
   },
   {
    "duration": 650,
    "start_time": "2022-07-13T19:49:26.265Z"
   },
   {
    "duration": 11,
    "start_time": "2022-07-13T19:49:27.394Z"
   },
   {
    "duration": 3,
    "start_time": "2022-07-13T19:49:30.437Z"
   },
   {
    "duration": 1990,
    "start_time": "2022-07-13T19:49:32.248Z"
   },
   {
    "duration": 166,
    "start_time": "2022-07-13T19:49:34.239Z"
   },
   {
    "duration": 175,
    "start_time": "2022-07-13T19:49:37.964Z"
   },
   {
    "duration": 347,
    "start_time": "2022-07-13T19:49:39.181Z"
   },
   {
    "duration": 6236,
    "start_time": "2022-07-13T19:49:41.117Z"
   },
   {
    "duration": 4,
    "start_time": "2022-07-13T19:49:50.077Z"
   },
   {
    "duration": 14,
    "start_time": "2022-07-13T19:49:52.877Z"
   },
   {
    "duration": 4,
    "start_time": "2022-07-13T19:49:54.193Z"
   },
   {
    "duration": 7,
    "start_time": "2022-07-13T19:49:55.325Z"
   },
   {
    "duration": 19,
    "start_time": "2022-07-13T19:49:56.559Z"
   },
   {
    "duration": 15,
    "start_time": "2022-07-13T19:51:48.402Z"
   },
   {
    "duration": 15,
    "start_time": "2022-07-13T19:54:04.682Z"
   },
   {
    "duration": 30,
    "start_time": "2022-07-13T19:57:30.435Z"
   },
   {
    "duration": 651,
    "start_time": "2022-07-13T19:57:39.657Z"
   },
   {
    "duration": 9,
    "start_time": "2022-07-13T19:57:40.563Z"
   },
   {
    "duration": 3,
    "start_time": "2022-07-13T19:57:44.645Z"
   },
   {
    "duration": 1806,
    "start_time": "2022-07-13T19:57:46.368Z"
   },
   {
    "duration": 170,
    "start_time": "2022-07-13T19:57:48.176Z"
   },
   {
    "duration": 168,
    "start_time": "2022-07-13T19:57:52.113Z"
   },
   {
    "duration": 351,
    "start_time": "2022-07-13T19:57:53.332Z"
   },
   {
    "duration": 6636,
    "start_time": "2022-07-13T19:57:58.610Z"
   },
   {
    "duration": 1558,
    "start_time": "2022-07-13T20:10:14.611Z"
   },
   {
    "duration": 805,
    "start_time": "2022-07-13T20:10:16.172Z"
   },
   {
    "duration": 21,
    "start_time": "2022-07-13T20:10:16.979Z"
   },
   {
    "duration": 3,
    "start_time": "2022-07-13T20:10:17.002Z"
   },
   {
    "duration": 1927,
    "start_time": "2022-07-13T20:10:17.007Z"
   },
   {
    "duration": 170,
    "start_time": "2022-07-13T20:10:18.935Z"
   },
   {
    "duration": 177,
    "start_time": "2022-07-13T20:10:19.107Z"
   },
   {
    "duration": 372,
    "start_time": "2022-07-13T20:10:19.286Z"
   },
   {
    "duration": 11,
    "start_time": "2022-07-13T20:10:19.660Z"
   },
   {
    "duration": 3610,
    "start_time": "2022-07-13T20:10:19.673Z"
   },
   {
    "duration": 4,
    "start_time": "2022-07-13T20:10:23.285Z"
   },
   {
    "duration": 40,
    "start_time": "2022-07-13T20:10:23.290Z"
   },
   {
    "duration": 4,
    "start_time": "2022-07-13T20:10:23.332Z"
   },
   {
    "duration": 12,
    "start_time": "2022-07-13T20:10:23.338Z"
   },
   {
    "duration": 967,
    "start_time": "2022-07-13T20:10:23.352Z"
   },
   {
    "duration": 0,
    "start_time": "2022-07-13T20:10:24.321Z"
   },
   {
    "duration": 0,
    "start_time": "2022-07-13T20:10:24.322Z"
   },
   {
    "duration": 0,
    "start_time": "2022-07-13T20:10:24.324Z"
   },
   {
    "duration": 9,
    "start_time": "2022-07-13T20:12:34.211Z"
   },
   {
    "duration": 12,
    "start_time": "2022-07-13T20:13:04.412Z"
   },
   {
    "duration": 12,
    "start_time": "2022-07-13T20:13:15.895Z"
   },
   {
    "duration": 12,
    "start_time": "2022-07-13T20:13:23.703Z"
   },
   {
    "duration": 1465,
    "start_time": "2022-07-13T20:15:05.121Z"
   },
   {
    "duration": 723,
    "start_time": "2022-07-13T20:15:06.588Z"
   },
   {
    "duration": 15,
    "start_time": "2022-07-13T20:15:07.313Z"
   },
   {
    "duration": 3,
    "start_time": "2022-07-13T20:15:07.330Z"
   },
   {
    "duration": 1836,
    "start_time": "2022-07-13T20:15:07.334Z"
   },
   {
    "duration": 178,
    "start_time": "2022-07-13T20:15:09.172Z"
   },
   {
    "duration": 190,
    "start_time": "2022-07-13T20:15:09.351Z"
   },
   {
    "duration": 347,
    "start_time": "2022-07-13T20:15:09.542Z"
   },
   {
    "duration": 10353,
    "start_time": "2022-07-13T20:15:09.891Z"
   },
   {
    "duration": 4,
    "start_time": "2022-07-13T20:15:20.246Z"
   },
   {
    "duration": 16,
    "start_time": "2022-07-13T20:15:20.251Z"
   },
   {
    "duration": 4,
    "start_time": "2022-07-13T20:15:20.268Z"
   },
   {
    "duration": 7,
    "start_time": "2022-07-13T20:15:20.273Z"
   },
   {
    "duration": 25,
    "start_time": "2022-07-13T20:15:20.281Z"
   },
   {
    "duration": 121,
    "start_time": "2022-07-13T20:15:20.307Z"
   },
   {
    "duration": 0,
    "start_time": "2022-07-13T20:15:20.429Z"
   },
   {
    "duration": 1556,
    "start_time": "2022-07-13T20:16:14.995Z"
   },
   {
    "duration": 765,
    "start_time": "2022-07-13T20:16:16.553Z"
   },
   {
    "duration": 15,
    "start_time": "2022-07-13T20:16:17.320Z"
   },
   {
    "duration": 3,
    "start_time": "2022-07-13T20:16:17.337Z"
   },
   {
    "duration": 1833,
    "start_time": "2022-07-13T20:16:17.341Z"
   },
   {
    "duration": 170,
    "start_time": "2022-07-13T20:16:19.175Z"
   },
   {
    "duration": 182,
    "start_time": "2022-07-13T20:16:19.347Z"
   },
   {
    "duration": 357,
    "start_time": "2022-07-13T20:16:19.530Z"
   },
   {
    "duration": 9839,
    "start_time": "2022-07-13T20:16:19.888Z"
   },
   {
    "duration": 5,
    "start_time": "2022-07-13T20:16:29.729Z"
   },
   {
    "duration": 14,
    "start_time": "2022-07-13T20:16:29.735Z"
   },
   {
    "duration": 4,
    "start_time": "2022-07-13T20:16:29.751Z"
   },
   {
    "duration": 10,
    "start_time": "2022-07-13T20:16:29.757Z"
   },
   {
    "duration": 34,
    "start_time": "2022-07-13T20:16:29.769Z"
   },
   {
    "duration": 127,
    "start_time": "2022-07-13T20:16:29.805Z"
   },
   {
    "duration": 0,
    "start_time": "2022-07-13T20:16:29.934Z"
   },
   {
    "duration": 6,
    "start_time": "2022-07-13T20:17:03.692Z"
   },
   {
    "duration": 710,
    "start_time": "2022-07-13T20:17:04.865Z"
   },
   {
    "duration": 11,
    "start_time": "2022-07-13T20:17:05.793Z"
   },
   {
    "duration": 3,
    "start_time": "2022-07-13T20:17:09.335Z"
   },
   {
    "duration": 1841,
    "start_time": "2022-07-13T20:17:10.437Z"
   },
   {
    "duration": 165,
    "start_time": "2022-07-13T20:17:14.232Z"
   },
   {
    "duration": 178,
    "start_time": "2022-07-13T20:17:18.117Z"
   },
   {
    "duration": 350,
    "start_time": "2022-07-13T20:17:19.688Z"
   },
   {
    "duration": 10045,
    "start_time": "2022-07-13T20:17:25.923Z"
   },
   {
    "duration": 4,
    "start_time": "2022-07-13T20:17:41.580Z"
   },
   {
    "duration": 14,
    "start_time": "2022-07-13T20:17:45.882Z"
   },
   {
    "duration": 3,
    "start_time": "2022-07-13T20:17:46.852Z"
   },
   {
    "duration": 4,
    "start_time": "2022-07-13T20:17:47.937Z"
   },
   {
    "duration": 6,
    "start_time": "2022-07-13T20:17:58.064Z"
   },
   {
    "duration": 7,
    "start_time": "2022-07-13T20:18:37.922Z"
   },
   {
    "duration": 14,
    "start_time": "2022-07-13T20:18:38.959Z"
   },
   {
    "duration": 113,
    "start_time": "2022-07-13T20:35:33.149Z"
   },
   {
    "duration": 6,
    "start_time": "2022-07-13T20:35:46.224Z"
   },
   {
    "duration": 655,
    "start_time": "2022-07-13T20:35:49.026Z"
   },
   {
    "duration": 9,
    "start_time": "2022-07-13T20:35:51.169Z"
   },
   {
    "duration": 4,
    "start_time": "2022-07-13T20:36:04.386Z"
   },
   {
    "duration": 2051,
    "start_time": "2022-07-13T20:36:06.772Z"
   },
   {
    "duration": 191,
    "start_time": "2022-07-13T20:36:08.826Z"
   },
   {
    "duration": 182,
    "start_time": "2022-07-13T20:36:19.390Z"
   },
   {
    "duration": 337,
    "start_time": "2022-07-13T20:36:20.783Z"
   },
   {
    "duration": 66474,
    "start_time": "2022-07-13T20:37:27.747Z"
   },
   {
    "duration": 1375,
    "start_time": "2022-07-13T20:38:48.578Z"
   },
   {
    "duration": 729,
    "start_time": "2022-07-13T20:38:49.955Z"
   },
   {
    "duration": 20,
    "start_time": "2022-07-13T20:38:50.686Z"
   },
   {
    "duration": 115,
    "start_time": "2022-07-13T20:38:50.708Z"
   },
   {
    "duration": 0,
    "start_time": "2022-07-13T20:38:50.825Z"
   },
   {
    "duration": 0,
    "start_time": "2022-07-13T20:38:50.826Z"
   },
   {
    "duration": 0,
    "start_time": "2022-07-13T20:38:50.827Z"
   },
   {
    "duration": 0,
    "start_time": "2022-07-13T20:38:50.828Z"
   },
   {
    "duration": 0,
    "start_time": "2022-07-13T20:38:50.829Z"
   },
   {
    "duration": 0,
    "start_time": "2022-07-13T20:38:50.830Z"
   },
   {
    "duration": 0,
    "start_time": "2022-07-13T20:38:50.831Z"
   },
   {
    "duration": 0,
    "start_time": "2022-07-13T20:38:50.832Z"
   },
   {
    "duration": 0,
    "start_time": "2022-07-13T20:38:50.833Z"
   },
   {
    "duration": 0,
    "start_time": "2022-07-13T20:38:50.833Z"
   },
   {
    "duration": 0,
    "start_time": "2022-07-13T20:38:50.834Z"
   },
   {
    "duration": 0,
    "start_time": "2022-07-13T20:38:50.835Z"
   },
   {
    "duration": 0,
    "start_time": "2022-07-13T20:38:50.836Z"
   },
   {
    "duration": 10,
    "start_time": "2022-07-13T20:39:29.443Z"
   },
   {
    "duration": 3,
    "start_time": "2022-07-13T20:39:33.548Z"
   },
   {
    "duration": 1872,
    "start_time": "2022-07-13T20:39:34.626Z"
   },
   {
    "duration": 7,
    "start_time": "2022-07-13T20:40:22.444Z"
   },
   {
    "duration": 201,
    "start_time": "2022-07-13T20:41:40.545Z"
   },
   {
    "duration": 1449,
    "start_time": "2022-07-13T20:43:32.353Z"
   },
   {
    "duration": 810,
    "start_time": "2022-07-13T20:43:33.804Z"
   },
   {
    "duration": 16,
    "start_time": "2022-07-13T20:43:34.616Z"
   },
   {
    "duration": 87503,
    "start_time": "2022-07-13T20:43:34.634Z"
   },
   {
    "duration": 27,
    "start_time": "2022-07-13T20:45:02.139Z"
   },
   {
    "duration": 1155,
    "start_time": "2022-07-13T20:45:02.168Z"
   },
   {
    "duration": 7,
    "start_time": "2022-07-13T20:45:03.325Z"
   },
   {
    "duration": 208,
    "start_time": "2022-07-13T20:45:03.333Z"
   },
   {
    "duration": 358,
    "start_time": "2022-07-13T20:45:03.542Z"
   },
   {
    "duration": 770,
    "start_time": "2022-07-13T20:45:03.903Z"
   },
   {
    "duration": 119,
    "start_time": "2022-07-13T20:45:04.674Z"
   },
   {
    "duration": 0,
    "start_time": "2022-07-13T20:45:04.794Z"
   },
   {
    "duration": 0,
    "start_time": "2022-07-13T20:45:04.795Z"
   },
   {
    "duration": 0,
    "start_time": "2022-07-13T20:45:04.796Z"
   },
   {
    "duration": 0,
    "start_time": "2022-07-13T20:45:04.796Z"
   },
   {
    "duration": 0,
    "start_time": "2022-07-13T20:45:04.797Z"
   },
   {
    "duration": 0,
    "start_time": "2022-07-13T20:45:04.797Z"
   },
   {
    "duration": 0,
    "start_time": "2022-07-13T20:45:04.798Z"
   },
   {
    "duration": 0,
    "start_time": "2022-07-13T20:45:04.798Z"
   },
   {
    "duration": 0,
    "start_time": "2022-07-13T20:45:04.798Z"
   },
   {
    "duration": 676,
    "start_time": "2022-07-13T20:49:17.625Z"
   },
   {
    "duration": 9,
    "start_time": "2022-07-13T20:49:20.079Z"
   },
   {
    "duration": 85079,
    "start_time": "2022-07-13T20:49:29.541Z"
   },
   {
    "duration": 10,
    "start_time": "2022-07-13T20:58:03.551Z"
   },
   {
    "duration": 23,
    "start_time": "2022-07-13T20:59:29.405Z"
   },
   {
    "duration": 11,
    "start_time": "2022-07-13T21:00:48.409Z"
   },
   {
    "duration": 725,
    "start_time": "2022-07-13T21:01:05.259Z"
   },
   {
    "duration": 9,
    "start_time": "2022-07-13T21:01:07.325Z"
   },
   {
    "duration": 86599,
    "start_time": "2022-07-13T21:01:12.258Z"
   },
   {
    "duration": 180,
    "start_time": "2022-07-13T21:02:43.634Z"
   },
   {
    "duration": 384,
    "start_time": "2022-07-13T21:02:45.052Z"
   },
   {
    "duration": 12,
    "start_time": "2022-07-13T21:02:52.263Z"
   },
   {
    "duration": 10,
    "start_time": "2022-07-13T21:04:31.784Z"
   },
   {
    "duration": 5,
    "start_time": "2022-07-13T21:05:19.862Z"
   },
   {
    "duration": 28,
    "start_time": "2022-07-13T21:05:25.088Z"
   },
   {
    "duration": 30,
    "start_time": "2022-07-13T21:05:26.838Z"
   },
   {
    "duration": 10053,
    "start_time": "2022-07-13T21:05:28.063Z"
   },
   {
    "duration": 4,
    "start_time": "2022-07-13T21:06:50.066Z"
   },
   {
    "duration": 23351,
    "start_time": "2022-07-13T21:08:12.372Z"
   },
   {
    "duration": 23199,
    "start_time": "2022-07-13T21:10:15.315Z"
   },
   {
    "duration": 6,
    "start_time": "2022-07-13T21:11:18.722Z"
   },
   {
    "duration": 10,
    "start_time": "2022-07-13T21:13:22.476Z"
   },
   {
    "duration": 10,
    "start_time": "2022-07-13T21:13:53.760Z"
   },
   {
    "duration": 7,
    "start_time": "2022-07-13T21:15:53.070Z"
   },
   {
    "duration": 22906,
    "start_time": "2022-07-13T21:16:03.014Z"
   },
   {
    "duration": 80,
    "start_time": "2022-07-13T21:18:46.385Z"
   },
   {
    "duration": 23687,
    "start_time": "2022-07-13T21:19:07.130Z"
   },
   {
    "duration": 24057,
    "start_time": "2022-07-13T21:21:03.951Z"
   },
   {
    "duration": 23432,
    "start_time": "2022-07-13T21:22:01.286Z"
   },
   {
    "duration": 200783,
    "start_time": "2022-07-13T21:27:52.608Z"
   },
   {
    "duration": 1515,
    "start_time": "2022-07-13T21:36:02.670Z"
   },
   {
    "duration": 725,
    "start_time": "2022-07-13T21:36:04.187Z"
   },
   {
    "duration": 17,
    "start_time": "2022-07-13T21:36:04.914Z"
   },
   {
    "duration": 84973,
    "start_time": "2022-07-13T21:36:04.933Z"
   },
   {
    "duration": 194,
    "start_time": "2022-07-13T21:37:29.907Z"
   },
   {
    "duration": 371,
    "start_time": "2022-07-13T21:37:30.103Z"
   },
   {
    "duration": 6,
    "start_time": "2022-07-13T21:37:30.476Z"
   },
   {
    "duration": 1991,
    "start_time": "2022-07-13T21:37:30.484Z"
   },
   {
    "duration": 0,
    "start_time": "2022-07-13T21:37:32.476Z"
   },
   {
    "duration": 0,
    "start_time": "2022-07-13T21:37:32.477Z"
   },
   {
    "duration": 1,
    "start_time": "2022-07-13T21:37:32.478Z"
   },
   {
    "duration": 0,
    "start_time": "2022-07-13T21:37:32.480Z"
   },
   {
    "duration": 9,
    "start_time": "2022-07-13T21:41:05.805Z"
   },
   {
    "duration": 14,
    "start_time": "2022-07-13T21:41:35.492Z"
   },
   {
    "duration": 23,
    "start_time": "2022-07-13T21:41:37.861Z"
   },
   {
    "duration": 41,
    "start_time": "2022-07-13T21:41:50.525Z"
   },
   {
    "duration": 7,
    "start_time": "2022-07-13T21:42:07.611Z"
   },
   {
    "duration": 1494,
    "start_time": "2022-07-13T21:42:18.112Z"
   },
   {
    "duration": 2172,
    "start_time": "2022-07-13T21:42:19.608Z"
   },
   {
    "duration": 15,
    "start_time": "2022-07-13T21:42:21.782Z"
   },
   {
    "duration": 86962,
    "start_time": "2022-07-13T21:42:21.799Z"
   },
   {
    "duration": 182,
    "start_time": "2022-07-13T21:43:48.763Z"
   },
   {
    "duration": 373,
    "start_time": "2022-07-13T21:43:48.947Z"
   },
   {
    "duration": 6,
    "start_time": "2022-07-13T21:43:49.322Z"
   },
   {
    "duration": 15,
    "start_time": "2022-07-13T21:43:49.329Z"
   },
   {
    "duration": 24,
    "start_time": "2022-07-13T21:43:49.346Z"
   },
   {
    "duration": 10598,
    "start_time": "2022-07-13T21:43:49.372Z"
   },
   {
    "duration": 3,
    "start_time": "2022-07-13T21:43:59.972Z"
   },
   {
    "duration": 24732,
    "start_time": "2022-07-13T21:43:59.976Z"
   },
   {
    "duration": 279531,
    "start_time": "2022-07-13T21:44:24.709Z"
   },
   {
    "duration": 1462,
    "start_time": "2022-07-13T22:10:47.262Z"
   },
   {
    "duration": 733,
    "start_time": "2022-07-13T22:10:48.725Z"
   },
   {
    "duration": 15,
    "start_time": "2022-07-13T22:10:49.460Z"
   },
   {
    "duration": 87215,
    "start_time": "2022-07-13T22:10:49.477Z"
   },
   {
    "duration": 193,
    "start_time": "2022-07-13T22:12:16.700Z"
   },
   {
    "duration": 401,
    "start_time": "2022-07-13T22:12:16.894Z"
   },
   {
    "duration": 7,
    "start_time": "2022-07-13T22:12:17.300Z"
   },
   {
    "duration": 25,
    "start_time": "2022-07-13T22:12:17.309Z"
   },
   {
    "duration": 150,
    "start_time": "2022-07-13T22:12:17.336Z"
   },
   {
    "duration": 0,
    "start_time": "2022-07-13T22:12:17.489Z"
   },
   {
    "duration": 0,
    "start_time": "2022-07-13T22:12:17.490Z"
   },
   {
    "duration": 0,
    "start_time": "2022-07-13T22:12:17.491Z"
   },
   {
    "duration": 0,
    "start_time": "2022-07-13T22:12:17.492Z"
   },
   {
    "duration": 0,
    "start_time": "2022-07-13T22:12:17.493Z"
   },
   {
    "duration": 0,
    "start_time": "2022-07-13T22:12:17.493Z"
   },
   {
    "duration": 56,
    "start_time": "2022-07-13T22:12:54.031Z"
   },
   {
    "duration": 10285,
    "start_time": "2022-07-13T22:13:01.607Z"
   },
   {
    "duration": 3,
    "start_time": "2022-07-13T22:13:11.894Z"
   },
   {
    "duration": 26919,
    "start_time": "2022-07-13T22:13:11.900Z"
   },
   {
    "duration": 278539,
    "start_time": "2022-07-13T22:13:38.821Z"
   },
   {
    "duration": 51,
    "start_time": "2022-07-13T22:19:41.572Z"
   },
   {
    "duration": 10261,
    "start_time": "2022-07-13T22:19:42.822Z"
   },
   {
    "duration": 3,
    "start_time": "2022-07-13T22:19:53.085Z"
   },
   {
    "duration": 42844,
    "start_time": "2022-07-13T22:20:05.466Z"
   },
   {
    "duration": 365069,
    "start_time": "2022-07-13T22:21:08.173Z"
   },
   {
    "duration": 1617,
    "start_time": "2022-07-14T05:36:17.661Z"
   },
   {
    "duration": 2490,
    "start_time": "2022-07-14T05:36:19.280Z"
   },
   {
    "duration": 15,
    "start_time": "2022-07-14T05:36:23.346Z"
   },
   {
    "duration": 93318,
    "start_time": "2022-07-14T05:37:15.050Z"
   },
   {
    "duration": 190,
    "start_time": "2022-07-14T05:38:48.370Z"
   },
   {
    "duration": 381,
    "start_time": "2022-07-14T05:38:48.561Z"
   },
   {
    "duration": 118,
    "start_time": "2022-07-14T05:39:06.407Z"
   },
   {
    "duration": 6,
    "start_time": "2022-07-14T05:39:19.264Z"
   },
   {
    "duration": 10,
    "start_time": "2022-07-14T05:39:22.506Z"
   },
   {
    "duration": 58,
    "start_time": "2022-07-14T05:39:26.335Z"
   },
   {
    "duration": 11376,
    "start_time": "2022-07-14T05:39:27.834Z"
   },
   {
    "duration": 16,
    "start_time": "2022-07-14T05:39:39.213Z"
   },
   {
    "duration": 46,
    "start_time": "2022-07-14T05:40:03.217Z"
   },
   {
    "duration": 33,
    "start_time": "2022-07-14T05:41:16.894Z"
   },
   {
    "duration": 1528,
    "start_time": "2022-07-14T05:48:59.961Z"
   },
   {
    "duration": 891,
    "start_time": "2022-07-14T05:49:01.491Z"
   },
   {
    "duration": 19,
    "start_time": "2022-07-14T05:49:02.384Z"
   },
   {
    "duration": 94555,
    "start_time": "2022-07-14T05:49:02.405Z"
   },
   {
    "duration": 219,
    "start_time": "2022-07-14T05:50:36.961Z"
   },
   {
    "duration": 445,
    "start_time": "2022-07-14T05:50:37.182Z"
   },
   {
    "duration": 6,
    "start_time": "2022-07-14T05:50:37.629Z"
   },
   {
    "duration": 28,
    "start_time": "2022-07-14T05:50:37.637Z"
   },
   {
    "duration": 75,
    "start_time": "2022-07-14T05:50:37.667Z"
   },
   {
    "duration": 11150,
    "start_time": "2022-07-14T05:50:37.745Z"
   },
   {
    "duration": 4,
    "start_time": "2022-07-14T05:50:48.897Z"
   },
   {
    "duration": 487522,
    "start_time": "2022-07-14T05:50:48.903Z"
   },
   {
    "duration": 45097,
    "start_time": "2022-07-14T05:58:56.427Z"
   },
   {
    "duration": 349736,
    "start_time": "2022-07-14T05:59:41.526Z"
   },
   {
    "duration": 1438,
    "start_time": "2022-07-14T06:14:25.625Z"
   },
   {
    "duration": 867,
    "start_time": "2022-07-14T06:14:27.065Z"
   },
   {
    "duration": 16,
    "start_time": "2022-07-14T06:14:27.933Z"
   },
   {
    "duration": 85716,
    "start_time": "2022-07-14T06:14:27.951Z"
   },
   {
    "duration": 201,
    "start_time": "2022-07-14T06:15:53.669Z"
   },
   {
    "duration": 356,
    "start_time": "2022-07-14T06:15:53.871Z"
   },
   {
    "duration": 6,
    "start_time": "2022-07-14T06:15:54.228Z"
   },
   {
    "duration": 14,
    "start_time": "2022-07-14T06:15:54.235Z"
   },
   {
    "duration": 52,
    "start_time": "2022-07-14T06:15:54.251Z"
   },
   {
    "duration": 10772,
    "start_time": "2022-07-14T06:15:54.306Z"
   },
   {
    "duration": 3,
    "start_time": "2022-07-14T06:16:05.080Z"
   },
   {
    "duration": 292441,
    "start_time": "2022-07-14T06:16:05.084Z"
   },
   {
    "duration": 48503,
    "start_time": "2022-07-14T06:20:57.528Z"
   },
   {
    "duration": 5,
    "start_time": "2022-07-14T06:21:46.033Z"
   },
   {
    "duration": 341157,
    "start_time": "2022-07-14T06:22:30.796Z"
   },
   {
    "duration": 59,
    "start_time": "2022-07-14T06:30:22.103Z"
   },
   {
    "duration": 363351,
    "start_time": "2022-07-14T06:30:40.952Z"
   },
   {
    "duration": 340610,
    "start_time": "2022-07-14T06:36:52.321Z"
   },
   {
    "duration": 338512,
    "start_time": "2022-07-14T06:43:59.859Z"
   },
   {
    "duration": 101,
    "start_time": "2022-07-14T06:51:41.232Z"
   },
   {
    "duration": 180866,
    "start_time": "2022-07-14T06:57:36.669Z"
   },
   {
    "duration": 1589,
    "start_time": "2022-07-14T07:08:29.082Z"
   },
   {
    "duration": 839,
    "start_time": "2022-07-14T07:08:30.673Z"
   },
   {
    "duration": 22,
    "start_time": "2022-07-14T07:08:31.514Z"
   },
   {
    "duration": 85351,
    "start_time": "2022-07-14T07:08:31.537Z"
   },
   {
    "duration": 193,
    "start_time": "2022-07-14T07:09:56.891Z"
   },
   {
    "duration": 394,
    "start_time": "2022-07-14T07:09:57.086Z"
   },
   {
    "duration": 7,
    "start_time": "2022-07-14T07:09:57.482Z"
   },
   {
    "duration": 18,
    "start_time": "2022-07-14T07:09:57.491Z"
   },
   {
    "duration": 67,
    "start_time": "2022-07-14T07:09:57.524Z"
   },
   {
    "duration": 10755,
    "start_time": "2022-07-14T07:09:57.594Z"
   },
   {
    "duration": 3,
    "start_time": "2022-07-14T07:10:08.351Z"
   },
   {
    "duration": 53,
    "start_time": "2022-07-14T07:10:08.356Z"
   },
   {
    "duration": 0,
    "start_time": "2022-07-14T07:10:08.410Z"
   },
   {
    "duration": 0,
    "start_time": "2022-07-14T07:10:08.412Z"
   },
   {
    "duration": 0,
    "start_time": "2022-07-14T07:10:08.413Z"
   },
   {
    "duration": 285430,
    "start_time": "2022-07-14T07:10:28.805Z"
   },
   {
    "duration": 51195,
    "start_time": "2022-07-14T07:15:14.239Z"
   },
   {
    "duration": 350354,
    "start_time": "2022-07-14T07:16:05.436Z"
   },
   {
    "duration": 267751,
    "start_time": "2022-07-14T07:21:55.792Z"
   },
   {
    "duration": 1554,
    "start_time": "2022-07-14T07:37:29.629Z"
   },
   {
    "duration": 854,
    "start_time": "2022-07-14T07:37:31.185Z"
   },
   {
    "duration": 15,
    "start_time": "2022-07-14T07:37:32.040Z"
   },
   {
    "duration": 93130,
    "start_time": "2022-07-14T07:37:32.057Z"
   },
   {
    "duration": 201,
    "start_time": "2022-07-14T07:39:05.189Z"
   },
   {
    "duration": 390,
    "start_time": "2022-07-14T07:39:05.391Z"
   },
   {
    "duration": 6,
    "start_time": "2022-07-14T07:39:05.782Z"
   },
   {
    "duration": 19,
    "start_time": "2022-07-14T07:39:05.789Z"
   },
   {
    "duration": 67,
    "start_time": "2022-07-14T07:39:05.809Z"
   },
   {
    "duration": 11205,
    "start_time": "2022-07-14T07:39:05.878Z"
   },
   {
    "duration": 4,
    "start_time": "2022-07-14T07:39:17.085Z"
   },
   {
    "duration": 316335,
    "start_time": "2022-07-14T07:39:17.090Z"
   },
   {
    "duration": 51227,
    "start_time": "2022-07-14T07:44:33.428Z"
   },
   {
    "duration": 1680,
    "start_time": "2022-07-14T16:35:12.145Z"
   },
   {
    "duration": 2295,
    "start_time": "2022-07-14T16:35:19.112Z"
   },
   {
    "duration": 14,
    "start_time": "2022-07-14T16:35:25.349Z"
   },
   {
    "duration": 90110,
    "start_time": "2022-07-14T16:35:34.365Z"
   },
   {
    "duration": 180,
    "start_time": "2022-07-14T16:37:17.255Z"
   },
   {
    "duration": 376,
    "start_time": "2022-07-14T16:37:18.594Z"
   },
   {
    "duration": 7,
    "start_time": "2022-07-14T16:37:26.944Z"
   },
   {
    "duration": 11,
    "start_time": "2022-07-14T16:39:25.065Z"
   },
   {
    "duration": 58,
    "start_time": "2022-07-14T16:39:30.183Z"
   },
   {
    "duration": 10785,
    "start_time": "2022-07-14T16:39:31.846Z"
   },
   {
    "duration": 3,
    "start_time": "2022-07-14T16:39:45.235Z"
   },
   {
    "duration": 284517,
    "start_time": "2022-07-14T16:41:33.295Z"
   },
   {
    "duration": 43101,
    "start_time": "2022-07-14T16:46:29.636Z"
   },
   {
    "duration": 347949,
    "start_time": "2022-07-14T16:47:59.327Z"
   },
   {
    "duration": 185966,
    "start_time": "2022-07-14T16:55:54.443Z"
   },
   {
    "duration": 9,
    "start_time": "2022-07-14T16:59:07.965Z"
   },
   {
    "duration": 1986,
    "start_time": "2022-07-15T15:23:05.393Z"
   },
   {
    "duration": 2480,
    "start_time": "2022-07-15T15:23:08.733Z"
   },
   {
    "duration": 17,
    "start_time": "2022-07-15T15:23:12.261Z"
   },
   {
    "duration": 395,
    "start_time": "2022-07-15T15:23:35.936Z"
   },
   {
    "duration": 11,
    "start_time": "2022-07-15T15:24:44.140Z"
   },
   {
    "duration": 1440,
    "start_time": "2022-07-15T15:32:27.833Z"
   },
   {
    "duration": 4754,
    "start_time": "2022-07-15T15:34:18.454Z"
   },
   {
    "duration": 78729,
    "start_time": "2022-07-15T15:35:04.128Z"
   },
   {
    "duration": 49170,
    "start_time": "2022-07-15T15:37:11.266Z"
   },
   {
    "duration": 22,
    "start_time": "2022-07-15T15:39:44.820Z"
   },
   {
    "duration": 51199,
    "start_time": "2022-07-15T15:40:23.616Z"
   },
   {
    "duration": 194,
    "start_time": "2022-07-15T15:43:16.145Z"
   },
   {
    "duration": 402,
    "start_time": "2022-07-15T15:43:18.229Z"
   },
   {
    "duration": 12,
    "start_time": "2022-07-15T15:43:34.819Z"
   },
   {
    "duration": 837,
    "start_time": "2022-07-15T15:43:38.181Z"
   },
   {
    "duration": 10,
    "start_time": "2022-07-15T15:43:39.436Z"
   },
   {
    "duration": 101137,
    "start_time": "2022-07-15T15:44:17.675Z"
   },
   {
    "duration": 194,
    "start_time": "2022-07-15T15:47:18.769Z"
   },
   {
    "duration": 398,
    "start_time": "2022-07-15T15:47:22.043Z"
   },
   {
    "duration": 5,
    "start_time": "2022-07-15T15:47:28.719Z"
   },
   {
    "duration": 11,
    "start_time": "2022-07-15T15:47:33.628Z"
   },
   {
    "duration": 84,
    "start_time": "2022-07-15T15:47:35.681Z"
   },
   {
    "duration": 11331,
    "start_time": "2022-07-15T15:47:38.131Z"
   },
   {
    "duration": 4,
    "start_time": "2022-07-15T15:48:11.688Z"
   },
   {
    "duration": 332567,
    "start_time": "2022-07-15T15:56:06.473Z"
   },
   {
    "duration": 9,
    "start_time": "2022-07-15T16:03:08.049Z"
   },
   {
    "duration": 808,
    "start_time": "2022-07-15T16:03:09.466Z"
   },
   {
    "duration": 10,
    "start_time": "2022-07-15T16:03:11.783Z"
   },
   {
    "duration": 279,
    "start_time": "2022-07-15T16:03:25.041Z"
   },
   {
    "duration": 5646,
    "start_time": "2022-07-15T16:10:55.477Z"
   },
   {
    "duration": 245,
    "start_time": "2022-07-15T16:13:44.480Z"
   },
   {
    "duration": 379,
    "start_time": "2022-07-15T16:13:47.574Z"
   },
   {
    "duration": 18,
    "start_time": "2022-07-15T16:13:53.830Z"
   },
   {
    "duration": 13,
    "start_time": "2022-07-15T16:13:56.832Z"
   },
   {
    "duration": 58,
    "start_time": "2022-07-15T16:13:57.918Z"
   },
   {
    "duration": 11918,
    "start_time": "2022-07-15T16:14:00.909Z"
   },
   {
    "duration": 3,
    "start_time": "2022-07-15T16:14:18.783Z"
   },
   {
    "duration": 319631,
    "start_time": "2022-07-15T16:14:33.107Z"
   },
   {
    "duration": 52565,
    "start_time": "2022-07-15T16:20:11.481Z"
   },
   {
    "duration": 438402,
    "start_time": "2022-07-15T16:21:15.730Z"
   },
   {
    "duration": 283918,
    "start_time": "2022-07-15T16:29:41.736Z"
   },
   {
    "duration": 9,
    "start_time": "2022-07-15T16:34:37.743Z"
   },
   {
    "duration": 278589,
    "start_time": "2022-07-15T16:35:59.130Z"
   },
   {
    "duration": 274,
    "start_time": "2022-07-15T16:50:39.467Z"
   },
   {
    "duration": 837,
    "start_time": "2022-07-15T16:50:43.752Z"
   },
   {
    "duration": 12,
    "start_time": "2022-07-15T16:50:46.125Z"
   },
   {
    "duration": 6088,
    "start_time": "2022-07-15T16:50:51.492Z"
   },
   {
    "duration": 100007,
    "start_time": "2022-07-15T16:58:29.343Z"
   },
   {
    "duration": 18,
    "start_time": "2022-07-15T17:01:52.788Z"
   },
   {
    "duration": 201,
    "start_time": "2022-07-15T17:02:06.651Z"
   },
   {
    "duration": 421,
    "start_time": "2022-07-15T17:02:08.998Z"
   },
   {
    "duration": 13,
    "start_time": "2022-07-15T17:02:16.754Z"
   },
   {
    "duration": 18,
    "start_time": "2022-07-15T17:02:20.488Z"
   },
   {
    "duration": 67,
    "start_time": "2022-07-15T17:02:23.722Z"
   },
   {
    "duration": 65,
    "start_time": "2022-07-15T17:03:02.366Z"
   },
   {
    "duration": 2053,
    "start_time": "2022-07-15T17:03:15.926Z"
   },
   {
    "duration": 3220,
    "start_time": "2022-07-15T17:03:20.186Z"
   },
   {
    "duration": 17,
    "start_time": "2022-07-15T17:03:25.064Z"
   },
   {
    "duration": 110,
    "start_time": "2022-07-15T17:03:33.625Z"
   },
   {
    "duration": 9,
    "start_time": "2022-07-15T17:04:27.803Z"
   },
   {
    "duration": 831,
    "start_time": "2022-07-15T17:04:30.244Z"
   },
   {
    "duration": 12,
    "start_time": "2022-07-15T17:04:32.193Z"
   },
   {
    "duration": 12,
    "start_time": "2022-07-15T17:04:34.945Z"
   },
   {
    "duration": 17,
    "start_time": "2022-07-15T17:06:22.993Z"
   },
   {
    "duration": 19,
    "start_time": "2022-07-15T17:07:43.466Z"
   },
   {
    "duration": 19,
    "start_time": "2022-07-15T17:07:58.561Z"
   },
   {
    "duration": 18,
    "start_time": "2022-07-15T17:08:52.079Z"
   },
   {
    "duration": 6,
    "start_time": "2022-07-15T17:10:42.231Z"
   },
   {
    "duration": 781,
    "start_time": "2022-07-15T17:10:52.251Z"
   },
   {
    "duration": 13,
    "start_time": "2022-07-15T17:10:55.420Z"
   },
   {
    "duration": 15,
    "start_time": "2022-07-15T17:11:08.064Z"
   },
   {
    "duration": 14,
    "start_time": "2022-07-15T17:11:13.569Z"
   },
   {
    "duration": 14,
    "start_time": "2022-07-15T17:11:32.768Z"
   },
   {
    "duration": 16,
    "start_time": "2022-07-15T17:12:31.219Z"
   },
   {
    "duration": 12,
    "start_time": "2022-07-15T17:17:13.151Z"
   },
   {
    "duration": 21,
    "start_time": "2022-07-15T17:18:05.496Z"
   },
   {
    "duration": 837,
    "start_time": "2022-07-15T17:18:29.081Z"
   },
   {
    "duration": 9,
    "start_time": "2022-07-15T17:18:31.160Z"
   },
   {
    "duration": 12,
    "start_time": "2022-07-15T17:18:55.846Z"
   },
   {
    "duration": 12,
    "start_time": "2022-07-15T17:19:00.755Z"
   },
   {
    "duration": 11,
    "start_time": "2022-07-15T17:19:47.026Z"
   },
   {
    "duration": 868,
    "start_time": "2022-07-15T17:19:49.026Z"
   },
   {
    "duration": 10,
    "start_time": "2022-07-15T17:19:50.843Z"
   },
   {
    "duration": 21,
    "start_time": "2022-07-15T17:19:52.530Z"
   },
   {
    "duration": 18,
    "start_time": "2022-07-15T17:19:56.989Z"
   },
   {
    "duration": 17,
    "start_time": "2022-07-15T17:21:08.002Z"
   },
   {
    "duration": 15,
    "start_time": "2022-07-15T17:21:48.779Z"
   },
   {
    "duration": 7013,
    "start_time": "2022-07-15T17:22:20.283Z"
   },
   {
    "duration": 84993,
    "start_time": "2022-07-15T17:22:45.988Z"
   },
   {
    "duration": 92699,
    "start_time": "2022-07-15T17:24:59.458Z"
   },
   {
    "duration": 240,
    "start_time": "2022-07-15T17:26:46.107Z"
   },
   {
    "duration": 450,
    "start_time": "2022-07-15T17:26:47.828Z"
   },
   {
    "duration": 91347,
    "start_time": "2022-07-15T17:27:09.325Z"
   },
   {
    "duration": 199,
    "start_time": "2022-07-15T17:29:47.976Z"
   },
   {
    "duration": 7,
    "start_time": "2022-07-15T17:29:57.490Z"
   },
   {
    "duration": 780,
    "start_time": "2022-07-15T17:29:59.317Z"
   },
   {
    "duration": 9,
    "start_time": "2022-07-15T17:30:01.864Z"
   },
   {
    "duration": 5,
    "start_time": "2022-07-15T17:30:04.583Z"
   },
   {
    "duration": 156796,
    "start_time": "2022-07-15T17:30:12.918Z"
   },
   {
    "duration": 223,
    "start_time": "2022-07-15T17:32:58.647Z"
   },
   {
    "duration": 379,
    "start_time": "2022-07-15T17:33:11.718Z"
   },
   {
    "duration": 8,
    "start_time": "2022-07-15T17:33:16.640Z"
   },
   {
    "duration": 11,
    "start_time": "2022-07-15T17:33:22.848Z"
   },
   {
    "duration": 59,
    "start_time": "2022-07-15T17:33:24.798Z"
   },
   {
    "duration": 10891,
    "start_time": "2022-07-15T17:33:29.073Z"
   },
   {
    "duration": 4,
    "start_time": "2022-07-15T17:33:45.192Z"
   },
   {
    "duration": 302716,
    "start_time": "2022-07-15T17:34:02.016Z"
   },
   {
    "duration": 50215,
    "start_time": "2022-07-15T17:39:33.018Z"
   },
   {
    "duration": 374736,
    "start_time": "2022-07-15T17:40:29.245Z"
   },
   {
    "duration": 257127,
    "start_time": "2022-07-15T17:46:59.023Z"
   },
   {
    "duration": 10,
    "start_time": "2022-07-15T17:51:24.058Z"
   }
  ],
  "kernelspec": {
   "display_name": "Python 3",
   "language": "python",
   "name": "python3"
  },
  "language_info": {
   "codemirror_mode": {
    "name": "ipython",
    "version": 3
   },
   "file_extension": ".py",
   "mimetype": "text/x-python",
   "name": "python",
   "nbconvert_exporter": "python",
   "pygments_lexer": "ipython3",
   "version": "3.8.8"
  },
  "toc": {
   "base_numbering": 1,
   "nav_menu": {},
   "number_sections": true,
   "sideBar": true,
   "skip_h1_title": true,
   "title_cell": "Содержание",
   "title_sidebar": "Contents",
   "toc_cell": true,
   "toc_position": {
    "height": "calc(100% - 180px)",
    "left": "10px",
    "top": "150px",
    "width": "302.391px"
   },
   "toc_section_display": true,
   "toc_window_display": false
  }
 },
 "nbformat": 4,
 "nbformat_minor": 2
}
